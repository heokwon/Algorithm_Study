{
  "nbformat": 4,
  "nbformat_minor": 0,
  "metadata": {
    "colab": {
      "provenance": [],
      "collapsed_sections": [],
      "authorship_tag": "ABX9TyNShcCHUVpHbbf6Mj5x5F/h",
      "include_colab_link": true
    },
    "kernelspec": {
      "name": "python3",
      "display_name": "Python 3"
    },
    "language_info": {
      "name": "python"
    }
  },
  "cells": [
    {
      "cell_type": "markdown",
      "metadata": {
        "id": "view-in-github",
        "colab_type": "text"
      },
      "source": [
        "<a href=\"https://colab.research.google.com/github/heokwon/Algorithm_Study/blob/main/Programmer's_Lv0.ipynb\" target=\"_parent\"><img src=\"https://colab.research.google.com/assets/colab-badge.svg\" alt=\"Open In Colab\"/></a>"
      ]
    },
    {
      "cell_type": "code",
      "execution_count": null,
      "metadata": {
        "id": "Ve6H2201YT-5"
      },
      "outputs": [],
      "source": [
        "# 정수 num1, num2가 매개변수 주어집니다.\n",
        "# num1과 num2를 곱한 값을 return 하도록 solution 함수를 완성해주세요.\n",
        "def solution(num1, num2):\n",
        "    answer = num1*num2\n",
        "    return answer"
      ]
    },
    {
      "cell_type": "code",
      "source": [
        "# 정수 num1과 num2가 주어질 때, num1과 num2의 합을\n",
        "# return하도록 soltuion 함수를 완성해주세요.\n",
        "def solution(num1, num2):\n",
        "    return num1+num2"
      ],
      "metadata": {
        "id": "F_nyBddzZYsy"
      },
      "execution_count": null,
      "outputs": []
    },
    {
      "cell_type": "code",
      "source": [
        "# 정수 num1, num2가 매개변수로 주어질 때, num1를 num2로\n",
        "# 나눈 나머지를 return 하도록 solution 함수를 완성해주세요.\n",
        "def solution(num1, num2):\n",
        "    return num1%num2"
      ],
      "metadata": {
        "id": "_QDCBV2bZybQ"
      },
      "execution_count": null,
      "outputs": []
    },
    {
      "cell_type": "code",
      "source": [
        "# 정수 num1과 num2가 주어질 때, num1에서 num2를 뺀 값을 \n",
        "# return하도록 soltuion 함수를 완성해주세요.\n",
        "def solution(num1, num2):\n",
        "    return num1-num2"
      ],
      "metadata": {
        "id": "9Rh_orGNZ1To"
      },
      "execution_count": null,
      "outputs": []
    },
    {
      "cell_type": "code",
      "source": [
        "# 정수 num1, num2가 매개변수로 주어질 때, num1을 num2로 \n",
        "# 나눈 몫을 return 하도록 solution 함수를 완성해주세요.\n",
        "def solution(num1, num2):\n",
        "    return num1//num2"
      ],
      "metadata": {
        "id": "bxHugoVlaOFV"
      },
      "execution_count": null,
      "outputs": []
    },
    {
      "cell_type": "code",
      "source": [
        "# 머쓱이는 40살인 선생님이 몇 년도에 태어났는지 궁금해졌습니다. \n",
        "# 나이 age가 주어질 때, 2022년을 기준 출생 연도를 return 하는 solution 함수를 완성해주세요.\n",
        "def solution(age):\n",
        "    answer = 2022 - (age-1)\n",
        "    return answer"
      ],
      "metadata": {
        "id": "g1nl-YycapK0"
      },
      "execution_count": null,
      "outputs": []
    },
    {
      "cell_type": "code",
      "source": [
        "# 정수 num1과 num2가 매개변수로 주어집니다. 두 수가 같으면 1 \n",
        "# 다르면 -1을 retrun하도록 solution 함수를 완성해주세요.\n",
        "def solution(num1, num2):\n",
        "    if num1 == num2:\n",
        "        answer = 1\n",
        "    else :\n",
        "        answer = -1\n",
        "    return answer"
      ],
      "metadata": {
        "id": "vNOiuCY4c22F"
      },
      "execution_count": null,
      "outputs": []
    },
    {
      "cell_type": "code",
      "source": [
        "# 정수 n이 주어질 때, n이하의 짝수를 모두 더한 값을 \n",
        "# return 하도록 solution 함수를 작성해주세요.\n",
        "def solution(n):\n",
        "    num =[]\n",
        "    for i in range(n+1):\n",
        "        if i % 2 == 0:\n",
        "            num.append(i)\n",
        "    answer = sum(num)\n",
        "    return answer"
      ],
      "metadata": {
        "colab": {
          "base_uri": "https://localhost:8080/"
        },
        "id": "x8E202d-c534",
        "outputId": "5b4c1d68-a744-4288-f021-ffeac2e691b7"
      },
      "execution_count": 5,
      "outputs": [
        {
          "output_type": "execute_result",
          "data": {
            "text/plain": [
              "30"
            ]
          },
          "metadata": {},
          "execution_count": 5
        }
      ]
    },
    {
      "cell_type": "code",
      "source": [
        "# 정수 배열 numbers가 매개변수로 주어집니다. numbers의 원소의 \n",
        "# 평균값을 return하도록 solution 함수를 완성해주세요.\n",
        "def solution(numbers):\n",
        "    answer = sum(numbers)/len(numbers)\n",
        "    return answer"
      ],
      "metadata": {
        "id": "n4nDr8H-eIE-"
      },
      "execution_count": null,
      "outputs": []
    },
    {
      "cell_type": "code",
      "source": [
        "# 정수 num1과 num2가 매개변수로 주어질 때, num1을 num2로 나눈 값에 \n",
        "# 1,000을 곱한 후 정수 부분을 return 하도록 soltuion 함수를 완성해주세요.\n",
        "def solution(num1, num2):\n",
        "    answer = int((num1/num2)*1000)\n",
        "    return answer"
      ],
      "metadata": {
        "id": "ZD_VC6cgfbzC"
      },
      "execution_count": null,
      "outputs": []
    },
    {
      "cell_type": "code",
      "source": [
        "# 정수가 담긴 배열 array와 정수 n이 매개변수로 주어질 때, \n",
        "# array에 n이 몇 개 있는 지를 return 하도록 solution 함수를 완성해보세요.\n",
        "def solution(array, n):\n",
        "    answer = 0\n",
        "    for i in array:\n",
        "        if i == n:\n",
        "            answer += 1\n",
        "    return answer"
      ],
      "metadata": {
        "id": "IRJKFNN9gjPZ"
      },
      "execution_count": null,
      "outputs": []
    },
    {
      "cell_type": "code",
      "source": [
        "# 사분면은 한 평면을 x축과 y축을 기준으로 나눈 네 부분입니다. \n",
        "# 사분면은 아래와 같이 1부터 4까지 번호를매깁니다.\n",
        "def solution(dot):\n",
        "    if dot[0]>0 and dot[1]>0:\n",
        "        answer = 1\n",
        "    elif dot[0]<0 and dot[1]>0:\n",
        "        answer = 2\n",
        "    elif dot[0]<0 and dot[1]<0:\n",
        "        answer = 3\n",
        "    else:\n",
        "        answer = 4\n",
        "    return answer"
      ],
      "metadata": {
        "id": "e391_7vnhl7q"
      },
      "execution_count": null,
      "outputs": []
    },
    {
      "cell_type": "code",
      "source": [
        "# 각에서 0도 초과 90도 미만은 예각, 90도는 직각, 90도 초과 180도 미만은 \n",
        "# 둔각 180도는 평각으로 분류합니다. 각 angle이 매개변수로 주어질 때 \n",
        "# 예각일 때 1, 직각일 때 2, 둔각일 때 3, 평각일 때 4를 return하도록 solution 함수를 완성해주세요.\n",
        "def solution(angle):\n",
        "    if angle < 90:\n",
        "        answer = 1\n",
        "    elif angle == 90:\n",
        "        answer = 2\n",
        "    elif 90 < angle < 180:\n",
        "        answer = 3\n",
        "    elif angle == 180:\n",
        "        answer = 4\n",
        "    return answer"
      ],
      "metadata": {
        "id": "kMJvDZZ1iOmp"
      },
      "execution_count": null,
      "outputs": []
    },
    {
      "cell_type": "code",
      "source": [
        "# 정수 배열 numbers가 매개변수로 주어집니다. numbers의 각 원소에 \n",
        "# 두배한 원소를 가진 배열을 return하도록 solution 함수를 완성해주세요.\n",
        "def solution(numbers):\n",
        "    answer = []\n",
        "    for i in numbers:\n",
        "        answer.append(i*2)\n",
        "    return answer"
      ],
      "metadata": {
        "id": "h7jgVy6OitG6"
      },
      "execution_count": null,
      "outputs": []
    },
    {
      "cell_type": "code",
      "source": [
        "# 머쓱이는 추운 날에도 아이스 아메리카노만 마십니다. 아이스 아메리카노는 \n",
        "# 한잔에 5,500원입니다. 머쓱이가 가지고 있는 돈 money가 매개변수로 주어질 때, \n",
        "# 머쓱이가 최대로 마실 수 있는 아메리카노의 잔 수와 남는 돈을 순서대로 담은 배열을 return 하도록 solution 함수를 완성해보세요\n",
        "def solution(money):\n",
        "    answer = [money // 5500, money % 5500]\n",
        "    return answer"
      ],
      "metadata": {
        "id": "HvnnoPakkTPZ"
      },
      "execution_count": null,
      "outputs": []
    },
    {
      "cell_type": "code",
      "source": [
        "# 정수 배열 numbers와 정수 num1, num2가 매개변수로 주어질 때, \n",
        "# numbers의 num1번 째 인덱스부터 num2번째 인덱스까지 자른 정수 배열을 \n",
        "# return 하도록 solution 함수를 완성해보세요.\n",
        "def solution(numbers, num1, num2):\n",
        "    answer = numbers[num1:num2+1]\n",
        "    return answer"
      ],
      "metadata": {
        "id": "ApMgmAwFlDPC"
      },
      "execution_count": null,
      "outputs": []
    },
    {
      "cell_type": "code",
      "source": [
        "# 선분 세 개로 삼각형을 만들기 위해서는 다음과 같은 조건을 만족해야 합니다.\n",
        "\n",
        "# 가장 긴 변의 길이는 다른 두 변의 길이의 합보다 작아야 합니다.\n",
        "# 삼각형의 세 변의 길이가 담긴 배열 sides이 매개변수로 주어집니다. \n",
        "# 세 변으로 삼각형을 만들 수 있다면 1, 만들 수 없다면 2를 return하도록 solution 함수를 완성해주세요.\n",
        "def solution(sides):\n",
        "    a = max(sides)\n",
        "    sides.remove(max(sides))\n",
        "    if a < sum(sides):\n",
        "        answer = 1\n",
        "    else:\n",
        "        answer = 2\n",
        "    return answer"
      ],
      "metadata": {
        "id": "bu4NSp7rnF7s"
      },
      "execution_count": null,
      "outputs": []
    },
    {
      "cell_type": "code",
      "source": [
        "# 문제 설명\n",
        "# 문자열 배열 strlist가 매개변수로 주어집니다. strlist 각 원소의 \n",
        "# 길이를 담은 배열을 retrun하도록 solution 함수를 완성해주세요.\n",
        "def solution(strlist):\n",
        "    answer = []\n",
        "    for i in strlist:\n",
        "        a = len(i)\n",
        "        answer.append(a)\n",
        "    return answer"
      ],
      "metadata": {
        "id": "B6v1a5CtndbF"
      },
      "execution_count": null,
      "outputs": []
    },
    {
      "cell_type": "code",
      "source": [
        "# 문제 설명\n",
        "# 머쓱이는 학교에서 키 순으로 줄을 설 때 몇 번째로 서야 하는지 궁금해졌습니다. \n",
        "# 머쓱이네 반 친구들의 키가 담긴 정수 배열 array와 머쓱이의 키 height가 \n",
        "# 매개변수로 주어질 때, 머쓱이보다 키 큰 사람 수를 return 하도록 solution 함수를 완성해보세요.\n",
        "def solution(array, height):\n",
        "    answer = 0\n",
        "    for i in array:\n",
        "        if i > height:\n",
        "            answer += 1\n",
        "    return answer"
      ],
      "metadata": {
        "id": "O6smMgy0pthX"
      },
      "execution_count": null,
      "outputs": []
    },
    {
      "cell_type": "code",
      "source": [
        "# 머쓱이네 피자가게는 피자를 일곱 조각으로 잘라 줍니다. 피자를 나눠먹을 사람의 \n",
        "# 수 n이 주어질 때, 모든 사람이 피자를 한 조각 이상 먹기 위해 필요한 피자의 수를 \n",
        "# return 하는 solution 함수를 완성해보세요.\n",
        "def solution(n):\n",
        "    answer = ((n - 1) // 7) + 1\n",
        "    return answer"
      ],
      "metadata": {
        "id": "AM_8oKbQq4UV"
      },
      "execution_count": null,
      "outputs": []
    },
    {
      "cell_type": "code",
      "source": [
        "# 문제 설명\n",
        "# 첫 번째 분수의 분자와 분모를 뜻하는 denum1, num1, 두 번째 분수의 분자와 \n",
        "# 분모를 뜻하는 denum2, num2가 매개변수로 주어집니다. 두 분수를 더한 값을 \n",
        "# 기약 분수로 나타냈을 때 분자와 분모를 순서대로 담은 배열을 return 하도록 \n",
        "# solution 함수를 완성해보세요.\n",
        "## 정답률 33퍼\n",
        "def solution(denum1, num1, denum2, num2):\n",
        "    for i in range(max(num1,num2), (num1*num2) + 1):\n",
        "        if i % num1 == 0 and i % num2 == 0:\n",
        "            b = i\n",
        "            break\n",
        "    a = denum1*(b/num1) + denum2*(b/num2)\n",
        "    answer = [a, b]\n",
        "    return answer"
      ],
      "metadata": {
        "id": "6YnBV0_FyUB4"
      },
      "execution_count": null,
      "outputs": []
    },
    {
      "cell_type": "code",
      "source": [
        "# 소인수분해\n",
        "def solution(denum1, num1, denum2, num2):\n",
        "    answer = []\n",
        "    if max(num1,num2)%min(num1,num2)==0:\n",
        "        tmp =  max(num1,num2)//min(num1,num2)\n",
        "        if num1 <=num2:\n",
        "            answer = [denum1*tmp+denum2, num2]\n",
        "        else:\n",
        "            answer = [denum2*tmp+denum1, num1]\n",
        "    else:\n",
        "        answer = [denum2*num1+denum1*num2, num1*num2]\n",
        "    \n",
        "    div = 2\n",
        "    while min(answer[0],answer[1])>=div:\n",
        "        if answer[0]%div==0 and answer[1]%div==0:\n",
        "            answer[0] = answer[0]//div\n",
        "            answer[1] = answer[1]//div\n",
        "        else:\n",
        "            div+=1\n",
        "    return answer"
      ],
      "metadata": {
        "id": "r2kDdBj6wqrH"
      },
      "execution_count": null,
      "outputs": []
    }
  ]
}