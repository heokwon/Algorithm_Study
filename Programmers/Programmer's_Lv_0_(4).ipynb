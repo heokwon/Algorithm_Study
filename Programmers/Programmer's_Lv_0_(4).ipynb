{
  "nbformat": 4,
  "nbformat_minor": 0,
  "metadata": {
    "colab": {
      "provenance": [],
      "collapsed_sections": [],
      "authorship_tag": "ABX9TyOTzKB2A6/4Fb+ttTpRFzmm",
      "include_colab_link": true
    },
    "kernelspec": {
      "name": "python3",
      "display_name": "Python 3"
    },
    "language_info": {
      "name": "python"
    }
  },
  "cells": [
    {
      "cell_type": "markdown",
      "metadata": {
        "id": "view-in-github",
        "colab_type": "text"
      },
      "source": [
        "<a href=\"https://colab.research.google.com/github/heokwon/Algorithm_Study/blob/main/Programmers/Programmer's_Lv_0_(4).ipynb\" target=\"_parent\"><img src=\"https://colab.research.google.com/assets/colab-badge.svg\" alt=\"Open In Colab\"/></a>"
      ]
    },
    {
      "cell_type": "code",
      "source": [
        "## 공던지기, 컨트롤 제트, 유한소수 판별하기, 특이한 정렬"
      ],
      "metadata": {
        "id": "-IdOGEYK4dFv"
      },
      "execution_count": null,
      "outputs": []
    },
    {
      "cell_type": "code",
      "execution_count": null,
      "metadata": {
        "colab": {
          "base_uri": "https://localhost:8080/"
        },
        "id": "sn6-iY-wx6EM",
        "outputId": "dc1e36e3-6567-41ad-9755-7e84759ecd1d"
      },
      "outputs": [
        {
          "output_type": "execute_result",
          "data": {
            "text/plain": [
              "3"
            ]
          },
          "metadata": {},
          "execution_count": 23
        }
      ],
      "source": [
        "# 문제 설명\n",
        "# 머쓱이는 친구들과 동그랗게 서서 공 던지기 게임을 하고 있습니다. \n",
        "# 공은 1번부터 던지며 오른쪽으로 한 명을 건너뛰고 그다음 사람에게만 \n",
        "# 던질 수 있습니다. 친구들의 번호가 들어있는 정수 배열 numbers와 \n",
        "# 정수 K가 주어질 때, k번째로 공을 던지는 사람의 번호는 무엇인지 \n",
        "# return 하도록 solution 함수를 완성해보세요.\n",
        "numbers = [1, 2, 3, 4, 5, 6]\n",
        "k = 5\n",
        "## 런타임 에러, 샘플은 모두 정답\n",
        "def solution(numbers, k):\n",
        "    if k*2 > len(numbers):\n",
        "        numbers = numbers * 2\n",
        "        return numbers[k*2-2]\n",
        "    else:\n",
        "        return numbers[k*2-2]\n",
        "solution(numbers, k)"
      ]
    },
    {
      "cell_type": "code",
      "source": [
        "# 문제 설명\n",
        "# i팩토리얼 (i!)은 1부터 i까지 정수의 곱을 의미합니다. \n",
        "# 예를들어 5! = 5 * 4 * 3 * 2 * 1 = 120 입니다. 정수 n이 주어질 때 다음 조건을 \n",
        "# 만족하는 가장 큰 정수 i를 return 하도록 solution 함수를 완성해주세요.\n",
        "\n",
        "# i! ≤ n\n",
        "def solution(n):\n",
        "    fac = 1\n",
        "    num = []\n",
        "    for i in range(1, 11):\n",
        "        fac = fac * i\n",
        "        if fac <= n:\n",
        "            num.append(i)\n",
        "    return max(num)\n",
        "\n",
        "## math 라이브러리 사용\n",
        "from math import factorial\n",
        "\n",
        "def solution2(n):\n",
        "    k = 10\n",
        "    while n < factorial(k):\n",
        "        k -= 1\n",
        "    return k\n",
        "\n",
        "solution(3628800)"
      ],
      "metadata": {
        "colab": {
          "base_uri": "https://localhost:8080/"
        },
        "id": "rJKrXp2X621y",
        "outputId": "81325272-58f4-48c8-d2d0-08950e1cb563"
      },
      "execution_count": null,
      "outputs": [
        {
          "output_type": "execute_result",
          "data": {
            "text/plain": [
              "10"
            ]
          },
          "metadata": {},
          "execution_count": 44
        }
      ]
    },
    {
      "cell_type": "code",
      "source": [
        "solution2(3628800)"
      ],
      "metadata": {
        "colab": {
          "base_uri": "https://localhost:8080/"
        },
        "id": "0tVRPkue-zaP",
        "outputId": "2838338f-c8f9-4cf3-9805-4f9ef04ed510"
      },
      "execution_count": null,
      "outputs": [
        {
          "output_type": "execute_result",
          "data": {
            "text/plain": [
              "10"
            ]
          },
          "metadata": {},
          "execution_count": 49
        }
      ]
    },
    {
      "cell_type": "code",
      "source": [
        "# 문제 설명\n",
        "# 머쓱이는 큰 종이를 1 x 1 크기\b로 자르려고 합니다. 예를 들어 2 x 2 크기의 종이를 \n",
        "# 1 x 1 크기로 자르려면 최소 가위질 세 번이 필요합니다.\n",
        "# 정수 M, N이 매개변수로 주어질 때, M x N 크기의 종이를 최소로 가위질 해야하는 \n",
        "# 횟수를 return 하도록 solution 함수를 완성해보세요.\n",
        "def solution(M, N):\n",
        "    answer = M*N-1\n",
        "    return answer\n",
        "M=2\n",
        "N=5\n",
        "solution(M, N)"
      ],
      "metadata": {
        "colab": {
          "base_uri": "https://localhost:8080/"
        },
        "id": "WDy7KfuDAj-d",
        "outputId": "3bf3eb81-ed21-423c-8705-8b47d43ada2d"
      },
      "execution_count": null,
      "outputs": [
        {
          "output_type": "execute_result",
          "data": {
            "text/plain": [
              "9"
            ]
          },
          "metadata": {},
          "execution_count": 51
        }
      ]
    },
    {
      "cell_type": "code",
      "source": [
        "# 문제 설명\n",
        "# 문자열 s가 매개변수로 주어집니다. s에서 한 번만 등장하는 문자를 사전 순으로 \n",
        "# 정렬한 문자열을 return 하도록 solution 함수를 완성해보세요. 한 번만 등장하는 \n",
        "# 문자가 없을 경우 빈 문자열을 return 합니다.\n",
        "\n",
        "s = \"hello\"\n",
        "def solution(s):\n",
        "    answer = ''\n",
        "    for i in s:\n",
        "        a = s.count(i)\n",
        "        if a == 1:\n",
        "            answer += i\n",
        "    return \"\".join(sorted(answer))\n",
        "solution(s)"
      ],
      "metadata": {
        "colab": {
          "base_uri": "https://localhost:8080/",
          "height": 35
        },
        "id": "TufzP5oYGZ9v",
        "outputId": "67462c50-4817-4203-f955-b4d3c9722c67"
      },
      "execution_count": null,
      "outputs": [
        {
          "output_type": "execute_result",
          "data": {
            "text/plain": [
              "'eho'"
            ],
            "application/vnd.google.colaboratory.intrinsic+json": {
              "type": "string"
            }
          },
          "metadata": {},
          "execution_count": 62
        }
      ]
    },
    {
      "cell_type": "code",
      "source": [
        "# 문제 설명\n",
        "# 정수 배열 array와 정수 n이 매개변수로 주어질 때, array에 들어있는 정수 중 n과 \n",
        "# 가장 가까운 수를 return 하도록 solution 함수를 완성해주세요.\n",
        "array = [3, 10, 28]\n",
        "n = 20\n",
        "# 1, 정답률 20퍼\n",
        "def solution(array, n):\n",
        "    lst = []\n",
        "    for i in array:\n",
        "        lst.append(n-i)\n",
        "    return array[lst.index(min(lst))]\n",
        "# 2, 정답률 88퍼\n",
        "def solution2(array, n):\n",
        "    lst = []\n",
        "    for i in array:\n",
        "        lst.append(abs(n-i))\n",
        "    return array[lst.index(min(lst))]\n",
        "# 3. 정답률 100퍼\n",
        "def solution3(array, n):\n",
        "    lst = []\n",
        "    array.sort()\n",
        "    for i in array:\n",
        "        lst.append(abs(n-i))\n",
        "    return array[lst.index(min(lst))]\n",
        "# 4, \n",
        "def solution4(array, n):\n",
        "    array.sort()\n",
        "    answer = [abs(i-n) for i in array].index(min([abs(i-n) for i in array]))\n",
        "    return array[answer]"
      ],
      "metadata": {
        "id": "IJP9fNuMG0at"
      },
      "execution_count": null,
      "outputs": []
    },
    {
      "cell_type": "code",
      "source": [
        "solution3(array,n)"
      ],
      "metadata": {
        "colab": {
          "base_uri": "https://localhost:8080/"
        },
        "id": "YDmirwhEJmgS",
        "outputId": "392f53b4-2293-41b0-eab7-2b73820dfcc7"
      },
      "execution_count": null,
      "outputs": [
        {
          "output_type": "execute_result",
          "data": {
            "text/plain": [
              "28"
            ]
          },
          "metadata": {},
          "execution_count": 79
        }
      ]
    },
    {
      "cell_type": "code",
      "source": [
        "# 문제 설명\n",
        "# 영어가 싫은 머쓱이는 영어로 표기되어있는 숫자를 수로 바꾸려고 합니다. \n",
        "# 문자열 numbers가 매개변수로 주어질 때, numbers를 정수로 바꿔 return \n",
        "# 하도록 solution 함수를 완성해 주세요.\n",
        "numbers = \"onefourzerosixseven\"\n",
        "def solution(numbers):\n",
        "    nums = [\"zero\",\"one\",\"two\",\"three\",\"four\",\"five\",\"six\",\"seven\",\"eight\",\"nine\"]\n",
        "    for i in range(len(nums)):\n",
        "        numbers = numbers.replace(nums[i],' ')\n",
        "        numbers = numbers.replace(' ',str(i))\n",
        "    return int(numbers)\n",
        "\n",
        "## 더 간단하게\n",
        "def solution2(numbers):\n",
        "    for num, eng in enumerate([\"zero\", \"one\", \"two\", \"three\", \"four\", \"five\", \"six\", \"seven\", \"eight\", \"nine\"]):\n",
        "        numbers = numbers.replace(eng, str(num))\n",
        "    return int(numbers)\n",
        "\n",
        "solution(numbers)"
      ],
      "metadata": {
        "colab": {
          "base_uri": "https://localhost:8080/"
        },
        "id": "PdNJCgRSMOrO",
        "outputId": "6f221ab6-950e-4b59-a343-60f289ce164e"
      },
      "execution_count": null,
      "outputs": [
        {
          "output_type": "execute_result",
          "data": {
            "text/plain": [
              "14067"
            ]
          },
          "metadata": {},
          "execution_count": 144
        }
      ]
    },
    {
      "cell_type": "code",
      "source": [
        "solution2(numbers)"
      ],
      "metadata": {
        "colab": {
          "base_uri": "https://localhost:8080/"
        },
        "id": "gzrlCtf-Z41c",
        "outputId": "3023a8d3-0413-43fa-f82b-57b6e1e2d1f9"
      },
      "execution_count": null,
      "outputs": [
        {
          "output_type": "execute_result",
          "data": {
            "text/plain": [
              "14067"
            ]
          },
          "metadata": {},
          "execution_count": 145
        }
      ]
    },
    {
      "cell_type": "code",
      "source": [
        "# 문제 설명\n",
        "# 이진수를 의미하는 두 개의 문자열 bin1과 bin2가 매개변수로 주어질 때, \n",
        "# 두 이진수의 합을 return하도록 solution 함수를 완성해주세요.\n",
        "bin1 = 10\n",
        "bin2 = 11\n",
        "def solution(bin1, bin2):\n",
        "    a = int(bin1, 2)\n",
        "    b = int(bin2, 2)\n",
        "    return bin(a+b)[2:]\n",
        "solution(bin1, bin2)"
      ],
      "metadata": {
        "id": "_FWMa86BeZD_"
      },
      "execution_count": null,
      "outputs": []
    },
    {
      "cell_type": "code",
      "source": [
        "# 문제 설명\n",
        "# 문자열 \"hello\"에서 각 문자를 오른쪽으로 한 칸씩 밀고 마지막 문자는 맨 \n",
        "# 앞으로 이동시키면 \"ohell\"이 됩니다. 이것을 문자열을 민다고 정의한다면 \n",
        "# 문자열 A와 B가 매개변수로 주어질 때, A를 밀어서 B가 될 수 있다면 몇 번 \n",
        "# 밀어야 하는지 횟수를 return하고 밀어서 B가 될 수 없으면 -1을 return \n",
        "# 하도록 solution 함수를 완성해보세요.\n",
        "A = \"hello\"\n",
        "B = \"ohell\"\n",
        "def solution(A,B):   \n",
        "    cnt = 0\n",
        "    if A == B:\n",
        "        return 0\n",
        "    else:\n",
        "        for i in range(len(A)):\n",
        "            A = A[-1] + A[:-1]\n",
        "            cnt += 1\n",
        "            if A == B:\n",
        "                return cnt\n",
        "            if cnt == len(A):\n",
        "                return -1\n",
        "solution(A,B)"
      ],
      "metadata": {
        "colab": {
          "base_uri": "https://localhost:8080/"
        },
        "id": "LXACaJuPf7fJ",
        "outputId": "bb908c4d-5518-4d5c-b2af-f47673dc5b79"
      },
      "execution_count": null,
      "outputs": [
        {
          "output_type": "execute_result",
          "data": {
            "text/plain": [
              "1"
            ]
          },
          "metadata": {},
          "execution_count": 198
        }
      ]
    },
    {
      "cell_type": "code",
      "source": [
        "# 문제 설명\n",
        "# PROGRAMMERS-962 행성에 불시착한 우주비행사 머쓱이는 외계행성의 언어를 공부하려고 합니다. \n",
        "# 알파벳이 담긴 배열 spell과 외계어 사전 dic이 매개변수로 주어집니다. spell에 담긴 알파벳을 \n",
        "# 한번씩만 모두 사용한 단어가 dic에 존재한다면 1, 존재하지 않는다면 2를 return하도록 solution \n",
        "# 함수를 완성해주세요.\n",
        "spell = [\"z\", \"d\", \"x\"]\n",
        "dic = [\"def\", \"dww\", \"dzx\", \"loveaw\"]\n",
        "def solution(spell, dic):\n",
        "    answer = []\n",
        "    for i in dic:\n",
        "        cnt = 0\n",
        "        for j in range(len(spell)):\n",
        "            if spell[j] in i:\n",
        "                cnt += 1\n",
        "        answer.append(cnt)\n",
        "    if max(answer) == len(spell):\n",
        "        return 1\n",
        "    else:\n",
        "        return 2\n",
        "\n",
        "## 더 간단하게\n",
        "## 다른사람 풀이\n",
        "def solution2(spell, dic):\n",
        "    spell = set(spell)\n",
        "    for s in dic:\n",
        "        if not spell-set(s):\n",
        "            return 1\n",
        "    return 2\n",
        "solution(spell, dic)"
      ],
      "metadata": {
        "colab": {
          "base_uri": "https://localhost:8080/"
        },
        "id": "dHWqOwXKnqpm",
        "outputId": "5af1a370-f588-490c-cda5-84164b98bf44"
      },
      "execution_count": null,
      "outputs": [
        {
          "output_type": "execute_result",
          "data": {
            "text/plain": [
              "1"
            ]
          },
          "metadata": {},
          "execution_count": 224
        }
      ]
    },
    {
      "cell_type": "code",
      "source": [
        "solution2(spell, dic)"
      ],
      "metadata": {
        "colab": {
          "base_uri": "https://localhost:8080/"
        },
        "id": "WCOXX7iCxS-n",
        "outputId": "771015f0-e08e-455d-e6bb-7ac5ec233684"
      },
      "execution_count": null,
      "outputs": [
        {
          "output_type": "execute_result",
          "data": {
            "text/plain": [
              "1"
            ]
          },
          "metadata": {},
          "execution_count": 225
        }
      ]
    },
    {
      "cell_type": "code",
      "source": [
        "# 문제 설명\n",
        "# 숫자들이 공백으로 구분된 문자열이 주어집니다. 문자열에 있는 숫자를 차례대로 더하려고 합니다. \n",
        "# 이 때 “\bZ”가 나오면 바로 전에 더했던 숫자를 뺀다는 뜻입니다. 숫자와 “Z”로 이루어진 문자열 \n",
        "# s가 주어질 때, 머쓱이가 구한 값을 return 하도록 solution 함수를 완성해보세요.\n",
        "s = \"10 Z 20 Z 1\"\n",
        "## 런타임 에러\n",
        "## Z가 연달아 나오는 경우 에러가 발생하는 듯\n",
        "def solution(s):\n",
        "    answer = []\n",
        "    s = s.split()\n",
        "    for i in range(len(s)):\n",
        "        if s[i] == 'Z':\n",
        "            answer.append(-int(s[i-1]))\n",
        "        else:\n",
        "            answer.append(int(s[i]))\n",
        "    return sum(answer)\n",
        "solution(s)"
      ],
      "metadata": {
        "colab": {
          "base_uri": "https://localhost:8080/"
        },
        "id": "NLJwxurExvnR",
        "outputId": "20ea4348-58df-4f02-f628-aa7a0a9e9e39"
      },
      "execution_count": null,
      "outputs": [
        {
          "output_type": "execute_result",
          "data": {
            "text/plain": [
              "1"
            ]
          },
          "metadata": {},
          "execution_count": 282
        }
      ]
    },
    {
      "cell_type": "code",
      "source": [
        "# 문제 설명\n",
        "# my_string은 \"3 + 5\"처럼 문자열로 된 수식입니다. 문자열 my_string이 매개변수로 주어질 때, \n",
        "# 수식을 계산한 값을 return 하는 solution 함수를 완성해주세요.\n",
        "import re\n",
        "my_string = \"7 + 18\"\n",
        "def solution(my_string):\n",
        "    my_string = re.sub(r'[^0-9]',' ',my_string)\n",
        "    my_string = my_string.split()\n",
        "    my_string = list(map(int,my_string))\n",
        "    return sum(my_string)\n",
        "\n",
        "## 파이썬 내장함수 eval()로\n",
        "## 수학 수식이 문자열 형식으로 들어오면 해당 수식을 계산한 결과를 반환해줌\n",
        "my_string = \"7 + 18\"\n",
        "def solution2(my_string):\n",
        "    return eval(my_string)\n",
        "\n",
        "solution(my_string)"
      ],
      "metadata": {
        "colab": {
          "base_uri": "https://localhost:8080/"
        },
        "id": "qUxOjZHq6bg9",
        "outputId": "2fe0ceac-4f91-4c1a-945e-e9f96e444604"
      },
      "execution_count": null,
      "outputs": [
        {
          "output_type": "execute_result",
          "data": {
            "text/plain": [
              "25"
            ]
          },
          "metadata": {},
          "execution_count": 311
        }
      ]
    },
    {
      "cell_type": "code",
      "source": [
        "solution2(my_string)"
      ],
      "metadata": {
        "colab": {
          "base_uri": "https://localhost:8080/"
        },
        "id": "IOuo5ewr9euy",
        "outputId": "2c066dcb-8771-4927-a3cb-e60769ab954d"
      },
      "execution_count": null,
      "outputs": [
        {
          "output_type": "execute_result",
          "data": {
            "text/plain": [
              "25"
            ]
          },
          "metadata": {},
          "execution_count": 312
        }
      ]
    },
    {
      "cell_type": "code",
      "source": [
        "# 문제 설명\n",
        "# 등차수열 혹은 등비수열 common이 매개변수로 주어질 때, 마지막 원소 다음으로 올 숫자를 \n",
        "# return 하도록 solution 함수를 완성해보세요.\n",
        "common = [2, 4, 8]\n",
        "## 정확성 87.5\n",
        "def solution(common):\n",
        "    if common[1]-common[0] == common[2]-common[1]:\n",
        "        return max(common) + (common[1] -common[0])\n",
        "    else:\n",
        "        return max(common) * (common[1]/common[0])\n",
        "# solution(common)\n",
        "## 정확성 100\n",
        "def solution2(common):\n",
        "    if common[1]-common[0] == common[2]-common[1]:\n",
        "        return common[-1] + (common[1] -common[0])\n",
        "    else:\n",
        "        return common[-1] * (common[1]/common[0])\n",
        "solution(common)"
      ],
      "metadata": {
        "id": "R2SGdAh39hRf",
        "colab": {
          "base_uri": "https://localhost:8080/"
        },
        "outputId": "bbe8c4e3-9fc0-465d-9414-5857e4ebb163"
      },
      "execution_count": null,
      "outputs": [
        {
          "output_type": "execute_result",
          "data": {
            "text/plain": [
              "16.0"
            ]
          },
          "metadata": {},
          "execution_count": 14
        }
      ]
    },
    {
      "cell_type": "code",
      "source": [
        "solution2(common)"
      ],
      "metadata": {
        "colab": {
          "base_uri": "https://localhost:8080/"
        },
        "id": "ESh7ZzrLbj_N",
        "outputId": "239bbe96-4e15-4b3a-fd95-b4e627afa4b0"
      },
      "execution_count": null,
      "outputs": [
        {
          "output_type": "execute_result",
          "data": {
            "text/plain": [
              "16.0"
            ]
          },
          "metadata": {},
          "execution_count": 13
        }
      ]
    },
    {
      "cell_type": "code",
      "source": [
        "# 문제 설명\n",
        "# 소인수분해란 어떤 수를 소수들의 곱으로 표현하는 것입니다. 예를 들어 12를 소인수 분해하면 \n",
        "# 2 * 2 * 3 으로 나타낼 수 있습니다. 따라서 12의 소인수는 2와 3입니다. 자연수 n이 매개변수로 \n",
        "# 주어질 때 n의 소인수를 오름차순으로 담은 배열을 return하도록 solution 함수를 완성해주세요.\n",
        "n = 420\n",
        "## 정확성 83.3 / 100\n",
        "def solution(n):\n",
        "    factor = 2\n",
        "    factors = []\n",
        "    while (factor**2 <= n):\n",
        "        while (n % factor == 0): \n",
        "            factors.append(factor)\n",
        "            n = n // factor\n",
        "        factor += 1\n",
        "    if n > 1 :\n",
        "        factors.append(n)\n",
        "    return list(set(factors))\n",
        "## 정확성 83.3 / 100\n",
        "def solution2(n):\n",
        "    factors = []\n",
        "    while n != 1:\n",
        "        for i in range(2, n+1):\n",
        "            if n % i == 0:\n",
        "                factors.append(i)\n",
        "                n = n // i\n",
        "                break\n",
        "    return list(set(factors))\n",
        "## 100 / 100\n",
        "### list(set(factors))를 통해 factors안의 중복값을 제거할 수 있으나\n",
        "### 배열이 섞여 오름차순이 아니게 된다.\n",
        "### solution, solution2 모두 소인수분해 하는데 문제 없으나\n",
        "### return할 때 오름차순이 아닌게 문제가 되어 정답률이 100이 아니었던것\n",
        "def solution3(n):\n",
        "    factor = 2\n",
        "    factors = []\n",
        "    while factor <= n:\n",
        "        if n % factor == 0:\n",
        "            factors.append(factor)\n",
        "            n = n / factor\n",
        "        else:\n",
        "            factor = factor + 1\n",
        "    return sorted(list(set(factors)))\n",
        "solution(n)"
      ],
      "metadata": {
        "colab": {
          "base_uri": "https://localhost:8080/"
        },
        "id": "PpFjUvwRc6cY",
        "outputId": "7dfd399a-710b-4325-a0eb-94d0f0a96caf"
      },
      "execution_count": null,
      "outputs": [
        {
          "output_type": "execute_result",
          "data": {
            "text/plain": [
              "[2, 3, 5, 7]"
            ]
          },
          "metadata": {},
          "execution_count": 31
        }
      ]
    },
    {
      "cell_type": "code",
      "source": [
        "solution2(n)"
      ],
      "metadata": {
        "colab": {
          "base_uri": "https://localhost:8080/"
        },
        "id": "GIQfakbpfzw8",
        "outputId": "64c451d4-0a17-4466-bd39-e704f49af8a9"
      },
      "execution_count": null,
      "outputs": [
        {
          "output_type": "execute_result",
          "data": {
            "text/plain": [
              "[2, 3, 5, 7]"
            ]
          },
          "metadata": {},
          "execution_count": 32
        }
      ]
    },
    {
      "cell_type": "code",
      "source": [
        "solution3(n)"
      ],
      "metadata": {
        "colab": {
          "base_uri": "https://localhost:8080/"
        },
        "id": "e61z48oygqcm",
        "outputId": "fd80d57e-5c82-4cb3-af99-399e753430f7"
      },
      "execution_count": null,
      "outputs": [
        {
          "output_type": "execute_result",
          "data": {
            "text/plain": [
              "[2, 3, 5, 7]"
            ]
          },
          "metadata": {},
          "execution_count": 33
        }
      ]
    },
    {
      "cell_type": "code",
      "source": [
        "# 문제 설명\n",
        "# 문자열 my_string이 매개변수로 주어집니다. my_string은 소문자, 대문자, \n",
        "# 자연수로만 구성되어있습니다. my_string안의 자연수들의 합을 return하도록 \n",
        "# solution 함수를 완성해주세요.\n",
        "import re\n",
        "my_string = \"aAb1B2cC34oOp\"\n",
        "def solution(my_string):\n",
        "    my_string = re.sub(r'[^0-9]',' ',my_string).split()\n",
        "    return sum(list(map(int,my_string)))\n",
        "solution(my_string)"
      ],
      "metadata": {
        "colab": {
          "base_uri": "https://localhost:8080/"
        },
        "id": "EI-mhYJuhdT9",
        "outputId": "0b11e02e-6aae-4add-ba7a-d043b3f2e0b1"
      },
      "execution_count": null,
      "outputs": [
        {
          "output_type": "execute_result",
          "data": {
            "text/plain": [
              "37"
            ]
          },
          "metadata": {},
          "execution_count": 42
        }
      ]
    },
    {
      "cell_type": "code",
      "source": [
        "# 문제 설명\n",
        "# 소수점 아래 숫자가 계속되지 않고 유한개인 소수를 유한소수라고 합니다. \n",
        "# 분수를 소수로 고칠 때 유한소수로 나타낼 수 있는 분수인지 판별하려고 합니다. \n",
        "# 유한소수가 되기 위한 분수의 조건은 다음과 같습니다.\n",
        "\n",
        "# 기약분수로 나타내었을 때, 분모의 소인수가 2와 5만 존재해야 합니다.\n",
        "# 두 정수 a와 b가 매개변수로 주어질 때, a/b가 유한소수이면 1을, 무한소수라면 \n",
        "# 2를 return하도록 solution 함수를 완성해주세요.\n",
        "a = 25\n",
        "b = 30\n",
        "\n",
        "from collections import Counter\n",
        "\n",
        "def get_divisor(num:int) -> list:\n",
        "    d = 2\n",
        "    _res = list()\n",
        "    while d <= num:\n",
        "        if num % d == 0:\n",
        "            _res.append(d)\n",
        "            num /= d\n",
        "        else:\n",
        "            d += 1\n",
        "    return _res\n",
        "\n",
        "def solution(a, b):\n",
        "\n",
        "    a_cnt = Counter(get_divisor(a)); b_cnt = Counter(get_divisor(b))\n",
        "    _remain = (b_cnt - a_cnt).keys()\n",
        "    return 1 if len(_remain) == 0 or [i for i in _remain if i == 2 or i == 5] else 2 \n",
        "solution(a, b)"
      ],
      "metadata": {
        "colab": {
          "base_uri": "https://localhost:8080/"
        },
        "id": "yMFArFx9jjQv",
        "outputId": "5a6182b7-db52-43ce-efcc-1bdacf9d8007"
      },
      "execution_count": null,
      "outputs": [
        {
          "output_type": "execute_result",
          "data": {
            "text/plain": [
              "1"
            ]
          },
          "metadata": {},
          "execution_count": 47
        }
      ]
    },
    {
      "cell_type": "code",
      "source": [
        "# 문제 설명\n",
        "# 머쓱이는 프로그래머스에 로그인하려고 합니다. 머쓱이가 입력한 아이디와 \n",
        "# 패스워드가 담긴 배열 id_pw와 회원들의 정보가 담긴 2차원 배열 db가 주어질 때, \n",
        "# 다음과 같이 로그인 성공, 실패에 따른 메시지를 return하도록 solution 함수를 완성해주세요.\n",
        "id_pw = [\"rabbit04\", \"98761\"]\n",
        "db = [[\"jaja11\", \"98761\"], [\"krong0313\", \"29440\"], [\"rabbit00\", \"111333\"]]\n",
        "## 정확성 75/100\n",
        "def solution(id_pw, db):\n",
        "    db = sum(db, [])\n",
        "    id = id_pw[0]\n",
        "    pw = id_pw[1]\n",
        "    if id in db and pw in db:\n",
        "        return 'login'\n",
        "    elif id in db and pw not in db:\n",
        "        return 'wrong pw'\n",
        "    else:\n",
        "        return 'fail'\n",
        "solution(id_pw, db)"
      ],
      "metadata": {
        "colab": {
          "base_uri": "https://localhost:8080/",
          "height": 35
        },
        "id": "JQ4jPA80oQkY",
        "outputId": "bb076d37-a028-4663-8084-2a374d14cf4d"
      },
      "execution_count": null,
      "outputs": [
        {
          "output_type": "execute_result",
          "data": {
            "text/plain": [
              "'fail'"
            ],
            "application/vnd.google.colaboratory.intrinsic+json": {
              "type": "string"
            }
          },
          "metadata": {},
          "execution_count": 60
        }
      ]
    },
    {
      "cell_type": "code",
      "source": [
        "## 정확성 100\n",
        "def solution2(id_pw, db):\n",
        "    db_dict = {i[0]: i[1] for i in db}\n",
        "    if id_pw[0] in db_dict:\n",
        "        if id_pw[1] == db_dict[id_pw[0]]:\n",
        "            return \"login\"\n",
        "        else:\n",
        "            return \"wrong pw\"\n",
        "    else:\n",
        "        return \"fail\"\n",
        "solution2(id_pw, db)"
      ],
      "metadata": {
        "colab": {
          "base_uri": "https://localhost:8080/",
          "height": 35
        },
        "id": "QdSlheV0qVk8",
        "outputId": "0a814821-2a65-47f8-b2fa-3e4382253cba"
      },
      "execution_count": null,
      "outputs": [
        {
          "output_type": "execute_result",
          "data": {
            "text/plain": [
              "'fail'"
            ],
            "application/vnd.google.colaboratory.intrinsic+json": {
              "type": "string"
            }
          },
          "metadata": {},
          "execution_count": 63
        }
      ]
    },
    {
      "cell_type": "code",
      "source": [
        "# 문제 설명\n",
        "# 정수 n을 기준으로 n과 가까운 수부터 정렬하려고 합니다. 이때 n으로부터의 거리가 같다면 더 큰 수를 \n",
        "# 앞에 오도록 배치합니다. 정수가 담긴 배열 numlist와 정수 n이 주어질 때 numlist의 원소를 n으로부터 \n",
        "# 가까운 순서대로 정렬한 배열을 return하도록 solution 함수를 완성해주세요.\n",
        "numlist = [1, 2, 3, 4, 5, 6]\n",
        "n = 4\n",
        "answer = []\n"
      ],
      "metadata": {
        "colab": {
          "base_uri": "https://localhost:8080/"
        },
        "id": "mhq-g-Eouvfy",
        "outputId": "d8133da6-ed5a-4059-b830-1bc4c7085fba"
      },
      "execution_count": null,
      "outputs": [
        {
          "output_type": "execute_result",
          "data": {
            "text/plain": [
              "[6, 5, 4, 3, 2, 1]"
            ]
          },
          "metadata": {},
          "execution_count": 89
        }
      ]
    },
    {
      "cell_type": "code",
      "source": [
        "# 문제 설명\n",
        "# 프로그래머스 치킨은 치킨을 시켜먹으면 한 마리당 쿠폰을 한 장 발급합니다. 쿠폰을 열 장 모으면 치킨을 \n",
        "# 한 마리 서비스로 받을 수 있고, 서비스 치킨에도 쿠폰이 발급됩니다. 시켜먹은 치킨의 수 chicken이 \n",
        "# 매개변수로 주어질 때 받을 수 있는 최대 서비스 치킨의 수를 return하도록 solution 함수를 완성해주세요.\n",
        "chicken = 1081\n",
        "## 정확도 88.1 / 100\n",
        "def solution(chicken):\n",
        "    answer = 0\n",
        "    coupon = chicken\n",
        "    remainder = 0\n",
        "    while (coupon > 0):\n",
        "        answer += coupon // 10\n",
        "        remainder += coupon % 10\n",
        "        coupon //= 10\n",
        "    return int(answer + remainder//10)\n",
        "\n",
        "## 정확도 100\n",
        "def solution2(chicken):\n",
        "    answer = 0\n",
        "    while chicken >= 10:\n",
        "        div = chicken // 10\n",
        "        mod = chicken % 10\n",
        "        answer += div\n",
        "        chicken = div+mod\n",
        "    return answer\n",
        "\n",
        "## 더 간결하게\n",
        "## divmod 사용\n",
        "def solution3(chicken):\n",
        "    answer = 0\n",
        "    while chicken >= 10:\n",
        "        div, mod = divmod(chicken, 10)\n",
        "        answer += div\n",
        "        chicken = div+mod\n",
        "    return answer\n",
        "\n",
        "## 다른사람 풀이\n",
        "## 천재...\n",
        "def solution4(chicken):\n",
        "    answer = (max(chicken,1)-1)//9\n",
        "    return answer"
      ],
      "metadata": {
        "id": "12h8znRWMuxF"
      },
      "execution_count": null,
      "outputs": []
    },
    {
      "cell_type": "code",
      "source": [
        "solution3(chicken)"
      ],
      "metadata": {
        "colab": {
          "base_uri": "https://localhost:8080/"
        },
        "id": "ymLV6mpWhcBS",
        "outputId": "dc796ec5-252a-4071-c930-3d192d4d014b"
      },
      "execution_count": null,
      "outputs": [
        {
          "output_type": "execute_result",
          "data": {
            "text/plain": [
              "120"
            ]
          },
          "metadata": {},
          "execution_count": 210
        }
      ]
    },
    {
      "cell_type": "code",
      "source": [
        "solution4(chicken)"
      ],
      "metadata": {
        "colab": {
          "base_uri": "https://localhost:8080/"
        },
        "id": "gQGITXF4iDMR",
        "outputId": "0033e17b-0dbf-4108-f960-ca466888a0b2"
      },
      "execution_count": null,
      "outputs": [
        {
          "output_type": "execute_result",
          "data": {
            "text/plain": [
              "120"
            ]
          },
          "metadata": {},
          "execution_count": 212
        }
      ]
    },
    {
      "cell_type": "code",
      "source": [
        "# 문제 설명\n",
        "# 선분 세 개로 삼각형을 만들기 위해서는 다음과 같은 조건을 만족해야 합니다.\n",
        "\n",
        "# 가장 긴 변의 길이는 다른 두 변의 길이의 합보다 작아야 합니다.\n",
        "# 삼각형의 두 변의 길이가 담긴 배열 sides이 매개변수로 주어집니다. 나머지 \n",
        "# 한 변이 될 수 있는 정수의 개수를 return하도록 solution 함수를 완성해주세요.\n",
        "sides = [11, 7]\n",
        "## 정확성 90 / 100\n",
        "def solution(sides):\n",
        "    lst1 = [i for i in range(max(sides)+1) if i>max(sides)-min(sides) and i<=max(sides)]\n",
        "    lst2 = [i for i in range(1001) if sum(sides)>i and sides[0]<i and sides[1]<i]\n",
        "    return len(lst1)+len(lst2)\n",
        "# solution(sides)\n",
        "## 정확성 100\n",
        "def solution2(sides):\n",
        "    a = max(sides)\n",
        "    b = min(sides)\n",
        "    l = a - b\n",
        "    h = a + b\n",
        "    return h - l - 1\n",
        "# solution2(sides)\n",
        "## 더 간단하게\n",
        "def solution3(sides):\n",
        "    return sum(sides)-max(sides)+min(sides) - 1"
      ],
      "metadata": {
        "colab": {
          "base_uri": "https://localhost:8080/"
        },
        "id": "ufixDGrCimSl",
        "outputId": "510e652c-db6b-49e3-ffb3-8682209361a1"
      },
      "execution_count": null,
      "outputs": [
        {
          "output_type": "execute_result",
          "data": {
            "text/plain": [
              "13"
            ]
          },
          "metadata": {},
          "execution_count": 12
        }
      ]
    },
    {
      "cell_type": "code",
      "source": [
        "# 문제 설명\n",
        "# 2차원 좌표 평면에 변이 축과 평행한 직사각형이 있습니다. 직사각형 네 꼭짓점의 \n",
        "# 좌표 [[x1, y1], [x2, y2], [x3, y3], [x4, y4]]가 담겨있는 배열 dots가 매개변수로 \n",
        "# 주어질 때, 직사각형의 넓이를 return 하도록 solution 함수를 완성해보세요.\n",
        "dots = [[-1, -1], [1, 1], [1, -1], [-1, 1]]\n",
        "def solution(dots):\n",
        "    all_x = [i[0] for i in dots]\n",
        "    all_y = [i[1] for i in dots]\n",
        "    x = abs(max(all_x)-min(all_x))\n",
        "    y = abs(max(all_y)-min(all_y))\n",
        "    return x*y\n",
        "# solution(dots)\n",
        "\n",
        "## 더 간단하게\n",
        "def solution2(dots):\n",
        "    return (max(dots)[0]-min(dots)[0])*(max(dots)[1]-min(dots)[1])\n",
        "solution2(dots)"
      ],
      "metadata": {
        "colab": {
          "base_uri": "https://localhost:8080/"
        },
        "id": "VS6BvqJqPQh1",
        "outputId": "c81652c6-37f3-4b6b-ada2-9d92f50b58b6"
      },
      "execution_count": null,
      "outputs": [
        {
          "output_type": "execute_result",
          "data": {
            "text/plain": [
              "4"
            ]
          },
          "metadata": {},
          "execution_count": 20
        }
      ]
    },
    {
      "cell_type": "code",
      "source": [
        "# 문제 설명\n",
        "# 머쓱이는 RPG게임을 하고 있습니다. 게임에는 up, down, left, right 방향키가 있으며 \n",
        "# 각 키를 누르면 위, 아래, 왼쪽, 오른쪽으로 한 칸씩 이동합니다. 예를 들어 [0,0]에서 \n",
        "# up을 누른다면 캐릭터의 좌표는 [0, 1], down을 누른다면 [0, -1], left를 누른다면 \n",
        "# [-1, 0], right를 누른다면 [1, 0]입니다. 머쓱이가 입력한 방향키의 배열 keyinput와 \n",
        "# 맵의 크기 board이 매개변수로 주어집니다. 캐릭터는 항상 [0,0]에서 시작할 때 키 입력이 \n",
        "# 모두 끝난 뒤에 캐릭터의 좌표 [x, y]를 return하도록 solution 함수를 완성해주세요.\n",
        "\n",
        "# [0, 0]은 board의 정 중앙에 위치합니다. 예를 들어 board의 가로 크기가 9라면 캐릭터는 \n",
        "# 왼쪽으로 최대 [-4, 0]까지 오른쪽으로 최대 [4, 0]까지 이동할 수 있습니다.\n",
        "keyinput = [\"down\", \"down\", \"down\", \"down\", \"down\"]\n",
        "board = [7, 9]\n",
        "def solution2(keyinput, board):\n",
        "    col = board[0]\n",
        "    row = board[1]\n",
        "    result = [0, 0]\n",
        "    for i in keyinput:\n",
        "        if i == \"left\" and result[0]-1 >= -(col // 2):\n",
        "            result[0] -= 1\n",
        "        elif i == \"right\" and result[0]+1 <= (col // 2):\n",
        "            result[0] += 1\n",
        "        elif i == \"up\" and result[1]+1 <= (row // 2):\n",
        "            result[1] += 1\n",
        "        elif i == \"down\" and result[1]-1 >= -(row // 2):\n",
        "            result[1] -= 1\n",
        "    if result[0] > (board[0]-1)/2:\n",
        "        result[0] = (board[0]-1)/2\n",
        "    elif result[1] > (board[1]-1)/2:\n",
        "        result[1] = (board[1]-1)/2\n",
        "    return result\n",
        "solution(keyinput, board)"
      ],
      "metadata": {
        "colab": {
          "base_uri": "https://localhost:8080/"
        },
        "id": "AIWOD7V1RAKB",
        "outputId": "1ecba8ee-c6e3-4501-b51b-5bd1d32b038e"
      },
      "execution_count": null,
      "outputs": [
        {
          "output_type": "execute_result",
          "data": {
            "text/plain": [
              "[0, -4]"
            ]
          },
          "metadata": {},
          "execution_count": 30
        }
      ]
    },
    {
      "cell_type": "code",
      "source": [
        "# 문제 설명\n",
        "# 머쓱이는 태어난 지 11개월 된 조카를 돌보고 있습니다. 조카는 아직 \"aya\", \"ye\", \"woo\", \"ma\" \n",
        "# 네 가지 발음과 네 가지 발음을 조합해서 만들 수 있는 발음밖에 하지 못하고 연속해서 같은 \n",
        "# 발음을 하는 것을 어려워합니다. 문자열 배열 babbling이 매개변수로 주어질 때, 머쓱이의 조카가 \n",
        "# 발음할 수 있는 단어의 개수를 return하도록 solution 함수를 완성해주세요.\n",
        "babbling = [\"ayaye\", \"uuu\", \"yeye\", \"yemawoo\", \"ayaayaa\"]\n",
        "def solution(babbling):\n",
        "    babbling_dict = {'a':'aya', 'y':'ye', 'w':'woo', 'm':'ma'}\n",
        "    answer = 0\n",
        "    for word in babbling:\n",
        "        lst = []\n",
        "        flag = True\n",
        "        keys = babbling_dict.keys()\n",
        "\n",
        "        while word and word[0] in keys:\n",
        "            if len(word) < 2:\n",
        "                break\n",
        "            new_lst = word[0]\n",
        "            word = word.replace(babbling_dict[word[0]],'',1)\n",
        "            if not lst or lst[-1] != new_lst:\n",
        "                lst.append(new_lst)\n",
        "            elif lst[-1] == new_lst:\n",
        "                flag = False\n",
        "                break\n",
        "            \n",
        "        if not word and flag:\n",
        "            answer += 1\n",
        "    return answer\n",
        "# solution(babbling)\n",
        "\n",
        "## 더 간단하게\n",
        "def solution2(babbling):\n",
        "    c = 0\n",
        "    for b in babbling:\n",
        "        for w in [ \"aya\", \"ye\", \"woo\", \"ma\" ]:\n",
        "            if w * 2 not in b:\n",
        "                b = b.replace(w, ' ')\n",
        "        if len(b.strip()) == 0:\n",
        "            c += 1\n",
        "    return c\n",
        "solution2(babbling)"
      ],
      "metadata": {
        "colab": {
          "base_uri": "https://localhost:8080/"
        },
        "id": "SkUm6XHmr8hW",
        "outputId": "378bee88-3d09-400a-9d4d-3226afebadc6"
      },
      "execution_count": null,
      "outputs": [
        {
          "output_type": "execute_result",
          "data": {
            "text/plain": [
              "2"
            ]
          },
          "metadata": {},
          "execution_count": 45
        }
      ]
    },
    {
      "cell_type": "code",
      "source": [],
      "metadata": {
        "id": "z5lRTC78uWu7"
      },
      "execution_count": null,
      "outputs": []
    }
  ]
}