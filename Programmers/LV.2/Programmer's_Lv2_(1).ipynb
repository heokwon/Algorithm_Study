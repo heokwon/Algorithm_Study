{
  "nbformat": 4,
  "nbformat_minor": 0,
  "metadata": {
    "colab": {
      "provenance": [],
      "collapsed_sections": [],
      "authorship_tag": "ABX9TyN558N6SKfykKhd1RnSue2f",
      "include_colab_link": true
    },
    "kernelspec": {
      "name": "python3",
      "display_name": "Python 3"
    },
    "language_info": {
      "name": "python"
    }
  },
  "cells": [
    {
      "cell_type": "markdown",
      "metadata": {
        "id": "view-in-github",
        "colab_type": "text"
      },
      "source": [
        "<a href=\"https://colab.research.google.com/github/heokwon/Algorithm_Study/blob/main/Programmers/LV.2/Programmer's_Lv2_(1).ipynb\" target=\"_parent\"><img src=\"https://colab.research.google.com/assets/colab-badge.svg\" alt=\"Open In Colab\"/></a>"
      ]
    },
    {
      "cell_type": "markdown",
      "source": [
        "## **최댓값과 최솟값**\n",
        "문자열 s에는 공백으로 구분된 숫자들이 저장되어 있습니다. str에 나타나는 숫자 중 최소값과 최대값을 찾아 이를 \"(최소값) (최대값)\"형태의 문자열을 반환하는 함수,solution을 완성하세요. 예를들어 s가 \"1 2 3 4\"라면 \"1 4\"를 리턴하고, \"-1 -2 -3 -4\"라면 \"-4 -1\"을 리턴하면 됩니다.\n",
        "* 제한조건\n",
        "  + s에는 둘 이상의 정수가 공백으로 구분되어 있습니다."
      ],
      "metadata": {
        "id": "Dnv9BlpRpcd8"
      }
    },
    {
      "cell_type": "code",
      "execution_count": 28,
      "metadata": {
        "colab": {
          "base_uri": "https://localhost:8080/"
        },
        "id": "gG4bTDXypWle",
        "outputId": "3ee69689-a9c2-47c8-c2e6-1d1e18c8f568"
      },
      "outputs": [
        {
          "output_type": "execute_result",
          "data": {
            "text/plain": [
              "[-1, -2, -3, -4]"
            ]
          },
          "metadata": {},
          "execution_count": 28
        }
      ],
      "source": [
        "s = \"-1 -2 -3 -4\"\n",
        "s = list(map(int,s.split()))\n",
        "s"
      ]
    },
    {
      "cell_type": "code",
      "source": [
        "s = \"-1 -2 -3 -4\"\n",
        "def solution(s):\n",
        "    s = list(map(int,s.split()))\n",
        "    return ' '.join([str(min(s)),str(max(s))])\n",
        "solution(s)"
      ],
      "metadata": {
        "colab": {
          "base_uri": "https://localhost:8080/",
          "height": 35
        },
        "id": "M31ioYbtqLRY",
        "outputId": "69d9f7d3-3792-46cd-9422-267ece80a926"
      },
      "execution_count": 29,
      "outputs": [
        {
          "output_type": "execute_result",
          "data": {
            "text/plain": [
              "'-4 -1'"
            ],
            "application/vnd.google.colaboratory.intrinsic+json": {
              "type": "string"
            }
          },
          "metadata": {},
          "execution_count": 29
        }
      ]
    },
    {
      "cell_type": "markdown",
      "source": [
        "## **JadenCase 문자열 만들기**\n",
        "JadenCase란 모든 단어의 첫 문자가 대문자이고, 그 외의 알파벳은 소문자인 문자열입니다. 단, 첫 문자가 알파벳이 아닐 때에는 이어지는 알파벳은 소문자로 쓰면 됩니다. (첫 번째 입출력 예 참고)문자열 s가 주어졌을 떄, s를 JadenCase로 바꾼 문자열을 리턴하는 함수, solution을 완성해주세요.\n",
        "* 제한조건\n",
        "  + s는 길이 1 이상 200 이하인 문자열입니다.\n",
        "  + s는 알파벳과 숫자, 공백문자(\"\")로 이루어져 있습니다.\n",
        "    - 숫자는 단어의 첫 문자로만 나옵니다.\n",
        "    - 숫자로만 이루어진 단어는 없습니다.\n",
        "    - 공백문자가 연속해서 나올 수 있습니다.\n",
        "\n",
        "입출력 예\n",
        "\n",
        "|s|return|\n",
        "|-|------|\n",
        "|\"3people unFollowed me\"|\"3people Unfollowed Me\"|\n",
        "|\"for the last week\"|\"For The Last Week\"|"
      ],
      "metadata": {
        "id": "_95Tte8DsHuW"
      }
    },
    {
      "cell_type": "code",
      "source": [
        "s = \"for the last week\"\n",
        "s = s.split()\n",
        "answer = [i.capitalize() for i in s]\n",
        "answer"
      ],
      "metadata": {
        "colab": {
          "base_uri": "https://localhost:8080/"
        },
        "id": "ZuWqsIu8rym3",
        "outputId": "abaa677d-7fec-4524-a1f2-b60464c6b497"
      },
      "execution_count": 62,
      "outputs": [
        {
          "output_type": "execute_result",
          "data": {
            "text/plain": [
              "['For', 'The', 'Last', 'Week']"
            ]
          },
          "metadata": {},
          "execution_count": 62
        }
      ]
    },
    {
      "cell_type": "code",
      "source": [
        "## 연속된 공백문자가 있을 경우, 이 방법으로는 해결 불가능\n",
        "s = \"for the last week\"\n",
        "def solution(s):\n",
        "    return ' '.join([i.capitalize() for i in s.split()])\n",
        "solution(s)"
      ],
      "metadata": {
        "colab": {
          "base_uri": "https://localhost:8080/",
          "height": 35
        },
        "id": "U-mJHkB0uatP",
        "outputId": "095ae4ac-6879-45f7-992c-831f5b97630a"
      },
      "execution_count": 64,
      "outputs": [
        {
          "output_type": "execute_result",
          "data": {
            "text/plain": [
              "'For The Last Week'"
            ],
            "application/vnd.google.colaboratory.intrinsic+json": {
              "type": "string"
            }
          },
          "metadata": {},
          "execution_count": 64
        }
      ]
    },
    {
      "cell_type": "code",
      "source": [
        "s = \"for the last week\"\n",
        "s = s.split(' ')\n",
        "for i in range(len(s)):\n",
        "    s[i] = s[i].capitalize()\n",
        "s"
      ],
      "metadata": {
        "colab": {
          "base_uri": "https://localhost:8080/"
        },
        "id": "0pg8_VoIwEXp",
        "outputId": "0e51a41a-287a-4705-8103-1a55ca2ce42d"
      },
      "execution_count": 65,
      "outputs": [
        {
          "output_type": "execute_result",
          "data": {
            "text/plain": [
              "['For', 'The', 'Last', 'Week']"
            ]
          },
          "metadata": {},
          "execution_count": 65
        }
      ]
    },
    {
      "cell_type": "code",
      "source": [
        "## 정답\n",
        "s = \"for the last week\"\n",
        "def solution2(s):\n",
        "    s = s.split(' ')\n",
        "    for i in range(len(s)):\n",
        "        s[i] = s[i].capitalize()\n",
        "    return ' '.join(s)\n",
        "solution2(s)"
      ],
      "metadata": {
        "colab": {
          "base_uri": "https://localhost:8080/",
          "height": 35
        },
        "id": "R1ib6rlpxnq5",
        "outputId": "d4d3f7f7-9bb7-486d-ce56-9f24b0909440"
      },
      "execution_count": 66,
      "outputs": [
        {
          "output_type": "execute_result",
          "data": {
            "text/plain": [
              "'For The Last Week'"
            ],
            "application/vnd.google.colaboratory.intrinsic+json": {
              "type": "string"
            }
          },
          "metadata": {},
          "execution_count": 66
        }
      ]
    },
    {
      "cell_type": "markdown",
      "source": [
        "## **최솟값 만들기**\n",
        "길이가 같은 배열 A,B 두개가 있습니다. 각 배열은 자연수로 이루어져 있습니다. 배열 A,B에서 각각 한 개의 숫자를 뽑아 두 수를 곱합니다. 이러한 과정을 배열의 길이만큼 반복하며, 두 수를 곱한 값을 누적하여 더합니다. 이때 최종적으로 누적된 값이 최소가 되도록 만드는 것이 목표입니다.(단, 각 배열에서 k번째 숫자를 뽑았다면 다음에 k번째 숫자는 다시 뽑을 수 없습니다.)\n",
        "\n",
        "예를 들어 A = [1, 4, 2] , B = [5, 4, 4] 라면\n",
        "* A에서 첫번째 숫자인 1, B에서 첫번째 숫자인 5를 뽑아 곱하여 더합니다. (누적된 값 : 0 + 5(1x5) = 5)\n",
        "* A에서 두번째 숫자인 4, B에서 세번째 숫자인 4를 뽑아 곱하여 더합니다. (누적된 값 : 5 + 16(4x4) = 21)\n",
        "* A에서 세번째 숫자인 2, B에서 두번째 숫자인 4를 뽑아 곱하여 더합니다. (누적된 값 : 21 + 8(2x4) = 29)\n",
        "\n",
        "즉, 이 경우가 최소가 되므로 29를 return 합니다.\n",
        "\n",
        "배열 A, B가 주어질 때 최종적으로 누적된 최솟값을 return 하는 solution 함수를 완성해 주세요.\n",
        "* 제한사항\n",
        "  + 배열 A, B의 크기 : 1,000 이하의 자연수\n",
        "  + 배열 A, B의 원소의 크기 : 1,000 이하의 자연수"
      ],
      "metadata": {
        "id": "1Bvyfi8vy972"
      }
    },
    {
      "cell_type": "code",
      "source": [
        "A = [1, 4, 2]\n",
        "B = [5, 4, 4]\n",
        "answer = 0\n",
        "for i in range(len(A)):\n",
        "    a = min(A) * max(B)\n",
        "    answer += a\n",
        "    A.remove(min(A))\n",
        "    B.remove(max(B))\n",
        "answer "
      ],
      "metadata": {
        "colab": {
          "base_uri": "https://localhost:8080/"
        },
        "id": "mO5U7w1Fyr3T",
        "outputId": "f0cd6c50-b803-40e8-f577-42f090cc53a9"
      },
      "execution_count": 71,
      "outputs": [
        {
          "output_type": "execute_result",
          "data": {
            "text/plain": [
              "29"
            ]
          },
          "metadata": {},
          "execution_count": 71
        }
      ]
    },
    {
      "cell_type": "code",
      "source": [
        "## 정확성테스트는 모두 통과\n",
        "## 효율성 테스트에서 탈락\n",
        "## 리스트에서 min, max를 찾는데 시간이 걸림\n",
        "A = [1, 4, 2]\n",
        "B = [5, 4, 4]\n",
        "def solution(A,B):\n",
        "    answer = 0\n",
        "    for i in range(len(A)):\n",
        "        a = min(A) * max(B)\n",
        "        answer += a\n",
        "        A.remove(min(A))\n",
        "        B.remove(max(B))\n",
        "    return answer\n",
        "solution(A,B)"
      ],
      "metadata": {
        "colab": {
          "base_uri": "https://localhost:8080/"
        },
        "id": "VGXZo5NO3cS5",
        "outputId": "2c3b3304-96e7-4361-831c-3b9c19790984"
      },
      "execution_count": 72,
      "outputs": [
        {
          "output_type": "execute_result",
          "data": {
            "text/plain": [
              "29"
            ]
          },
          "metadata": {},
          "execution_count": 72
        }
      ]
    },
    {
      "cell_type": "code",
      "source": [
        "## sort로 접근\n",
        "## A는 내림차순, B는 오름차순으로\n",
        "## 그 후 같은 인덱스끼리 연산\n",
        "A = [1, 4, 2]\n",
        "B = [5, 4, 4]\n",
        "answer = 0\n",
        "A.sort(reverse = True)\n",
        "B.sort()\n",
        "for i in range(len(A)):\n",
        "    answer += A[i]*B[i]\n",
        "answer"
      ],
      "metadata": {
        "colab": {
          "base_uri": "https://localhost:8080/"
        },
        "id": "0-7BoHMY3taX",
        "outputId": "9c53fb0f-eaa5-4175-c3ff-ea6ea6814bed"
      },
      "execution_count": 73,
      "outputs": [
        {
          "output_type": "execute_result",
          "data": {
            "text/plain": [
              "29"
            ]
          },
          "metadata": {},
          "execution_count": 73
        }
      ]
    },
    {
      "cell_type": "code",
      "source": [
        "## solution과 마찬가지로 정확성에선 통과\n",
        "## 앞의 해답보단 빨라졌지만, 효율성에서 탈락\n",
        "def solution2(A,B):\n",
        "    answer = 0\n",
        "    for i in range(len(A)):\n",
        "        answer += sorted(A,reverse=True)[i] * sorted(B)[i]\n",
        "    return answer\n",
        "# solution2(A,B)\n",
        "\n",
        "## solution2에서 zip함수를 추가해봄\n",
        "## 정확성, 효율성 둘 다 통과\n",
        "def solution3(A,B):\n",
        "    return sum([i*j for i,j in zip(sorted(A,reverse=True),sorted(B))])\n",
        "solution3(A,B)"
      ],
      "metadata": {
        "colab": {
          "base_uri": "https://localhost:8080/"
        },
        "id": "csLm7Rqp4kSH",
        "outputId": "ce526e11-9cc5-4f4d-ee55-ee4ce1099e23"
      },
      "execution_count": 78,
      "outputs": [
        {
          "output_type": "execute_result",
          "data": {
            "text/plain": [
              "29"
            ]
          },
          "metadata": {},
          "execution_count": 78
        }
      ]
    },
    {
      "cell_type": "markdown",
      "source": [
        "## **올바른 괄호**\n",
        "괄호가 바르게 짝지어졌다는 것은 '('문자로 열렸으면 반드시 짝지어서 ')'문자로 닫혀야 한다는 뜻 입니다. 예를 들어\n",
        "* \"()()\" 또는 \"(())()\" 는 올바른 괄호입니다.\n",
        "* \")()(\" 또는 \"(()(\" 는 올바르지 않은 괄호입니다.\n",
        "\n",
        "'(' 또는 ')' 로만 이루어진 문자열 s가 주어졌을 때, 문자열 s가 올바른 괄호이면 true를 return 하고, 올바르지 않은 괄호이면 false를 return 하는 solution 함수를 완성해 주세요.\n",
        "* 제한사항\n",
        "  + 문자열 s의 길이 : 100,000 이하의 자연수\n",
        "  + 문자열 s는 '(' 또는 ')' 로만 이루어져 있습니다.\n",
        "\n",
        "입출력 예\n",
        "\n",
        "|s|answer|\n",
        "|-|------|\n",
        "|\"()()\"|true|\n",
        "|\"(())()\"|true|\n",
        "|\")()(\"|false|\n",
        "|\"(()(\"|false|"
      ],
      "metadata": {
        "id": "XiSkeWyn621g"
      }
    },
    {
      "cell_type": "code",
      "source": [
        "## 정확성 57.9\n",
        "## 효율성 15.2\n",
        "## 합계 73.2 / 100\n",
        "s = \")()(\"\n",
        "def solution(s):\n",
        "    if s[0] == '(' and s[-1] == ')':\n",
        "        return True\n",
        "    else:\n",
        "        return False\n",
        "solution(s)"
      ],
      "metadata": {
        "colab": {
          "base_uri": "https://localhost:8080/"
        },
        "id": "fJyOZNQR5KH7",
        "outputId": "422043eb-9cc3-4f8e-e4a8-60419775f19a"
      },
      "execution_count": 91,
      "outputs": [
        {
          "output_type": "execute_result",
          "data": {
            "text/plain": [
              "False"
            ]
          },
          "metadata": {},
          "execution_count": 91
        }
      ]
    },
    {
      "cell_type": "code",
      "source": [
        "## 정확성 61.8\n",
        "## 효율성 30.5\n",
        "## 합계 92.3 / 100\n",
        "def solution2(s):\n",
        "    if s.count('(') == s.count(')'):\n",
        "        if s[0] == '(' and s[-1] == ')':\n",
        "            return True\n",
        "        else:\n",
        "            return False\n",
        "    else:\n",
        "        return False\n",
        "solution2(s)"
      ],
      "metadata": {
        "colab": {
          "base_uri": "https://localhost:8080/"
        },
        "id": "gz5z3MrR8z3j",
        "outputId": "0c04c85c-510f-4b7a-d9bb-3e13275f1670"
      },
      "execution_count": 92,
      "outputs": [
        {
          "output_type": "execute_result",
          "data": {
            "text/plain": [
              "False"
            ]
          },
          "metadata": {},
          "execution_count": 92
        }
      ]
    },
    {
      "cell_type": "code",
      "source": [
        "## 스택으로 해결해야 함\n",
        "def solution3(s):\n",
        "    stack = 0\n",
        "    for i in s:\n",
        "        if stack < 0:\n",
        "            break\n",
        "        stack = stack + 1 if i == '(' else stack - 1 if i ==')' else stack\n",
        "    return stack == 0\n",
        "solution3(s)"
      ],
      "metadata": {
        "colab": {
          "base_uri": "https://localhost:8080/"
        },
        "id": "DCqjh6mf9XeA",
        "outputId": "036b59a0-d09d-459d-d381-1a592dafdbdc"
      },
      "execution_count": 94,
      "outputs": [
        {
          "output_type": "execute_result",
          "data": {
            "text/plain": [
              "False"
            ]
          },
          "metadata": {},
          "execution_count": 94
        }
      ]
    },
    {
      "cell_type": "markdown",
      "source": [
        "## **5. 이진 변환 반복하기**\n",
        "0과 1로 이루어진 어떤 문자열 x에 대한 이진 변환을 다음과 같이 정의합니다.\n",
        "1. x의 모든 0을 제거합니다.\n",
        "2. x의 길이를 c라고 하면, x를 \"c를 2진법으로 표현한 문자열\"로 바꿉니다.\n",
        "\n",
        "예를 들어, x = \"0111010\"이라면, x에 이진 변환을 가하면 x = \"0111010\" -> \"1111\" -> \"100\" 이 됩니다.\n",
        "\n",
        "0과 1로 이루어진 문자열 s가 매개변수로 주어집니다. s가 \"1\"이 될 때까지 계속해서 s에 이진 변환을 가했을 때, 이진 변환의 횟수와 변환 과정에서 제거된 모든 0의 개수를 각각 배열에 담아 return 하도록 solution 함수를 완성해주세요.\n",
        "* 제한사항\n",
        "  + s의 길이는 1이상 150,000 이하입니다.\n",
        "  + s에는 '1'이 최소 하나 이상 포함되어 있습니다."
      ],
      "metadata": {
        "id": "thutsRZCBCac"
      }
    },
    {
      "cell_type": "code",
      "source": [
        "s = \"1111111\"\n",
        "answer = [0,0]\n",
        "bin(s.count('1'))[2:]"
      ],
      "metadata": {
        "colab": {
          "base_uri": "https://localhost:8080/",
          "height": 35
        },
        "id": "i36qxhGm-ty9",
        "outputId": "7a2788b3-98d2-446f-cf18-4315d405a8c2"
      },
      "execution_count": 113,
      "outputs": [
        {
          "output_type": "execute_result",
          "data": {
            "text/plain": [
              "'111'"
            ],
            "application/vnd.google.colaboratory.intrinsic+json": {
              "type": "string"
            }
          },
          "metadata": {},
          "execution_count": 113
        }
      ]
    },
    {
      "cell_type": "code",
      "source": [
        "answer = [0,0]\n",
        "while True :\n",
        "    if s == '1':\n",
        "        break\n",
        "    answer[0] += 1\n",
        "    answer[1] += s.count('0')\n",
        "    s = bin(s.count('1'))[2:]\n",
        "answer"
      ],
      "metadata": {
        "colab": {
          "base_uri": "https://localhost:8080/"
        },
        "id": "XZ7LVdyYCYwj",
        "outputId": "7ae24158-0260-431a-d7b5-4714a585215b"
      },
      "execution_count": 114,
      "outputs": [
        {
          "output_type": "execute_result",
          "data": {
            "text/plain": [
              "[4, 1]"
            ]
          },
          "metadata": {},
          "execution_count": 114
        }
      ]
    },
    {
      "cell_type": "code",
      "source": [
        "s = \"1111111\"\n",
        "def solution(s):\n",
        "    answer = [0,0]\n",
        "    while s != '1':\n",
        "        answer[0] += 1\n",
        "        answer[1] += s.count('0')\n",
        "        s = bin(s.count('1'))[2:]\n",
        "    return answer\n",
        "solution(s)"
      ],
      "metadata": {
        "colab": {
          "base_uri": "https://localhost:8080/"
        },
        "id": "2jNAniMUEM3K",
        "outputId": "c9d0aa11-08ba-4853-8a5d-62c673870ea6"
      },
      "execution_count": 120,
      "outputs": [
        {
          "output_type": "execute_result",
          "data": {
            "text/plain": [
              "[4, 1]"
            ]
          },
          "metadata": {},
          "execution_count": 120
        }
      ]
    },
    {
      "cell_type": "code",
      "source": [],
      "metadata": {
        "id": "z2sdYsBEGLPs"
      },
      "execution_count": null,
      "outputs": []
    }
  ]
}