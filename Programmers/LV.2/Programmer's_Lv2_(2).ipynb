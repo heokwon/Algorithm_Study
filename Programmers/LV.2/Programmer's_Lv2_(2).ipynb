{
  "nbformat": 4,
  "nbformat_minor": 0,
  "metadata": {
    "colab": {
      "provenance": [],
      "authorship_tag": "ABX9TyNwDBvslFk8uFceCnrHQ3Cq",
      "include_colab_link": true
    },
    "kernelspec": {
      "name": "python3",
      "display_name": "Python 3"
    },
    "language_info": {
      "name": "python"
    }
  },
  "cells": [
    {
      "cell_type": "markdown",
      "metadata": {
        "id": "view-in-github",
        "colab_type": "text"
      },
      "source": [
        "<a href=\"https://colab.research.google.com/github/heokwon/Algorithm_Study/blob/main/Programmers/LV.2/Programmer's_Lv2_(2).ipynb\" target=\"_parent\"><img src=\"https://colab.research.google.com/assets/colab-badge.svg\" alt=\"Open In Colab\"/></a>"
      ]
    },
    {
      "cell_type": "markdown",
      "source": [
        "## **11. 영어 끝말잇기**\n",
        "1부터 n까지 번호가 붙어있는 n명의 사람이 영어 끝말잇기를 하고 있습니다. 영어 끝말잇기는 다음과 같은 규칙으로 진행됩니다.\n",
        "1. 1번부터 번호 순서대로 한 사람씩 차례대로 단어를 말합니다.\n",
        "2. 마지막 사람이 단어를 말한 다음에는 다시 1번부터 시작합니다.\n",
        "3. 앞사람이 말한 단어의 마지막 문자로 시작하는 단어를 말해야 합니다.\n",
        "4. 이전에 등장했던 단어는 사용할 수 없습니다.\n",
        "5. 한 글자인 단어는 인정되지 않습니다.\n",
        "\n",
        "다음은 3 명이 끝말잇기를 하는 상황을 나타냅니다.\n",
        "\n",
        "tank → kick → know → wheel → land → dream → mother → robot → tank\n",
        "\n",
        "위 끝말잇기는 다음과 같이 진행됩니다.\n",
        "* 1번 사람이 자신의 첫 번째 차례에 tank를 말합니다.\n",
        "* 2번 사람이 자신의 첫 번째 차례에 kick을 말합니다.\n",
        "* 3번 사람이 자신의 첫 번째 차례에 know를 말합니다.\n",
        "* 1번 사람이 자신의 두 번째 차례에 wheel을 말합니다.\n",
        "* (계속 진행)\n",
        "\n",
        "끝말잇기를 계속 진행해 나가다 보면, 3번 사람이 자신의 세 번째 차례에 말한 tank라는 단어는 이전에 등장했던 단어이므로 탈락하게 됩니다.\n",
        "\n",
        "사람의 수 n과 사람들이 순서대로 말한 단어 words가 매개변수로 주어질 때, 가장 먼저 탈락하는 사람의 번호와 그 사람이 자신의 몇 번째 차례에 탈락하는지를 구해서 return 하도록 solution 함수를 완성해주세요.\n",
        "* 제한 사항\n",
        "  + 끝말잇기에 참여하는 사람의 수 n 은 2 이상 10 이하의 자연수입니다.\n",
        "  + words는 끝말잇기에 사용한 단어들이 순서대로 들어있는 배열이며, 길이는 n 이상 100 이하입니다.\n",
        "  + 단어의 길이는 2 이상 50 이하입니다.\n",
        "  + 모든 단어는 알파벳 소문자로만 이루어져 있습니다.\n",
        "  + 끝말잇기에 사용되는 단어의 뜻(의미)은 신경 쓰지 않으셔도 됩니다.\n",
        "  + 정답은 [ 번호, 차례 ] 형태로 return 해주세요.\n",
        "  + 만약 주어진 단어들로 탈락자가 생기지 않는다면, [0, 0]을 return 해주세요."
      ],
      "metadata": {
        "id": "7vE_JHVgGclZ"
      }
    },
    {
      "cell_type": "markdown",
      "source": [
        "\n",
        "\n",
        "```\n",
        "몇 번째 사람인지는 인덱스 % n + 1\n",
        "\n",
        "몇 번째 게임인지는 인덱스 // n + 1\n",
        "```\n",
        "\n"
      ],
      "metadata": {
        "id": "K8crGuzPMC1H"
      }
    },
    {
      "cell_type": "code",
      "execution_count": null,
      "metadata": {
        "id": "nWft4Rt1v2Fv",
        "colab": {
          "base_uri": "https://localhost:8080/"
        },
        "outputId": "7345dc72-e006-42c9-bd4c-cef431d06d9a"
      },
      "outputs": [
        {
          "output_type": "execute_result",
          "data": {
            "text/plain": [
              "[3, 3]"
            ]
          },
          "metadata": {},
          "execution_count": 7
        }
      ],
      "source": [
        "n = 3\n",
        "words = \t[\"tank\", \"kick\", \"know\", \"wheel\", \"land\", \"dream\", \"mother\", \"robot\", \"tank\"]\n",
        "def solution(n, words):\n",
        "    a = [words[0][0]]\n",
        "    for i,j in enumerate(words): # print(i,j)\n",
        "        if j not in a and a[-1][-1] == j[0]: a.append(j)\n",
        "        else: return [(i%n)+1, (i//n)+1]\n",
        "    return [0,0]\n",
        "solution(n,words)"
      ]
    },
    {
      "cell_type": "markdown",
      "source": [
        "## **12. 구명보트**\n",
        "무인도에 갇힌 사람들을 구명보트를 이용하여 구출하려고 합니다. 구명보트는 작아서 한 번에 최대 2명씩 밖에 탈 수 없고, 무게 제한도 있습니다.\n",
        "\n",
        "예를 들어, 사람들의 몸무게가 [70kg, 50kg, 80kg, 50kg]이고 구명보트의 무게 제한이 100kg이라면 2번째 사람과 4번째 사람은 같이 탈 수 있지만 1번째 사람과 3번째 사람의 무게의 합은 150kg이므로 구명보트의 무게 제한을 초과하여 같이 탈 수 없습니다.\n",
        "\n",
        "구명보트를 최대한 적게 사용하여 모든 사람을 구출하려고 합니다.\n",
        "\n",
        "사람들의 몸무게를 담은 배열 people과 구명보트의 무게 제한 limit가 매개변수로 주어질 때, 모든 사람을 구출하기 위해 필요한 구명보트 개수의 최솟값을 return 하도록 solution 함수를 작성해주세요.\n",
        "* 제한 사항\n",
        "  + 무인도에 갇힌 사람은 1명 이상 50,000명 이하입니다.\n",
        "  + 각 사람의 몸무게는 40kg 이상 240kg 이하입니다.\n",
        "  + 구명보트의 무게 제한은 40kg 이상 240kg 이하입니다.\n",
        "  + 구명보트의 무게 제한은 항상 사람들의 몸무게 중 최댓값보다 크게 주어지므로 사람들을 구출할 수 없는 경우는 없습니다."
      ],
      "metadata": {
        "id": "7pSXSA9FMyVJ"
      }
    },
    {
      "cell_type": "markdown",
      "source": [
        "\n",
        "\n",
        "```\n",
        "리스트 정렬 후, 가장 몸무게가 큰 사람과 가장 작은 사람의 갑승ㄹ 더해 limit값과 비교, 작으면 둘 다 태우고 크면 가장 큰 사람만 태움\n",
        "```\n",
        "\n"
      ],
      "metadata": {
        "id": "2lflcliCRTEx"
      }
    },
    {
      "cell_type": "code",
      "source": [
        "people = [70, 50, 80, 50]\n",
        "limit = 100\n",
        "cnt = 0\n",
        "people.sort()\n",
        "i = 0; j = len(people) - 1\n",
        "while i <= j:\n",
        "    cnt += 1\n",
        "    if people[j] + people[i] <= limit: i+=1\n",
        "    j -= 1\n",
        "cnt"
      ],
      "metadata": {
        "colab": {
          "base_uri": "https://localhost:8080/"
        },
        "id": "vXSdP2TyJuBv",
        "outputId": "1792f971-7e44-411e-83f2-b06227c8111a"
      },
      "execution_count": null,
      "outputs": [
        {
          "output_type": "execute_result",
          "data": {
            "text/plain": [
              "3"
            ]
          },
          "metadata": {},
          "execution_count": 9
        }
      ]
    },
    {
      "cell_type": "code",
      "source": [
        "people = [70, 50, 80, 50]\n",
        "limit = 100\n",
        "def solution(people, limit):\n",
        "    people.sort()\n",
        "    cnt=0\n",
        "    i=0; j=len(people)-1\n",
        "    while i<=j:\n",
        "        cnt+=1\n",
        "        if people[j]+people[i]<=limit: i+=1\n",
        "        j-=1\n",
        "    return cnt\n",
        "solution(people, limit)"
      ],
      "metadata": {
        "colab": {
          "base_uri": "https://localhost:8080/"
        },
        "id": "6nSGEX4rPaDQ",
        "outputId": "e7cb4574-2e38-4121-b300-f0eb3a535689"
      },
      "execution_count": null,
      "outputs": [
        {
          "output_type": "execute_result",
          "data": {
            "text/plain": [
              "3"
            ]
          },
          "metadata": {},
          "execution_count": 10
        }
      ]
    },
    {
      "cell_type": "markdown",
      "source": [
        "## **13. N개의 최소공배수**\n",
        "두 수의 최소공배수(Least Common Multiple)란 입력된 두 수의 배수 중 공통이 되는 가장 작은 숫자를 의미합니다. 예를 들어 2와 7의 최소공배수는 14가 됩니다. 정의를 확장해서, n개의 수의 최소공배수는 n 개의 수들의 배수 중 공통이 되는 가장 작은 숫자가 됩니다. n개의 숫자를 담은 배열 arr이 입력되었을 때 이 수들의 최소공배수를 반환하는 함수, solution을 완성해 주세요.\n",
        "* 제한 사항\n",
        "  + arr은 길이 1 이상, 15 이하인 배열입니다.\n",
        "  + arr의 원소는 100 이하인 자연수 입니다."
      ],
      "metadata": {
        "id": "mMXMEw3oJ6pQ"
      }
    },
    {
      "cell_type": "markdown",
      "source": [
        "\n",
        "\n",
        "```\n",
        "* 최소공배수를 계속해서 answer에 저장시켜 answer와 arr[index]를 통해 계속해서 \n",
        "* 최소공배수를 구해야 함\n",
        "* gcd() 함수는 두 수의 최대공약수를 구해주는 함수\n",
        "* 최소공배수 = (x*y) / gcd(x,y)\n",
        "* // 연산자는 몫만 구하는 연산자\n",
        "```\n",
        "\n"
      ],
      "metadata": {
        "id": "SjIS26dQM_OD"
      }
    },
    {
      "cell_type": "code",
      "source": [
        "arr = [2,6,8,14]\n",
        "from math import gcd # gcd : 최대공약수를 구하는 모듈\n",
        "answer = arr[0]\n",
        "for i in arr:\n",
        "    answer = (answer*i) // gcd(answer, i)\n",
        "answer"
      ],
      "metadata": {
        "colab": {
          "base_uri": "https://localhost:8080/"
        },
        "id": "nsIh4fhISBa2",
        "outputId": "40b0de65-c9ff-4a25-e2ce-0d8d164edce7"
      },
      "execution_count": null,
      "outputs": [
        {
          "output_type": "execute_result",
          "data": {
            "text/plain": [
              "168"
            ]
          },
          "metadata": {},
          "execution_count": 13
        }
      ]
    },
    {
      "cell_type": "code",
      "source": [
        "## 풀이\n",
        "from math import gcd\n",
        "def solution(arr):\n",
        "    answer = arr[0]\n",
        "    for i in arr: answer = (answer*i) // gcd(answer, i)\n",
        "    return answer\n",
        "solution(arr)"
      ],
      "metadata": {
        "colab": {
          "base_uri": "https://localhost:8080/"
        },
        "id": "uOV6U8k7Mwjr",
        "outputId": "621c62e5-75cc-49d5-91e6-3e8852de6ff5"
      },
      "execution_count": null,
      "outputs": [
        {
          "output_type": "execute_result",
          "data": {
            "text/plain": [
              "168"
            ]
          },
          "metadata": {},
          "execution_count": 15
        }
      ]
    },
    {
      "cell_type": "markdown",
      "source": [
        "## **14. 예상 대진표**\n",
        "△△ 게임대회가 개최되었습니다. 이 대회는 N명이 참가하고, 토너먼트 형식으로 진행됩니다. N명의 참가자는 각각 1부터 N번을 차례대로 배정받습니다. 그리고, 1번↔2번, 3번↔4번, ... , N-1번↔N번의 참가자끼리 게임을 진행합니다. 각 게임에서 이긴 사람은 다음 라운드에 진출할 수 있습니다. 이때, 다음 라운드에 진출할 참가자의 번호는 다시 1번부터 N/2번을 차례대로 배정받습니다. 만약 1번↔2번 끼리 겨루는 게임에서 2번이 승리했다면 다음 라운드에서 1번을 부여받고, 3번↔4번에서 겨루는 게임에서 3번이 승리했다면 다음 라운드에서 2번을 부여받게 됩니다. 게임은 최종 한 명이 남을 때까지 진행됩니다.\n",
        "\n",
        "이때, 처음 라운드에서 A번을 가진 참가자는 경쟁자로 생각하는 B번 참가자와 몇 번째 라운드에서 만나는지 궁금해졌습니다. 게임 참가자 수 N, 참가자 번호 A, 경쟁자 번호 B가 함수 solution의 매개변수로 주어질 때, 처음 라운드에서 A번을 가진 참가자는 경쟁자로 생각하는 B번 참가자와 몇 번째 라운드에서 만나는지 return 하는 solution 함수를 완성해 주세요. 단, A번 참가자와 B번 참가자는 서로 붙게 되기 전까지 항상 이긴다고 가정합니다.\n",
        "\n",
        "* 제한 사항\n",
        "  + N : 21 이상 220 이하인 자연수 (2의 지수 승으로 주어지므로 부전승은 발생하지 않습니다.)\n",
        "  + A, B : N 이하인 자연수 (단, A ≠ B 입니다.)"
      ],
      "metadata": {
        "id": "V5sJickLXsDa"
      }
    },
    {
      "cell_type": "markdown",
      "source": [
        "\n",
        "\n",
        "```\n",
        "(a+1)//2, (b+2)//2 -> a,b가 홀수던 짝수던 1을 더해서 몫으로 나누면 다음 라운드의 번호를 구할 수 있다.\n",
        "\n",
        "1 ~ 8의 번호가 있을 때, 단순히 2로 나눈 몫은 0 1 1 2 2 3 3 4 이지만 1을 더했을 경우 1 1 2 2 3 3 4 4가 되므로 원하고자 하는 결과값을 얻을 수 있다.\n",
        "\n",
        "n이 2의 제곱수이기 때문에 a와 b가 얼마나 떨어져 있는지를 2로 나누어 가며 같아질때 까지 반복하면 a,b가 만나는 라운드가 나옴\n",
        "```\n",
        "\n"
      ],
      "metadata": {
        "id": "YRLgJt8pXRMc"
      }
    },
    {
      "cell_type": "code",
      "source": [
        "n, a, b = 8, 4, 7\n",
        "answer = 0\n",
        "while a != b:\n",
        "    answer += 1\n",
        "    a, b = (a+1)//2, (b+1)//2\n",
        "answer"
      ],
      "metadata": {
        "id": "nw-qVcFrNS2P",
        "colab": {
          "base_uri": "https://localhost:8080/"
        },
        "outputId": "95e575e3-b68c-4bdd-f24b-b8f8c8a023b8"
      },
      "execution_count": null,
      "outputs": [
        {
          "output_type": "execute_result",
          "data": {
            "text/plain": [
              "3"
            ]
          },
          "metadata": {},
          "execution_count": 3
        }
      ]
    },
    {
      "cell_type": "code",
      "source": [
        "n, a, b = 8, 4, 7\n",
        "def solution(n,a,b):\n",
        "    answer = 0\n",
        "    while a != b:\n",
        "        answer += 1\n",
        "        a, b = (a+1)//2, (b+1)//2\n",
        "    return answer\n",
        "solution(n,a,b)"
      ],
      "metadata": {
        "colab": {
          "base_uri": "https://localhost:8080/"
        },
        "id": "9Trh00woUsk5",
        "outputId": "8d9bbe01-936a-4a1d-88b8-008094ed02dd"
      },
      "execution_count": null,
      "outputs": [
        {
          "output_type": "execute_result",
          "data": {
            "text/plain": [
              "3"
            ]
          },
          "metadata": {},
          "execution_count": 5
        }
      ]
    },
    {
      "cell_type": "code",
      "source": [
        "## 다른사람 풀이\n",
        "def solution2(n,a,b):\n",
        "    return ((a-1)^(b-1)).bit_length()\n",
        "solution2(n,a,b)"
      ],
      "metadata": {
        "colab": {
          "base_uri": "https://localhost:8080/"
        },
        "id": "dKj9JLJyWr7z",
        "outputId": "bbffc2a2-daf8-4685-cd54-530768e8b566"
      },
      "execution_count": null,
      "outputs": [
        {
          "output_type": "execute_result",
          "data": {
            "text/plain": [
              "3"
            ]
          },
          "metadata": {},
          "execution_count": 6
        }
      ]
    },
    {
      "cell_type": "markdown",
      "source": [
        "## **15. 점프와 순간 이동**\n",
        "OO 연구소는 한 번에 K 칸을 앞으로 점프하거나, (현재까지 온 거리) x 2 에 해당하는 위치로 순간이동을 할 수 있는 특수한 기능을 가진 아이언 슈트를 개발하여 판매하고 있습니다. 이 아이언 슈트는 건전지로 작동되는데, 순간이동을 하면 건전지 사용량이 줄지 않지만, 앞으로 K 칸을 점프하면 K 만큼의 건전지 사용량이 듭니다. 그러므로 아이언 슈트를 착용하고 이동할 때는 순간 이동을 하는 것이 더 효율적입니다. 아이언 슈트 구매자는 아이언 슈트를 착용하고 거리가 N 만큼 떨어져 있는 장소로 가려고 합니다. 단, 건전지 사용량을 줄이기 위해 점프로 이동하는 것은 최소로 하려고 합니다. 아이언 슈트 구매자가 이동하려는 거리 N이 주어졌을 때, 사용해야 하는 건전지 사용량의 최솟값을 return하는 solution 함수를 만들어 주세요.\n",
        "\n",
        "예를 들어 거리가 5만큼 떨어져 있는 장소를 가려고 합니다.\n",
        "아이언 슈트를 입고 거리가 5만큼 떨어져 있는 장소로 갈 수 있는 경우의 수는 여러 가지입니다.\n",
        "* 처음 위치 0 에서 5칸을 앞으로 점프하면 바로 도착하지만. 건전지 사용량이 5만큼 돕니다.\n",
        "* 처음 위치 0 에서 2 칸을 앞으로 점프한 다음 순간이동 하면 (현재까지 온 거리:2)x2에 해당하는 위치로 이동할 수 있으므로 위치 4로 이동합니다. 이때 1칸을 앞으로 점프하면 도착하므로 건전지 사용량이 3만큼 돕니다.\n",
        "* 처음 위치 0 에서 1칸을 앞으로 점프한 다음 순간이동 하면 (현재까지온 거리:1)x2에 해당하는 위치로 이동할 수 있으므로 위치 2로 이동됩니다. 이때 다시 순간이동하면 (현재까지 온 거리:2)x2 만큼 이동할 수 있으므로 위치4로 이동합니다. 이때 1칸을 앞으로 점프하면 도착하므로 건전지 사용량이 2 만큼 돕니다.\n",
        "\n",
        "위의 3가지 경우 거리가 5만큼 떨어져 있는 장소로 가기 위해서 3번째 경우가 건전지 사용량이 가장 적으므로 답은 2가 됩니다.\n",
        "* 제한 사항\n",
        "  + 숫자 N : 1 이상 10억 이하의 자연수\n",
        "  + 수사 K : 1 이상의 자연수"
      ],
      "metadata": {
        "id": "YChA2-bCcsgV"
      }
    },
    {
      "cell_type": "markdown",
      "source": [
        "\n",
        "\n",
        "```\n",
        "거꾸로 2로 나눠가면서 구하자.\n",
        "2로 나눠지지 않으면 점프가 필요한 상황 -> 건전지 사용 + 1\n",
        "```\n",
        "\n"
      ],
      "metadata": {
        "id": "ByHr2roTgCWs"
      }
    },
    {
      "cell_type": "code",
      "source": [
        "N = 5\n",
        "answer = 0\n",
        "while N > 0:\n",
        "    answer += N%2   # 만약 n=3 이면 answer + 1하고(3에서 2로 점프 한번)\n",
        "    N = N//2        # n=1이 된다.(점프하고 나누기 2, 순간이동)\n",
        "answer"
      ],
      "metadata": {
        "id": "-UblHHEsXCyg",
        "colab": {
          "base_uri": "https://localhost:8080/"
        },
        "outputId": "9399f9a7-7363-49f1-8005-47c145bca70e"
      },
      "execution_count": null,
      "outputs": [
        {
          "output_type": "execute_result",
          "data": {
            "text/plain": [
              "2"
            ]
          },
          "metadata": {},
          "execution_count": 2
        }
      ]
    },
    {
      "cell_type": "code",
      "source": [
        "def solution(N):\n",
        "    answer = 0\n",
        "    while N > 0:\n",
        "        answer += N % 2\n",
        "        N = N // 2\n",
        "    return answer\n",
        "solution(5000)"
      ],
      "metadata": {
        "colab": {
          "base_uri": "https://localhost:8080/"
        },
        "id": "rdRAuUoWfiST",
        "outputId": "4ece2690-b3be-4a25-cef8-c4e4b0764c83"
      },
      "execution_count": null,
      "outputs": [
        {
          "output_type": "execute_result",
          "data": {
            "text/plain": [
              "5"
            ]
          },
          "metadata": {},
          "execution_count": 5
        }
      ]
    },
    {
      "cell_type": "code",
      "source": [
        "## 이진수 풀이\n",
        "## 2의 n제곱이면 처음 0칸에서 1칸으로 점프를 제외하고 순간이동으로 갈 수 있다.\n",
        "## 이를 이진수로 표현해 보면, 1이 하나인 이진수이다.\n",
        "## 즉, 건전지 사용량은 이진수로 변환했을 때 1의 개수와 같다.\n",
        "def solution2(N): return bin(N).count('1')\n",
        "solution2(5000)"
      ],
      "metadata": {
        "colab": {
          "base_uri": "https://localhost:8080/"
        },
        "id": "M9m52_Gsf-FO",
        "outputId": "c92e86a5-fdf7-4de3-da6f-a024de033e53"
      },
      "execution_count": null,
      "outputs": [
        {
          "output_type": "execute_result",
          "data": {
            "text/plain": [
              "5"
            ]
          },
          "metadata": {},
          "execution_count": 7
        }
      ]
    },
    {
      "cell_type": "markdown",
      "source": [
        "## **16. 멀리 뛰기**\n",
        "효진이는 멀리 뛰기를 연습하고 있습니다. 효진이는 한번에 1칸, 또는 2칸을 뛸 수 있습니다. 칸이 총 4개 있을 때, 효진이는 \n",
        "* (1칸,1칸,1칸,1칸)\n",
        "* (1칸,2칸,1칸)\n",
        "* (1칸,1칸,2칸)\n",
        "* (2칸,1칸,1칸)\n",
        "* (2칸,2칸)\n",
        "\n",
        "의 5가지 방법으로 맨 끝 칸에 도달할 수 있습니다. 멀리뛰기에 사용될 칸의 수 n이 주어질 때, 효진이가 끝에 도달하는 방법이 몇 가지인지 알아내, 여기에 1234567를 나눈 나머지를 리턴하는 함수, solution을 완성하세요. 예를 들어 4가 입력된다면, 5를 return하면 됩니다.\n",
        "\n",
        "* 제한 사항\n",
        "  + n은 1이상, 2000이하인 정수입니다."
      ],
      "metadata": {
        "id": "PbF-Iap7m0WY"
      }
    },
    {
      "cell_type": "markdown",
      "source": [
        "\n",
        "\n",
        "```\n",
        "# 피보나치 수의 점화식을 이용하여 풀이\n",
        "```\n",
        "\n"
      ],
      "metadata": {
        "id": "nvOP3i7ytNJN"
      }
    },
    {
      "cell_type": "code",
      "source": [
        "n = 4\n",
        "def solution(n):\n",
        "    if n == 1: return 1\n",
        "    else: # dp테이블 초기화\n",
        "        dp = [0]*(n+1)\n",
        "        dp[1] = 1\n",
        "        dp[2] = 2\n",
        "        for i in range(3, n+1):\n",
        "            dp[i] = (dp[i-2] + dp[i-1]) % 1234567 # 피보나치 수의 점화식을 적용\n",
        "        return dp[-1] # 테이블의 마지막값 반환\n",
        "solution(n)"
      ],
      "metadata": {
        "id": "dqDJNEQggyFY",
        "colab": {
          "base_uri": "https://localhost:8080/"
        },
        "outputId": "4b8e3910-8ea5-4bc5-dd32-7b08affb3fb1"
      },
      "execution_count": null,
      "outputs": [
        {
          "output_type": "execute_result",
          "data": {
            "text/plain": [
              "5"
            ]
          },
          "metadata": {},
          "execution_count": 2
        }
      ]
    },
    {
      "cell_type": "code",
      "source": [
        "## 다른사람 풀이\n",
        "def jumpCase(n):\n",
        "    a,b = 1,2\n",
        "    for i in range(2,n):\n",
        "        a,b = b,a+b\n",
        "    return b\n",
        "jumpCase(n)"
      ],
      "metadata": {
        "colab": {
          "base_uri": "https://localhost:8080/"
        },
        "id": "3vAPV33Otr8O",
        "outputId": "4c97e2c4-730b-401f-a5e7-c02a316e0167"
      },
      "execution_count": null,
      "outputs": [
        {
          "output_type": "execute_result",
          "data": {
            "text/plain": [
              "5"
            ]
          },
          "metadata": {},
          "execution_count": 3
        }
      ]
    },
    {
      "cell_type": "markdown",
      "source": [
        "## **17. 캐시**\n",
        "지도개발팀에서 근무하는 제이지는 지도에서 도시 이름을 검색하면 해당 도시와 관련된 맛집 게시물들을 데이터베이스에서 읽어 보여주는 서비스를 개발하고 있다.\n",
        "이 프로그램의 테스팅 업무를 담당하고 있는 어피치는 서비스를 오픈하기 전 각 로직에 대한 성능 측정을 수행하였는데, 제이지가 작성한 부분 중 데이터베이스에서 게시물을 가져오는 부분의 실행시간이 너무 오래 걸린다는 것을 알게 되었다.\n",
        "어피치는 제이지에게 해당 로직을 개선하라고 닦달하기 시작하였고, 제이지는 DB 캐시를 적용하여 성능 개선을 시도하고 있지만 캐시 크기를 얼마로 해야 효율적인지 몰라 난감한 상황이다.\n",
        "어피치에게 시달리는 제이지를 도와, DB캐시를 적용할 때 캐시 크기에 따른 실행시간 측정 프로그램을 작성하시오.\n",
        "* 입력 형식\n",
        "  + 캐시 크기(cacheSize)와 도시이름 배열(cities)을 입력받는다.\n",
        "  + cacheSize는 정수이며, 범위는 0 ≦ cacheSize ≦ 30 이다.\n",
        "  + cities는 도시 이름으로 이뤄진 문자열 배열로, 최대 도시 수는 100,000개이다.\n",
        "  + 각 도시 이름은 공백, 숫자, 특수문자 등이 없는 영문자로 구성되며, 대소문자 구분을 하지 않는다. 도시 이름은 최대 20자로 이루어져 있다.\n",
        "* 출력 형식\n",
        "  + 입력된 도시이름 배열을 순서대로 처리할 때, \"총 실행시간\"을 출력한다.\n",
        "* 조건\n",
        "  + 캐시 교체 알고리즘은 LRU(Least Recently Used)를 사용한다.\n",
        "  + cache hit일 경우 실행시간은 1이다.\n",
        "  + cache miss일 경우 실행시간은 5이다."
      ],
      "metadata": {
        "id": "cQgG1EWpgDAe"
      }
    },
    {
      "cell_type": "code",
      "source": [
        "def solution(cacheSize, cities):\n",
        "    Time = 0\n",
        "    cache = []\n",
        "    # 캐시가 없을 경우\n",
        "    if cacheSize == 0: return len(cities)*5\n",
        "    for city in cities:\n",
        "        # cache hit\n",
        "        if city.lower() in cache:\n",
        "            cache.remove(city.lower())\n",
        "            cache.append(city.lower()) # 해당 도시를 리스트의 맨 뒤로 보내기\n",
        "            Time += 1\n",
        "        # cache miss\n",
        "        else:\n",
        "            if len(cache) == cacheSize: cache.pop(0) # LRU 알고리즘으로 캐시 교체\n",
        "            cache.append(city.lower())\n",
        "            Time += 5\n",
        "    return Time\n",
        "cacheSize = 3\n",
        "cities = [\"Jeju\", \"Pangyo\", \"Seoul\", \"NewYork\", \"LA\", \"Jeju\", \"Pangyo\", \"Seoul\", \"NewYork\", \"LA\"]\n",
        "solution(cacheSize, cities)"
      ],
      "metadata": {
        "id": "6yj4GbOmueeJ",
        "colab": {
          "base_uri": "https://localhost:8080/"
        },
        "outputId": "b24e84bf-3cee-4416-b966-4601be99c9e9"
      },
      "execution_count": null,
      "outputs": [
        {
          "output_type": "execute_result",
          "data": {
            "text/plain": [
              "50"
            ]
          },
          "metadata": {},
          "execution_count": 1
        }
      ]
    },
    {
      "cell_type": "code",
      "source": [
        "## 다른사람 풀이\n",
        "def solution2(cacheSize, cities):\n",
        "    import collections\n",
        "    cache = collections.deque(maxlen=cacheSize)\n",
        "    time = 0\n",
        "    for i in cities:\n",
        "        s = i.lower()\n",
        "        # cache hit\n",
        "        if s in cache:\n",
        "            cache.remove(s)\n",
        "            cache.append(s)\n",
        "            time += 1\n",
        "        # cache miss\n",
        "        else:\n",
        "            cache.append(s)\n",
        "            time += 5\n",
        "    return time\n",
        "solution2(cacheSize, cities)"
      ],
      "metadata": {
        "colab": {
          "base_uri": "https://localhost:8080/"
        },
        "id": "3oe6B_KQiRU2",
        "outputId": "4a28549d-8a35-4bd6-cda2-20d95a935589"
      },
      "execution_count": null,
      "outputs": [
        {
          "output_type": "execute_result",
          "data": {
            "text/plain": [
              "50"
            ]
          },
          "metadata": {},
          "execution_count": 2
        }
      ]
    },
    {
      "cell_type": "markdown",
      "source": [
        "## **18. H-Index**\n",
        "H-Index는 과학자의 생산성과 영향력을 나타내는 지표입니다. 어느 과학자의 H-Index를 나타내는 값인 h를 구하려고 합니다. 위키백과에 따르면, H-Index는 다음과 같이 구합니다. 어떤 과학자가 발표한 논문 n편중, h번 이상 인용된 논문이 h편 이상이고 나머지 논문이 h번 이하 인용되었다면 h의 최댓값이 이 과학자의 H-Index입니다.\n",
        "어떤 과학자가 발표한 논문의 인용 횟수를 담은 배열 citations가 매개변수로 주어질 때, 이 과학자의 H-Index를 return 하도록 solution 함수를 작성해주세요.\n",
        "* 제한사항\n",
        "  + 과학자가 발표한 논문의 수는 1편 이상 1,000편 이하입니다.\n",
        "  + 논문별 인용 횟수는 0회 이상 10,000회 이하 입니다."
      ],
      "metadata": {
        "id": "U4ddI3Jj2oxq"
      }
    },
    {
      "cell_type": "code",
      "source": [
        "citations = [3, 0, 6, 1, 5]\n",
        "def solution(citations):\n",
        "    citations.sort(reverse=True)\n",
        "    for idx , citation in enumerate(citations):\n",
        "        if idx >= citation:\n",
        "            return idx\n",
        "    return len(citations)\n",
        "solution(citations)"
      ],
      "metadata": {
        "id": "e-Fxy9mbjFWT",
        "colab": {
          "base_uri": "https://localhost:8080/"
        },
        "outputId": "e6fa9e24-5cac-4137-9e24-cf5e8c6e7fc4"
      },
      "execution_count": null,
      "outputs": [
        {
          "output_type": "execute_result",
          "data": {
            "text/plain": [
              "3"
            ]
          },
          "metadata": {},
          "execution_count": 1
        }
      ]
    },
    {
      "cell_type": "code",
      "source": [
        "## 다른사람 풀이\n",
        "# sort로 정렬해서 가장 큰값부터 작은값으로 정렬한후, enumerate로 (index, value)형태로 묶는다. \n",
        "# 그리고 최댓값(start = 1)부터 각 value에 대해 최솟값 value의 값을 min으로 추출하고, \n",
        "# 이 추출된 값은 enumerate가 끝나는 citations 리스트의 크기에 해당하는 갯수가 나온다. \n",
        "# 이들을 map으로 묶으면, 한 value의 입장에서 보는 최솟값 value의 집합이 나온다. \n",
        "# 즉 h값들의 집합이나온다. h값중 최대값을 max로 뽑아서 출력하면 된다.\n",
        "def solution2(citations):\n",
        "    citations.sort(reverse=True)\n",
        "    answer = max(map(min, enumerate(citations, start=1)))\n",
        "    return answer\n",
        "solution2(citations)"
      ],
      "metadata": {
        "colab": {
          "base_uri": "https://localhost:8080/"
        },
        "id": "-gtU9AMLDz5d",
        "outputId": "f90d0c91-bb66-41a0-c707-908bac144de1"
      },
      "execution_count": null,
      "outputs": [
        {
          "output_type": "execute_result",
          "data": {
            "text/plain": [
              "3"
            ]
          },
          "metadata": {},
          "execution_count": 4
        }
      ]
    },
    {
      "cell_type": "markdown",
      "source": [
        "## **19. 행렬의 곱셈**\n",
        "2차원 행렬 arr1과 arr2를 입력받아, arr1에 arr2를 곱한 결과를 반환하는 함수, solution을 완성해 주세요.\n",
        "\n",
        "<br>\n",
        "\n",
        "**제한 조건**\n",
        "* 행렬 arr1, arr2의 행과 열의 길이는 2이상 100이하이다.\n",
        "* 행력 arr1, arr2의 원소는 -10 이상 20 이하인 자연수이다.\n",
        "* 곱할 수 있는 배열만 주어진다."
      ],
      "metadata": {
        "id": "Jg8a0LfNmBDi"
      }
    },
    {
      "cell_type": "markdown",
      "source": [
        "\n",
        "\n",
        "```\n",
        "* 행렬의 곱셈 개념\n",
        "AxB 행렬 * BxC 행렬 = AxC행렬, B가 같을 때만 연산 가능\n",
        "answer = [([0]*x) for _ in range(y)]로 행렬 사이즈를 정해줌. x는 len(arr2[0]), y는 len(arr1)\n",
        "```\n",
        "\n"
      ],
      "metadata": {
        "id": "rsqbRhHum3JU"
      }
    },
    {
      "cell_type": "code",
      "source": [
        "## 런타임 에러\n",
        "arr1 = [[1, 4], [3, 2], [4, 1]]\n",
        "arr2 = [[3, 3], [3, 3]]\n",
        "def solution(arr1, arr2):\n",
        "    answer = [[0]*len(arr2[0]) for _ in range(len(arr1))]\n",
        "    for i in range(len(arr1)): \n",
        "        lists = []\n",
        "        for j in range(len(arr2[0])): \n",
        "            for k in range(len(arr1[0])): \n",
        "                answer[i][j] += arr1[i][k] * arr2[k][j]\n",
        "    return answer\n",
        "solution(arr1,arr2)"
      ],
      "metadata": {
        "id": "jc_FD14YENF7",
        "colab": {
          "base_uri": "https://localhost:8080/"
        },
        "outputId": "68db3ff7-fd80-4885-ae80-74f68054f986"
      },
      "execution_count": null,
      "outputs": [
        {
          "output_type": "execute_result",
          "data": {
            "text/plain": [
              "[[15, 15], [15, 15], [15, 15]]"
            ]
          },
          "metadata": {},
          "execution_count": 1
        }
      ]
    },
    {
      "cell_type": "code",
      "source": [
        "## 다른풀이\n",
        "## zip과 sum을 사용해 시간을 줄임\n",
        "## (*B) : 언패킹 컨테이너, 이차원 리스트로 선언된 B를 언패킹하여 1차원으로 만들고 zip하여 열로 나타냄\n",
        "def solution(arr1, arr2):\n",
        "    return [[sum(a*b for a, b in zip(arr1_row,arr2_col)) for arr2_col in zip(*arr2)] for arr1_row in arr1]\n",
        "solution(arr1,arr2)"
      ],
      "metadata": {
        "colab": {
          "base_uri": "https://localhost:8080/"
        },
        "id": "51xQvYuWmx82",
        "outputId": "5dbc70b9-8b74-407f-d6d5-aa10f12bd976"
      },
      "execution_count": null,
      "outputs": [
        {
          "output_type": "execute_result",
          "data": {
            "text/plain": [
              "[[15, 15], [15, 15], [15, 15]]"
            ]
          },
          "metadata": {},
          "execution_count": 5
        }
      ]
    },
    {
      "cell_type": "markdown",
      "source": [
        "## **20. 괄호 회전하기**\n",
        "다음 규칙을 지키는 문자열을 올바른 괄호 문자열이라고 정의합니다.\n",
        "* (), [], {} 는 모두 올바른 괄호 문자열입니다.\n",
        "* 만약 A가 올바른 괄호 문자열이라면, (A), [A], {A} 도 올바른 괄호 문자열입니다. 예를 들어, [] 가 올바른 괄호 문자열이므로, ([]) 도 올바른 괄호 문자열입니다.\n",
        "* 만약 A, B가 올바른 괄호 문자열이라면, AB 도 올바른 괄호 문자열입니다. 예를 들어, {} 와 ([]) 가 올바른 괄호 문자열이므로, {}([]) 도 올바른 괄호 문자열입니다.\n",
        "\n",
        "대괄호, 중괄호, 그리고 소괄호로 이루어진 문자열 s가 매개변수로 주어집니다. 이 s를 왼쪽으로 x (0 ≤ x < (s의 길이)) 칸만큼 회전시켰을 때 s가 올바른 괄호 문자열이 되게 하는 x의 개수를 return 하도록 solution 함수를 완성해주세요.\n",
        "\n",
        "<br>\n",
        "\n",
        "**제한사항**\n",
        "* s의 길이는 1 이상 1,000 이하입니다."
      ],
      "metadata": {
        "id": "Vd0cbWbC_zFB"
      }
    },
    {
      "cell_type": "code",
      "source": [
        "s = \"[](){}\"\n",
        "def solution(s):\n",
        "    answer = 0\n",
        "    temp = list(s)\n",
        "    \n",
        "    for _ in range(len(s)):\n",
        " \n",
        "        st = []\n",
        "        for i in range(len(temp)):\n",
        "            if len(st) > 0:\n",
        "                if st[-1] == '[' and temp[i] == ']':\n",
        "                    st.pop()\n",
        "                elif st[-1] == '(' and temp[i] == ')':\n",
        "                    st.pop()\n",
        "                elif st[-1] == '{' and temp[i] == '}':\n",
        "                    st.pop()\n",
        "                else:\n",
        "                    st.append(temp[i])\n",
        "            else:\n",
        "                st.append(temp[i])\n",
        "        if len(st) == 0:\n",
        "            answer += 1\n",
        "        temp.append(temp.pop(0))\n",
        " \n",
        "    return answer\n",
        "solution(s)"
      ],
      "metadata": {
        "id": "viSlp7aWnZWI",
        "colab": {
          "base_uri": "https://localhost:8080/"
        },
        "outputId": "ca20103e-5f9f-4a6c-9f5d-9ace8501c08c"
      },
      "execution_count": null,
      "outputs": [
        {
          "output_type": "execute_result",
          "data": {
            "text/plain": [
              "3"
            ]
          },
          "metadata": {},
          "execution_count": 1
        }
      ]
    },
    {
      "cell_type": "code",
      "source": [],
      "metadata": {
        "id": "U828ACNGAiKE"
      },
      "execution_count": null,
      "outputs": []
    }
  ]
}