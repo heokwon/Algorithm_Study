{
  "nbformat": 4,
  "nbformat_minor": 0,
  "metadata": {
    "colab": {
      "provenance": [],
      "authorship_tag": "ABX9TyM3c5M6LVU1n5zebwuaqH51",
      "include_colab_link": true
    },
    "kernelspec": {
      "name": "python3",
      "display_name": "Python 3"
    },
    "language_info": {
      "name": "python"
    }
  },
  "cells": [
    {
      "cell_type": "markdown",
      "metadata": {
        "id": "view-in-github",
        "colab_type": "text"
      },
      "source": [
        "<a href=\"https://colab.research.google.com/github/heokwon/Algorithm_Study/blob/main/Programmers/LV.2/Programmer's_Lv2_(3).ipynb\" target=\"_parent\"><img src=\"https://colab.research.google.com/assets/colab-badge.svg\" alt=\"Open In Colab\"/></a>"
      ]
    },
    {
      "cell_type": "markdown",
      "source": [
        "## **21. 튜플**\n",
        "셀수있는 수량의 순서있는 열거 또는 어떤 순서를 따르는 요소들의 모음을 튜플(tuple)이라고 합니다. n개의 요소를 가진 튜플을 n-튜플(n-tuple)이라고 하며, 다음과 같이 표현할 수 있습니다.\n",
        "* (a1, a2, a3, ..., an)\n",
        "\n",
        "튜플은 다음과 같은 성질을 가지고 있습니다.\n",
        "1. 중복된 원소가 있을 수 있습니다. ex : (2,3,1,2)\n",
        "2. 원소에 정해진 순서가 있으며, 원소의 순서가 다르면 서로 다른 튜플입니다. ex : (1,2,3) ≠ (1,3,2)\n",
        "3. 튜플의 원소 개수는 유한합니다.\n",
        "\n",
        "원소의 개수가 n개이고, **중복되는 원소가 없는** 튜플 (a1,a2,a3, ..., an) 이 주어질 때(단, a1, a2, ..., an은 자연수), 이는 다음과 같이 집합 기호 '{', '}'를 표현할 수 있습니다.\n",
        "* {{a1}, {a1, a2}, {a1, a2, a3}, {a1, a2, a3, a4}, ... {a1, a2, a3, a4, ..., an}}\n",
        "\n",
        "예를 들어 튜플이 (2,1,3,4)인 경우 이는\n",
        "* {{2}, {2, 1}, {2, 1, 3}, {2, 1, 3, 4}}\n",
        "\n",
        "와 같이 표현할 수 있습니다. 이때, 집합은 원소의 순서가 바뀌어도 상관없으므로\n",
        "* {{2}, {2, 1}, {2, 1, 3}, {2, 1, 3, 4}}\n",
        "* {{2, 1, 3, 4}, {2}, {2, 1, 3}, {2, 1}}\n",
        "* {{1, 2, 3}, {2, 1}, {1, 2, 4, 3}, {2}}\n",
        "\n",
        "는 모두 같은 튜플 (2,1,3,4)를 나타냅니다.\n",
        "\n",
        "특정 튜플을 표현하는 집합이 담긴 문자열 s가 매개변수로 주어질 때, s가 표현하는 튜플을 배열에 담아 return 하도록 solution 함수를 완성해주세요.\n",
        "\n",
        "\n",
        "[제한사항]\n",
        "* s의 길이는 5 이상 1,000,000 이하입니다.\n",
        "* s는 숫자와  '{', '}', ',' 로만 이루어져 있습니다.\n",
        "* 숫자가 0으로 시작하는 경우는 없습니다.\n",
        "* s는 항상 중복되는 원소가 없는 튜플을 올바르게 표현하고 있습니다.\n",
        "* s가 표현하는 튜플의 원소는 1 이상 100,000 이하인 자연수입니다.\n",
        "* return 하는 배열의 길이가 1 이상 500 이하인 경우만 입력으로 주어집니다."
      ],
      "metadata": {
        "id": "98tJzFV2JV9B"
      }
    },
    {
      "cell_type": "code",
      "execution_count": null,
      "metadata": {
        "colab": {
          "base_uri": "https://localhost:8080/"
        },
        "id": "JBAbM7mGJIXb",
        "outputId": "3c7a8aad-74e5-43ac-cd4a-cd14df5f26b2"
      },
      "outputs": [
        {
          "output_type": "execute_result",
          "data": {
            "text/plain": [
              "[2, 1, 3, 4]"
            ]
          },
          "metadata": {},
          "execution_count": 6
        }
      ],
      "source": [
        "# 정규표현식 사용\n",
        "s = \"{{2},{2,1},{2,1,3},{2,1,3,4}}\"\n",
        "import re\n",
        "def solution(s):\n",
        "    answer = []\n",
        "    ss = re.findall('\\d+(?:\\,\\d+)*', s)\n",
        "    ss = sorted(ss, key=len)\n",
        "    for i in ss:\n",
        "        for num in i.split(','):\n",
        "            if int(num) not in answer: answer.append(int(num))\n",
        "    return answer\n",
        "solution(s)"
      ]
    },
    {
      "cell_type": "code",
      "source": [
        "# 다른 사람 풀이\n",
        "import re\n",
        "from collections import Counter\n",
        "s = \"{{2},{2,1},{2,1,3},{2,1,3,4}}\"\n",
        "def solution(s):\n",
        "\n",
        "    s = Counter(re.findall('\\d+', s))\n",
        "    return list(map(int, [k for k, v in sorted(s.items(), key=lambda x: x[1], reverse=True)]))\n",
        "solution(s)"
      ],
      "metadata": {
        "colab": {
          "base_uri": "https://localhost:8080/"
        },
        "id": "1KtFONBcNALz",
        "outputId": "ff103097-db17-4c41-ea87-e0a99a77d62f"
      },
      "execution_count": null,
      "outputs": [
        {
          "output_type": "execute_result",
          "data": {
            "text/plain": [
              "[2, 1, 3, 4]"
            ]
          },
          "metadata": {},
          "execution_count": 8
        }
      ]
    },
    {
      "cell_type": "code",
      "source": [
        "# re를 사용하지 않고\n",
        "def solution(s):\n",
        "    answer = []\n",
        "\n",
        "    s1 = s.lstrip('{').rstrip('}').split('},{')\n",
        "\n",
        "    new_s = []\n",
        "    for i in s1:\n",
        "        new_s.append(i.split(','))\n",
        "\n",
        "    new_s.sort(key = len)\n",
        "\n",
        "    for i in new_s:\n",
        "        for j in range(len(i)):\n",
        "            if int(i[j]) not in answer:\n",
        "                answer.append(int(i[j]))\n",
        "\n",
        "    return answer\n",
        "solution(s)"
      ],
      "metadata": {
        "colab": {
          "base_uri": "https://localhost:8080/"
        },
        "id": "9i_47rnhN3sB",
        "outputId": "c788cd61-4f92-4d74-b43b-58c83e7b128e"
      },
      "execution_count": null,
      "outputs": [
        {
          "output_type": "execute_result",
          "data": {
            "text/plain": [
              "[2, 1, 3, 4]"
            ]
          },
          "metadata": {},
          "execution_count": 9
        }
      ]
    },
    {
      "cell_type": "markdown",
      "source": [
        "## **22. 위장**\n",
        "스파이들은 매일 다른 옷을 조합하여 입어 자신을 위장합니다.\n",
        "\n",
        "예를 들어 스파이가 가진 옷이 아래와 같고 오늘 스파이가 동그란 안경, 긴 코트, 파란색 티셔츠를 입었다면 다음날은 청바지를 추가로 입거나 동그란 안경 대신 검정 선글라스를 착용하거나 해야 합니다.\n",
        "\n",
        "![image.png](data:image/png;base64,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)\n",
        "\n",
        "스파이가 가진 의상들이 담긴 2차원 배열 clothes가 주어질 때 서로 다른 옷의 조합의 수를 return 하도록 solution 함수를 작성해주세요.\n",
        "\n",
        "<br>\n",
        "\n",
        "**제한사항**\n",
        "* clothes의 각 행은 [의상의 이름, 의상의 종류]로 이루어져 있습니다.\n",
        "* 스파이가 가진 의상의 수는 1개 이상 30개 이하입니다.\n",
        "* 같은 이름을 가진 의상은 존재하지 않습니다.\n",
        "* clothes의 모든 원소는 문자열로 이루어져 있습니다.\n",
        "* 모든 문자열의 길이는 1 이상 20 이하인 자연수이고 알파벳 소문자 또는 '_'로만 이루어져 있습니다.\n",
        "* 스파이는 하루에 최소 한 개의 의상은 입습니다."
      ],
      "metadata": {
        "id": "xIz_Op3Go9tQ"
      }
    },
    {
      "cell_type": "markdown",
      "source": [
        "\n",
        "\n",
        "```\n",
        "# 해시를 이용한 풀이\n",
        "1) HashMap 만들기 (Key - Value의 Pair를 관리하는 Dictionary), Key : 옷의 종류 / Value : 해당 옷 종류의 가짓수(count)\n",
        "\n",
        "2) clothes 배열에 존재하는 모든 옷의 종류의 count table 만들기\n",
        "3) 각 옷 종류별 경우의 수를 answer에 곱해주기\n",
        "```\n",
        "\n"
      ],
      "metadata": {
        "id": "4K9hY4mzp6Qf"
      }
    },
    {
      "cell_type": "code",
      "source": [
        "clothes = [[\"yellow_hat\", \"headgear\"], [\"blue_sunglasses\", \"eyewear\"], [\"green_turban\", \"headgear\"]]\n",
        "from collections import Counter\n",
        "from functools import reduce\n",
        "\n",
        "def solution(clothes):\n",
        "    counter = Counter([type for clothe, type in clothes]) # 의상 종류별 Counter를 만듬\n",
        "    answer = reduce(lambda acc, cur: acc*(cur+1), counter.values(), 1) - 1 # 모든 종류의 count + 1을 누적하여 곱해줌\n",
        "    return answer\n",
        "\n",
        "solution(clothes)"
      ],
      "metadata": {
        "id": "bsxrD66VOuGo",
        "colab": {
          "base_uri": "https://localhost:8080/"
        },
        "outputId": "acb86393-8341-4bb3-e76a-053275bf86b9"
      },
      "execution_count": null,
      "outputs": [
        {
          "output_type": "execute_result",
          "data": {
            "text/plain": [
              "5"
            ]
          },
          "metadata": {},
          "execution_count": 1
        }
      ]
    },
    {
      "cell_type": "markdown",
      "source": [
        "## **23. 기능개발**\n",
        "프로그래머스 팀에서는 기능 개선 작업을 수행 중입니다. 각 기능은 진도가 100%일 때 서비스에 반영할 수 있습니다.\n",
        "\n",
        "또, 각 기능의 개발속도는 모두 다르기 때문에 뒤에 있는 기능이 앞에 있는 기능보다 먼저 개발될 수 있고, 이때 뒤에 있는 기능은 앞에 있는 기능이 배포될 때 함께 배포됩니다.\n",
        "\n",
        "먼저 배포되어야 하는 순서대로 작업의 진도가 적힌 정수 배열 progresses와 각 작업의 개발 속도가 적힌 정수 배열 speeds가 주어질 때 각 배포마다 몇 개의 기능이 배포되는지를 return하도록 solution함수를 완성하세요.\n",
        "\n",
        "<br>\n",
        "\n",
        "**제한사항**\n",
        "* 작업의 개수 (progresses, speeds 배열의 길이) 는 100개 이하입니다.\n",
        "* 작업 진도는 100 미만의 자연수입니다.\n",
        "* 작업 속도는 100 이하의 자연수입니다.\n",
        "* 배포는 하루에 한 번만 할 수 있으며, 하루의 끝에 이루어진다고 가정합니다. 예를 들어 진도율이 95%인 작업의 개발 속도가 하루에 4%라면 배포는 2일 뒤에 이루어집니다."
      ],
      "metadata": {
        "id": "mmWkriD76RsW"
      }
    },
    {
      "cell_type": "code",
      "source": [
        "progresses = [95, 90, 99, 99, 80, 99]\n",
        "speeds = [1, 1, 1, 1, 1, 1]\n",
        "\n",
        "# queue FIFO을 활용한 풀이\n",
        "# 첫번째가 100이 될 때까지 loop를 돌며 time을 늘림 / else절\n",
        "# time = 7 (일주일) 이 되면 첫번째 값이 100이 되어 if에 따라 pop되고 count += 1\n",
        "# 현재 time이 7이기 때문에 두번째 값도 if에 따라 pop되고 count += 1\n",
        "# 세번째 값은 100이 안되기 때문에 loop를 돌며 time을 늘리는데 else절과 달리 그전에 완성된 친구들 count값이 있기 때문에\n",
        "# 친구들을 출시해줘야 함. 따라서 answer 리스트에 append하고 count 초기화\n",
        "# 그 후에 loop를 돌며 time을 늘림\n",
        "# 세번째 값이 100을 넘으면 count += 1하고\n",
        "# 이 count 를 다시한번 answer 리스트에 append 해줌으로써 마지막 제품까지 출시\n",
        "def solution(progresses, speeds):\n",
        "\n",
        "    answer = []\n",
        "    time = 0\n",
        "    count = 0\n",
        "\n",
        "    while len(progresses)> 0:\n",
        "        if (progresses[0] + time*speeds[0]) >= 100: \n",
        "            progresses.pop(0)\n",
        "            speeds.pop(0)\n",
        "            count += 1\n",
        "            \n",
        "        else:\n",
        "            if count > 0:\n",
        "                answer.append(count)\n",
        "                count = 0\n",
        "            time += 1\n",
        "    answer.append(count)\n",
        "    return answer\n",
        "\n",
        "solution(progresses, speeds)"
      ],
      "metadata": {
        "colab": {
          "base_uri": "https://localhost:8080/"
        },
        "id": "QXy5n_QB6Q2U",
        "outputId": "25d9e3ae-252c-4544-8aee-ade41ad7fb90"
      },
      "execution_count": 1,
      "outputs": [
        {
          "output_type": "execute_result",
          "data": {
            "text/plain": [
              "[1, 3, 2]"
            ]
          },
          "metadata": {},
          "execution_count": 1
        }
      ]
    },
    {
      "cell_type": "code",
      "source": [
        "# 다른사람 풀이\n",
        "# zip을 이용해서 기능의 작업률과 속도를 합쳐 계산이 쉽도록 했다\n",
        "# `-((p-100)//s)` = 필요한 작업일수를 구하는 계산식\n",
        "# `Q[i][0]` = 작업이 끝나기까지 필요한 일수\n",
        "# `Q[i][1]` = `Q[i][0]`일째에 배포 가능한 기능 수\n",
        "# (Q = [... , [days, functions]]) 뒷 작업은 앞 작업이 끝나기까지 필요한 날짜와 비교해서 작으면 \n",
        "# 이미 앞작업에서 구했던 Q의 원소에서 기능수 부분에 +1 해주고 크면 list Q에 [필요한 일수, 기능수 = 1]\n",
        "# 의 형태로 새로 추가\n",
        "# 원소 개수 만큼 반복이 끝나면 배포 가능한 기능 수 부분만 잘라서 답을 리턴\n",
        "\n",
        "progresses = [95, 90, 99, 99, 80, 99]\n",
        "speeds = [1, 1, 1, 1, 1, 1]\n",
        "def solution(progresses, speeds):\n",
        "    Q=[]\n",
        "    for p, s in zip(progresses, speeds):\n",
        "        if len(Q)==0 or Q[-1][0]<-((p-100)//s): Q.append([-((p-100)//s),1])\n",
        "        else: Q[-1][1]+=1\n",
        "    return [q[1] for q in Q]\n",
        "solution(progresses, speeds)"
      ],
      "metadata": {
        "colab": {
          "base_uri": "https://localhost:8080/"
        },
        "id": "bN0F-xZP8dZd",
        "outputId": "01228f4a-74f8-4cf2-a8bc-3ec4351ccd6f"
      },
      "execution_count": 5,
      "outputs": [
        {
          "output_type": "execute_result",
          "data": {
            "text/plain": [
              "[1, 3, 2]"
            ]
          },
          "metadata": {},
          "execution_count": 5
        }
      ]
    },
    {
      "cell_type": "code",
      "source": [],
      "metadata": {
        "id": "kQ1xcFR_89-e"
      },
      "execution_count": null,
      "outputs": []
    }
  ]
}