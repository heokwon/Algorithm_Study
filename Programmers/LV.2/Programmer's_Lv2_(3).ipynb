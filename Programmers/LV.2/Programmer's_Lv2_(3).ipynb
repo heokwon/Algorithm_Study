{
  "nbformat": 4,
  "nbformat_minor": 0,
  "metadata": {
    "colab": {
      "provenance": [],
      "authorship_tag": "ABX9TyPinHOyJvcbdD2ZyGb04s9/",
      "include_colab_link": true
    },
    "kernelspec": {
      "name": "python3",
      "display_name": "Python 3"
    },
    "language_info": {
      "name": "python"
    }
  },
  "cells": [
    {
      "cell_type": "markdown",
      "metadata": {
        "id": "view-in-github",
        "colab_type": "text"
      },
      "source": [
        "<a href=\"https://colab.research.google.com/github/heokwon/Algorithm_Study/blob/main/Programmers/LV.2/Programmer's_Lv2_(3).ipynb\" target=\"_parent\"><img src=\"https://colab.research.google.com/assets/colab-badge.svg\" alt=\"Open In Colab\"/></a>"
      ]
    },
    {
      "cell_type": "markdown",
      "source": [
        "## **21. 튜플**\n",
        "셀수있는 수량의 순서있는 열거 또는 어떤 순서를 따르는 요소들의 모음을 튜플(tuple)이라고 합니다. n개의 요소를 가진 튜플을 n-튜플(n-tuple)이라고 하며, 다음과 같이 표현할 수 있습니다.\n",
        "* (a1, a2, a3, ..., an)\n",
        "\n",
        "튜플은 다음과 같은 성질을 가지고 있습니다.\n",
        "1. 중복된 원소가 있을 수 있습니다. ex : (2,3,1,2)\n",
        "2. 원소에 정해진 순서가 있으며, 원소의 순서가 다르면 서로 다른 튜플입니다. ex : (1,2,3) ≠ (1,3,2)\n",
        "3. 튜플의 원소 개수는 유한합니다.\n",
        "\n",
        "원소의 개수가 n개이고, **중복되는 원소가 없는** 튜플 (a1,a2,a3, ..., an) 이 주어질 때(단, a1, a2, ..., an은 자연수), 이는 다음과 같이 집합 기호 '{', '}'를 표현할 수 있습니다.\n",
        "* {{a1}, {a1, a2}, {a1, a2, a3}, {a1, a2, a3, a4}, ... {a1, a2, a3, a4, ..., an}}\n",
        "\n",
        "예를 들어 튜플이 (2,1,3,4)인 경우 이는\n",
        "* {{2}, {2, 1}, {2, 1, 3}, {2, 1, 3, 4}}\n",
        "\n",
        "와 같이 표현할 수 있습니다. 이때, 집합은 원소의 순서가 바뀌어도 상관없으므로\n",
        "* {{2}, {2, 1}, {2, 1, 3}, {2, 1, 3, 4}}\n",
        "* {{2, 1, 3, 4}, {2}, {2, 1, 3}, {2, 1}}\n",
        "* {{1, 2, 3}, {2, 1}, {1, 2, 4, 3}, {2}}\n",
        "\n",
        "는 모두 같은 튜플 (2,1,3,4)를 나타냅니다.\n",
        "\n",
        "특정 튜플을 표현하는 집합이 담긴 문자열 s가 매개변수로 주어질 때, s가 표현하는 튜플을 배열에 담아 return 하도록 solution 함수를 완성해주세요.\n",
        "\n",
        "\n",
        "[제한사항]\n",
        "* s의 길이는 5 이상 1,000,000 이하입니다.\n",
        "* s는 숫자와  '{', '}', ',' 로만 이루어져 있습니다.\n",
        "* 숫자가 0으로 시작하는 경우는 없습니다.\n",
        "* s는 항상 중복되는 원소가 없는 튜플을 올바르게 표현하고 있습니다.\n",
        "* s가 표현하는 튜플의 원소는 1 이상 100,000 이하인 자연수입니다.\n",
        "* return 하는 배열의 길이가 1 이상 500 이하인 경우만 입력으로 주어집니다."
      ],
      "metadata": {
        "id": "98tJzFV2JV9B"
      }
    },
    {
      "cell_type": "code",
      "execution_count": 6,
      "metadata": {
        "colab": {
          "base_uri": "https://localhost:8080/"
        },
        "id": "JBAbM7mGJIXb",
        "outputId": "3c7a8aad-74e5-43ac-cd4a-cd14df5f26b2"
      },
      "outputs": [
        {
          "output_type": "execute_result",
          "data": {
            "text/plain": [
              "[2, 1, 3, 4]"
            ]
          },
          "metadata": {},
          "execution_count": 6
        }
      ],
      "source": [
        "# 정규표현식 사용\n",
        "s = \"{{2},{2,1},{2,1,3},{2,1,3,4}}\"\n",
        "import re\n",
        "def solution(s):\n",
        "    answer = []\n",
        "    ss = re.findall('\\d+(?:\\,\\d+)*', s)\n",
        "    ss = sorted(ss, key=len)\n",
        "    for i in ss:\n",
        "        for num in i.split(','):\n",
        "            if int(num) not in answer: answer.append(int(num))\n",
        "    return answer\n",
        "solution(s)"
      ]
    },
    {
      "cell_type": "code",
      "source": [
        "# 다른 사람 풀이\n",
        "import re\n",
        "from collections import Counter\n",
        "s = \"{{2},{2,1},{2,1,3},{2,1,3,4}}\"\n",
        "def solution(s):\n",
        "\n",
        "    s = Counter(re.findall('\\d+', s))\n",
        "    return list(map(int, [k for k, v in sorted(s.items(), key=lambda x: x[1], reverse=True)]))\n",
        "solution(s)"
      ],
      "metadata": {
        "colab": {
          "base_uri": "https://localhost:8080/"
        },
        "id": "1KtFONBcNALz",
        "outputId": "ff103097-db17-4c41-ea87-e0a99a77d62f"
      },
      "execution_count": 8,
      "outputs": [
        {
          "output_type": "execute_result",
          "data": {
            "text/plain": [
              "[2, 1, 3, 4]"
            ]
          },
          "metadata": {},
          "execution_count": 8
        }
      ]
    },
    {
      "cell_type": "code",
      "source": [
        "# re를 사용하지 않고\n",
        "def solution(s):\n",
        "    answer = []\n",
        "\n",
        "    s1 = s.lstrip('{').rstrip('}').split('},{')\n",
        "\n",
        "    new_s = []\n",
        "    for i in s1:\n",
        "        new_s.append(i.split(','))\n",
        "\n",
        "    new_s.sort(key = len)\n",
        "\n",
        "    for i in new_s:\n",
        "        for j in range(len(i)):\n",
        "            if int(i[j]) not in answer:\n",
        "                answer.append(int(i[j]))\n",
        "\n",
        "    return answer\n",
        "solution(s)"
      ],
      "metadata": {
        "colab": {
          "base_uri": "https://localhost:8080/"
        },
        "id": "9i_47rnhN3sB",
        "outputId": "c788cd61-4f92-4d74-b43b-58c83e7b128e"
      },
      "execution_count": 9,
      "outputs": [
        {
          "output_type": "execute_result",
          "data": {
            "text/plain": [
              "[2, 1, 3, 4]"
            ]
          },
          "metadata": {},
          "execution_count": 9
        }
      ]
    },
    {
      "cell_type": "code",
      "source": [],
      "metadata": {
        "id": "bsxrD66VOuGo"
      },
      "execution_count": null,
      "outputs": []
    }
  ]
}