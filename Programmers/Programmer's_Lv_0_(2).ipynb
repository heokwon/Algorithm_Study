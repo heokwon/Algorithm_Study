{
  "nbformat": 4,
  "nbformat_minor": 0,
  "metadata": {
    "colab": {
      "provenance": [],
      "collapsed_sections": [],
      "authorship_tag": "ABX9TyOYIDRY7e52lBz/rG7agFTe",
      "include_colab_link": true
    },
    "kernelspec": {
      "name": "python3",
      "display_name": "Python 3"
    },
    "language_info": {
      "name": "python"
    }
  },
  "cells": [
    {
      "cell_type": "markdown",
      "metadata": {
        "id": "view-in-github",
        "colab_type": "text"
      },
      "source": [
        "<a href=\"https://colab.research.google.com/github/heokwon/Algorithm_Study/blob/main/Programmers/Programmer's_Lv_0_(2).ipynb\" target=\"_parent\"><img src=\"https://colab.research.google.com/assets/colab-badge.svg\" alt=\"Open In Colab\"/></a>"
      ]
    },
    {
      "cell_type": "code",
      "execution_count": 5,
      "metadata": {
        "colab": {
          "base_uri": "https://localhost:8080/"
        },
        "id": "WYobrjjQwf-k",
        "outputId": "39f3f4da-c27c-4406-c787-df52018d9667"
      },
      "outputs": [
        {
          "output_type": "execute_result",
          "data": {
            "text/plain": [
              "3"
            ]
          },
          "metadata": {},
          "execution_count": 5
        }
      ],
      "source": [
        "# 문제 설명\n",
        "# 머쓱이네 피자가게는 피자를 두 조각에서 열 조각까지 원하는 조각 수로 잘라줍니다. \n",
        "# 피자 조각 수 slice와 피자를 먹는 사람의 수 n이 매개변수로 주어질 때, n명의 사람이 \n",
        "# 최소 한 조각 이상 피자를 먹으려면 최소 몇 판의 피자를 시켜야 하는지를 return 하도록 \n",
        "# solution 함수를 완성해보세요.\n",
        "def solution(slice, n):\n",
        "    answer = ((n - 1) / slice) + 1\n",
        "    return int(answer)\n",
        "solution(4,12)"
      ]
    },
    {
      "cell_type": "code",
      "source": [
        "# 문제 설명\n",
        "# 머쓱이네 옷가게는 10만 원 이상 사면 5%, 30만 원 이상 사면 10%, 50만 원 이상 사면 20%를 할인해줍니다.\n",
        "# 구매한 옷의 가격 price가 주어질 때, 지불해야 할 금액을 return 하도록 solution 함수를 완성해보세요.\n",
        "def solution(price):\n",
        "    if 100000 <= price < 300000:\n",
        "        answer = price * 0.95\n",
        "    elif 300000 <= price < 500000:\n",
        "        answer = price * 0.9\n",
        "    elif price >= 500000:\n",
        "        answer = price * 0.8\n",
        "    else:\n",
        "        answer = price\n",
        "    return int(answer)\n",
        "solution(580000)"
      ],
      "metadata": {
        "colab": {
          "base_uri": "https://localhost:8080/"
        },
        "id": "9xikcfWm9NfS",
        "outputId": "3e651dee-def8-4418-aa00-75e079946fec"
      },
      "execution_count": 8,
      "outputs": [
        {
          "output_type": "execute_result",
          "data": {
            "text/plain": [
              "464000"
            ]
          },
          "metadata": {},
          "execution_count": 8
        }
      ]
    },
    {
      "cell_type": "code",
      "source": [
        "# 문제 설명\n",
        "# 정수가 담긴 리스트 num_list가 주어질 때, num_list의 원소 중 짝수와 홀수의 \n",
        "# 개수를 담은 배열을 return 하도록 solution 함수를 완성해보세요.\n",
        "def solution(num_list):\n",
        "    answer = []\n",
        "    cnt = 0\n",
        "    cnt2 = 0\n",
        "    for i in num_list:\n",
        "        if i % 2 == 0:\n",
        "            cnt += 1\n",
        "        else:\n",
        "            cnt2 += 1\n",
        "    answer.append(cnt)\n",
        "    answer.append(cnt2)\n",
        "    return answer\n",
        "lst = [1, 2, 3, 4, 5]\n",
        "solution(lst)"
      ],
      "metadata": {
        "colab": {
          "base_uri": "https://localhost:8080/"
        },
        "id": "5KCoWzU2-S5X",
        "outputId": "394f246b-7c8e-4b36-8ae5-3ecf4b39860e"
      },
      "execution_count": 9,
      "outputs": [
        {
          "output_type": "execute_result",
          "data": {
            "text/plain": [
              "[2, 3]"
            ]
          },
          "metadata": {},
          "execution_count": 9
        }
      ]
    },
    {
      "cell_type": "code",
      "source": [
        "# 문제 설명\n",
        "# 어떤 세균은 1시간에 두배만큼 증식한다고 합니다. 처음 세균의 마리수 n과 경과한 \n",
        "# 시간 t가 매개변수로 주어질 때 t시간 후 세균의 수를 return하도록 solution 함수를 \n",
        "# 완성해주세요.\n",
        "def solution(n, t):\n",
        "    return n * 2 ** t\n",
        "solution(7,15)"
      ],
      "metadata": {
        "colab": {
          "base_uri": "https://localhost:8080/"
        },
        "id": "nORn3IwaCi-H",
        "outputId": "14f4cb34-c56e-4f29-a8ba-d15f0c18e19b"
      },
      "execution_count": 12,
      "outputs": [
        {
          "output_type": "execute_result",
          "data": {
            "text/plain": [
              "229376"
            ]
          },
          "metadata": {},
          "execution_count": 12
        }
      ]
    },
    {
      "cell_type": "code",
      "source": [
        "# 문제 설명\n",
        "# 문자열 my_string이 매개변수로 주어집니다. my_string을 거꾸로 뒤집은 문자열을 \n",
        "# return하도록 solution 함수를 완성해주세요.\n",
        "def solution(my_string):\n",
        "    answer = ''.join(reversed(my_string))\n",
        "    return answer\n",
        "string = 'bread'\n",
        "solution(string)"
      ],
      "metadata": {
        "colab": {
          "base_uri": "https://localhost:8080/",
          "height": 35
        },
        "id": "5I7WbYaIEfpb",
        "outputId": "5e41692b-3014-4218-b31a-2d772820541f"
      },
      "execution_count": 14,
      "outputs": [
        {
          "output_type": "execute_result",
          "data": {
            "text/plain": [
              "'daerb'"
            ],
            "application/vnd.google.colaboratory.intrinsic+json": {
              "type": "string"
            }
          },
          "metadata": {},
          "execution_count": 14
        }
      ]
    },
    {
      "cell_type": "code",
      "source": [
        "# 최댓값 만들기 (1)\n",
        "# 문제 설명\n",
        "# 정수 배열 numbers가 매개변수로 주어집니다. numbers의 원소 중 두 개를 곱해 \n",
        "# 만들 수 있는 최댓값을 return하도록 solution 함수를 완성해주세요.\n",
        "def solution(numbers):\n",
        "    numbers.sort(reverse=True)\n",
        "    answer = numbers[0] * numbers[1]\n",
        "    return answer\n",
        "num = [0, 31, 24, 10, 1, 9]\n",
        "solution(num)"
      ],
      "metadata": {
        "colab": {
          "base_uri": "https://localhost:8080/"
        },
        "id": "1KCMGa8XLJPw",
        "outputId": "def09b94-0e15-4953-df73-849fe7bca000"
      },
      "execution_count": 21,
      "outputs": [
        {
          "output_type": "execute_result",
          "data": {
            "text/plain": [
              "744"
            ]
          },
          "metadata": {},
          "execution_count": 21
        }
      ]
    },
    {
      "cell_type": "code",
      "source": [
        "# 문제 설명\n",
        "# 문자열 my_string과 문자 letter이 매개변수로 주어집니다. my_string에서 \n",
        "# letter를 제거한 문자열을 return하도록 solution 함수를 완성해주세요.\n",
        "def solution(my_string, letter):\n",
        "    answer = my_string.replace(letter,'')\n",
        "    return answer\n",
        "my_string = \"BCBdbe\"\n",
        "letter = \"B\"\n",
        "solution(my_string, letter)"
      ],
      "metadata": {
        "colab": {
          "base_uri": "https://localhost:8080/",
          "height": 35
        },
        "id": "ru7vcntBL2xt",
        "outputId": "535cada3-df2d-41a8-a90e-a03cd490dd5e"
      },
      "execution_count": 22,
      "outputs": [
        {
          "output_type": "execute_result",
          "data": {
            "text/plain": [
              "'Cdbe'"
            ],
            "application/vnd.google.colaboratory.intrinsic+json": {
              "type": "string"
            }
          },
          "metadata": {},
          "execution_count": 22
        }
      ]
    },
    {
      "cell_type": "code",
      "source": [
        "# 문제 설명\n",
        "# 두 배열이 얼마나 유사한지 확인해보려고 합니다. 문자열 배열 s1과 s2가 \n",
        "# 주어질 때 같은 원소의 개수를 return하도록 solution 함수를 완성해주세요.\n",
        "def solution(s1, s2):\n",
        "    cnt = 0\n",
        "    for i in s1:\n",
        "        for j in s2:\n",
        "            if i == j:\n",
        "                cnt += 1\n",
        "    return cnt\n",
        "s1 = [\"a\", \"b\", \"c\"]\n",
        "s2 = [\"com\", \"b\", \"d\", \"p\", \"c\"]\n",
        "solution(s1,s2)"
      ],
      "metadata": {
        "colab": {
          "base_uri": "https://localhost:8080/"
        },
        "id": "mXEGCJHfNX0M",
        "outputId": "3f91e397-e7d5-4831-c34c-d9cf090a6efd"
      },
      "execution_count": 23,
      "outputs": [
        {
          "output_type": "execute_result",
          "data": {
            "text/plain": [
              "2"
            ]
          },
          "metadata": {},
          "execution_count": 23
        }
      ]
    },
    {
      "cell_type": "code",
      "source": [
        "len(set(s1)&set(s2))"
      ],
      "metadata": {
        "colab": {
          "base_uri": "https://localhost:8080/"
        },
        "id": "fVD2rF-jN69I",
        "outputId": "7e249e8d-35f7-4c80-dd50-e570f1886eb8"
      },
      "execution_count": 27,
      "outputs": [
        {
          "output_type": "execute_result",
          "data": {
            "text/plain": [
              "2"
            ]
          },
          "metadata": {},
          "execution_count": 27
        }
      ]
    },
    {
      "cell_type": "code",
      "source": [
        "# 문제 설명\n",
        "# 어떤 자연수를 제곱했을 때 나오는 정수를 제곱수라고 합니다. \n",
        "# 정수 n이 매개변수로 주어질 때, n이 제곱수라면 1을 아니라면 2를 \n",
        "# return하도록 solution 함수를 완성해주세요.\n",
        "def solution(n):\n",
        "    temp = n ** 0.5\n",
        "    if int(temp) == temp:\n",
        "        answer = 1\n",
        "    else:\n",
        "        answer = 2\n",
        "    return answer\n",
        "solution(144)"
      ],
      "metadata": {
        "colab": {
          "base_uri": "https://localhost:8080/"
        },
        "id": "b_lrvWw4OBi9",
        "outputId": "bb0c98aa-b558-4f21-b218-70837726f5dc"
      },
      "execution_count": 28,
      "outputs": [
        {
          "output_type": "execute_result",
          "data": {
            "text/plain": [
              "1"
            ]
          },
          "metadata": {},
          "execution_count": 28
        }
      ]
    },
    {
      "cell_type": "code",
      "source": [
        "# 문제 설명\n",
        "# 영어에선 a, e, i, o, u 다섯 가지 알파벳을 모음으로 분류합니다. \n",
        "# 문자열 my_string이 매개변수로 주어질 때 모음을 제거한 문자열을 \n",
        "# return하도록 solution 함수를 완성해주세요.\n",
        "def solution(my_string):\n",
        "    vowel = [\"a\",\"e\",\"i\",\"o\",\"u\"]\n",
        "    for i in vowel:\n",
        "        my_string = my_string.replace(i,'')\n",
        "    return my_string\n",
        "my_string = \"nice to meet you\"\n",
        "solution(my_string)"
      ],
      "metadata": {
        "colab": {
          "base_uri": "https://localhost:8080/",
          "height": 35
        },
        "id": "fKBUgTD2Q7OL",
        "outputId": "4b1ce86c-d6a8-4ca5-cdea-dbbde6378072"
      },
      "execution_count": 31,
      "outputs": [
        {
          "output_type": "execute_result",
          "data": {
            "text/plain": [
              "'nc t mt y'"
            ],
            "application/vnd.google.colaboratory.intrinsic+json": {
              "type": "string"
            }
          },
          "metadata": {},
          "execution_count": 31
        }
      ]
    },
    {
      "cell_type": "code",
      "source": [
        "# 문제 설명\n",
        "# 문자열 str1, str2가 매개변수로 주어집니다. str1 안에 str2가 있다면 \n",
        "# 1을 없다면 2를 return하도록 solution 함수를 완성해주세요.\n",
        "def solution(str1, str2):\n",
        "    if str2 in str1:\n",
        "        return 1\n",
        "    else:\n",
        "        return 2\n",
        "str1 = \"ab6CDE443fgh22iJKlmn1o\"\n",
        "str2 = \"6CD\"\n",
        "solution(str1,str2)"
      ],
      "metadata": {
        "colab": {
          "base_uri": "https://localhost:8080/"
        },
        "id": "zrhhsjKEReNv",
        "outputId": "922f5bd6-e716-4fcb-b113-3a91e5809d60"
      },
      "execution_count": 32,
      "outputs": [
        {
          "output_type": "execute_result",
          "data": {
            "text/plain": [
              "1"
            ]
          },
          "metadata": {},
          "execution_count": 32
        }
      ]
    },
    {
      "cell_type": "code",
      "source": [
        "# 문제 설명\n",
        "# 문자열 my_string이 매개변수로 주어질 때, my_string 안에 있는 숫자만 \n",
        "# 골라 오름차순 정렬한 리스트를 return 하도록 solution 함수를 작성해보세요.\n",
        "import re\n",
        "def solution(my_string):\n",
        "    answer=[]\n",
        "    my_string = re.sub(r'[^0-9]','',my_string)\n",
        "    for i in my_string:\n",
        "        answer.append(int(i))\n",
        "    answer.sort()\n",
        "    return answer\n",
        "my_string = \"hi12392\"\n",
        "solution(my_string)"
      ],
      "metadata": {
        "colab": {
          "base_uri": "https://localhost:8080/"
        },
        "id": "KppL4vL8jOt6",
        "outputId": "a40a5169-861d-425d-f9b9-05e722afb622"
      },
      "execution_count": 43,
      "outputs": [
        {
          "output_type": "execute_result",
          "data": {
            "text/plain": [
              "[1, 2, 2, 3, 9]"
            ]
          },
          "metadata": {},
          "execution_count": 43
        }
      ]
    },
    {
      "cell_type": "code",
      "source": [
        "# 문제 설명\n",
        "# 영어 대소문자로 이루어진 문자열 my_string이 매개변수로 주어질 때, \n",
        "# my_string을 모두 소문자로 바꾸고 알파벳 순서대로 정렬한 문자열을 \n",
        "# return 하도록 solution 함수를 완성해보세요.\n",
        "def solution(my_string):\n",
        "    my_string = my_string.lower()\n",
        "    my_string = \"\".join(sorted(my_string))\n",
        "    return my_string\n",
        "# my_string = \"heLLo\"\n",
        "# solution(my_string)\n",
        "\n",
        "def solution2(my_string):\n",
        "  return \"\".join(sorted(my_string.lower()))\n",
        "my_string = \"heLLo\"\n",
        "solution2(my_string)"
      ],
      "metadata": {
        "colab": {
          "base_uri": "https://localhost:8080/",
          "height": 35
        },
        "id": "PxCPZargld4Z",
        "outputId": "74ce3aa1-ff16-40bf-c8f4-98cacf24224f"
      },
      "execution_count": 52,
      "outputs": [
        {
          "output_type": "execute_result",
          "data": {
            "text/plain": [
              "'ehllo'"
            ],
            "application/vnd.google.colaboratory.intrinsic+json": {
              "type": "string"
            }
          },
          "metadata": {},
          "execution_count": 52
        }
      ]
    },
    {
      "cell_type": "code",
      "source": [
        "# 문자열 my_string이 매개변수로 주어질 때, 대문자는 소문자로 소문자는 \n",
        "# 대문자로 변환한 문자열을 return하도록 solution 함수를 완성해주세요.\n",
        "def solution(my_string):\n",
        "    return my_string.swapcase()\n",
        "# my_string = \"cccCCC\"\n",
        "# solution(my_string)\n",
        "\n",
        "# swapcase없이\n",
        "def solution2(my_string):\n",
        "    answer = ''\n",
        "\n",
        "    for i in my_string:\n",
        "        if i.isupper():\n",
        "            answer+=i.lower()\n",
        "        else:\n",
        "            answer+=i.upper()\n",
        "    return answer\n",
        "my_string = \"cccCCC\"\n",
        "solution2(my_string)"
      ],
      "metadata": {
        "colab": {
          "base_uri": "https://localhost:8080/",
          "height": 35
        },
        "id": "flD465tKne3f",
        "outputId": "4c104bdb-94de-446b-b966-9c07e88894e0"
      },
      "execution_count": 71,
      "outputs": [
        {
          "output_type": "execute_result",
          "data": {
            "text/plain": [
              "'CCCccc'"
            ],
            "application/vnd.google.colaboratory.intrinsic+json": {
              "type": "string"
            }
          },
          "metadata": {},
          "execution_count": 71
        }
      ]
    },
    {
      "cell_type": "code",
      "source": [
        "# 문제 설명\n",
        "# 정수 배열 array가 매개변수로 주어질 때, 가장 큰 수와 그 수의 인덱스를 \n",
        "# 담은 배열을 return 하도록 solution 함수를 완성해보세요.\n",
        "def solution(array):\n",
        "    answer = [max(array), array.index(max(array))]\n",
        "    return answer\n",
        "array = [9, 10, 11, 8]\n",
        "solution(array)"
      ],
      "metadata": {
        "colab": {
          "base_uri": "https://localhost:8080/"
        },
        "id": "RodYfTlaqmf5",
        "outputId": "7be3dbe6-bb6a-4ad2-dede-33929b0f4eeb"
      },
      "execution_count": 72,
      "outputs": [
        {
          "output_type": "execute_result",
          "data": {
            "text/plain": [
              "[11, 2]"
            ]
          },
          "metadata": {},
          "execution_count": 72
        }
      ]
    },
    {
      "cell_type": "code",
      "source": [
        "# 문제 설명\n",
        "# 문자열 my_string과 정수 n이 매개변수로 주어질 때, my_string에 들어있는 \n",
        "# 각 문자를 n만큼 반복한 문자열을 return 하도록 solution 함수를 완성해보세요.\n",
        "def solution(my_string, n):\n",
        "    answer = ''\n",
        "    for i in my_string:\n",
        "        answer += i*n\n",
        "    return answer\n",
        "my_string = \"hello\"\n",
        "n = 3\n",
        "solution(my_string, n)"
      ],
      "metadata": {
        "colab": {
          "base_uri": "https://localhost:8080/",
          "height": 35
        },
        "id": "bV0NlT7FvgGu",
        "outputId": "75e97e2b-af2d-4992-f642-fe5deca7d052"
      },
      "execution_count": 73,
      "outputs": [
        {
          "output_type": "execute_result",
          "data": {
            "text/plain": [
              "'hhheeellllllooo'"
            ],
            "application/vnd.google.colaboratory.intrinsic+json": {
              "type": "string"
            }
          },
          "metadata": {},
          "execution_count": 73
        }
      ]
    },
    {
      "cell_type": "code",
      "source": [
        "# 문제 설명\n",
        "# 정수 n과 정수 배열 numlist가 매개변수로 주어질 때, numlist에서 n의 배수가 \n",
        "# 아닌 수들을 제거한 배열을 return하도록 solution 함수를 완성해주세요.\n",
        "def solution(n, numlist):\n",
        "    answer = [i for i in numlist if i % n == 0]\n",
        "    return answer\n",
        "n = 12\n",
        "numlist = \t[2, 100, 120, 600, 12, 12]\n",
        "solution(n, numlist)"
      ],
      "metadata": {
        "colab": {
          "base_uri": "https://localhost:8080/"
        },
        "id": "C-OKP1_7v7_T",
        "outputId": "86005f84-b9a7-42e4-84b7-ea79dec1f138"
      },
      "execution_count": 74,
      "outputs": [
        {
          "output_type": "execute_result",
          "data": {
            "text/plain": [
              "[120, 600, 12, 12]"
            ]
          },
          "metadata": {},
          "execution_count": 74
        }
      ]
    },
    {
      "cell_type": "code",
      "source": [
        "# 문제 설명\n",
        "# 문자열 my_string이 매개변수로 주어집니다. my_string안의 모든 자연수들의 \n",
        "# 합을 return하도록 solution 함수를 완성해주세요.\n",
        "import re\n",
        "def solution(my_string):\n",
        "    my_string = re.sub(r'[^0-9]','',my_string)\n",
        "    answer = [int(i) for i in my_string]\n",
        "    return sum(answer)\n",
        "# my_string = \"aAb1B2cC34oOp\"\n",
        "# solution(my_string)\n",
        "\n",
        "## 더 간단하게\n",
        "def solution2(my_string):\n",
        "    return sum(int(i) for i in re.sub(r'[^0-9]','',my_string))\n",
        "my_string = \"aAb1B2cC34oOp\"\n",
        "solution2(my_string)"
      ],
      "metadata": {
        "colab": {
          "base_uri": "https://localhost:8080/"
        },
        "id": "iV8dH0Wdwzbn",
        "outputId": "510d74a5-7ca8-481e-81a5-21314ba5bf1a"
      },
      "execution_count": 77,
      "outputs": [
        {
          "output_type": "execute_result",
          "data": {
            "text/plain": [
              "10"
            ]
          },
          "metadata": {},
          "execution_count": 77
        }
      ]
    },
    {
      "cell_type": "code",
      "source": [
        "# 문제 설명\n",
        "# 가위는 2 바위는 0 보는 5로 표현합니다. 가위 바위 보를 내는 순서대로 나타낸 \n",
        "# 문자열 rsp가 매개변수로 주어질 때, rsp에 저장된 가위 바위 보를 모두 이기는 \n",
        "# 경우를 순서대로 나타낸 문자열을 return하도록 solution 함수를 완성해보세요.\n",
        "def solution(rsp):\n",
        "    table = str.maketrans('205', '052')\n",
        "    answer = rsp.translate(table)\n",
        "    return answer\n",
        "\n",
        "def solution2(rsp):\n",
        "    d = {'0':'5','2':'0','5':'2'}\n",
        "    return ''.join(d[i] for i in rsp)\n",
        "rsp = \"205\"\n",
        "solution2(rsp)"
      ],
      "metadata": {
        "colab": {
          "base_uri": "https://localhost:8080/",
          "height": 35
        },
        "id": "qVC8TXd-xnFG",
        "outputId": "ccb67272-ed6a-4395-a035-682da86d1d0f"
      },
      "execution_count": 89,
      "outputs": [
        {
          "output_type": "execute_result",
          "data": {
            "text/plain": [
              "'052'"
            ],
            "application/vnd.google.colaboratory.intrinsic+json": {
              "type": "string"
            }
          },
          "metadata": {},
          "execution_count": 89
        }
      ]
    },
    {
      "cell_type": "code",
      "source": [
        "# 문제 설명\n",
        "# 문자열 my_string과 정수 num1, num2가 매개변수로 주어질 때, my_string에서 \n",
        "# 인덱스 num1과 인덱스 num2에 해당하는 문자를 바꾼 문자열을 return 하도록 \n",
        "# solution 함수를 완성해보세요.\n",
        "def solution(my_string, num1, num2):\n",
        "    lst = list(my_string)\n",
        "    lst[num1],lst[num2] = lst[num2],lst[num1]\n",
        "    answer = ''.join(i for i in lst)\n",
        "    return answer\n",
        "my_string = \"I love you\"\t\n",
        "num1 = 3\n",
        "num2 = 6\n",
        "solution(my_string, num1, num2)"
      ],
      "metadata": {
        "colab": {
          "base_uri": "https://localhost:8080/",
          "height": 35
        },
        "id": "UkTrkJYe72dJ",
        "outputId": "78314f7c-a27c-4553-d751-66837e5a91d4"
      },
      "execution_count": 120,
      "outputs": [
        {
          "output_type": "execute_result",
          "data": {
            "text/plain": [
              "'I l veoyou'"
            ],
            "application/vnd.google.colaboratory.intrinsic+json": {
              "type": "string"
            }
          },
          "metadata": {},
          "execution_count": 120
        }
      ]
    },
    {
      "cell_type": "code",
      "source": [],
      "metadata": {
        "id": "AQbGF_5e8DrX"
      },
      "execution_count": null,
      "outputs": []
    }
  ]
}