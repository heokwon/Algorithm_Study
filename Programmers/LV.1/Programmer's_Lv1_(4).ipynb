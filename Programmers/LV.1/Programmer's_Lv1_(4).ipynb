{
  "nbformat": 4,
  "nbformat_minor": 0,
  "metadata": {
    "colab": {
      "provenance": [],
      "authorship_tag": "ABX9TyMSqLlO9zBDtZ0SscIMKezu",
      "include_colab_link": true
    },
    "kernelspec": {
      "name": "python3",
      "display_name": "Python 3"
    },
    "language_info": {
      "name": "python"
    }
  },
  "cells": [
    {
      "cell_type": "markdown",
      "metadata": {
        "id": "view-in-github",
        "colab_type": "text"
      },
      "source": [
        "<a href=\"https://colab.research.google.com/github/heokwon/Algorithm_Study/blob/main/Programmers/LV.1/Programmer's_Lv1_(4).ipynb\" target=\"_parent\"><img src=\"https://colab.research.google.com/assets/colab-badge.svg\" alt=\"Open In Colab\"/></a>"
      ]
    },
    {
      "cell_type": "markdown",
      "source": [
        "## **모의고사**\n",
        "수포자는 수학을 포기한 사람의 준말입니다. 수포자 삼인방은 모의고사에 수학 문제를 전부 찍으려 합니다. 수포자는 1번 문제부터 마지막 문제까지 다음과 같이 찍습니다.\n",
        "* 1번 수포자가 찍는 방식 : 1,2,3,4,5,1,2,3,4,5,...\n",
        "* 2번 수포자가 찍는 방식 : 2,1,2,3,2,4,2,5,2,1,2,3,2,4,2,5,...\n",
        "* 3번 수포자가 찍는 방식 : 3,3,1,1,2,2,4,4,5,5,3,3,1,1,2,2,4,4,5,5,...\n",
        "\n",
        "1번 문제부터 마지막 문제까지의 정답이 순서대로 들은 배열 answer가 주어졌을 때, 가장 많은 문제를 맞힌 사람이 누구인지 배열에 담아 return하도록 solution 함수를 작성해주세요.\n",
        "* 시험은 최대 10,000문제로 구성되어있습니다.\n",
        "* 문제의 정답은 1,2,3,4,5 중 하나입니다.\n",
        "* 가장 높은 점수를 받은 사람이 여럿일 경우, return하는 값을 오름차순 정렬해주세요."
      ],
      "metadata": {
        "id": "-yCNuB4lFdWP"
      }
    },
    {
      "cell_type": "code",
      "execution_count": 7,
      "metadata": {
        "colab": {
          "base_uri": "https://localhost:8080/"
        },
        "id": "AKzXqCodL0-I",
        "outputId": "0a915241-ff42-449c-e911-b47e3b4c02dc"
      },
      "outputs": [
        {
          "output_type": "execute_result",
          "data": {
            "text/plain": [
              "[1]"
            ]
          },
          "metadata": {},
          "execution_count": 7
        }
      ],
      "source": [
        "answers = [1,2,3,4,5]\n",
        "def solution(answers):\n",
        "    a = [1,2,3,4,5]\n",
        "    b = [2,1,2,3,2,4,2,5]\n",
        "    c = [3,3,1,1,2,2,4,4,5,5]\n",
        "    cnt1,cnt2,cnt3 = 0,0,0\n",
        "    for i in range(len(answers)):\n",
        "        a1 = i%len(a)\n",
        "        b1 = i%len(b)\n",
        "        c1 = i%len(c)\n",
        "\n",
        "        if a[a1] == answers[i]:\n",
        "            cnt1 += 1\n",
        "        if b[b1] == answers[i]:\n",
        "            cnt2 += 1\n",
        "        if c[c1] == answers[i]:\n",
        "            cnt3 += 1\n",
        "    winner = max(cnt1,cnt2,cnt3)\n",
        "    answer = []\n",
        "    if winner == cnt1:\n",
        "        answer.append(1)\n",
        "    if winner == cnt2:\n",
        "        answer.append(2)\n",
        "    if winner == cnt3:\n",
        "        answer.append(3)\n",
        "    return answer\n",
        "solution(answers)"
      ]
    },
    {
      "cell_type": "code",
      "source": [
        "## 더 간단하게\n",
        "def solution2(answers):\n",
        "    a = [1,2,3,4,5]\n",
        "    b = [2,1,2,3,2,4,2,5]\n",
        "    c = [3,3,1,1,2,2,4,4,5,5]\n",
        "    cnt = [0,0,0]\n",
        "    answer = []\n",
        "    for idx, x in enumerate(answers):\n",
        "        if x == a[idx%len(a)]:\n",
        "            cnt[0] += 1\n",
        "        if x == b[idx%len(b)]:\n",
        "            cnt[1] += 1\n",
        "        if x == c[idx%len(c)]:\n",
        "            cnt[2] += 1\n",
        "    for idx, c in enumerate(cnt):\n",
        "        if c == max(cnt):\n",
        "            answer.append(idx+1)\n",
        "    return answer\n",
        "solution2(answers)"
      ],
      "metadata": {
        "colab": {
          "base_uri": "https://localhost:8080/"
        },
        "id": "lVn2m47xIEDm",
        "outputId": "1bb9d01e-980d-4e3a-8385-45197200da0a"
      },
      "execution_count": 9,
      "outputs": [
        {
          "output_type": "execute_result",
          "data": {
            "text/plain": [
              "[1]"
            ]
          },
          "metadata": {},
          "execution_count": 9
        }
      ]
    },
    {
      "cell_type": "markdown",
      "source": [
        "## **소수만들기**\n",
        "주어진 숫자 중 3개의 수를 더했을 때 소수가 되는 경우의 개수를 구하려고 합니다. 숫자들이 들어있는 배열 nums가 매개변수로 주어질 때, nums에 있는 숫자들 중 서로 다른 3개를 골라 더했을 때 소수가 되는 경우의 개수를 return하도록 solution함수를 완성해주세요.\n",
        "* nums에 들어있는 숫자의 개수는 3개 이상 50개 이하입니다.\n",
        "* nums의 각 원소는 1 이상 1,000 이하의 자연수이며, 중복된 숫자가 들어있지 않습니다."
      ],
      "metadata": {
        "id": "PpLZmGf0MHhD"
      }
    },
    {
      "cell_type": "code",
      "source": [
        "nums = [1,2,3,4]\n",
        "from itertools import combinations\n",
        "cnt = 0\n",
        "for comb in list(combinations(nums,3)):\n",
        "    print(sum(comb))\n",
        "    for i in range(2,sum(comb)):\n",
        "        if sum(comb) % i == 0:\n",
        "            break\n",
        "    else:\n",
        "        cnt += 1\n",
        "cnt"
      ],
      "metadata": {
        "colab": {
          "base_uri": "https://localhost:8080/"
        },
        "id": "buyQ6G19LdTI",
        "outputId": "614b2680-989e-48d1-c5a6-5489e05913bc"
      },
      "execution_count": 23,
      "outputs": [
        {
          "output_type": "stream",
          "name": "stdout",
          "text": [
            "6\n",
            "7\n",
            "8\n",
            "9\n"
          ]
        },
        {
          "output_type": "execute_result",
          "data": {
            "text/plain": [
              "1"
            ]
          },
          "metadata": {},
          "execution_count": 23
        }
      ]
    },
    {
      "cell_type": "code",
      "source": [
        "## 정답\n",
        "from itertools import combinations\n",
        "nums = [1,2,7,6,4]\n",
        "def solution(nums):\n",
        "    cnt = 0\n",
        "    for comb in list(combinations(nums,3)):\n",
        "        for i in range(2,sum(comb)):\n",
        "            if sum(comb) % i == 0:\n",
        "                break\n",
        "        else:\n",
        "            cnt += 1\n",
        "    return cnt\n",
        "solution(nums)"
      ],
      "metadata": {
        "colab": {
          "base_uri": "https://localhost:8080/"
        },
        "id": "ahmlABHpNjnd",
        "outputId": "a6abd10e-858b-40ee-cbfb-9b1bb0985f85"
      },
      "execution_count": 22,
      "outputs": [
        {
          "output_type": "execute_result",
          "data": {
            "text/plain": [
              "4"
            ]
          },
          "metadata": {},
          "execution_count": 22
        }
      ]
    },
    {
      "cell_type": "markdown",
      "source": [
        "## **실패율**\n",
        "슈퍼 게임 개발자 오렐리는 큰 고민에 빠졌다. 그녀가 만든 프랜즈 오천성이 대성공을 거뒀지만, 요즘 신규 사용자의 수가 급감한 것이다. 원인은 신규 사용자와 기존 사용자 사이에 스테이지 차이가 너무 큰 것이 문제였다.\n",
        "\n",
        "이 문제를 어떻게 할까 고민 한 그녀는 동적으로 게임 시간을 늘려서 난이도를 조절하기로 했다. 역시 슈퍼 개발자라 대부분의 로직은 쉽게 구현했지만, 실패율을 구하는 부분에서 위기에 빠지고 말았다. 오렐리를 위해 실패율을 구하는 코드를 완성하라.\n",
        "* 실패율은 다음과 같이 정의한다.<br>\n",
        "스테이지에 도달했으나 아직 클러어하지 못한 플레이어의 수 / 스테이지에 도달한 플레이어 수\n",
        "\n",
        "전체 스테이지의 개수 N, 게임을 이용하는 사용자가 현재 멈춰있는 스테이지의 번호가 담긴 배열 stages가 매개변수로 주어질 때, 실패율이 높은 스테이지부터 내림차순으로 스테이지의 번호가 담겨있는 배열을 return 하도록 solution함수를 완성하라.\n",
        "* 스테이지의 개수 N은 1 이상 500 이하의 자연수이다.\n",
        "* stages의 길이는 1 이상 200,000 이하이다.\n",
        "* stages에는 1 이상 N+1 이하의 자연수가 담겨있다.<br>\n",
        "각 자연수는 사용자가 현재 도전 중인 스테이지 번호를 나타낸다.<br>\n",
        "단, N+1은 마지막 스테이지 (N번째 스테이지)까지 클리어 한 사용자를 나타낸다.\n",
        "* 만약 실패율이 같은 스테이지가 있다면 작은 번호의 스테이지가 먼저 오도록 하면 된다.\n",
        "* 스테이지에 도달한 유저가 없는 경우 해당 스테이지의 실패율은 0 으로 정의한다."
      ],
      "metadata": {
        "id": "Ic5AAdzFO7VU"
      }
    },
    {
      "cell_type": "code",
      "source": [
        "## 풀이 1\n",
        "## 정확성 70.4 / 100\n",
        "## 런타임 에러\n",
        "N = 4\n",
        "stages = [4,4,4,4,4]\n",
        "def solution(N, stages):\n",
        "    cnt = len(stages)\n",
        "    s = []\n",
        "    for stage in range(1,N+1):\n",
        "        fail = stages.count(stage)/cnt\n",
        "        if fail > 0:\n",
        "            s.append(fail)\n",
        "            cnt -= stages.count(stage)\n",
        "        else:\n",
        "            s.append(fail)\n",
        "    a = sorted(s, reverse=True)\n",
        "    answer = []\n",
        "    for i in range(len(a)):\n",
        "        answer.append(s.index(a[i])+1)\n",
        "        s[s.index(a[i])] = 2\n",
        "    return answer\n",
        "solution(N, stages)"
      ],
      "metadata": {
        "colab": {
          "base_uri": "https://localhost:8080/"
        },
        "id": "qXtF5xjXU7fu",
        "outputId": "dbf8f780-2b39-422e-ad73-10e73f7df699"
      },
      "execution_count": 69,
      "outputs": [
        {
          "output_type": "execute_result",
          "data": {
            "text/plain": [
              "[4, 1, 2, 3]"
            ]
          },
          "metadata": {},
          "execution_count": 69
        }
      ]
    },
    {
      "cell_type": "code",
      "source": [
        "## 풀이 2\n",
        "## 딕셔너리 사용\n",
        "## 런타임에러 방지를 위해 for문 줄이기\n",
        "## 정확성 100 / 100\n",
        "N = 4\n",
        "stages = [4,4,4,4]\n",
        "def solution2(N, stages):\n",
        "    answer = {} # answer라는 딕셔너리의 key값엔 스테이지, value값엔 실패율이 들어감\n",
        "    cnt = len(stages)\n",
        "    for stage in range(1,N+1):\n",
        "        if cnt != 0:\n",
        "            answer[stage] = stages.count(stage)/cnt\n",
        "            cnt -= stages.count(stage)\n",
        "        else:\n",
        "            answer[stage] = 0\n",
        "    return sorted(answer, key=lambda x:answer[x],reverse=True) # value값을 내림차순 한 뒤, value값 기준으로 key값 return\n",
        "solution(N,stages)"
      ],
      "metadata": {
        "colab": {
          "base_uri": "https://localhost:8080/"
        },
        "id": "eyIKOHU_YBb5",
        "outputId": "871e4f75-241e-41ed-b5c9-a0d1fd8f22b6"
      },
      "execution_count": 70,
      "outputs": [
        {
          "output_type": "execute_result",
          "data": {
            "text/plain": [
              "[4, 1, 2, 3]"
            ]
          },
          "metadata": {},
          "execution_count": 70
        }
      ]
    },
    {
      "cell_type": "code",
      "source": [],
      "metadata": {
        "id": "ZtBZb5kkZsAT"
      },
      "execution_count": null,
      "outputs": []
    }
  ]
}