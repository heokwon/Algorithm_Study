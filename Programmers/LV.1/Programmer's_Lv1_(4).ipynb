{
  "nbformat": 4,
  "nbformat_minor": 0,
  "metadata": {
    "colab": {
      "provenance": [],
      "toc_visible": true,
      "authorship_tag": "ABX9TyM9DXe+hAtreprKo5PRs58w",
      "include_colab_link": true
    },
    "kernelspec": {
      "name": "python3",
      "display_name": "Python 3"
    },
    "language_info": {
      "name": "python"
    }
  },
  "cells": [
    {
      "cell_type": "markdown",
      "metadata": {
        "id": "view-in-github",
        "colab_type": "text"
      },
      "source": [
        "<a href=\"https://colab.research.google.com/github/heokwon/Algorithm_Study/blob/main/Programmers/LV.1/Programmer's_Lv1_(4).ipynb\" target=\"_parent\"><img src=\"https://colab.research.google.com/assets/colab-badge.svg\" alt=\"Open In Colab\"/></a>"
      ]
    },
    {
      "cell_type": "markdown",
      "source": [
        "## **모의고사**\n",
        "수포자는 수학을 포기한 사람의 준말입니다. 수포자 삼인방은 모의고사에 수학 문제를 전부 찍으려 합니다. 수포자는 1번 문제부터 마지막 문제까지 다음과 같이 찍습니다.\n",
        "* 1번 수포자가 찍는 방식 : 1,2,3,4,5,1,2,3,4,5,...\n",
        "* 2번 수포자가 찍는 방식 : 2,1,2,3,2,4,2,5,2,1,2,3,2,4,2,5,...\n",
        "* 3번 수포자가 찍는 방식 : 3,3,1,1,2,2,4,4,5,5,3,3,1,1,2,2,4,4,5,5,...\n",
        "\n",
        "1번 문제부터 마지막 문제까지의 정답이 순서대로 들은 배열 answer가 주어졌을 때, 가장 많은 문제를 맞힌 사람이 누구인지 배열에 담아 return하도록 solution 함수를 작성해주세요.\n",
        "* 시험은 최대 10,000문제로 구성되어있습니다.\n",
        "* 문제의 정답은 1,2,3,4,5 중 하나입니다.\n",
        "* 가장 높은 점수를 받은 사람이 여럿일 경우, return하는 값을 오름차순 정렬해주세요."
      ],
      "metadata": {
        "id": "-yCNuB4lFdWP"
      }
    },
    {
      "cell_type": "code",
      "execution_count": 7,
      "metadata": {
        "colab": {
          "base_uri": "https://localhost:8080/"
        },
        "id": "AKzXqCodL0-I",
        "outputId": "0a915241-ff42-449c-e911-b47e3b4c02dc"
      },
      "outputs": [
        {
          "output_type": "execute_result",
          "data": {
            "text/plain": [
              "[1]"
            ]
          },
          "metadata": {},
          "execution_count": 7
        }
      ],
      "source": [
        "answers = [1,2,3,4,5]\n",
        "def solution(answers):\n",
        "    a = [1,2,3,4,5]\n",
        "    b = [2,1,2,3,2,4,2,5]\n",
        "    c = [3,3,1,1,2,2,4,4,5,5]\n",
        "    cnt1,cnt2,cnt3 = 0,0,0\n",
        "    for i in range(len(answers)):\n",
        "        a1 = i%len(a)\n",
        "        b1 = i%len(b)\n",
        "        c1 = i%len(c)\n",
        "\n",
        "        if a[a1] == answers[i]:\n",
        "            cnt1 += 1\n",
        "        if b[b1] == answers[i]:\n",
        "            cnt2 += 1\n",
        "        if c[c1] == answers[i]:\n",
        "            cnt3 += 1\n",
        "    winner = max(cnt1,cnt2,cnt3)\n",
        "    answer = []\n",
        "    if winner == cnt1:\n",
        "        answer.append(1)\n",
        "    if winner == cnt2:\n",
        "        answer.append(2)\n",
        "    if winner == cnt3:\n",
        "        answer.append(3)\n",
        "    return answer\n",
        "solution(answers)"
      ]
    },
    {
      "cell_type": "code",
      "source": [
        "## 더 간단하게\n",
        "def solution2(answers):\n",
        "    a = [1,2,3,4,5]\n",
        "    b = [2,1,2,3,2,4,2,5]\n",
        "    c = [3,3,1,1,2,2,4,4,5,5]\n",
        "    cnt = [0,0,0]\n",
        "    answer = []\n",
        "    for idx, x in enumerate(answers):\n",
        "        if x == a[idx%len(a)]:\n",
        "            cnt[0] += 1\n",
        "        if x == b[idx%len(b)]:\n",
        "            cnt[1] += 1\n",
        "        if x == c[idx%len(c)]:\n",
        "            cnt[2] += 1\n",
        "    for idx, c in enumerate(cnt):\n",
        "        if c == max(cnt):\n",
        "            answer.append(idx+1)\n",
        "    return answer\n",
        "solution2(answers)"
      ],
      "metadata": {
        "colab": {
          "base_uri": "https://localhost:8080/"
        },
        "id": "lVn2m47xIEDm",
        "outputId": "1bb9d01e-980d-4e3a-8385-45197200da0a"
      },
      "execution_count": 9,
      "outputs": [
        {
          "output_type": "execute_result",
          "data": {
            "text/plain": [
              "[1]"
            ]
          },
          "metadata": {},
          "execution_count": 9
        }
      ]
    },
    {
      "cell_type": "markdown",
      "source": [
        "## **소수만들기**\n",
        "주어진 숫자 중 3개의 수를 더했을 때 소수가 되는 경우의 개수를 구하려고 합니다. 숫자들이 들어있는 배열 nums가 매개변수로 주어질 때, nums에 있는 숫자들 중 서로 다른 3개를 골라 더했을 때 소수가 되는 경우의 개수를 return하도록 solution함수를 완성해주세요.\n",
        "* nums에 들어있는 숫자의 개수는 3개 이상 50개 이하입니다.\n",
        "* nums의 각 원소는 1 이상 1,000 이하의 자연수이며, 중복된 숫자가 들어있지 않습니다."
      ],
      "metadata": {
        "id": "PpLZmGf0MHhD"
      }
    },
    {
      "cell_type": "code",
      "source": [
        "nums = [1,2,3,4]\n",
        "from itertools import combinations\n",
        "cnt = 0\n",
        "for comb in list(combinations(nums,3)):\n",
        "    print(sum(comb))\n",
        "    for i in range(2,sum(comb)):\n",
        "        if sum(comb) % i == 0:\n",
        "            break\n",
        "    else:\n",
        "        cnt += 1\n",
        "cnt"
      ],
      "metadata": {
        "colab": {
          "base_uri": "https://localhost:8080/"
        },
        "id": "buyQ6G19LdTI",
        "outputId": "614b2680-989e-48d1-c5a6-5489e05913bc"
      },
      "execution_count": 23,
      "outputs": [
        {
          "output_type": "stream",
          "name": "stdout",
          "text": [
            "6\n",
            "7\n",
            "8\n",
            "9\n"
          ]
        },
        {
          "output_type": "execute_result",
          "data": {
            "text/plain": [
              "1"
            ]
          },
          "metadata": {},
          "execution_count": 23
        }
      ]
    },
    {
      "cell_type": "code",
      "source": [
        "## 정답\n",
        "from itertools import combinations\n",
        "nums = [1,2,7,6,4]\n",
        "def solution(nums):\n",
        "    cnt = 0\n",
        "    for comb in list(combinations(nums,3)):\n",
        "        for i in range(2,sum(comb)):\n",
        "            if sum(comb) % i == 0:\n",
        "                break\n",
        "        else:\n",
        "            cnt += 1\n",
        "    return cnt\n",
        "solution(nums)"
      ],
      "metadata": {
        "colab": {
          "base_uri": "https://localhost:8080/"
        },
        "id": "ahmlABHpNjnd",
        "outputId": "a6abd10e-858b-40ee-cbfb-9b1bb0985f85"
      },
      "execution_count": 22,
      "outputs": [
        {
          "output_type": "execute_result",
          "data": {
            "text/plain": [
              "4"
            ]
          },
          "metadata": {},
          "execution_count": 22
        }
      ]
    },
    {
      "cell_type": "markdown",
      "source": [
        "## **실패율**\n",
        "슈퍼 게임 개발자 오렐리는 큰 고민에 빠졌다. 그녀가 만든 프랜즈 오천성이 대성공을 거뒀지만, 요즘 신규 사용자의 수가 급감한 것이다. 원인은 신규 사용자와 기존 사용자 사이에 스테이지 차이가 너무 큰 것이 문제였다.\n",
        "\n",
        "이 문제를 어떻게 할까 고민 한 그녀는 동적으로 게임 시간을 늘려서 난이도를 조절하기로 했다. 역시 슈퍼 개발자라 대부분의 로직은 쉽게 구현했지만, 실패율을 구하는 부분에서 위기에 빠지고 말았다. 오렐리를 위해 실패율을 구하는 코드를 완성하라.\n",
        "* 실패율은 다음과 같이 정의한다.<br>\n",
        " + 스테이지에 도달했으나 아직 클러어하지 못한 플레이어의 수 / 스테이지에 도달한 플레이어 수\n",
        "\n",
        "전체 스테이지의 개수 N, 게임을 이용하는 사용자가 현재 멈춰있는 스테이지의 번호가 담긴 배열 stages가 매개변수로 주어질 때, 실패율이 높은 스테이지부터 내림차순으로 스테이지의 번호가 담겨있는 배열을 return 하도록 solution함수를 완성하라.\n",
        "* 스테이지의 개수 N은 1 이상 500 이하의 자연수이다.\n",
        "* stages의 길이는 1 이상 200,000 이하이다.\n",
        "* stages에는 1 이상 N+1 이하의 자연수가 담겨있다.<br>\n",
        " + 각 자연수는 사용자가 현재 도전 중인 스테이지 번호를 나타낸다.<br>\n",
        " + 단, N+1은 마지막 스테이지 (N번째 스테이지)까지 클리어 한 사용자를 나타낸다.\n",
        "* 만약 실패율이 같은 스테이지가 있다면 작은 번호의 스테이지가 먼저 오도록 하면 된다.\n",
        "* 스테이지에 도달한 유저가 없는 경우 해당 스테이지의 실패율은 0 으로 정의한다."
      ],
      "metadata": {
        "id": "Ic5AAdzFO7VU"
      }
    },
    {
      "cell_type": "code",
      "source": [
        "## 풀이 1\n",
        "## 정확성 70.4 / 100\n",
        "## 런타임 에러\n",
        "N = 4\n",
        "stages = [4,4,4,4,4]\n",
        "def solution(N, stages):\n",
        "    cnt = len(stages)\n",
        "    s = []\n",
        "    for stage in range(1,N+1):\n",
        "        fail = stages.count(stage)/cnt\n",
        "        if fail > 0:\n",
        "            s.append(fail)\n",
        "            cnt -= stages.count(stage)\n",
        "        else:\n",
        "            s.append(fail)\n",
        "    a = sorted(s, reverse=True)\n",
        "    answer = []\n",
        "    for i in range(len(a)):\n",
        "        answer.append(s.index(a[i])+1)\n",
        "        s[s.index(a[i])] = 2\n",
        "    return answer\n",
        "solution(N, stages)"
      ],
      "metadata": {
        "colab": {
          "base_uri": "https://localhost:8080/"
        },
        "id": "qXtF5xjXU7fu",
        "outputId": "dbf8f780-2b39-422e-ad73-10e73f7df699"
      },
      "execution_count": 69,
      "outputs": [
        {
          "output_type": "execute_result",
          "data": {
            "text/plain": [
              "[4, 1, 2, 3]"
            ]
          },
          "metadata": {},
          "execution_count": 69
        }
      ]
    },
    {
      "cell_type": "code",
      "source": [
        "## 풀이 2\n",
        "## 딕셔너리 사용\n",
        "## 런타임에러 방지를 위해 for문 줄이기\n",
        "## 정확성 100 / 100\n",
        "N = 4\n",
        "stages = [4,4,4,4]\n",
        "def solution2(N, stages):\n",
        "    answer = {} # answer라는 딕셔너리의 key값엔 스테이지, value값엔 실패율이 들어감\n",
        "    cnt = len(stages)\n",
        "    for stage in range(1,N+1):\n",
        "        if cnt != 0:\n",
        "            answer[stage] = stages.count(stage)/cnt\n",
        "            cnt -= stages.count(stage)\n",
        "        else:\n",
        "            answer[stage] = 0\n",
        "    return sorted(answer, key=lambda x:answer[x],reverse=True) # value값을 내림차순 한 뒤, value값 기준으로 key값 return\n",
        "solution(N,stages)"
      ],
      "metadata": {
        "colab": {
          "base_uri": "https://localhost:8080/"
        },
        "id": "eyIKOHU_YBb5",
        "outputId": "871e4f75-241e-41ed-b5c9-a0d1fd8f22b6"
      },
      "execution_count": 70,
      "outputs": [
        {
          "output_type": "execute_result",
          "data": {
            "text/plain": [
              "[4, 1, 2, 3]"
            ]
          },
          "metadata": {},
          "execution_count": 70
        }
      ]
    },
    {
      "cell_type": "markdown",
      "source": [
        "## **다트게임**\n",
        "카카오톡 게임별의 하반기 신규 서비스로 다트게임을 출시하기로 했다. 다트게임은 다트판에 다트를 세 차례 던져 그 점수의 합계로 실력을 겨루는 게임으로, 모두가 간단히 즐길 수 있다. 갓 입사한 무지는 코딩 실력을 인정받아 게임의 핵심 부분인 점수 계산 로직을 맡게 되었다. 다트 게임의 점수 계산 로직은 아래와 같다.\n",
        "1. 다트 게임은 총 3번의 기회로 구성된다.\n",
        "2. 각 기회마다 얻을 수 있는 점수는 0점에서 10점까지이다.\n",
        "3. 점수와 함께 Single(S), Double(D), Triple(T) 영역이 존재하고 각 영역 당첨 시 점수에서 1제곱, 2제곱, 3제곱 (점수1 , 점수2 , 점수3 )으로 계산된다.\n",
        "4. 옵션으로 스타상(*) , 아차상(#)이 존재하며 스타상(*) 당첨 시 해당 점수와 바로 전에 얻은 점수를 각 2배로 만든다. 아차상(#) 당첨 시 해당 점수는 마이너스된다.\n",
        "5. 스타상(*)은 첫 번째 기회에서도 나올 수 있다. 이 경우 첫 번째 스타상(*)의 점수만 2배가 된다. (예제 4번 참고)\n",
        "6. 스타상(*)의 효과는 다른 스타상(*)의 효과와 중첩될 수 있다. 이 경우 중첩된 스타상(*) 점수는 4배가 된다. (예제 4번 참고)\n",
        "7. 스타상(*)의 효과는 아차상(#)의 효과와 중첩될 수 있다. 이 경우 중첩된 아차상(#)의 점수는 -2배가 된다. (예제 5번 참고)\n",
        "8. Single(S), Double(D), Triple(T)은 점수마다 하나씩 존재한다.\n",
        "9. 스타상(*), 아차상(#)은 점수마다 둘 중 하나만 존재할 수 있으며, 존재하지 않을 수도 있다.\n",
        "\n",
        "0 ~ 10 의 정수와 문자 S,D,T,*,# 로 구성된 문자열이 입력될 시 총점수를 반환하는 함수를 작성하라."
      ],
      "metadata": {
        "id": "lvk5I72mcmqT"
      }
    },
    {
      "cell_type": "code",
      "source": [
        "dartResult = '1S2D*3T'\n",
        "def solution(dartResult):\n",
        "    score = []\n",
        "    dartResult = dartResult.replace('10','A')\n",
        "    bonus = {'S':1,'D':2,'T':3}\n",
        "\n",
        "    for i in dartResult:\n",
        "        if i.isdigit() or i == 'A':\n",
        "            score.append(10 if i == 'A' else int(i))\n",
        "        elif i in ('S','D','T'):\n",
        "            num = score.pop()\n",
        "            score.append(num ** bonus[i])\n",
        "        elif i == '#': \n",
        "            score[-1] *= -1\n",
        "        elif i == '*':\n",
        "            num = score.pop()\n",
        "            if len(score):\n",
        "                score[-1] *= 2\n",
        "            score.append(2 * num)\n",
        "    return sum(score)\n",
        "solution(dartResult)"
      ],
      "metadata": {
        "colab": {
          "base_uri": "https://localhost:8080/"
        },
        "id": "ZtBZb5kkZsAT",
        "outputId": "28120441-972d-44a6-ee9c-85f0db9c90b7"
      },
      "execution_count": 5,
      "outputs": [
        {
          "output_type": "execute_result",
          "data": {
            "text/plain": [
              "37"
            ]
          },
          "metadata": {},
          "execution_count": 5
        }
      ]
    },
    {
      "cell_type": "markdown",
      "source": [
        "## **50.로또의 최고 순위와 최저 순위**\n",
        "로또 6/45 (이하 '로또'로 표기)는 1부터 45까지의 숫자 중 6개를 찍어서 맞히는 대표적인 복권입니다. 아래는 로또의 순위를 정하는 방식입니다.\n",
        "\n",
        "|순위|당첨내용|\n",
        "|:----:|:--------:|\n",
        "|1|6개 번호가 모두 일치|\n",
        "|2|5개 번호가 일치|\n",
        "|3|4개 번호가 일치|\n",
        "|4|3개 번호가 일치|\n",
        "|5|2개 번호가 일치|\n",
        "|6(낙첨)|그 외|\n",
        "\n",
        "로또를 구매한 민우는 당첨 번호 발표일을 학수고대하고 있었습니다. 하지만, 민우의 동생이 로또에 낙서를 하여, 일부 번호를 알아볼 수 없게 되었습니다. 당첨 번호 발표 후, 민우는 자신이 구매했던 로또로 당첨이 가능했던 최고 순위와 최저 순위를 알아보고 싶어졌습니다. 알아볼 수 없는 번호를 0 으로 표기하기로 하고, 민우가 구매한 로또 번호 6개가 44,1,0,0,31,25 라고 가정해보겠습니다. 당첨 번호 6개가 31,10,45,1,6,19라면, 당첨 가능한 최고 순위와 최저 순위의 한 예는 아래와 같습니다.\n",
        "\n",
        "|당첨번호|31|10|45|1|\n",
        "|--------|--|--|--|-|\n",
        "|최고순위번호|31|0->10|44|1|\n",
        "|최저순위번호|31|0->11|44|1|\n",
        "\n",
        "* 순서와 상관없이, 구매한 로또에 당첨 번호와 일치하는 번호가 있으면 맞힌 걸로 인정됩니다.\n",
        "* 알아볼 수 없는 두 개의 번호를 가각 10,6 이라고 가정하면 3등에 당첨될 수 있습니다.<br>\n",
        " + 3등을 만드는 다른 방법들도 존재합니다. 하지만, 2등 이상으로는 만드는 것은 불가능합니다.\n",
        "* 알아볼 수 없는 두 개의 번호를 각각 11,7이라고 가정하면 5등에 당첨될 수 잇습니다.<br>\n",
        " + 5등을 만드는 다른 방법들도 존재합니다. 하지만, 6등(낙첨)으로 만드는 것은 불가능합니다.\n",
        "\n",
        "민우가 구매한 로또 번호를 담은 배열이 lottos, 당첨 번호를 담은 배열 win_nums가 매개변수로 주어집니다. 이때, 당첨 가능한 최고 순위와 최저 순위를 차례대로 배열에 담아서 return하도록 solution함수를 완성해 주세요.\n",
        "* lottos는 길이 6인 정수 배열입니다.\n",
        "* lottos의 모든 원소는 0 이상 45 이하인 정수입니다.<br>\n",
        " + 0은 알아볼 수 없는 숫자를 의미합니다.<br>\n",
        " + 0을 제외한 다른 숫자들은 lottos에 2개 이상 담겨있지 않습니다.<br>\n",
        " + lottos의 원소들은 정렬되어 있지 않을 수도 있습니다.\n",
        "* win_nums은 길이 6인 정수 배열입니다.\n",
        "* win_nums의 모든 원소는 1 이상 45 이하인 정수입니다.<br>\n",
        " + win_nums에는 같은 숫자가 2개 이상 담겨있지 않습니다.<br>\n",
        " + win_nums의 원소들은 정렬되어 있지 않을 수도 있습니다. "
      ],
      "metadata": {
        "id": "c2kWxLCvOfp-"
      }
    },
    {
      "cell_type": "code",
      "source": [
        "lottos = [44, 1, 0, 0, 31, 25]\n",
        "win_nums = [31, 10, 45, 1, 6, 19]\n",
        "def solution(lottos, win_nums):\n",
        "    cnt_corr = 0\n",
        "    cnt_zero = 0\n",
        "    for i in range(len(lottos)):\n",
        "        if lottos[i] in win_nums:\n",
        "            cnt_corr += 1\n",
        "        if lottos[i] == 0:\n",
        "            cnt_zero += 1\n",
        "    total = cnt_corr + cnt_zero\n",
        "    rank = {6:1,5:2,4:3,3:4,2:5,1:6,0:6}\n",
        "    answer = [rank[total],rank[cnt_corr]]\n",
        "    return answer\n",
        "solution(lottos, win_nums)"
      ],
      "metadata": {
        "colab": {
          "base_uri": "https://localhost:8080/"
        },
        "id": "PNi8dFa1LB74",
        "outputId": "377b23c8-8dcc-49c8-e3cb-9b27b7fe76e7"
      },
      "execution_count": 6,
      "outputs": [
        {
          "output_type": "execute_result",
          "data": {
            "text/plain": [
              "[3, 5]"
            ]
          },
          "metadata": {},
          "execution_count": 6
        }
      ]
    },
    {
      "cell_type": "code",
      "source": [
        "## 더 간단히\n",
        "def solution2(lottos, win_nums):\n",
        "    rank = [6,6,5,4,3,2,1]\n",
        "    cnt_zero = lottos.count(0)\n",
        "    answer = 0\n",
        "    for i in win_nums:\n",
        "        if i in lottos:\n",
        "            answer += 1\n",
        "    return rank[cnt_zero + answer],rank[answer]\n",
        "solution2(lottos, win_nums)"
      ],
      "metadata": {
        "colab": {
          "base_uri": "https://localhost:8080/"
        },
        "id": "c2Ou535CT81e",
        "outputId": "43c88199-6bc4-42d8-f322-9f27d83a3064"
      },
      "execution_count": 7,
      "outputs": [
        {
          "output_type": "execute_result",
          "data": {
            "text/plain": [
              "(3, 5)"
            ]
          },
          "metadata": {},
          "execution_count": 7
        }
      ]
    },
    {
      "cell_type": "markdown",
      "source": [
        "## **체육복**\n",
        "점심시간에 도둑이 들어, 일부 학생이 체육복을 도난당했습니다. 다행히 여벌 채육복이 있는 학생이 이들에게 체육복을 빌려주려 합니다. 학생들의 번호는 체격 순으로 매겨져 있어, 바로 앞번호의 학생이나 바로 뒷번호의 학생에게만 체육복을 빌려줄 수 있습니다. 예를 들어, 4번 학생은 3번 학생이나 5번 학생에게만 체육복을 빌려줄 수 있습니다. 체육복이 없으면 수업을 들을 수 없기 때문에 체육복을 적절히 빌려 최대한 많은 학생이 체육수업을 들어야 합니다.\n",
        "\n",
        "전체 학생의 수 n, 체육복을 도난당한 학생들의 번호가 담긴 배열 lost, 여벌의 체육복을 가져온 학생들의 번호가 담긴 배열 reserve가 매개변수로 주어질 때, 체육수업을 들을 수 있는 학생의 최댓값을 return하도록 solution 함수를 작성해 주세요.\n",
        "* 전체 학생의 수는 2명 이상 30명 이하 입니다.\n",
        "* 체육복을 도난당한 학생의 수는 1명 이상 n명 이하이고 중복되는 번호는 없습니다.\n",
        "* 여벌의 체육복을 가져온 학생의 수는 1명 이상 n명 이하이고 중복되는 번호는 없습니다.\n",
        "* 여벌 체육복이 있는 학생만 다른 학생에게 체육복을 빌려줄 수 있습니다.\n",
        "* 여벌 체육복을 가져온 학생이 체육복을 도난당했을 수도 있습니다. 이때 이 학생은 체육복을 하나만 도난당했다고 가정하며, 남은 체육복이 하나이기에 다른 학생에게는 체육복을 빌려줄 수 없습니다."
      ],
      "metadata": {
        "id": "EmEBPzoYVnmv"
      }
    },
    {
      "cell_type": "code",
      "source": [
        "## 중복이 없다.\n",
        "## \"여벌의 체육복이 있는 학생도 도난 당했을 수도 있다.\"\n",
        "## lost와 reserve에 중복 제거 -> set()\n",
        "n = 5\n",
        "lost = [2, 4]\n",
        "reserve = [3]\n",
        "\n",
        "set_reserve = set(reserve)-set(lost)\n",
        "set_lost = set(lost)-set(reserve)\n",
        "for i in set_reserve:\n",
        "    if i-1 in set_lost:\n",
        "        set_lost.remove(i-1)\n",
        "    elif i+1 in set_lost:\n",
        "        set_lost.remove(i+1)\n",
        "n-len(set_lost)"
      ],
      "metadata": {
        "colab": {
          "base_uri": "https://localhost:8080/"
        },
        "id": "EDB9RajHXijy",
        "outputId": "d17c101a-dc1d-4cc4-c246-9d724ce909ef"
      },
      "execution_count": 24,
      "outputs": [
        {
          "output_type": "execute_result",
          "data": {
            "text/plain": [
              "4"
            ]
          },
          "metadata": {},
          "execution_count": 24
        }
      ]
    },
    {
      "cell_type": "code",
      "source": [
        "## 답안\n",
        "def solution(n, lost, reserve):\n",
        "    set_re = set(reserve) - set(lost)\n",
        "    set_lost = set(lost) - set(reserve)\n",
        "    for i in set_re:\n",
        "        if i-1 in set_lost:\n",
        "            set_lost.remove(i-1)\n",
        "        elif i+1 in set_lost:\n",
        "            set_lost.remove(i+1)\n",
        "    return n - len(set_lost)\n",
        "solution(n,lost,reserve)"
      ],
      "metadata": {
        "colab": {
          "base_uri": "https://localhost:8080/"
        },
        "id": "Gimm2HrAaZrJ",
        "outputId": "d5e35091-6b59-4581-80f8-284a94771ed2"
      },
      "execution_count": 25,
      "outputs": [
        {
          "output_type": "execute_result",
          "data": {
            "text/plain": [
              "4"
            ]
          },
          "metadata": {},
          "execution_count": 25
        }
      ]
    },
    {
      "cell_type": "markdown",
      "source": [
        "## **완주하지 못한 선수**\n",
        "수많은 마라톤 선수들이 마라톤에 참여하였습니다. 단 한 명의 선수를 제외하고는 모든 선수가 마라톤을 완주하였습니다. 마라톤에 참여한 선수들의 이름이 담긴 배열 participant와 완주한 선수들의 이름이 담긴 배열 completion이 주어질 때, 완주하지 못한 선수의 이름을 return하도록 solution함수를 작성해주세요.\n",
        "* 마라톤 경기에 참여한 선수의 수는 1명 이상 100,000명 이하입니다.\n",
        "* completion의 길이는 participant의 길이보다 1작습니다.\n",
        "* 참가자의 이름은 1개 이상 20개 이하의 알파벳 소문자로 이루어져 있습니다.\n",
        "* 참가자 중에는 동명이인이 있을 수 있습니다."
      ],
      "metadata": {
        "id": "x0MITkCecirb"
      }
    },
    {
      "cell_type": "code",
      "source": [
        "participant = [\"mislav\", \"stanko\", \"mislav\", \"ana\"]\n",
        "completion = [\"stanko\", \"ana\", \"mislav\"]\n",
        "for i in completion:\n",
        "    if i in participant:\n",
        "        participant.remove(i)\n",
        "participant"
      ],
      "metadata": {
        "colab": {
          "base_uri": "https://localhost:8080/"
        },
        "id": "NOvdTVnRcgqo",
        "outputId": "73e4cac9-05aa-41cc-c7da-45239bd24881"
      },
      "execution_count": 31,
      "outputs": [
        {
          "output_type": "execute_result",
          "data": {
            "text/plain": [
              "['mislav']"
            ]
          },
          "metadata": {},
          "execution_count": 31
        }
      ]
    },
    {
      "cell_type": "code",
      "source": [
        "## 풀이1\n",
        "## 정확성테스트 100\n",
        "## 효율성테스트에서 탈락\n",
        "def solution(participant, completion):\n",
        "    for i in completion:\n",
        "        if i in participant:\n",
        "            participant.remove(i)\n",
        "    return ''.join(participant)\n",
        "\n",
        "## 풀이2\n",
        "## 정확성, 효율성 통과\n",
        "def solution2(participant, completion):\n",
        "    participant.sort()\n",
        "    completion.sort()\n",
        "    for i,j in zip(participant, completion):\n",
        "        if i != j:\n",
        "            return i\n",
        "    return participant[-1]\n",
        "solution2(participant, completion)"
      ],
      "metadata": {
        "colab": {
          "base_uri": "https://localhost:8080/",
          "height": 35
        },
        "id": "9ypaFkCzjOdG",
        "outputId": "2b1f5268-dbd2-4ea6-86d4-a06ff3f7e5b3"
      },
      "execution_count": 33,
      "outputs": [
        {
          "output_type": "execute_result",
          "data": {
            "text/plain": [
              "'mislav'"
            ],
            "application/vnd.google.colaboratory.intrinsic+json": {
              "type": "string"
            }
          },
          "metadata": {},
          "execution_count": 33
        }
      ]
    },
    {
      "cell_type": "code",
      "source": [],
      "metadata": {
        "id": "kR3MjIlnmP1F"
      },
      "execution_count": null,
      "outputs": []
    }
  ]
}