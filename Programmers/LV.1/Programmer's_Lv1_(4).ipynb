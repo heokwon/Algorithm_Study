{
  "nbformat": 4,
  "nbformat_minor": 0,
  "metadata": {
    "colab": {
      "provenance": [],
      "collapsed_sections": [],
      "authorship_tag": "ABX9TyMXvQqft7TqeKOk0AU3aeSr",
      "include_colab_link": true
    },
    "kernelspec": {
      "name": "python3",
      "display_name": "Python 3"
    },
    "language_info": {
      "name": "python"
    }
  },
  "cells": [
    {
      "cell_type": "markdown",
      "metadata": {
        "id": "view-in-github",
        "colab_type": "text"
      },
      "source": [
        "<a href=\"https://colab.research.google.com/github/heokwon/Algorithm_Study/blob/main/Programmers/LV.1/Programmer's_Lv1_(4).ipynb\" target=\"_parent\"><img src=\"https://colab.research.google.com/assets/colab-badge.svg\" alt=\"Open In Colab\"/></a>"
      ]
    },
    {
      "cell_type": "markdown",
      "source": [
        "## **모의고사**\n",
        "수포자는 수학을 포기한 사람의 준말입니다. 수포자 삼인방은 모의고사에 수학 문제를 전부 찍으려 합니다. 수포자는 1번 문제부터 마지막 문제까지 다음과 같이 찍습니다.\n",
        "* 1번 수포자가 찍는 방식 : 1,2,3,4,5,1,2,3,4,5,...\n",
        "* 2번 수포자가 찍는 방식 : 2,1,2,3,2,4,2,5,2,1,2,3,2,4,2,5,...\n",
        "* 3번 수포자가 찍는 방식 : 3,3,1,1,2,2,4,4,5,5,3,3,1,1,2,2,4,4,5,5,...\n",
        "\n",
        "1번 문제부터 마지막 문제까지의 정답이 순서대로 들은 배열 answer가 주어졌을 때, 가장 많은 문제를 맞힌 사람이 누구인지 배열에 담아 return하도록 solution 함수를 작성해주세요.\n",
        "* 시험은 최대 10,000문제로 구성되어있습니다.\n",
        "* 문제의 정답은 1,2,3,4,5 중 하나입니다.\n",
        "* 가장 높은 점수를 받은 사람이 여럿일 경우, return하는 값을 오름차순 정렬해주세요."
      ],
      "metadata": {
        "id": "-yCNuB4lFdWP"
      }
    },
    {
      "cell_type": "code",
      "execution_count": 7,
      "metadata": {
        "colab": {
          "base_uri": "https://localhost:8080/"
        },
        "id": "AKzXqCodL0-I",
        "outputId": "0a915241-ff42-449c-e911-b47e3b4c02dc"
      },
      "outputs": [
        {
          "output_type": "execute_result",
          "data": {
            "text/plain": [
              "[1]"
            ]
          },
          "metadata": {},
          "execution_count": 7
        }
      ],
      "source": [
        "answers = [1,2,3,4,5]\n",
        "def solution(answers):\n",
        "    a = [1,2,3,4,5]\n",
        "    b = [2,1,2,3,2,4,2,5]\n",
        "    c = [3,3,1,1,2,2,4,4,5,5]\n",
        "    cnt1,cnt2,cnt3 = 0,0,0\n",
        "    for i in range(len(answers)):\n",
        "        a1 = i%len(a)\n",
        "        b1 = i%len(b)\n",
        "        c1 = i%len(c)\n",
        "\n",
        "        if a[a1] == answers[i]:\n",
        "            cnt1 += 1\n",
        "        if b[b1] == answers[i]:\n",
        "            cnt2 += 1\n",
        "        if c[c1] == answers[i]:\n",
        "            cnt3 += 1\n",
        "    winner = max(cnt1,cnt2,cnt3)\n",
        "    answer = []\n",
        "    if winner == cnt1:\n",
        "        answer.append(1)\n",
        "    if winner == cnt2:\n",
        "        answer.append(2)\n",
        "    if winner == cnt3:\n",
        "        answer.append(3)\n",
        "    return answer\n",
        "solution(answers)"
      ]
    },
    {
      "cell_type": "code",
      "source": [
        "## 더 간단하게\n",
        "def solution2(answers):\n",
        "    a = [1,2,3,4,5]\n",
        "    b = [2,1,2,3,2,4,2,5]\n",
        "    c = [3,3,1,1,2,2,4,4,5,5]\n",
        "    cnt = [0,0,0]\n",
        "    answer = []\n",
        "    for idx, x in enumerate(answers):\n",
        "        if x == a[idx%len(a)]:\n",
        "            cnt[0] += 1\n",
        "        if x == b[idx%len(b)]:\n",
        "            cnt[1] += 1\n",
        "        if x == c[idx%len(c)]:\n",
        "            cnt[2] += 1\n",
        "    for idx, c in enumerate(cnt):\n",
        "        if c == max(cnt):\n",
        "            answer.append(idx+1)\n",
        "    return answer\n",
        "solution2(answers)"
      ],
      "metadata": {
        "colab": {
          "base_uri": "https://localhost:8080/"
        },
        "id": "lVn2m47xIEDm",
        "outputId": "1bb9d01e-980d-4e3a-8385-45197200da0a"
      },
      "execution_count": 9,
      "outputs": [
        {
          "output_type": "execute_result",
          "data": {
            "text/plain": [
              "[1]"
            ]
          },
          "metadata": {},
          "execution_count": 9
        }
      ]
    },
    {
      "cell_type": "markdown",
      "source": [
        "## **소수만들기**\n",
        "주어진 숫자 중 3개의 수를 더했을 때 소수가 되는 경우의 개수를 구하려고 합니다. 숫자들이 들어있는 배열 nums가 매개변수로 주어질 때, nums에 있는 숫자들 중 서로 다른 3개를 골라 더했을 때 소수가 되는 경우의 개수를 return하도록 solution함수를 완성해주세요.\n",
        "* nums에 들어있는 숫자의 개수는 3개 이상 50개 이하입니다.\n",
        "* nums의 각 원소는 1 이상 1,000 이하의 자연수이며, 중복된 숫자가 들어있지 않습니다."
      ],
      "metadata": {
        "id": "PpLZmGf0MHhD"
      }
    },
    {
      "cell_type": "code",
      "source": [
        "nums = [1,2,3,4]\n",
        "from itertools import combinations\n",
        "cnt = 0\n",
        "for comb in list(combinations(nums,3)):\n",
        "    print(sum(comb))\n",
        "    for i in range(2,sum(comb)):\n",
        "        if sum(comb) % i == 0:\n",
        "            break\n",
        "    else:\n",
        "        cnt += 1\n",
        "cnt"
      ],
      "metadata": {
        "colab": {
          "base_uri": "https://localhost:8080/"
        },
        "id": "buyQ6G19LdTI",
        "outputId": "614b2680-989e-48d1-c5a6-5489e05913bc"
      },
      "execution_count": 23,
      "outputs": [
        {
          "output_type": "stream",
          "name": "stdout",
          "text": [
            "6\n",
            "7\n",
            "8\n",
            "9\n"
          ]
        },
        {
          "output_type": "execute_result",
          "data": {
            "text/plain": [
              "1"
            ]
          },
          "metadata": {},
          "execution_count": 23
        }
      ]
    },
    {
      "cell_type": "code",
      "source": [
        "## 정답\n",
        "from itertools import combinations\n",
        "nums = [1,2,7,6,4]\n",
        "def solution(nums):\n",
        "    cnt = 0\n",
        "    for comb in list(combinations(nums,3)):\n",
        "        for i in range(2,sum(comb)):\n",
        "            if sum(comb) % i == 0:\n",
        "                break\n",
        "        else:\n",
        "            cnt += 1\n",
        "    return cnt\n",
        "solution(nums)"
      ],
      "metadata": {
        "colab": {
          "base_uri": "https://localhost:8080/"
        },
        "id": "ahmlABHpNjnd",
        "outputId": "a6abd10e-858b-40ee-cbfb-9b1bb0985f85"
      },
      "execution_count": 22,
      "outputs": [
        {
          "output_type": "execute_result",
          "data": {
            "text/plain": [
              "4"
            ]
          },
          "metadata": {},
          "execution_count": 22
        }
      ]
    },
    {
      "cell_type": "markdown",
      "source": [
        "## **실패율**\n",
        "슈퍼 게임 개발자 오렐리는 큰 고민에 빠졌다. 그녀가 만든 프랜즈 오천성이 대성공을 거뒀지만, 요즘 신규 사용자의 수가 급감한 것이다. 원인은 신규 사용자와 기존 사용자 사이에 스테이지 차이가 너무 큰 것이 문제였다.\n",
        "\n",
        "이 문제를 어떻게 할까 고민 한 그녀는 동적으로 게임 시간을 늘려서 난이도를 조절하기로 했다. 역시 슈퍼 개발자라 대부분의 로직은 쉽게 구현했지만, 실패율을 구하는 부분에서 위기에 빠지고 말았다. 오렐리를 위해 실패율을 구하는 코드를 완성하라.\n",
        "* 실패율은 다음과 같이 정의한다.<br>\n",
        " + 스테이지에 도달했으나 아직 클러어하지 못한 플레이어의 수 / 스테이지에 도달한 플레이어 수\n",
        "\n",
        "전체 스테이지의 개수 N, 게임을 이용하는 사용자가 현재 멈춰있는 스테이지의 번호가 담긴 배열 stages가 매개변수로 주어질 때, 실패율이 높은 스테이지부터 내림차순으로 스테이지의 번호가 담겨있는 배열을 return 하도록 solution함수를 완성하라.\n",
        "* 스테이지의 개수 N은 1 이상 500 이하의 자연수이다.\n",
        "* stages의 길이는 1 이상 200,000 이하이다.\n",
        "* stages에는 1 이상 N+1 이하의 자연수가 담겨있다.<br>\n",
        " + 각 자연수는 사용자가 현재 도전 중인 스테이지 번호를 나타낸다.<br>\n",
        " + 단, N+1은 마지막 스테이지 (N번째 스테이지)까지 클리어 한 사용자를 나타낸다.\n",
        "* 만약 실패율이 같은 스테이지가 있다면 작은 번호의 스테이지가 먼저 오도록 하면 된다.\n",
        "* 스테이지에 도달한 유저가 없는 경우 해당 스테이지의 실패율은 0 으로 정의한다."
      ],
      "metadata": {
        "id": "Ic5AAdzFO7VU"
      }
    },
    {
      "cell_type": "code",
      "source": [
        "## 풀이 1\n",
        "## 정확성 70.4 / 100\n",
        "## 런타임 에러\n",
        "N = 4\n",
        "stages = [4,4,4,4,4]\n",
        "def solution(N, stages):\n",
        "    cnt = len(stages)\n",
        "    s = []\n",
        "    for stage in range(1,N+1):\n",
        "        fail = stages.count(stage)/cnt\n",
        "        if fail > 0:\n",
        "            s.append(fail)\n",
        "            cnt -= stages.count(stage)\n",
        "        else:\n",
        "            s.append(fail)\n",
        "    a = sorted(s, reverse=True)\n",
        "    answer = []\n",
        "    for i in range(len(a)):\n",
        "        answer.append(s.index(a[i])+1)\n",
        "        s[s.index(a[i])] = 2\n",
        "    return answer\n",
        "solution(N, stages)"
      ],
      "metadata": {
        "colab": {
          "base_uri": "https://localhost:8080/"
        },
        "id": "qXtF5xjXU7fu",
        "outputId": "dbf8f780-2b39-422e-ad73-10e73f7df699"
      },
      "execution_count": 69,
      "outputs": [
        {
          "output_type": "execute_result",
          "data": {
            "text/plain": [
              "[4, 1, 2, 3]"
            ]
          },
          "metadata": {},
          "execution_count": 69
        }
      ]
    },
    {
      "cell_type": "code",
      "source": [
        "## 풀이 2\n",
        "## 딕셔너리 사용\n",
        "## 런타임에러 방지를 위해 for문 줄이기\n",
        "## 정확성 100 / 100\n",
        "N = 4\n",
        "stages = [4,4,4,4]\n",
        "def solution2(N, stages):\n",
        "    answer = {} # answer라는 딕셔너리의 key값엔 스테이지, value값엔 실패율이 들어감\n",
        "    cnt = len(stages)\n",
        "    for stage in range(1,N+1):\n",
        "        if cnt != 0:\n",
        "            answer[stage] = stages.count(stage)/cnt\n",
        "            cnt -= stages.count(stage)\n",
        "        else:\n",
        "            answer[stage] = 0\n",
        "    return sorted(answer, key=lambda x:answer[x],reverse=True) # value값을 내림차순 한 뒤, value값 기준으로 key값 return\n",
        "solution(N,stages)"
      ],
      "metadata": {
        "colab": {
          "base_uri": "https://localhost:8080/"
        },
        "id": "eyIKOHU_YBb5",
        "outputId": "871e4f75-241e-41ed-b5c9-a0d1fd8f22b6"
      },
      "execution_count": 70,
      "outputs": [
        {
          "output_type": "execute_result",
          "data": {
            "text/plain": [
              "[4, 1, 2, 3]"
            ]
          },
          "metadata": {},
          "execution_count": 70
        }
      ]
    },
    {
      "cell_type": "markdown",
      "source": [
        "## **다트게임**\n",
        "카카오톡 게임별의 하반기 신규 서비스로 다트게임을 출시하기로 했다. 다트게임은 다트판에 다트를 세 차례 던져 그 점수의 합계로 실력을 겨루는 게임으로, 모두가 간단히 즐길 수 있다. 갓 입사한 무지는 코딩 실력을 인정받아 게임의 핵심 부분인 점수 계산 로직을 맡게 되었다. 다트 게임의 점수 계산 로직은 아래와 같다.\n",
        "1. 다트 게임은 총 3번의 기회로 구성된다.\n",
        "2. 각 기회마다 얻을 수 있는 점수는 0점에서 10점까지이다.\n",
        "3. 점수와 함께 Single(S), Double(D), Triple(T) 영역이 존재하고 각 영역 당첨 시 점수에서 1제곱, 2제곱, 3제곱 (점수1 , 점수2 , 점수3 )으로 계산된다.\n",
        "4. 옵션으로 스타상(*) , 아차상(#)이 존재하며 스타상(*) 당첨 시 해당 점수와 바로 전에 얻은 점수를 각 2배로 만든다. 아차상(#) 당첨 시 해당 점수는 마이너스된다.\n",
        "5. 스타상(*)은 첫 번째 기회에서도 나올 수 있다. 이 경우 첫 번째 스타상(*)의 점수만 2배가 된다. (예제 4번 참고)\n",
        "6. 스타상(*)의 효과는 다른 스타상(*)의 효과와 중첩될 수 있다. 이 경우 중첩된 스타상(*) 점수는 4배가 된다. (예제 4번 참고)\n",
        "7. 스타상(*)의 효과는 아차상(#)의 효과와 중첩될 수 있다. 이 경우 중첩된 아차상(#)의 점수는 -2배가 된다. (예제 5번 참고)\n",
        "8. Single(S), Double(D), Triple(T)은 점수마다 하나씩 존재한다.\n",
        "9. 스타상(*), 아차상(#)은 점수마다 둘 중 하나만 존재할 수 있으며, 존재하지 않을 수도 있다.\n",
        "\n",
        "0 ~ 10 의 정수와 문자 S,D,T,*,# 로 구성된 문자열이 입력될 시 총점수를 반환하는 함수를 작성하라."
      ],
      "metadata": {
        "id": "lvk5I72mcmqT"
      }
    },
    {
      "cell_type": "code",
      "source": [
        "dartResult = '1S2D*3T'\n",
        "def solution(dartResult):\n",
        "    score = []\n",
        "    dartResult = dartResult.replace('10','A')\n",
        "    bonus = {'S':1,'D':2,'T':3}\n",
        "\n",
        "    for i in dartResult:\n",
        "        if i.isdigit() or i == 'A':\n",
        "            score.append(10 if i == 'A' else int(i))\n",
        "        elif i in ('S','D','T'):\n",
        "            num = score.pop()\n",
        "            score.append(num ** bonus[i])\n",
        "        elif i == '#': \n",
        "            score[-1] *= -1\n",
        "        elif i == '*':\n",
        "            num = score.pop()\n",
        "            if len(score):\n",
        "                score[-1] *= 2\n",
        "            score.append(2 * num)\n",
        "    return sum(score)\n",
        "solution(dartResult)"
      ],
      "metadata": {
        "colab": {
          "base_uri": "https://localhost:8080/"
        },
        "id": "ZtBZb5kkZsAT",
        "outputId": "28120441-972d-44a6-ee9c-85f0db9c90b7"
      },
      "execution_count": 5,
      "outputs": [
        {
          "output_type": "execute_result",
          "data": {
            "text/plain": [
              "37"
            ]
          },
          "metadata": {},
          "execution_count": 5
        }
      ]
    },
    {
      "cell_type": "markdown",
      "source": [
        "## **50.로또의 최고 순위와 최저 순위**\n",
        "로또 6/45 (이하 '로또'로 표기)는 1부터 45까지의 숫자 중 6개를 찍어서 맞히는 대표적인 복권입니다. 아래는 로또의 순위를 정하는 방식입니다.\n",
        "\n",
        "|순위|당첨내용|\n",
        "|:----:|:--------:|\n",
        "|1|6개 번호가 모두 일치|\n",
        "|2|5개 번호가 일치|\n",
        "|3|4개 번호가 일치|\n",
        "|4|3개 번호가 일치|\n",
        "|5|2개 번호가 일치|\n",
        "|6(낙첨)|그 외|\n",
        "\n",
        "로또를 구매한 민우는 당첨 번호 발표일을 학수고대하고 있었습니다. 하지만, 민우의 동생이 로또에 낙서를 하여, 일부 번호를 알아볼 수 없게 되었습니다. 당첨 번호 발표 후, 민우는 자신이 구매했던 로또로 당첨이 가능했던 최고 순위와 최저 순위를 알아보고 싶어졌습니다. 알아볼 수 없는 번호를 0 으로 표기하기로 하고, 민우가 구매한 로또 번호 6개가 44,1,0,0,31,25 라고 가정해보겠습니다. 당첨 번호 6개가 31,10,45,1,6,19라면, 당첨 가능한 최고 순위와 최저 순위의 한 예는 아래와 같습니다.\n",
        "\n",
        "|당첨번호|31|10|45|1|\n",
        "|--------|--|--|--|-|\n",
        "|최고순위번호|31|0->10|44|1|\n",
        "|최저순위번호|31|0->11|44|1|\n",
        "\n",
        "* 순서와 상관없이, 구매한 로또에 당첨 번호와 일치하는 번호가 있으면 맞힌 걸로 인정됩니다.\n",
        "* 알아볼 수 없는 두 개의 번호를 가각 10,6 이라고 가정하면 3등에 당첨될 수 있습니다.<br>\n",
        " + 3등을 만드는 다른 방법들도 존재합니다. 하지만, 2등 이상으로는 만드는 것은 불가능합니다.\n",
        "* 알아볼 수 없는 두 개의 번호를 각각 11,7이라고 가정하면 5등에 당첨될 수 잇습니다.<br>\n",
        " + 5등을 만드는 다른 방법들도 존재합니다. 하지만, 6등(낙첨)으로 만드는 것은 불가능합니다.\n",
        "\n",
        "민우가 구매한 로또 번호를 담은 배열이 lottos, 당첨 번호를 담은 배열 win_nums가 매개변수로 주어집니다. 이때, 당첨 가능한 최고 순위와 최저 순위를 차례대로 배열에 담아서 return하도록 solution함수를 완성해 주세요.\n",
        "* lottos는 길이 6인 정수 배열입니다.\n",
        "* lottos의 모든 원소는 0 이상 45 이하인 정수입니다.<br>\n",
        " + 0은 알아볼 수 없는 숫자를 의미합니다.<br>\n",
        " + 0을 제외한 다른 숫자들은 lottos에 2개 이상 담겨있지 않습니다.<br>\n",
        " + lottos의 원소들은 정렬되어 있지 않을 수도 있습니다.\n",
        "* win_nums은 길이 6인 정수 배열입니다.\n",
        "* win_nums의 모든 원소는 1 이상 45 이하인 정수입니다.<br>\n",
        " + win_nums에는 같은 숫자가 2개 이상 담겨있지 않습니다.<br>\n",
        " + win_nums의 원소들은 정렬되어 있지 않을 수도 있습니다. "
      ],
      "metadata": {
        "id": "c2kWxLCvOfp-"
      }
    },
    {
      "cell_type": "code",
      "source": [
        "lottos = [44, 1, 0, 0, 31, 25]\n",
        "win_nums = [31, 10, 45, 1, 6, 19]\n",
        "def solution(lottos, win_nums):\n",
        "    cnt_corr = 0\n",
        "    cnt_zero = 0\n",
        "    for i in range(len(lottos)):\n",
        "        if lottos[i] in win_nums:\n",
        "            cnt_corr += 1\n",
        "        if lottos[i] == 0:\n",
        "            cnt_zero += 1\n",
        "    total = cnt_corr + cnt_zero\n",
        "    rank = {6:1,5:2,4:3,3:4,2:5,1:6,0:6}\n",
        "    answer = [rank[total],rank[cnt_corr]]\n",
        "    return answer\n",
        "solution(lottos, win_nums)"
      ],
      "metadata": {
        "colab": {
          "base_uri": "https://localhost:8080/"
        },
        "id": "PNi8dFa1LB74",
        "outputId": "377b23c8-8dcc-49c8-e3cb-9b27b7fe76e7"
      },
      "execution_count": 6,
      "outputs": [
        {
          "output_type": "execute_result",
          "data": {
            "text/plain": [
              "[3, 5]"
            ]
          },
          "metadata": {},
          "execution_count": 6
        }
      ]
    },
    {
      "cell_type": "code",
      "source": [
        "## 더 간단히\n",
        "def solution2(lottos, win_nums):\n",
        "    rank = [6,6,5,4,3,2,1]\n",
        "    cnt_zero = lottos.count(0)\n",
        "    answer = 0\n",
        "    for i in win_nums:\n",
        "        if i in lottos:\n",
        "            answer += 1\n",
        "    return rank[cnt_zero + answer],rank[answer]\n",
        "solution2(lottos, win_nums)"
      ],
      "metadata": {
        "colab": {
          "base_uri": "https://localhost:8080/"
        },
        "id": "c2Ou535CT81e",
        "outputId": "43c88199-6bc4-42d8-f322-9f27d83a3064"
      },
      "execution_count": 7,
      "outputs": [
        {
          "output_type": "execute_result",
          "data": {
            "text/plain": [
              "(3, 5)"
            ]
          },
          "metadata": {},
          "execution_count": 7
        }
      ]
    },
    {
      "cell_type": "markdown",
      "source": [
        "## **체육복**\n",
        "점심시간에 도둑이 들어, 일부 학생이 체육복을 도난당했습니다. 다행히 여벌 채육복이 있는 학생이 이들에게 체육복을 빌려주려 합니다. 학생들의 번호는 체격 순으로 매겨져 있어, 바로 앞번호의 학생이나 바로 뒷번호의 학생에게만 체육복을 빌려줄 수 있습니다. 예를 들어, 4번 학생은 3번 학생이나 5번 학생에게만 체육복을 빌려줄 수 있습니다. 체육복이 없으면 수업을 들을 수 없기 때문에 체육복을 적절히 빌려 최대한 많은 학생이 체육수업을 들어야 합니다.\n",
        "\n",
        "전체 학생의 수 n, 체육복을 도난당한 학생들의 번호가 담긴 배열 lost, 여벌의 체육복을 가져온 학생들의 번호가 담긴 배열 reserve가 매개변수로 주어질 때, 체육수업을 들을 수 있는 학생의 최댓값을 return하도록 solution 함수를 작성해 주세요.\n",
        "* 전체 학생의 수는 2명 이상 30명 이하 입니다.\n",
        "* 체육복을 도난당한 학생의 수는 1명 이상 n명 이하이고 중복되는 번호는 없습니다.\n",
        "* 여벌의 체육복을 가져온 학생의 수는 1명 이상 n명 이하이고 중복되는 번호는 없습니다.\n",
        "* 여벌 체육복이 있는 학생만 다른 학생에게 체육복을 빌려줄 수 있습니다.\n",
        "* 여벌 체육복을 가져온 학생이 체육복을 도난당했을 수도 있습니다. 이때 이 학생은 체육복을 하나만 도난당했다고 가정하며, 남은 체육복이 하나이기에 다른 학생에게는 체육복을 빌려줄 수 없습니다."
      ],
      "metadata": {
        "id": "EmEBPzoYVnmv"
      }
    },
    {
      "cell_type": "code",
      "source": [
        "## 중복이 없다.\n",
        "## \"여벌의 체육복이 있는 학생도 도난 당했을 수도 있다.\"\n",
        "## lost와 reserve에 중복 제거 -> set()\n",
        "n = 5\n",
        "lost = [2, 4]\n",
        "reserve = [3]\n",
        "\n",
        "set_reserve = set(reserve)-set(lost)\n",
        "set_lost = set(lost)-set(reserve)\n",
        "for i in set_reserve:\n",
        "    if i-1 in set_lost:\n",
        "        set_lost.remove(i-1)\n",
        "    elif i+1 in set_lost:\n",
        "        set_lost.remove(i+1)\n",
        "n-len(set_lost)"
      ],
      "metadata": {
        "colab": {
          "base_uri": "https://localhost:8080/"
        },
        "id": "EDB9RajHXijy",
        "outputId": "d17c101a-dc1d-4cc4-c246-9d724ce909ef"
      },
      "execution_count": 24,
      "outputs": [
        {
          "output_type": "execute_result",
          "data": {
            "text/plain": [
              "4"
            ]
          },
          "metadata": {},
          "execution_count": 24
        }
      ]
    },
    {
      "cell_type": "code",
      "source": [
        "## 답안\n",
        "def solution(n, lost, reserve):\n",
        "    set_re = set(reserve) - set(lost)\n",
        "    set_lost = set(lost) - set(reserve)\n",
        "    for i in set_re:\n",
        "        if i-1 in set_lost:\n",
        "            set_lost.remove(i-1)\n",
        "        elif i+1 in set_lost:\n",
        "            set_lost.remove(i+1)\n",
        "    return n - len(set_lost)\n",
        "solution(n,lost,reserve)"
      ],
      "metadata": {
        "colab": {
          "base_uri": "https://localhost:8080/"
        },
        "id": "Gimm2HrAaZrJ",
        "outputId": "d5e35091-6b59-4581-80f8-284a94771ed2"
      },
      "execution_count": 25,
      "outputs": [
        {
          "output_type": "execute_result",
          "data": {
            "text/plain": [
              "4"
            ]
          },
          "metadata": {},
          "execution_count": 25
        }
      ]
    },
    {
      "cell_type": "markdown",
      "source": [
        "## **완주하지 못한 선수**\n",
        "수많은 마라톤 선수들이 마라톤에 참여하였습니다. 단 한 명의 선수를 제외하고는 모든 선수가 마라톤을 완주하였습니다. 마라톤에 참여한 선수들의 이름이 담긴 배열 participant와 완주한 선수들의 이름이 담긴 배열 completion이 주어질 때, 완주하지 못한 선수의 이름을 return하도록 solution함수를 작성해주세요.\n",
        "* 마라톤 경기에 참여한 선수의 수는 1명 이상 100,000명 이하입니다.\n",
        "* completion의 길이는 participant의 길이보다 1작습니다.\n",
        "* 참가자의 이름은 1개 이상 20개 이하의 알파벳 소문자로 이루어져 있습니다.\n",
        "* 참가자 중에는 동명이인이 있을 수 있습니다."
      ],
      "metadata": {
        "id": "x0MITkCecirb"
      }
    },
    {
      "cell_type": "code",
      "source": [
        "participant = [\"mislav\", \"stanko\", \"mislav\", \"ana\"]\n",
        "completion = [\"stanko\", \"ana\", \"mislav\"]\n",
        "for i in completion:\n",
        "    if i in participant:\n",
        "        participant.remove(i)\n",
        "participant"
      ],
      "metadata": {
        "colab": {
          "base_uri": "https://localhost:8080/"
        },
        "id": "NOvdTVnRcgqo",
        "outputId": "73e4cac9-05aa-41cc-c7da-45239bd24881"
      },
      "execution_count": 31,
      "outputs": [
        {
          "output_type": "execute_result",
          "data": {
            "text/plain": [
              "['mislav']"
            ]
          },
          "metadata": {},
          "execution_count": 31
        }
      ]
    },
    {
      "cell_type": "code",
      "source": [
        "## 풀이1\n",
        "## 정확성테스트 100\n",
        "## 효율성테스트에서 탈락\n",
        "def solution(participant, completion):\n",
        "    for i in completion:\n",
        "        if i in participant:\n",
        "            participant.remove(i)\n",
        "    return ''.join(participant)\n",
        "\n",
        "## 풀이2\n",
        "## 정확성, 효율성 통과\n",
        "def solution2(participant, completion):\n",
        "    participant.sort()\n",
        "    completion.sort()\n",
        "    for i,j in zip(participant, completion):\n",
        "        if i != j:\n",
        "            return i\n",
        "    return participant[-1]\n",
        "solution2(participant, completion)"
      ],
      "metadata": {
        "colab": {
          "base_uri": "https://localhost:8080/",
          "height": 35
        },
        "id": "9ypaFkCzjOdG",
        "outputId": "2b1f5268-dbd2-4ea6-86d4-a06ff3f7e5b3"
      },
      "execution_count": 33,
      "outputs": [
        {
          "output_type": "execute_result",
          "data": {
            "text/plain": [
              "'mislav'"
            ],
            "application/vnd.google.colaboratory.intrinsic+json": {
              "type": "string"
            }
          },
          "metadata": {},
          "execution_count": 33
        }
      ]
    },
    {
      "cell_type": "markdown",
      "source": [
        "## **콜라문제**\n",
        "오래전 유행했던 콜라 문제가 있습니다. 콜라 문제의 지문은 다음과 같습니다.\n",
        "> 정답은 아무에게도 말하지 마세요.<br>\n",
        "> 콜라 빈 병 2개를 가져다 주면 콜라 1병을 주는 마트가 있다. 빈 병 20개를 가져다 주면 몇 병을 받을 수 있는가?<br>\n",
        "> 단, 보유 중인 빈 병이 2개 미만이면, 콜라를 받을 수 없다.<br>\n",
        "\n",
        "문제를 풀던 상빈이는 콜라 문제의 완벽한 해답을 찾았습니다. 상빈이가 푼 방법은 아래 그림과 같습니다. 우선 콜라 빈 병 20개를 가져와서 10병을 받습니다. 받은 10병을 모두 마신 뒤, 가져와서 5병을 받습니다. 5병 중 4병을 모두 마신 뒤 가져가서 2병을 받고, 또 2병을 모두 마신 뒤 가져와서 1병을 받습니다. 받은 1병과 5병을 받았을 때 남은 1병을 모두 마신 뒤 가져가면 1병을 또 받을 수 있습니다. 이 경우 상빈이는 총 10 + 5 + 2 + 1 + 1 = 19병의 콜라를 받을 수 있습니다.<br>\n",
        "<br>\n",
        "![image.png](data:image/png;base64,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)<br>\n",
        "<br>\n",
        "문제를 열심히 풀던 상빈이는 일반화된 콜라 문제를 생각했습니다. 이 문제는 빈 병 a개를 가져다 주면 콜라 b병을 주는 마트가 있을 때, 빈 병 n개를 가져다 주면 몇 병을 받을 수 있는지 계산하는 문제입니다. 기존 콜라 문제와 마찬가지로, 보유중인 빈 병이 a개 미만이면, 추가적으로 빈 병을 받을 순 없습니다. 상빈이는 열심히 고심했지만, 일반화된 콜라 문제의 정답을 찾을 수 없었습니다. 상빈이를 도와, 일반화된 콜라 문제를 해결하는 프로그램을 만들어 주세요.<br>\n",
        "<br>\n",
        "콜라를 받기 위해 마트에 주어야 하는 병 수 a, 빈 병 a개를 가져다 주면 마트가 주는 콜라 병 수 b, 상빈이가 가지고 있는 빈 병의 개수 n이 매개변수로 주어집니다. 상빈이가 받을 수 있는 콜라의 병 수를 return하도록 solution함수를 작성해 주세요.\n",
        "<br>\n",
        "* 제한사항\n",
        "  + 1 ≤ b < a ≤ n ≤ 1,000,000\n",
        "  + 정답은 항상 int 범위를 넘지 않게 주어집니다."
      ],
      "metadata": {
        "id": "VMd-ELeDDqOY"
      }
    },
    {
      "cell_type": "code",
      "source": [
        "a = 2\n",
        "b = 1\n",
        "n = 20\n",
        "5 % a"
      ],
      "metadata": {
        "colab": {
          "base_uri": "https://localhost:8080/"
        },
        "id": "kR3MjIlnmP1F",
        "outputId": "222b9b99-5327-4237-c7b0-25b2a8496e20"
      },
      "execution_count": 9,
      "outputs": [
        {
          "output_type": "execute_result",
          "data": {
            "text/plain": [
              "1"
            ]
          },
          "metadata": {},
          "execution_count": 9
        }
      ]
    },
    {
      "cell_type": "code",
      "source": [
        "def solution(a,b,n):\n",
        "    answer = 0\n",
        "    while (n >= a):\n",
        "        stack = n % a\n",
        "        n = (n // a) * b\n",
        "        answer += n\n",
        "        n += stack\n",
        "    return answer\n",
        "solution(a,b,n)"
      ],
      "metadata": {
        "colab": {
          "base_uri": "https://localhost:8080/"
        },
        "id": "WvMswZr6IgEt",
        "outputId": "3865c806-34b5-4bf0-8cf9-b94cee358ce5"
      },
      "execution_count": 5,
      "outputs": [
        {
          "output_type": "execute_result",
          "data": {
            "text/plain": [
              "19"
            ]
          },
          "metadata": {},
          "execution_count": 5
        }
      ]
    },
    {
      "cell_type": "code",
      "source": [
        "def solution2(a,b,n):\n",
        "    return max(n-b,0)//(a-b)*b\n",
        "solution2(a,b,n)"
      ],
      "metadata": {
        "colab": {
          "base_uri": "https://localhost:8080/"
        },
        "id": "4OUXOOODJsgD",
        "outputId": "2e0bf727-1c6e-4266-fb11-3a374f19f293"
      },
      "execution_count": 10,
      "outputs": [
        {
          "output_type": "execute_result",
          "data": {
            "text/plain": [
              "19"
            ]
          },
          "metadata": {},
          "execution_count": 10
        }
      ]
    },
    {
      "cell_type": "markdown",
      "source": [
        "## 숫자 짝꿍\n",
        "X와 Y의 짝꿍은 X와 Y에서 공통으로 나타나는 3,0,3으로 만들 수 있는 가장 큰 정수인 330 입니다. 다른 예시로 X = 5525이고 Y = 1255 이면 X 와 Y 의 짝꿍은 X 와 Y 에서 공통을 나타나는 2,5,5로 만들 수 있는 가장 큰 정수인 552입니다.( X 에는 5가 3개, Y 에는 5가 2개 나타나므로 남는 5 한 개는 짝 지을 수 없습니다. )<br>\n",
        "두 정수 X, Y가 주어졌을 때, X, Y의 짝꿍을 return하는 solution함수를 완성해주세요.\n",
        "* 제한사항\n",
        "  + 3 ≤ X, Y의 길이(자릿수) ≤ 3,000,000입니다.\n",
        "  + X, Y는 0으로 시작하지 않습니다.\n",
        "  + X, Y의 짝꿍은 상당히 큰 정수일 수 있으므로, 문자열로 반환합니다."
      ],
      "metadata": {
        "id": "kibT_GLuMnIZ"
      }
    },
    {
      "cell_type": "code",
      "source": [
        "X = '5525'\n",
        "Y = '1255'\n",
        "answer = ''\n",
        "x = list(X)\n",
        "y = list(Y)\n",
        "for i in x:\n",
        "    if i in y:\n",
        "        y.remove(i)\n",
        "        answer += i\n",
        "answer"
      ],
      "metadata": {
        "colab": {
          "base_uri": "https://localhost:8080/",
          "height": 35
        },
        "id": "sxMduVQdK67H",
        "outputId": "ba9260b7-e54b-4fb2-f2cc-07212e35f4f5"
      },
      "execution_count": 28,
      "outputs": [
        {
          "output_type": "execute_result",
          "data": {
            "text/plain": [
              "'552'"
            ],
            "application/vnd.google.colaboratory.intrinsic+json": {
              "type": "string"
            }
          },
          "metadata": {},
          "execution_count": 28
        }
      ]
    },
    {
      "cell_type": "code",
      "source": [
        "## 정확성 73.7 / 100\n",
        "## 테스트 11 ~ 15 시간초과\n",
        "def solution(X,Y):\n",
        "    answer = []\n",
        "    x = list(X)\n",
        "    y = list(Y)\n",
        "    for i in x:\n",
        "        if i in y:\n",
        "            y.remove(i)\n",
        "            answer.append(i)\n",
        "    if len(answer) == 0:\n",
        "        return str(-1)\n",
        "    else:\n",
        "        return str(int(''.join(sorted(answer,reverse=True))))\n",
        "solution(X,Y)"
      ],
      "metadata": {
        "colab": {
          "base_uri": "https://localhost:8080/",
          "height": 35
        },
        "id": "wBqbk9C9QOE9",
        "outputId": "b5e64702-3a08-4d43-ee57-4f2c98c9dd72"
      },
      "execution_count": 31,
      "outputs": [
        {
          "output_type": "execute_result",
          "data": {
            "text/plain": [
              "'552'"
            ],
            "application/vnd.google.colaboratory.intrinsic+json": {
              "type": "string"
            }
          },
          "metadata": {},
          "execution_count": 31
        }
      ]
    },
    {
      "cell_type": "code",
      "source": [
        "## sorted 함수가 시간초과를 부르는것 같음\n",
        "## range값을 역순으로 줘서 해결\n",
        "def solution2(X, Y):\n",
        "    x = list(X.count(str(x)) for x in range(10))\n",
        "    y = list(Y.count(str(y)) for y in range(10))\n",
        "    answer = \"\"\n",
        "    for i in range(9, -1, -1):\n",
        "        answer += str(i) * min(x[i], y[i])\n",
        "\n",
        "    if answer == \"\":\n",
        "        return \"-1\"\n",
        "    elif answer[0] == \"0\" and answer[len(answer) - 1] == \"0\":\n",
        "        return \"0\"\n",
        "    else:\n",
        "        return answer\n",
        "solution2(X,Y)"
      ],
      "metadata": {
        "colab": {
          "base_uri": "https://localhost:8080/",
          "height": 35
        },
        "id": "mCApl27URprv",
        "outputId": "d7dbafb6-9583-4c56-8f4f-31a7d64db8ee"
      },
      "execution_count": 32,
      "outputs": [
        {
          "output_type": "execute_result",
          "data": {
            "text/plain": [
              "'552'"
            ],
            "application/vnd.google.colaboratory.intrinsic+json": {
              "type": "string"
            }
          },
          "metadata": {},
          "execution_count": 32
        }
      ]
    },
    {
      "cell_type": "markdown",
      "source": [
        "## **55. 신고 결과 받기**\n",
        "신입사원 무지는 게시판 불량 이용자를 신고하고 처리 결과를 메일로 발송하는 시스템을 개발하려 합니다. 무지가 개발하려는 시스템은 다음과 같습니다.\n",
        "* 각 유저는 한 번에 한 명의 유저를 신고할 수 있습니다.\n",
        "  + 신고 횟수에 제한은 없습니다. 서로 다른 유저를 계속해서 신고할 수 있습니다.\n",
        "  + 한 유저를 여러 번 신고할 수도 있지만, 동일한 유저에 대한 신고 횟수는 1회로 처리됩니다.\n",
        "* k번 이상 신고된 유저는 게시판 이용이 정지되며, 해당 유저를 신고한 모든 유저에게 정지 사실을 메일로 발송합니다.\n",
        "  + 유저가 신고한 모든 내용을 취합하여 마지막에 한꺼번에 게시판 이용 정지를 시키면서 정지 메일을 발송합니다.\n",
        "<br>\n",
        "다음은 전체 유저 목록이 [\"muzi\", \"frodo\", \"apeach\", \"neo\"]이고, k = 2(즉, 2번 이상 신고당하면 이용 정지)인 경우의 예시입니다.<br>\n",
        "\n",
        "|유저ID|유저가 신고한 ID|설명|\n",
        "|:---:|:----------------:|:----:|\n",
        "|\"muzi\"|\"frodo\"|\"muzi\"가 \"frodo\"를 신고했습니다.|\n",
        "|\"apeach\"|\"frodo\"|\"apeach\"가 \"frodo\"를 신고했습니다.|\n",
        "|\"frodo\"|\"neo\"|\"frodo\"가 \"neo\"를 신고했습니다.|\n",
        "|\"muzi\"|\"neo\"|\"muzi\"가 \"neo\"를 신고했습니다.|\n",
        "|\"apeach\"|\"muzi\"|\"apeach\"가 \"muzi\"를 신고했습니다.|<br><br>\n",
        "\n",
        "\n",
        "각 유저별로 신고당한 횟수는 다음과 같습니다.<br>\n",
        "\n",
        "|유저ID|신고당한 횟수|\n",
        "|:----:|:------------:|\n",
        "|\"muzi\"|1|\n",
        "|\"frodo\"|2|\n",
        "|\"apeach\"|0|\n",
        "|\"neo\"|2|<br>\n",
        "\n",
        "위 예시에서는 2번 이상 신고당한 \"frodo\"와 \"neo\"의 게시판 이용이 정지됩니다. 이때, 각 유저별로 신고한 아이디와 정지된 아이디를 정리하면 다음과 같습니다.\n",
        "\n",
        "|유저 ID|유저가 신고한 ID|정지된 ID|\n",
        "|:-----:|:--------------:|:-------:|\n",
        "|\"muzi\"|[\"frodo\", \"neo\"]|[\"frodo\", \"neo\"]|\n",
        "|\"frodo\"|[\"neo\"]|[\"neo\"]|\n",
        "|\"apeach\"|[\"muzi\", \"frodo\"]|[\"frodo\"]|\n",
        "|\"neo\"|없음|없음|<br>\n",
        "\n",
        "따라서 \"muzi\"는 처리 결과 메일을 2회, \"frodo\"와 \"apeach\"는 각각 처리 결과 메일을 1회 받게 됩니다.\n",
        "\n",
        "이용자의 ID가 담긴 문자열 배열 id_list, 각 이용자가 신고한 이용자의 ID 정보가 담긴 문자열 배열 report, 정지 기준이 되는 신고 횟수 k가 매개변수로 주어질 때, 각 유저별로 처리 결과 메일을 받은 횟수를 배열에 담아 return 하도록 solution 함수를 완성해주세요.\n",
        "* 제한사항\n",
        "  + 2 ≤ id_list의 길이 ≤ 1,000\n",
        "    - 1 ≤ id_list의 원소 길이 ≤ 10\n",
        "    - id_list의 원소는 이용자의 id를 나타내는 문자열이며 알파벳 소문자로만 이루어져 있습니다.\n",
        "    - id_list에는 같은 아이디가 중복해서 들어있지 않습니다.\n",
        "  + 1 ≤ report의 길이 ≤ 200,000\n",
        "    - 3 ≤ report의 원소 길이 ≤ 21\n",
        "    - report의 원소는 \"이용자id 신고한id\"형태의 문자열입니다.\n",
        "    - 예를 들어 \"muzi frodo\"의 경우 \"muzi\"가 \"frodo\"를 신고했다는 의미입니다.\n",
        "    - id는 알파벳 소문자로만 이루어져 있습니다.\n",
        "    - 이용자id와 신고한id는 공백(스페이스)하나로 구분되어 있습니다.\n",
        "    - 자기 자신을 신고하는 경우는 없습니다.\n",
        "  + 1 ≤ k ≤ 200, k는 자연수입니다.\n",
        "  + return 하는 배열은 id_list에 담긴 id 순서대로 각 유저가 받은 결과 메일 수를 담으면 됩니다."
      ],
      "metadata": {
        "id": "kIkUtV8sexNc"
      }
    },
    {
      "cell_type": "code",
      "source": [
        "id_list = [\"muzi\", \"frodo\", \"apeach\", \"neo\"]\n",
        "report = [\"muzi frodo\",\"apeach frodo\",\"frodo neo\",\"muzi neo\",\"apeach muzi\"]\n",
        "k = 2"
      ],
      "metadata": {
        "id": "GGQLNSQOUI7-"
      },
      "execution_count": 46,
      "outputs": []
    },
    {
      "cell_type": "code",
      "source": [
        "report = set(report) ## 중복제거 / 한 사람이 동일한 사람을 신고했을 때 중복 x\n",
        "report"
      ],
      "metadata": {
        "colab": {
          "base_uri": "https://localhost:8080/"
        },
        "id": "TxV1BL0-jxft",
        "outputId": "6b911627-ec53-4643-88b1-124efdb30c28"
      },
      "execution_count": 66,
      "outputs": [
        {
          "output_type": "execute_result",
          "data": {
            "text/plain": [
              "{'apeach frodo', 'apeach muzi', 'frodo neo', 'muzi frodo', 'muzi neo'}"
            ]
          },
          "metadata": {},
          "execution_count": 66
        }
      ]
    },
    {
      "cell_type": "code",
      "source": [
        "answer = [0]*len(id_list) ## id_list의 개수만큼 0 을 채워넣은 리스트 생성\n",
        "# print(answer)\n",
        "reported = {i:0 for i in id_list} ## id_list의 원소들을 key로, 0을 value로 / count를 위함\n",
        "# print(reported)\n",
        "for i in report:\n",
        "    a,b = i.split(' ') # 유저와 신고당한 id 분리\n",
        "    reported[b] += 1 # 신고당한 id 횟수만큼 빈 딕셔너리의 value값에 count\n",
        "# print(reported)\n",
        "for i in report:\n",
        "    a,b = i.split(' ')\n",
        "    if reported[b] >= k: # 2회이상 신고당하면 이용정지, 유저에게 메일발송\n",
        "        answer[id_list.index(a)] += 1 # id_list의 인덱스와 일치시켜 count\n",
        "answer"
      ],
      "metadata": {
        "colab": {
          "base_uri": "https://localhost:8080/"
        },
        "id": "0NBPRZLbll5f",
        "outputId": "79255155-d199-4b6d-e6cd-dbcb38725ad3"
      },
      "execution_count": 71,
      "outputs": [
        {
          "output_type": "execute_result",
          "data": {
            "text/plain": [
              "[2, 1, 1, 0]"
            ]
          },
          "metadata": {},
          "execution_count": 71
        }
      ]
    },
    {
      "cell_type": "code",
      "source": [
        "## 정답\n",
        "def solution(id_list, report, k):\n",
        "    report = set(report)\n",
        "    answer = [0]*len(id_list)\n",
        "    reported = {i:0 for i in id_list}\n",
        "    for i in report:\n",
        "        a,b = i.split(' ')\n",
        "        reported[b] += 1\n",
        "    for i in report:\n",
        "        a,b = i.split(' ')\n",
        "        if reported[b] >= k:\n",
        "            answer[id_list.index(a)] += 1\n",
        "    return answer\n",
        "solution(id_list, report, k)"
      ],
      "metadata": {
        "colab": {
          "base_uri": "https://localhost:8080/"
        },
        "id": "ZJAmRJxqoqPm",
        "outputId": "54d90060-055e-4e82-8fdf-cf2e466dfedf"
      },
      "execution_count": 72,
      "outputs": [
        {
          "output_type": "execute_result",
          "data": {
            "text/plain": [
              "[2, 1, 1, 0]"
            ]
          },
          "metadata": {},
          "execution_count": 72
        }
      ]
    },
    {
      "cell_type": "code",
      "source": [],
      "metadata": {
        "id": "hvPdr7eksFlH"
      },
      "execution_count": null,
      "outputs": []
    }
  ]
}