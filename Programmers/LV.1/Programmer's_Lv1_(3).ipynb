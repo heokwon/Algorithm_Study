{
  "nbformat": 4,
  "nbformat_minor": 0,
  "metadata": {
    "colab": {
      "provenance": [],
      "authorship_tag": "ABX9TyO3BsL8Zt+/UjmFCJQp62vU",
      "include_colab_link": true
    },
    "kernelspec": {
      "name": "python3",
      "display_name": "Python 3"
    },
    "language_info": {
      "name": "python"
    }
  },
  "cells": [
    {
      "cell_type": "markdown",
      "metadata": {
        "id": "view-in-github",
        "colab_type": "text"
      },
      "source": [
        "<a href=\"https://colab.research.google.com/github/heokwon/Algorithm_Study/blob/main/Programmers/LV.1/Programmer's_Lv1_(3).ipynb\" target=\"_parent\"><img src=\"https://colab.research.google.com/assets/colab-badge.svg\" alt=\"Open In Colab\"/></a>"
      ]
    },
    {
      "cell_type": "markdown",
      "source": [
        "## 같은 숫자는 싫어\n",
        "배열 arr가 주어집니다. 배열 arr의 각 원소는 숫자 0부터 9까지로 이루어져 있습니다. 이때, 배열 arr에서 연속적으로 나타나는 숫자는 하나만 남기고 전부 제거하려고 합니다. 단, 제거된 후 남은 수들을 반환할 때는 배열 arr의 원소들의 순서를 유지해야 합니다. 예를 들면,\n",
        "* arr = [1, 1, 3, 3, 0, 1, 1] 이면 [1, 3, 0, 1] 을 return 합니다.\n",
        "* arr = [4, 4, 4, 3, 3] 이면 [4, 3] 을 return 합니다.\n",
        "\n",
        "배열 arr에서 연속적으로 나타나는 숫자는 제거하고 남은 수들을 return 하는 solution 함수를 완성해 주세요."
      ],
      "metadata": {
        "id": "csPEx0qvXDQh"
      }
    },
    {
      "cell_type": "code",
      "execution_count": 11,
      "metadata": {
        "colab": {
          "base_uri": "https://localhost:8080/"
        },
        "id": "VetW082lW9it",
        "outputId": "26aa8ee2-4382-4cb9-8bf2-41fdb5e88327"
      },
      "outputs": [
        {
          "output_type": "execute_result",
          "data": {
            "text/plain": [
              "[1, 3, 0, 1]"
            ]
          },
          "metadata": {},
          "execution_count": 11
        }
      ],
      "source": [
        "arr = [1,1,3,3,0,1,1]\n",
        "def solution(arr):\n",
        "    a = []\n",
        "    answer = [arr[0]]\n",
        "    for i in arr:\n",
        "        if a:\n",
        "            c = a.pop()\n",
        "            if c != i:\n",
        "                answer.append(i)\n",
        "        a.append(i)\n",
        "    return answer\n",
        "# solution(arr)\n",
        "\n",
        "## 다른사람 풀이\n",
        "def solution2(arr):\n",
        "    a = []\n",
        "    for i in arr:\n",
        "        if a[-1:] == [i]:continue\n",
        "        a.append(i)\n",
        "    return a\n",
        "solution2(arr)"
      ]
    },
    {
      "cell_type": "markdown",
      "source": [
        "## 이상한 문자 만들기\n",
        "문자열 s는 한 개 이상의 단어로 구성되어 있습니다. 각 단어는 하나 이상의 공백문자로 구분되어 있습니다. 각 단어의 짝수번째 알파벳은 대문자로, 홀수번째 알파벳은 소문자로 바꾼 문자열을 리턴하는 함수, solution을 완성하세요."
      ],
      "metadata": {
        "id": "yjZD00lNZhAH"
      }
    },
    {
      "cell_type": "code",
      "source": [
        "s = \"try hello world\"\t\n",
        "def solution(s):\n",
        "    s = s.split(' ')\n",
        "    answer = []\n",
        "    for i in s:\n",
        "        temp = ''\n",
        "        for idx, x in enumerate(i):\n",
        "            if idx % 2 == 0:\n",
        "                temp += x.upper()\n",
        "            else:\n",
        "                temp += x.lower()\n",
        "        answer.append(temp)\n",
        "    return ' '.join(answer)\n",
        "solution(s)"
      ],
      "metadata": {
        "colab": {
          "base_uri": "https://localhost:8080/",
          "height": 35
        },
        "id": "hcUPa-2SZBz-",
        "outputId": "5ddfeca4-9555-4a0c-f164-e96c65df7a8f"
      },
      "execution_count": 37,
      "outputs": [
        {
          "output_type": "execute_result",
          "data": {
            "text/plain": [
              "'TrY HeLlO WoRlD'"
            ],
            "application/vnd.google.colaboratory.intrinsic+json": {
              "type": "string"
            }
          },
          "metadata": {},
          "execution_count": 37
        }
      ]
    },
    {
      "cell_type": "markdown",
      "source": [
        "## 3진법 뒤집기\n",
        "자연수 n이 매개변수로 주어집니다. n을 3진법 상에서 앞뒤로 뒤집은 후, 이를 다시 10진법으로 표현한 수를 return 하도록 solution 함수를 완성해주세요."
      ],
      "metadata": {
        "id": "a3UMu_80eJsv"
      }
    },
    {
      "cell_type": "code",
      "source": [
        "n = 45\n",
        "def solution(n):\n",
        "    rev_base = ''\n",
        "    while n > 0:\n",
        "        n, mod = divmod(n,3)\n",
        "        rev_base += str(mod)\n",
        "    return int(rev_base,3)\n",
        "solution(n)"
      ],
      "metadata": {
        "colab": {
          "base_uri": "https://localhost:8080/"
        },
        "id": "zhwL9mTXashX",
        "outputId": "b8bb790e-e244-48c5-b4ab-989d43551868"
      },
      "execution_count": 42,
      "outputs": [
        {
          "output_type": "execute_result",
          "data": {
            "text/plain": [
              "7"
            ]
          },
          "metadata": {},
          "execution_count": 42
        }
      ]
    },
    {
      "cell_type": "markdown",
      "source": [
        "## 예산\n",
        "S사에서는 각 부서에 필요한 물품을 지원해 주기 위해 부서별로 물품을 구매하는데 필요한 금액을 조사했습니다. 그러나, 전체 예산이 정해져 있기 때문에 모든 부서의 물품을 구매해 줄 수는 없습니다. 그래서 최대한 많은 부서의 물품을 구매해 줄 수 있도록 하려고 합니다.\n",
        "\n",
        "물품을 구매해 줄 때는 각 부서가 신청한 금액만큼을 모두 지원해 줘야 합니다. 예를 들어 1,000원을 신청한 부서에는 정확히 1,000원을 지원해야 하며, 1,000원보다 적은 금액을 지원해 줄 수는 없습니다.\n",
        "\n",
        "부서별로 신청한 금액이 들어있는 배열 d와 예산 budget이 매개변수로 주어질 때, 최대 몇 개의 부서에 물품을 지원할 수 있는지 return 하도록 solution 함수를 완성해주세요."
      ],
      "metadata": {
        "id": "RSn04y4ZgClj"
      }
    },
    {
      "cell_type": "code",
      "source": [
        "d = [1,3,2,5,4]\n",
        "budget = 9\n",
        "def solution(d, budget):\n",
        "    sort = sorted(d)\n",
        "    answer = 0\n",
        "    for i in sort:\n",
        "        budget -= i\n",
        "        if budget < 0:\n",
        "           break\n",
        "        answer += 1\n",
        "    return answer\n",
        "solution(d, budget)"
      ],
      "metadata": {
        "colab": {
          "base_uri": "https://localhost:8080/"
        },
        "id": "HkZdSEyZeh48",
        "outputId": "901d4779-ad05-4a45-eb2f-584a6f9db22c"
      },
      "execution_count": 45,
      "outputs": [
        {
          "output_type": "execute_result",
          "data": {
            "text/plain": [
              "3"
            ]
          },
          "metadata": {},
          "execution_count": 45
        }
      ]
    },
    {
      "cell_type": "markdown",
      "source": [
        "## 35. 시저 암호\n",
        "어떤 문장의 각 알파벳을 일정한 거리만큼 밀어서 다른 알파벳으로 바꾸는 암호화 방식을 시저 암호라고 합니다. 예를 들어 \"AB\"는 1만큼 밀면 \"BC\"가 되고, 3만큼 밀면 \"DE\"가 됩니다. \"z\"는 1만큼 밀면 \"a\"가 됩니다. 문자열 s와 거리 n을 입력받아 s를 n만큼 민 암호문을 만드는 함수, solution을 완성해 보세요."
      ],
      "metadata": {
        "id": "iJ1IaExuh5C0"
      }
    },
    {
      "cell_type": "code",
      "source": [
        "s = \"AB\"\n",
        "n = 1\n",
        "def solution(s,n):\n",
        "    s = list(s)\n",
        "    for i in range(len(s)):\n",
        "        if s[i].isupper():\n",
        "            s[i] = chr((ord(s[i])-ord('A')+n)%26+ord('A'))\n",
        "        elif s[i].islower():\n",
        "            s[i] = chr((ord(s[i])-ord('a')+n)%26+ord('a'))\n",
        "    return ''.join(s)\n",
        "solution(s,n)"
      ],
      "metadata": {
        "colab": {
          "base_uri": "https://localhost:8080/",
          "height": 35
        },
        "id": "qqp-CW-6hi0i",
        "outputId": "2a8bf6b6-e667-4123-b3cf-7822423b3f93"
      },
      "execution_count": 62,
      "outputs": [
        {
          "output_type": "execute_result",
          "data": {
            "text/plain": [
              "'BC'"
            ],
            "application/vnd.google.colaboratory.intrinsic+json": {
              "type": "string"
            }
          },
          "metadata": {},
          "execution_count": 62
        }
      ]
    },
    {
      "cell_type": "markdown",
      "source": [
        "## [1차]비밀지도\n",
        "네오는 평소 프로도가 비상금을 숨겨놓는 장소를 알려줄 비밀지도를 손에 넣었다. 그런데 이 비밀지도는 숫자로 암호화되어 있어 위치를 확인하기 위해서는 암호를 해독해야 한다. 다행히 지도 암호를 해독할 방법을 적어놓은 메모도 함께 발견했다.\n",
        "\n",
        "* 지도는 한 변의 길이가 n인 정사각형 배열 형태로, 각 칸은 \"공백\"(\" \") 또는 \"벽\"(\"#\") 두 종류로 이루어져 있다.\n",
        "\n",
        "* 전체 지도는 두 장의 지도를 겹쳐서 얻을 수 있다. 각각 \"지도 1\"과 \"지도 2\"라고 하자. 지도 1 또는 지도 2 중 어느 하나라도 벽인 부분은 전체 지도에서도 벽이다.\n",
        "지도 1과 지도 2에서 모두 공백인 부분은 전체 지도에서도 공백이다.\n",
        "\n",
        "* \"지도 1\"과 \"지도 2\"는 각각 정수 배열로 암호화되어 있다.\n",
        "\n",
        "* 암호화된 배열은 지도의 각 가로줄에서 벽 부분을 1, 공백 부분을 0으로 부호화했을 때 얻어지는 이진수에 해당하는 값의 배열이다."
      ],
      "metadata": {
        "id": "P8EuULZ5p2SX"
      }
    },
    {
      "cell_type": "code",
      "source": [
        "n = 5\n",
        "arr1 = [9, 20, 28, 18, 11]\n",
        "arr2 = [30, 1, 21, 17, 28]\n",
        "bin_arr1 = [bin(i)[2:].zfill(n) for i in arr1]\n",
        "bin_arr2 = [bin(i)[2:].zfill(n) for i in arr2]\n",
        "bin_arr1, bin_arr2"
      ],
      "metadata": {
        "colab": {
          "base_uri": "https://localhost:8080/"
        },
        "id": "rGbgFxEZmc8u",
        "outputId": "b4d797a5-ae4b-42ed-9698-34110c8e2336"
      },
      "execution_count": 9,
      "outputs": [
        {
          "output_type": "execute_result",
          "data": {
            "text/plain": [
              "(['01001', '10100', '11100', '10010', '01011'],\n",
              " ['11110', '00001', '10101', '10001', '11100'])"
            ]
          },
          "metadata": {},
          "execution_count": 9
        }
      ]
    },
    {
      "cell_type": "code",
      "source": [
        "def solution(n,arr1,arr2):\n",
        "    answer = []\n",
        "    for i in range(n):\n",
        "        temp = bin(arr1[i] | arr2[i])[2:].zfill(n)\n",
        "        temp = temp.replace('1','#').replace('0',' ')\n",
        "        answer.append(temp)\n",
        "    return answer\n",
        "solution(n,arr1,arr2)"
      ],
      "metadata": {
        "colab": {
          "base_uri": "https://localhost:8080/"
        },
        "id": "oQZgHGRXju4w",
        "outputId": "a55e506c-e75d-4dfc-eb66-196f748eea24"
      },
      "execution_count": 12,
      "outputs": [
        {
          "output_type": "execute_result",
          "data": {
            "text/plain": [
              "['#####', '# # #', '### #', '#  ##', '#####']"
            ]
          },
          "metadata": {},
          "execution_count": 12
        }
      ]
    },
    {
      "cell_type": "markdown",
      "source": [
        "## 최소직사각형\n",
        "명함 지갑을 만드는 회사에서 지갑의 크기를 정하려고 합니다. 다양한 모양과 크기의 명함들을 모두 수납할 수 있으면서, 작아서 들고 다니기 편한 지갑을 만들어야 합니다. 이러한 요건을 만족하는 지갑을 만들기 위해 디자인팀은 모든 명함의 가로길이와 세로 길이를 조사했습니다.\n",
        "\n",
        "가장 긴 가로 길이와 세로 길이가 각각 80, 70이기 때문에 80(가로) x 70(세로) 크기의 지갑을 만들면 모든 명함들을 수납할 수 있습니다. 하지만 2번 명함을 가로로 눕혀 수납한다면 80(가로) x 50(세로) 크기의 지갑으로 모든 명함들을 수납할 수 있습니다. 이때의 지갑 크기는 4000(=80 x 50)입니다.\n",
        "\n",
        "모든 명함의 가로 길이와 세로 길이를 나타내는 2차원 배열 sizes가 매개변수로 주어집니다. 모든 명함을 수납할 수 있는 가장 작은 지갑을 만들 때, 지갑의 크기를 return 하도록 solution 함수를 완성해주세요."
      ],
      "metadata": {
        "id": "GRdUSlZNmk7H"
      }
    },
    {
      "cell_type": "code",
      "source": [
        "sizes = [[60, 50], [30, 70], [60, 30], [80, 40]]\n",
        "w = []\n",
        "h = []\n",
        "for i in range(len(sizes)):\n",
        "    if sizes[i][0] >= sizes[i][1]:\n",
        "        w.append(sizes[i][0])\n",
        "        h.append(sizes[i][1])\n",
        "    else:\n",
        "        w.append(sizes[i][1])\n",
        "        h.append(sizes[i][0])\n",
        "w, h\n",
        "max(w)*max(h)"
      ],
      "metadata": {
        "colab": {
          "base_uri": "https://localhost:8080/"
        },
        "id": "WlOE1SbFln74",
        "outputId": "d4720ad6-dbd4-47ac-ddfa-40972b8617a2"
      },
      "execution_count": 28,
      "outputs": [
        {
          "output_type": "execute_result",
          "data": {
            "text/plain": [
              "4000"
            ]
          },
          "metadata": {},
          "execution_count": 28
        }
      ]
    },
    {
      "cell_type": "code",
      "source": [
        "def solution(sizes):\n",
        "    w = []\n",
        "    h = []\n",
        "    for i in range(len(sizes)):\n",
        "        if sizes[i][0] >= sizes[i][1]:\n",
        "            w.append(sizes[i][0])\n",
        "            h.append(sizes[i][1])\n",
        "        else:\n",
        "            w.append(sizes[i][1])\n",
        "            h.append(sizes[i][0])\n",
        "    return max(w)*max(h)\n",
        "\n",
        "## 더 간단하게\n",
        "def solution2(sizes):\n",
        "    return max(max(i) for i in sizes) * max(min(i) for i in sizes)\n",
        "solution2(sizes)"
      ],
      "metadata": {
        "colab": {
          "base_uri": "https://localhost:8080/"
        },
        "id": "4HrIc6oSnrW6",
        "outputId": "479f32c9-22eb-4515-b135-89ab25b6e046"
      },
      "execution_count": 31,
      "outputs": [
        {
          "output_type": "execute_result",
          "data": {
            "text/plain": [
              "4000"
            ]
          },
          "metadata": {},
          "execution_count": 31
        }
      ]
    },
    {
      "cell_type": "markdown",
      "source": [
        "## 문자열 내 마음대로 정렬하기\n",
        "문자여로 구성된 리스트 strings와, 정수 n이 주어졌을 때, 각 문자열의 인덱스 n번째 글자를 기준으로 오름차순 정렬하려 합니다. 예를 들어 strings가 [\"sun\", \"bed\", \"car\"] 이고 n이 1이면 각 단어의 인덱스 1의 문자 \"u\", \"e\", \"a\"로 strings를 정렬합니다.\n",
        "* strings는 길이 1 이상, 50 이하인 배열입니다.\n",
        "* strings의 원소는 소문자 알파벳으로 이루어져 있습니다.\n",
        "* strings의 원소는 길이 1 이상, 100 이하인 문자열입니다.\n",
        "* 모든 strings의 원소의 길이는 n보다 큽니다.\n",
        "* 인덱스 1의 문자가 같은 문자열이 여럿 일 경우, 사전순으로 앞선 문자열이 앞쪽에 위치합니다."
      ],
      "metadata": {
        "id": "bNi4mctwrw1f"
      }
    },
    {
      "cell_type": "code",
      "source": [
        "strings = [\"abce\", \"abcd\", \"cdx\"]\n",
        "n = 1\n",
        "new = []\n",
        "for i in strings:\n",
        "    new.append(i[n]+i)\n",
        "new"
      ],
      "metadata": {
        "colab": {
          "base_uri": "https://localhost:8080/"
        },
        "id": "lTbTxy0boBMz",
        "outputId": "bc44e31b-b150-4f95-bf67-40329502b323"
      },
      "execution_count": 51,
      "outputs": [
        {
          "output_type": "execute_result",
          "data": {
            "text/plain": [
              "['babce', 'babcd', 'dcdx']"
            ]
          },
          "metadata": {},
          "execution_count": 51
        }
      ]
    },
    {
      "cell_type": "code",
      "source": [
        "new.sort()\n",
        "answer = []\n",
        "for i in new:\n",
        "    answer.append(i[1:])\n",
        "answer"
      ],
      "metadata": {
        "colab": {
          "base_uri": "https://localhost:8080/"
        },
        "id": "rnEwIxuFsjUb",
        "outputId": "2521f9fa-3c75-4054-9a40-2313a89e0bcb"
      },
      "execution_count": 55,
      "outputs": [
        {
          "output_type": "execute_result",
          "data": {
            "text/plain": [
              "['abcd', 'abce', 'cdx']"
            ]
          },
          "metadata": {},
          "execution_count": 55
        }
      ]
    },
    {
      "cell_type": "code",
      "source": [
        "## 정답\n",
        "def solution(strings,n):\n",
        "    new = sorted([i[n]+i for i in strings])\n",
        "    return [i[1:] for i in new]\n",
        "# solution(strings,n)\n",
        "\n",
        "## 다른사람 풀이\n",
        "## lambda에 조건을 2가지 걸어서 해결\n",
        "def solution2(strings, n):\n",
        "    return sorted(strings,key = lambda x: (x[n],x))\n",
        "solution2(strings,n)"
      ],
      "metadata": {
        "colab": {
          "base_uri": "https://localhost:8080/"
        },
        "id": "LpT-IcUGvsX8",
        "outputId": "5dedf0c4-6020-44a3-df43-8b4aff90e0d4"
      },
      "execution_count": 58,
      "outputs": [
        {
          "output_type": "execute_result",
          "data": {
            "text/plain": [
              "['abcd', 'abce', 'cdx']"
            ]
          },
          "metadata": {},
          "execution_count": 58
        }
      ]
    },
    {
      "cell_type": "markdown",
      "source": [
        "## K번째수\n",
        "배열 array의 i번째 숫자부터 j번째 숫자까지 자르고 정렬했을 때, k번째에 있는 수를 구하려 합니다.\n",
        "\n",
        "예를 들어 array가 [1,5,2,6,3,7,4], i=2, j=5, k=3 이라면\n",
        "1. array의 2번째부터 5번째까지 자르면 [5,2,6,3]입니다.\n",
        "2. 1에서 나온 배열을 정렬하면 [2,3,5,6]입니다.\n",
        "3. 2에서 나온 배열의 3번째 숫자는 5입니다.\n",
        "\n",
        "배열 array [i,j,k]를 원소로 가진 2차원 배열 commands가 매개변수로 주어질 때,\n",
        "commands의 모든 원소에 대해 앞서 설명한 연산을 적용했을 때 나온 결과를 배열에 담아 return하도록 solution 함수를 작성해 주세요.\n",
        "* array의 길이는 1 이상 100 이하입니다.\n",
        "* array의 각 원소는 1 이상 100 이하입니다.\n",
        "* commands의 길이는 1 이상 50 이하입니다.\n",
        "* commands의 각 원소는 길이가 3 입니다."
      ],
      "metadata": {
        "id": "SmOFrLZDyCqB"
      }
    },
    {
      "cell_type": "code",
      "source": [
        "array = [1, 5, 2, 6, 3, 7, 4]\n",
        "commands = [[2, 5, 3], [4, 4, 1], [1, 7, 3]]\n",
        "a = sorted(array[commands[0][0]-1:commands[0][1]])[commands[0][2]-1]\n",
        "a"
      ],
      "metadata": {
        "colab": {
          "base_uri": "https://localhost:8080/"
        },
        "id": "H2HbOp_Lw69K",
        "outputId": "94ec01a6-0ed0-40d1-d6ad-2e6f16d0223e"
      },
      "execution_count": 67,
      "outputs": [
        {
          "output_type": "execute_result",
          "data": {
            "text/plain": [
              "5"
            ]
          },
          "metadata": {},
          "execution_count": 67
        }
      ]
    },
    {
      "cell_type": "code",
      "source": [
        "answer = []\n",
        "for i in range(len(commands)):\n",
        "    answer.append(sorted(array[commands[i][0]-1:commands[i][1]])[commands[i][2]-1])\n",
        "answer"
      ],
      "metadata": {
        "colab": {
          "base_uri": "https://localhost:8080/"
        },
        "id": "9xSp9P-azXO2",
        "outputId": "d8649f85-8713-42c0-bf17-907a1202d4bd"
      },
      "execution_count": 69,
      "outputs": [
        {
          "output_type": "execute_result",
          "data": {
            "text/plain": [
              "[5, 6, 3]"
            ]
          },
          "metadata": {},
          "execution_count": 69
        }
      ]
    },
    {
      "cell_type": "code",
      "source": [
        "## 정답\n",
        "def solution(array,commands):\n",
        "    return [sorted(array[commands[i][0]-1:commands[i][1]])[commands[i][2]-1] for i in range(len(commands))]\n",
        "# solution(array,commands)\n",
        "\n",
        "## 다른사람 풀이\n",
        "## lambda를 이용한 풀이\n",
        "def solution2(array,commands):\n",
        "    return list(map(lambda x: sorted(array[x[0]-1:x[1]])[x[2]-1],commands))\n",
        "solution2(array,commands)"
      ],
      "metadata": {
        "colab": {
          "base_uri": "https://localhost:8080/"
        },
        "id": "eKFgJ08k0ORT",
        "outputId": "ee70bb61-237f-4a11-a9b1-0ff65e1b05b6"
      },
      "execution_count": 71,
      "outputs": [
        {
          "output_type": "execute_result",
          "data": {
            "text/plain": [
              "[5, 6, 3]"
            ]
          },
          "metadata": {},
          "execution_count": 71
        }
      ]
    },
    {
      "cell_type": "markdown",
      "source": [
        "## 40. 숫자 문자열과 영단어\n",
        "네오와 프로도가 숫자놀이를 하고 있습니다. 네오가 프로도에게 숫자를 건넬 때 일부 자릿수를 영단어로 바꾼 카드를 건네주면 프로도는 원래 숫자를 찾는 게임입니다.\n",
        "\n",
        "다음은 숫자의 일부 자릿수를 영단어로 바꾸는 예시입니다.\n",
        "* 1478 → \"one4seveneight\"\n",
        "* 234567 → \"23four5six7\"\n",
        "* 10203 → \"1zerotwozero3\"\n",
        "\n",
        "이렇게 숫자의 일부 자릿수가 영단어로 바뀌어졌거나, 혹은 바뀌지 않고 그대로인 문자열 s가 매게변수로 주어집니다. s가 의미하는 원래 숫자를 return하도록 solution함수를 완성해주세요."
      ],
      "metadata": {
        "id": "UKm5EukF1Kcz"
      }
    },
    {
      "cell_type": "code",
      "source": [
        "s = \"23four5six7\"\n",
        "def solution(s):\n",
        "    num_dict = {'zero':0, 'one':1, 'two':2, 'three':3, 'four':4, 'five':5, 'six':6, 'seven':7, 'eight':8, 'nine':9}\n",
        "    for key,value in num_dict.items():\n",
        "            s = s.replace(key,str(value))\n",
        "    return int(s)\n",
        "solution(s)"
      ],
      "metadata": {
        "colab": {
          "base_uri": "https://localhost:8080/"
        },
        "id": "77GhHBZy0jku",
        "outputId": "5041b209-57b6-4b2b-e838-34cf8893d8b8"
      },
      "execution_count": 91,
      "outputs": [
        {
          "output_type": "execute_result",
          "data": {
            "text/plain": [
              "234567"
            ]
          },
          "metadata": {},
          "execution_count": 91
        }
      ]
    },
    {
      "cell_type": "code",
      "source": [],
      "metadata": {
        "id": "HMJaMu003-XP"
      },
      "execution_count": null,
      "outputs": []
    }
  ]
}