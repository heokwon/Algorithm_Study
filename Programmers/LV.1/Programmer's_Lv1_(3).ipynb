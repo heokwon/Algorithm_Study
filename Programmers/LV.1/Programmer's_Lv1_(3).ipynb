{
  "nbformat": 4,
  "nbformat_minor": 0,
  "metadata": {
    "colab": {
      "provenance": [],
      "authorship_tag": "ABX9TyP42sYxy9jerPDe2+y1o03X",
      "include_colab_link": true
    },
    "kernelspec": {
      "name": "python3",
      "display_name": "Python 3"
    },
    "language_info": {
      "name": "python"
    }
  },
  "cells": [
    {
      "cell_type": "markdown",
      "metadata": {
        "id": "view-in-github",
        "colab_type": "text"
      },
      "source": [
        "<a href=\"https://colab.research.google.com/github/heokwon/Algorithm_Study/blob/main/Programmers/LV.1/Programmer's_Lv1_(3).ipynb\" target=\"_parent\"><img src=\"https://colab.research.google.com/assets/colab-badge.svg\" alt=\"Open In Colab\"/></a>"
      ]
    },
    {
      "cell_type": "markdown",
      "source": [
        "## 같은 숫자는 싫어\n",
        "배열 arr가 주어집니다. 배열 arr의 각 원소는 숫자 0부터 9까지로 이루어져 있습니다. 이때, 배열 arr에서 연속적으로 나타나는 숫자는 하나만 남기고 전부 제거하려고 합니다. 단, 제거된 후 남은 수들을 반환할 때는 배열 arr의 원소들의 순서를 유지해야 합니다. 예를 들면,\n",
        "* arr = [1, 1, 3, 3, 0, 1, 1] 이면 [1, 3, 0, 1] 을 return 합니다.\n",
        "* arr = [4, 4, 4, 3, 3] 이면 [4, 3] 을 return 합니다.\n",
        "\n",
        "배열 arr에서 연속적으로 나타나는 숫자는 제거하고 남은 수들을 return 하는 solution 함수를 완성해 주세요."
      ],
      "metadata": {
        "id": "csPEx0qvXDQh"
      }
    },
    {
      "cell_type": "code",
      "execution_count": 11,
      "metadata": {
        "colab": {
          "base_uri": "https://localhost:8080/"
        },
        "id": "VetW082lW9it",
        "outputId": "26aa8ee2-4382-4cb9-8bf2-41fdb5e88327"
      },
      "outputs": [
        {
          "output_type": "execute_result",
          "data": {
            "text/plain": [
              "[1, 3, 0, 1]"
            ]
          },
          "metadata": {},
          "execution_count": 11
        }
      ],
      "source": [
        "arr = [1,1,3,3,0,1,1]\n",
        "def solution(arr):\n",
        "    a = []\n",
        "    answer = [arr[0]]\n",
        "    for i in arr:\n",
        "        if a:\n",
        "            c = a.pop()\n",
        "            if c != i:\n",
        "                answer.append(i)\n",
        "        a.append(i)\n",
        "    return answer\n",
        "# solution(arr)\n",
        "\n",
        "## 다른사람 풀이\n",
        "def solution2(arr):\n",
        "    a = []\n",
        "    for i in arr:\n",
        "        if a[-1:] == [i]:continue\n",
        "        a.append(i)\n",
        "    return a\n",
        "solution2(arr)"
      ]
    },
    {
      "cell_type": "markdown",
      "source": [
        "## 이상한 문자 만들기\n",
        "문자열 s는 한 개 이상의 단어로 구성되어 있습니다. 각 단어는 하나 이상의 공백문자로 구분되어 있습니다. 각 단어의 짝수번째 알파벳은 대문자로, 홀수번째 알파벳은 소문자로 바꾼 문자열을 리턴하는 함수, solution을 완성하세요."
      ],
      "metadata": {
        "id": "yjZD00lNZhAH"
      }
    },
    {
      "cell_type": "code",
      "source": [
        "s = \"try hello world\"\t\n",
        "def solution(s):\n",
        "    s = s.split(' ')\n",
        "    answer = []\n",
        "    for i in s:\n",
        "        temp = ''\n",
        "        for idx, x in enumerate(i):\n",
        "            if idx % 2 == 0:\n",
        "                temp += x.upper()\n",
        "            else:\n",
        "                temp += x.lower()\n",
        "        answer.append(temp)\n",
        "    return ' '.join(answer)\n",
        "solution(s)"
      ],
      "metadata": {
        "colab": {
          "base_uri": "https://localhost:8080/",
          "height": 35
        },
        "id": "hcUPa-2SZBz-",
        "outputId": "5ddfeca4-9555-4a0c-f164-e96c65df7a8f"
      },
      "execution_count": 37,
      "outputs": [
        {
          "output_type": "execute_result",
          "data": {
            "text/plain": [
              "'TrY HeLlO WoRlD'"
            ],
            "application/vnd.google.colaboratory.intrinsic+json": {
              "type": "string"
            }
          },
          "metadata": {},
          "execution_count": 37
        }
      ]
    },
    {
      "cell_type": "markdown",
      "source": [
        "## 3진법 뒤집기\n",
        "자연수 n이 매개변수로 주어집니다. n을 3진법 상에서 앞뒤로 뒤집은 후, 이를 다시 10진법으로 표현한 수를 return 하도록 solution 함수를 완성해주세요."
      ],
      "metadata": {
        "id": "a3UMu_80eJsv"
      }
    },
    {
      "cell_type": "code",
      "source": [
        "n = 45\n",
        "def solution(n):\n",
        "    rev_base = ''\n",
        "    while n > 0:\n",
        "        n, mod = divmod(n,3)\n",
        "        rev_base += str(mod)\n",
        "    return int(rev_base,3)\n",
        "solution(n)"
      ],
      "metadata": {
        "colab": {
          "base_uri": "https://localhost:8080/"
        },
        "id": "zhwL9mTXashX",
        "outputId": "b8bb790e-e244-48c5-b4ab-989d43551868"
      },
      "execution_count": 42,
      "outputs": [
        {
          "output_type": "execute_result",
          "data": {
            "text/plain": [
              "7"
            ]
          },
          "metadata": {},
          "execution_count": 42
        }
      ]
    },
    {
      "cell_type": "markdown",
      "source": [
        "## 예산\n",
        "S사에서는 각 부서에 필요한 물품을 지원해 주기 위해 부서별로 물품을 구매하는데 필요한 금액을 조사했습니다. 그러나, 전체 예산이 정해져 있기 때문에 모든 부서의 물품을 구매해 줄 수는 없습니다. 그래서 최대한 많은 부서의 물품을 구매해 줄 수 있도록 하려고 합니다.\n",
        "\n",
        "물품을 구매해 줄 때는 각 부서가 신청한 금액만큼을 모두 지원해 줘야 합니다. 예를 들어 1,000원을 신청한 부서에는 정확히 1,000원을 지원해야 하며, 1,000원보다 적은 금액을 지원해 줄 수는 없습니다.\n",
        "\n",
        "부서별로 신청한 금액이 들어있는 배열 d와 예산 budget이 매개변수로 주어질 때, 최대 몇 개의 부서에 물품을 지원할 수 있는지 return 하도록 solution 함수를 완성해주세요."
      ],
      "metadata": {
        "id": "RSn04y4ZgClj"
      }
    },
    {
      "cell_type": "code",
      "source": [
        "d = [1,3,2,5,4]\n",
        "budget = 9\n",
        "def solution(d, budget):\n",
        "    sort = sorted(d)\n",
        "    answer = 0\n",
        "    for i in sort:\n",
        "        budget -= i\n",
        "        if budget < 0:\n",
        "           break\n",
        "        answer += 1\n",
        "    return answer\n",
        "solution(d, budget)"
      ],
      "metadata": {
        "colab": {
          "base_uri": "https://localhost:8080/"
        },
        "id": "HkZdSEyZeh48",
        "outputId": "901d4779-ad05-4a45-eb2f-584a6f9db22c"
      },
      "execution_count": 45,
      "outputs": [
        {
          "output_type": "execute_result",
          "data": {
            "text/plain": [
              "3"
            ]
          },
          "metadata": {},
          "execution_count": 45
        }
      ]
    },
    {
      "cell_type": "markdown",
      "source": [
        "## 35. 시저 암호\n",
        "어떤 문장의 각 알파벳을 일정한 거리만큼 밀어서 다른 알파벳으로 바꾸는 암호화 방식을 시저 암호라고 합니다. 예를 들어 \"AB\"는 1만큼 밀면 \"BC\"가 되고, 3만큼 밀면 \"DE\"가 됩니다. \"z\"는 1만큼 밀면 \"a\"가 됩니다. 문자열 s와 거리 n을 입력받아 s를 n만큼 민 암호문을 만드는 함수, solution을 완성해 보세요."
      ],
      "metadata": {
        "id": "iJ1IaExuh5C0"
      }
    },
    {
      "cell_type": "code",
      "source": [
        "s = \"AB\"\n",
        "n = 1\n",
        "def solution(s,n):\n",
        "    s = list(s)\n",
        "    for i in range(len(s)):\n",
        "        if s[i].isupper():\n",
        "            s[i] = chr((ord(s[i])-ord('A')+n)%26+ord('A'))\n",
        "        elif s[i].islower():\n",
        "            s[i] = chr((ord(s[i])-ord('a')+n)%26+ord('a'))\n",
        "    return ''.join(s)\n",
        "solution(s,n)"
      ],
      "metadata": {
        "colab": {
          "base_uri": "https://localhost:8080/",
          "height": 35
        },
        "id": "qqp-CW-6hi0i",
        "outputId": "2a8bf6b6-e667-4123-b3cf-7822423b3f93"
      },
      "execution_count": 62,
      "outputs": [
        {
          "output_type": "execute_result",
          "data": {
            "text/plain": [
              "'BC'"
            ],
            "application/vnd.google.colaboratory.intrinsic+json": {
              "type": "string"
            }
          },
          "metadata": {},
          "execution_count": 62
        }
      ]
    },
    {
      "cell_type": "code",
      "source": [],
      "metadata": {
        "id": "rGbgFxEZmc8u"
      },
      "execution_count": null,
      "outputs": []
    }
  ]
}