{
  "nbformat": 4,
  "nbformat_minor": 0,
  "metadata": {
    "colab": {
      "provenance": [],
      "authorship_tag": "ABX9TyNoHyBlN/1hb7E3gCaeth0H",
      "include_colab_link": true
    },
    "kernelspec": {
      "name": "python3",
      "display_name": "Python 3"
    },
    "language_info": {
      "name": "python"
    }
  },
  "cells": [
    {
      "cell_type": "markdown",
      "metadata": {
        "id": "view-in-github",
        "colab_type": "text"
      },
      "source": [
        "<a href=\"https://colab.research.google.com/github/heokwon/Algorithm_Study/blob/main/Programmers/LV.1/Programmer's_Lv_1.ipynb\" target=\"_parent\"><img src=\"https://colab.research.google.com/assets/colab-badge.svg\" alt=\"Open In Colab\"/></a>"
      ]
    },
    {
      "cell_type": "markdown",
      "source": [
        "## 짝수와 홀수\n",
        "점수 num이 짝수일 경우 \"Even\"을 반환하고 홀수인 경우 \"Odd\"를 반환하는 함수, solutino을 완성해 주세요"
      ],
      "metadata": {
        "id": "FaTwjL6lp9rT"
      }
    },
    {
      "cell_type": "code",
      "execution_count": 2,
      "metadata": {
        "colab": {
          "base_uri": "https://localhost:8080/",
          "height": 35
        },
        "id": "4M8Lj4NIp3mj",
        "outputId": "1dee29c0-2d8a-4b78-a4e9-c68a614c50ca"
      },
      "outputs": [
        {
          "output_type": "execute_result",
          "data": {
            "text/plain": [
              "'Odd'"
            ],
            "application/vnd.google.colaboratory.intrinsic+json": {
              "type": "string"
            }
          },
          "metadata": {},
          "execution_count": 2
        }
      ],
      "source": [
        "def solution(num):\n",
        "    if num % 2 == 0:\n",
        "      return \"Even\"\n",
        "    else:\n",
        "      return \"Odd\"\n",
        "solution(3)"
      ]
    },
    {
      "cell_type": "markdown",
      "source": [
        "## 평균 구하기\n",
        "정수를 담고 있는 배열 arr의 평균값을 return하는 함수, solution을 완성해보세요."
      ],
      "metadata": {
        "id": "6bdhhHnsq0Dw"
      }
    },
    {
      "cell_type": "code",
      "source": [
        "def solution(arr):\n",
        "    return sum(arr)/len(arr)\n",
        "arr = [1,2,3,4]\n",
        "solution(arr)"
      ],
      "metadata": {
        "colab": {
          "base_uri": "https://localhost:8080/"
        },
        "id": "7EfX8Rvpqanh",
        "outputId": "5544bdf0-859b-4338-d493-a092d19e848b"
      },
      "execution_count": 4,
      "outputs": [
        {
          "output_type": "execute_result",
          "data": {
            "text/plain": [
              "2.5"
            ]
          },
          "metadata": {},
          "execution_count": 4
        }
      ]
    },
    {
      "cell_type": "markdown",
      "source": [
        "## 약수의 합\n",
        "정수 n을 입력받아 n의 약수를 모두 더한 값을 리턴하는 함수, solution을 완성해주세요."
      ],
      "metadata": {
        "id": "dluOmHIKrzIK"
      }
    },
    {
      "cell_type": "code",
      "source": [
        "def solution(n):\n",
        "    answer = [i for i in range(1,n+1) if n%i==0]\n",
        "    return sum(answer)\n",
        "solution(12)"
      ],
      "metadata": {
        "colab": {
          "base_uri": "https://localhost:8080/"
        },
        "id": "FPE_ZNZdrCyk",
        "outputId": "a8dc4f4d-885d-49fe-80ba-bb15d7fd565b"
      },
      "execution_count": 7,
      "outputs": [
        {
          "output_type": "execute_result",
          "data": {
            "text/plain": [
              "28"
            ]
          },
          "metadata": {},
          "execution_count": 7
        }
      ]
    },
    {
      "cell_type": "markdown",
      "source": [
        "## 자릿수 더하기\n",
        "자연수 N이 주어지면, N의 각 자릿수의 합을 구해서 return하는 solution함수를 만들어 주세요. 예를들어 N=123이면 1+2+3=6을 return하면 됩니다."
      ],
      "metadata": {
        "id": "jzLKDMUrs6GW"
      }
    },
    {
      "cell_type": "code",
      "source": [
        "def solution(n):\n",
        "    return sum([int(i) for i in str(n)])\n",
        "solution(987)"
      ],
      "metadata": {
        "colab": {
          "base_uri": "https://localhost:8080/"
        },
        "id": "3_PsPuK0sKU7",
        "outputId": "fc307f91-c0e6-4d51-a865-f1c621dc0762"
      },
      "execution_count": 18,
      "outputs": [
        {
          "output_type": "execute_result",
          "data": {
            "text/plain": [
              "24"
            ]
          },
          "metadata": {},
          "execution_count": 18
        }
      ]
    },
    {
      "cell_type": "markdown",
      "source": [
        "## 자연수 뒤집어 배열로 만들기\n",
        "자연수 n을 뒤집어 각 자리 숫자를 원소로 가지는 배열 형태로 리턴해주세요. 예를들어 n이 12345이면 [5,4,3,2,1]을 리턴합니다."
      ],
      "metadata": {
        "id": "EYXsx50fuaYC"
      }
    },
    {
      "cell_type": "code",
      "source": [
        "n = 12345\n",
        "def solution(n):\n",
        "    return [int(i) for i in str(n)][::-1]\n",
        "\n",
        "## 또 다른 풀이\n",
        "def solution2(n):\n",
        "    return list(map(int, reversed(str(n))))\n",
        "solution2(n)"
      ],
      "metadata": {
        "colab": {
          "base_uri": "https://localhost:8080/"
        },
        "id": "tyYrQ3DltVil",
        "outputId": "91b57f4f-6938-4389-c40d-891087e1c6e7"
      },
      "execution_count": 23,
      "outputs": [
        {
          "output_type": "execute_result",
          "data": {
            "text/plain": [
              "[5, 4, 3, 2, 1]"
            ]
          },
          "metadata": {},
          "execution_count": 23
        }
      ]
    },
    {
      "cell_type": "markdown",
      "source": [
        "## 정수 제곱근 판별\n",
        "임의의 양의 정수 n에 대해, n이 어떤 양의 정수 x의 제곱인지 아닌지 판단하려 합니다.\n",
        "n이 양의 정수 x의 제곱이라면 x+1을 리턴하고,n이 양의 정수 x제곱이 아니라면 -1을 리턴하는 함수를 완성하세요."
      ],
      "metadata": {
        "id": "LYsNgKkhvhoz"
      }
    },
    {
      "cell_type": "code",
      "source": [
        "def solution(n):\n",
        "  if (n**(1/2)) == int(n**(1/2)):\n",
        "      return ((n**(1/2)) + 1)**2\n",
        "  else:\n",
        "      return -1\n",
        "n = 121\n",
        "solution(n)"
      ],
      "metadata": {
        "colab": {
          "base_uri": "https://localhost:8080/"
        },
        "id": "oMRnqvLdxNnq",
        "outputId": "2cf9acee-6e36-42eb-d2ff-b40afa10b958"
      },
      "execution_count": 42,
      "outputs": [
        {
          "output_type": "execute_result",
          "data": {
            "text/plain": [
              "144.0"
            ]
          },
          "metadata": {},
          "execution_count": 42
        }
      ]
    },
    {
      "cell_type": "markdown",
      "source": [
        "## 문자열 내 p와 y의 개수\n",
        "대문자와 소문자가 섞여있는 문자열 s가 주어집니다. s에 'p'의 개수와 'y'의 개수를 비교해 같으면 True, 다르면 False를 return하는 solution을 완성하세요. 'p','y'모두 하나도 없는 경우는 항상 True를 리턴합니다. 단, 개수를 비교할 때 대문자와 소문자는 구별하지 않습니다.\n",
        "\n",
        "예를 들어 s가 \"pPoooyY\"면 true를 return하고 \"Pyy\"라면 false를 리턴합니다."
      ],
      "metadata": {
        "id": "_NBmeSlMzEsB"
      }
    },
    {
      "cell_type": "code",
      "source": [
        "s = \"pPoooyY\"\n",
        "def solution(s):\n",
        "    ss = s.lower()\n",
        "    if ss.count('p') == ss.count('y'):\n",
        "        return True\n",
        "    else:\n",
        "        return False\n",
        "    if ss.count('p') == 0 and ss.count('y') == 0:\n",
        "        return True\n",
        "\n",
        "## 더 간단하게\n",
        "def solution2(s):\n",
        "    return s.lower().count('p') == s.lower().count('y')\n",
        "solution2(s)"
      ],
      "metadata": {
        "colab": {
          "base_uri": "https://localhost:8080/"
        },
        "id": "5xMwCJcSyadB",
        "outputId": "5caa0074-30d5-4757-e305-533ddb57d1be"
      },
      "execution_count": 50,
      "outputs": [
        {
          "output_type": "execute_result",
          "data": {
            "text/plain": [
              "True"
            ]
          },
          "metadata": {},
          "execution_count": 50
        }
      ]
    },
    {
      "cell_type": "markdown",
      "source": [
        "## 하샤드 수\n",
        "양의 정수 x가 하샤드 수이려면 x의 자릿수의 합으로 x가 나누어져야 합니다. 예를 들어 18의 자릿수 합은 1+8=9이고, 18은 9로 나누어 떨어지므로 18은 하샤드 수입니다. 자연수 x를 입력받아 x가 하샤드 수인지 아닌지 검사하는 함수, solution을 완성해주세요."
      ],
      "metadata": {
        "id": "vv-jqGim1E29"
      }
    },
    {
      "cell_type": "code",
      "source": [
        "x = 12\n",
        "def solution(x):\n",
        "    return x % sum([int(i) for i in str(x)]) == 0\n",
        "solution(x)"
      ],
      "metadata": {
        "colab": {
          "base_uri": "https://localhost:8080/"
        },
        "id": "6EdwRV_y1YK-",
        "outputId": "278764e4-4dd4-4144-b4c1-7c81eda4793d"
      },
      "execution_count": 54,
      "outputs": [
        {
          "output_type": "execute_result",
          "data": {
            "text/plain": [
              "True"
            ]
          },
          "metadata": {},
          "execution_count": 54
        }
      ]
    },
    {
      "cell_type": "markdown",
      "source": [
        "## 정수 내림차순으로 배치하기\n",
        "함수 solution은 정수 n을 매개변수로 입력받습니다. n의 각 자릿수를 큰것부터 작은 순으로 정렬한 새로운 정수를 리턴해주세요. 예를 들어 n이 118372면 873211을 리턴하면 됩니다."
      ],
      "metadata": {
        "id": "4M4d36pK4fli"
      }
    },
    {
      "cell_type": "code",
      "source": [
        "n = 118372\n",
        "def solution(n):\n",
        "    answer = ''\n",
        "    a = sorted([int(i) for i in str(n)],reverse=True)\n",
        "    for i in a:\n",
        "        answer += str(i)\n",
        "    return int(answer)\n",
        "solution(n)"
      ],
      "metadata": {
        "colab": {
          "base_uri": "https://localhost:8080/"
        },
        "id": "r8pd1HPd14br",
        "outputId": "61c82bd0-de24-4020-f133-cc453b8326ec"
      },
      "execution_count": 65,
      "outputs": [
        {
          "output_type": "execute_result",
          "data": {
            "text/plain": [
              "873211"
            ]
          },
          "metadata": {},
          "execution_count": 65
        }
      ]
    },
    {
      "cell_type": "markdown",
      "source": [
        "## 나머지가 1이 되는 수 찾기\n",
        "자연수 n이 매개변수로 주어집니다. n을 x로 나눈 나머지가 1이 되도록 하는 가장 작은 자연수 x를 return하도록 solution 함수를 완성해주세요. 답이 항상 존재함은 증명될 수 있습니다."
      ],
      "metadata": {
        "id": "N2bS4to55uqL"
      }
    },
    {
      "cell_type": "code",
      "source": [
        "n = 12\n",
        "def solution(n):\n",
        "    for i in range(1, n+1):\n",
        "        if n % i == 1:\n",
        "            answer = i\n",
        "            break\n",
        "    return answer\n",
        "\n",
        "## 또 다른 풀이\n",
        "def solution2(n):\n",
        "    return [i for i in range(1,n+1) if n%i == 1][0]\n",
        "solution2(n)"
      ],
      "metadata": {
        "colab": {
          "base_uri": "https://localhost:8080/"
        },
        "id": "kRWyLRws5BUJ",
        "outputId": "2b2597a0-3cd2-41d6-e53a-24a7fc7c8c9b"
      },
      "execution_count": 73,
      "outputs": [
        {
          "output_type": "execute_result",
          "data": {
            "text/plain": [
              "11"
            ]
          },
          "metadata": {},
          "execution_count": 73
        }
      ]
    },
    {
      "cell_type": "markdown",
      "source": [
        "## 문자열을 정수로 바꾸기\n",
        "문자열 s를 숫자로 변환한 결과를 반환하는 함수, solution을 완성하세요\n",
        "* s의 길이는 1 이상 5 이하 입니다.\n",
        "* s의 맨앞에는 부호(+,-)가 올 수 있습니다.\n",
        "* s는 부호와 숫자로만 이루어져있습니다.\n",
        "* s는 \"0\"으로 시작하지 않습니다."
      ],
      "metadata": {
        "id": "L-gN9CRI8DjI"
      }
    },
    {
      "cell_type": "code",
      "source": [
        "a = \"-1234\"\n",
        "def solution(s):\n",
        "    return int(s)\n",
        "solution(a)"
      ],
      "metadata": {
        "colab": {
          "base_uri": "https://localhost:8080/"
        },
        "id": "wAEH_KJc6cui",
        "outputId": "8b6dd3b6-962f-4584-a88f-959f7b1dfc31"
      },
      "execution_count": 78,
      "outputs": [
        {
          "output_type": "execute_result",
          "data": {
            "text/plain": [
              "-1234"
            ]
          },
          "metadata": {},
          "execution_count": 78
        }
      ]
    },
    {
      "cell_type": "markdown",
      "source": [
        "## 12.x만큼 간격이 있는 n개의 숫자 \n",
        "함수 solution은 정수 x와 자연수 n을 입력받아, x부터 시작해 x씩 증가하는 숫자를 n개 지니는 리스트를 리턴해야 합니다. 다음 제한 조건을 보고, 조건을 만족하는 함수, solution을 완성해주세요.\n",
        "\n"
      ],
      "metadata": {
        "id": "91MZZ0z1-6kh"
      }
    },
    {
      "cell_type": "code",
      "source": [
        "x = 2\n",
        "n = 5\n",
        "def solution(x, n):\n",
        "    return [x*i for i in range(1,n+1)]\n",
        "solution(x,n)"
      ],
      "metadata": {
        "colab": {
          "base_uri": "https://localhost:8080/"
        },
        "id": "_V-KpHFh8iup",
        "outputId": "21e8fa4d-105f-4e16-8ee3-f12f9f06fdc9"
      },
      "execution_count": 80,
      "outputs": [
        {
          "output_type": "execute_result",
          "data": {
            "text/plain": [
              "[2, 4, 6, 8, 10]"
            ]
          },
          "metadata": {},
          "execution_count": 80
        }
      ]
    },
    {
      "cell_type": "markdown",
      "source": [
        "## 콜라츠 추측\n",
        "1937년 Collatz란 사람에 의해 제기된 이 추측은, 주어진 수가 1이 될 때까지 다음 작업을 반복하면, 모든 수를 1로 만들 수 있다는 추측입니다. 작업은 다음과 같습니다.\n",
        "\n",
        "1-1. 입력된 수가 짝수라면 2로 나눕니다. \n",
        "\n",
        "1-2. 입력된 수가 홀수라면 3을 곱하고 1을 더합니다. \n",
        "\n",
        "2, 결과로 나온 수에 같은 작업을 1이 될 때까지 반복합니다. \n",
        "\n",
        "예를 들어, 주어진 수가 6이라면 6 → 3 → 10 → 5 → 16 → 8 → 4 → 2 → 1 이 되어 총 8번 만에 1이 됩니다. 위 작업을 몇 번이나 반복해야 하는지 반환하는 함수, solution을 완성해 주세요. 단, 주어진 수가 1인 경우에는 0을, 작업을 500번 반복할 때까지 1이 되지 않는다면 –1을 반환해 주세요."
      ],
      "metadata": {
        "id": "TC-hS-fkAEpC"
      }
    },
    {
      "cell_type": "code",
      "source": [
        "n = 16\n",
        "def solution(num):\n",
        "    answer = 0\n",
        "    \n",
        "    while num != 1 :\n",
        "        if answer > 500 :\n",
        "            return -1\n",
        "        if num % 2 == 0 :\n",
        "            num = num/2\n",
        "        elif num % 2 == 1 :\n",
        "            num = num*3 + 1\n",
        "        answer += 1\n",
        "    return answer\n",
        "solution(n)"
      ],
      "metadata": {
        "colab": {
          "base_uri": "https://localhost:8080/"
        },
        "id": "0Uts6njU_ecm",
        "outputId": "f7c3c415-a838-4b96-948c-ed92f2d3e00b"
      },
      "execution_count": 94,
      "outputs": [
        {
          "output_type": "execute_result",
          "data": {
            "text/plain": [
              "4"
            ]
          },
          "metadata": {},
          "execution_count": 94
        }
      ]
    },
    {
      "cell_type": "markdown",
      "source": [
        "## 두 정수 사이의 합\n",
        "두 정수 a,b가 주어졌을 때 a와 b 사이에 속한 모든 정수의 합을 리턴하는 함수, solution을 완성하세요. 예를 들어 a=3, b=5인 경우, 3+4+5=12이므로 12를 리턴합니다\n",
        "* a와 b가 같은 경우는 둘 중 아무 수나 리턴하세요.\n",
        "* a와 b는 -10,000,000 이상 10,000,000 이하인 정수입니다.\n",
        "* a와 b의 대소관계는 정해져있지 않습니다."
      ],
      "metadata": {
        "id": "zulR0NPnDH-8"
      }
    },
    {
      "cell_type": "code",
      "source": [
        "a = 3\n",
        "b = 3\n",
        "def solution(a, b):\n",
        "    answer = 0\n",
        "    if a == b:\n",
        "        return a\n",
        "    else:\n",
        "        for i in range(min(a,b),max(a,b)+1):\n",
        "            answer += i\n",
        "        return answer\n",
        "\n",
        "## 다른풀이\n",
        "def solution2(a, b):\n",
        "    if a == b:\n",
        "        return a\n",
        "    else:\n",
        "        return sum(range(min(a,b),max(a,b)+1))\n",
        "solution2(a,b)"
      ],
      "metadata": {
        "colab": {
          "base_uri": "https://localhost:8080/"
        },
        "id": "uF9WQoQ5EP6r",
        "outputId": "1bc3084b-86fb-4aa6-84c6-24d58ff4118d"
      },
      "execution_count": 100,
      "outputs": [
        {
          "output_type": "execute_result",
          "data": {
            "text/plain": [
              "3"
            ]
          },
          "metadata": {},
          "execution_count": 100
        }
      ]
    },
    {
      "cell_type": "markdown",
      "source": [
        "## 15. 서울에서 김서방 찾기\n",
        "String형 배열 seoul의 element중 \"Kim\"의 위치 x를 찾아, \"김서방은 x에 있다\"는 String을 반환하는 함수, solution을 완성하세요. seoul에 \"Kim\"은 오직 한 번만 나타나며 잘못된 값이 입력되는 경우는 없습니다.\n",
        "* seoul은 길이 1 이상, 1000 이하인 배열입니다.\n",
        "* seoul의 원소는 길이 1 이상, 20 이하인 문자열입니다.\n",
        "* \"Kim\"은 반드시 seoul안에 포함되어 있습니다."
      ],
      "metadata": {
        "id": "xeBvBfSkFMSM"
      }
    },
    {
      "cell_type": "code",
      "source": [
        "seoul = [\"Jane\", \"Kim\"]\n",
        "def solution(seoul):\n",
        "    return f'김서방은 {seoul.index(\"Kim\")}에 있다'\n",
        "solution(seoul)"
      ],
      "metadata": {
        "colab": {
          "base_uri": "https://localhost:8080/",
          "height": 35
        },
        "id": "APvTlfYaEnvv",
        "outputId": "4c0e8944-c042-4f2a-da73-a42ffffb1ff4"
      },
      "execution_count": 103,
      "outputs": [
        {
          "output_type": "execute_result",
          "data": {
            "text/plain": [
              "'김서방은 1에 있다'"
            ],
            "application/vnd.google.colaboratory.intrinsic+json": {
              "type": "string"
            }
          },
          "metadata": {},
          "execution_count": 103
        }
      ]
    },
    {
      "cell_type": "code",
      "source": [],
      "metadata": {
        "id": "TFfbiBboHl8b"
      },
      "execution_count": null,
      "outputs": []
    }
  ]
}
