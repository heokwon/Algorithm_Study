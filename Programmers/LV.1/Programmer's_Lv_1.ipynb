{
  "nbformat": 4,
  "nbformat_minor": 0,
  "metadata": {
    "colab": {
      "provenance": [],
      "authorship_tag": "ABX9TyNs3oMGg5/wW60LmPVO0RwE",
      "include_colab_link": true
    },
    "kernelspec": {
      "name": "python3",
      "display_name": "Python 3"
    },
    "language_info": {
      "name": "python"
    }
  },
  "cells": [
    {
      "cell_type": "markdown",
      "metadata": {
        "id": "view-in-github",
        "colab_type": "text"
      },
      "source": [
        "<a href=\"https://colab.research.google.com/github/heokwon/Algorithm_Study/blob/main/Programmers/LV.1/Programmer's_Lv_1.ipynb\" target=\"_parent\"><img src=\"https://colab.research.google.com/assets/colab-badge.svg\" alt=\"Open In Colab\"/></a>"
      ]
    },
    {
      "cell_type": "markdown",
      "source": [
        "## 짝수와 홀수\n",
        "점수 num이 짝수일 경우 \"Even\"을 반환하고 홀수인 경우 \"Odd\"를 반환하는 함수, solutino을 완성해 주세요"
      ],
      "metadata": {
        "id": "FaTwjL6lp9rT"
      }
    },
    {
      "cell_type": "code",
      "execution_count": 2,
      "metadata": {
        "colab": {
          "base_uri": "https://localhost:8080/",
          "height": 35
        },
        "id": "4M8Lj4NIp3mj",
        "outputId": "1dee29c0-2d8a-4b78-a4e9-c68a614c50ca"
      },
      "outputs": [
        {
          "output_type": "execute_result",
          "data": {
            "text/plain": [
              "'Odd'"
            ],
            "application/vnd.google.colaboratory.intrinsic+json": {
              "type": "string"
            }
          },
          "metadata": {},
          "execution_count": 2
        }
      ],
      "source": [
        "def solution(num):\n",
        "    if num % 2 == 0:\n",
        "      return \"Even\"\n",
        "    else:\n",
        "      return \"Odd\"\n",
        "solution(3)"
      ]
    },
    {
      "cell_type": "markdown",
      "source": [
        "## 평균 구하기\n",
        "정수를 담고 있는 배열 arr의 평균값을 return하는 함수, solution을 완성해보세요."
      ],
      "metadata": {
        "id": "6bdhhHnsq0Dw"
      }
    },
    {
      "cell_type": "code",
      "source": [
        "def solution(arr):\n",
        "    return sum(arr)/len(arr)\n",
        "arr = [1,2,3,4]\n",
        "solution(arr)"
      ],
      "metadata": {
        "colab": {
          "base_uri": "https://localhost:8080/"
        },
        "id": "7EfX8Rvpqanh",
        "outputId": "5544bdf0-859b-4338-d493-a092d19e848b"
      },
      "execution_count": 4,
      "outputs": [
        {
          "output_type": "execute_result",
          "data": {
            "text/plain": [
              "2.5"
            ]
          },
          "metadata": {},
          "execution_count": 4
        }
      ]
    },
    {
      "cell_type": "markdown",
      "source": [
        "## 약수의 합\n",
        "정수 n을 입력받아 n의 약수를 모두 더한 값을 리턴하는 함수, solution을 완성해주세요."
      ],
      "metadata": {
        "id": "dluOmHIKrzIK"
      }
    },
    {
      "cell_type": "code",
      "source": [
        "def solution(n):\n",
        "    answer = [i for i in range(1,n+1) if n%i==0]\n",
        "    return sum(answer)\n",
        "solution(12)"
      ],
      "metadata": {
        "colab": {
          "base_uri": "https://localhost:8080/"
        },
        "id": "FPE_ZNZdrCyk",
        "outputId": "a8dc4f4d-885d-49fe-80ba-bb15d7fd565b"
      },
      "execution_count": 7,
      "outputs": [
        {
          "output_type": "execute_result",
          "data": {
            "text/plain": [
              "28"
            ]
          },
          "metadata": {},
          "execution_count": 7
        }
      ]
    },
    {
      "cell_type": "markdown",
      "source": [
        "## 자릿수 더하기\n",
        "자연수 N이 주어지면, N의 각 자릿수의 합을 구해서 return하는 solution함수를 만들어 주세요. 예를들어 N=123이면 1+2+3=6을 return하면 됩니다."
      ],
      "metadata": {
        "id": "jzLKDMUrs6GW"
      }
    },
    {
      "cell_type": "code",
      "source": [
        "def solution(n):\n",
        "    return sum([int(i) for i in str(n)])\n",
        "solution(987)"
      ],
      "metadata": {
        "colab": {
          "base_uri": "https://localhost:8080/"
        },
        "id": "3_PsPuK0sKU7",
        "outputId": "fc307f91-c0e6-4d51-a865-f1c621dc0762"
      },
      "execution_count": 18,
      "outputs": [
        {
          "output_type": "execute_result",
          "data": {
            "text/plain": [
              "24"
            ]
          },
          "metadata": {},
          "execution_count": 18
        }
      ]
    },
    {
      "cell_type": "markdown",
      "source": [
        "## 자연수 뒤집어 배열로 만들기\n",
        "자연수 n을 뒤집어 각 자리 숫자를 원소로 가지는 배열 형태로 리턴해주세요. 예를들어 n이 12345이면 [5,4,3,2,1]을 리턴합니다."
      ],
      "metadata": {
        "id": "EYXsx50fuaYC"
      }
    },
    {
      "cell_type": "code",
      "source": [
        "n = 12345\n",
        "def solution(n):\n",
        "    return [int(i) for i in str(n)][::-1]\n",
        "\n",
        "## 또 다른 풀이\n",
        "def solution2(n):\n",
        "    return list(map(int, reversed(str(n))))\n",
        "solution2(n)"
      ],
      "metadata": {
        "colab": {
          "base_uri": "https://localhost:8080/"
        },
        "id": "tyYrQ3DltVil",
        "outputId": "91b57f4f-6938-4389-c40d-891087e1c6e7"
      },
      "execution_count": 23,
      "outputs": [
        {
          "output_type": "execute_result",
          "data": {
            "text/plain": [
              "[5, 4, 3, 2, 1]"
            ]
          },
          "metadata": {},
          "execution_count": 23
        }
      ]
    },
    {
      "cell_type": "markdown",
      "source": [
        "## 정수 제곱근 판별\n",
        "임의의 양의 정수 n에 대해, n이 어떤 양의 정수 x의 제곱인지 아닌지 판단하려 합니다.\n",
        "n이 양의 정수 x의 제곱이라면 x+1을 리턴하고,n이 양의 정수 x제곱이 아니라면 -1을 리턴하는 함수를 완성하세요."
      ],
      "metadata": {
        "id": "LYsNgKkhvhoz"
      }
    },
    {
      "cell_type": "code",
      "source": [
        "def solution(n):\n",
        "  if (n**(1/2)) == int(n**(1/2)):\n",
        "      return ((n**(1/2)) + 1)**2\n",
        "  else:\n",
        "      return -1\n",
        "n = 121\n",
        "solution(n)"
      ],
      "metadata": {
        "colab": {
          "base_uri": "https://localhost:8080/"
        },
        "id": "oMRnqvLdxNnq",
        "outputId": "2cf9acee-6e36-42eb-d2ff-b40afa10b958"
      },
      "execution_count": 42,
      "outputs": [
        {
          "output_type": "execute_result",
          "data": {
            "text/plain": [
              "144.0"
            ]
          },
          "metadata": {},
          "execution_count": 42
        }
      ]
    },
    {
      "cell_type": "markdown",
      "source": [
        "## 문자열 내 p와 y의 개수\n",
        "대문자와 소문자가 섞여있는 문자열 s가 주어집니다. s에 'p'의 개수와 'y'의 개수를 비교해 같으면 True, 다르면 False를 return하는 solution을 완성하세요. 'p','y'모두 하나도 없는 경우는 항상 True를 리턴합니다. 단, 개수를 비교할 때 대문자와 소문자는 구별하지 않습니다.\n",
        "\n",
        "예를 들어 s가 \"pPoooyY\"면 true를 return하고 \"Pyy\"라면 false를 리턴합니다."
      ],
      "metadata": {
        "id": "_NBmeSlMzEsB"
      }
    },
    {
      "cell_type": "code",
      "source": [
        "s = \"pPoooyY\"\n",
        "def solution(s):\n",
        "    ss = s.lower()\n",
        "    if ss.count('p') == ss.count('y'):\n",
        "        return True\n",
        "    else:\n",
        "        return False\n",
        "    if ss.count('p') == 0 and ss.count('y') == 0:\n",
        "        return True\n",
        "\n",
        "## 더 간단하게\n",
        "def solution2(s):\n",
        "    return s.lower().count('p') == s.lower().count('y')\n",
        "solution2(s)"
      ],
      "metadata": {
        "colab": {
          "base_uri": "https://localhost:8080/"
        },
        "id": "5xMwCJcSyadB",
        "outputId": "5caa0074-30d5-4757-e305-533ddb57d1be"
      },
      "execution_count": 50,
      "outputs": [
        {
          "output_type": "execute_result",
          "data": {
            "text/plain": [
              "True"
            ]
          },
          "metadata": {},
          "execution_count": 50
        }
      ]
    },
    {
      "cell_type": "markdown",
      "source": [
        "## 하샤드 수\n",
        "양의 정수 x가 하샤드 수이려면 x의 자릿수의 합으로 x가 나누어져야 합니다. 예를 들어 18의 자릿수 합은 1+8=9이고, 18은 9로 나누어 떨어지므로 18은 하샤드 수입니다. 자연수 x를 입력받아 x가 하샤드 수인지 아닌지 검사하는 함수, solution을 완성해주세요."
      ],
      "metadata": {
        "id": "vv-jqGim1E29"
      }
    },
    {
      "cell_type": "code",
      "source": [
        "x = 12\n",
        "def solution(x):\n",
        "    return x % sum([int(i) for i in str(x)]) == 0\n",
        "solution(x)"
      ],
      "metadata": {
        "colab": {
          "base_uri": "https://localhost:8080/"
        },
        "id": "6EdwRV_y1YK-",
        "outputId": "278764e4-4dd4-4144-b4c1-7c81eda4793d"
      },
      "execution_count": 54,
      "outputs": [
        {
          "output_type": "execute_result",
          "data": {
            "text/plain": [
              "True"
            ]
          },
          "metadata": {},
          "execution_count": 54
        }
      ]
    },
    {
      "cell_type": "code",
      "source": [],
      "metadata": {
        "id": "r8pd1HPd14br"
      },
      "execution_count": null,
      "outputs": []
    }
  ]
}