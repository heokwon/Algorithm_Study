{
  "nbformat": 4,
  "nbformat_minor": 0,
  "metadata": {
    "colab": {
      "provenance": [],
      "collapsed_sections": [],
      "authorship_tag": "ABX9TyMuB6SkNBGiXKfvb5fbRMUB",
      "include_colab_link": true
    },
    "kernelspec": {
      "name": "python3",
      "display_name": "Python 3"
    },
    "language_info": {
      "name": "python"
    }
  },
  "cells": [
    {
      "cell_type": "markdown",
      "metadata": {
        "id": "view-in-github",
        "colab_type": "text"
      },
      "source": [
        "<a href=\"https://colab.research.google.com/github/heokwon/Algorithm_Study/blob/main/Programmers/LV.1/Programmer's_Lv1_(2).ipynb\" target=\"_parent\"><img src=\"https://colab.research.google.com/assets/colab-badge.svg\" alt=\"Open In Colab\"/></a>"
      ]
    },
    {
      "cell_type": "markdown",
      "source": [
        "## 핸드폰 번호 가리기\n",
        "프로그래머스 모바일은 개인정보 보호를 위해 고지서를 보낼 때 고객들의 전화번호의 일부를 가립니다. 전화번호가 문자열 phone_number로 주어졌을 때, 전화번호의 뒷 4자리를 제외한 나머지 숫자를 전부 * 으로 가린 문자열을 리턴하는 함수, solution을 완성해주세요."
      ],
      "metadata": {
        "id": "XIqguCIMhepT"
      }
    },
    {
      "cell_type": "code",
      "execution_count": 20,
      "metadata": {
        "colab": {
          "base_uri": "https://localhost:8080/",
          "height": 35
        },
        "id": "Tqb_qKVKyFQi",
        "outputId": "c817af99-63bb-474c-c5d2-5eaad676d162"
      },
      "outputs": [
        {
          "output_type": "execute_result",
          "data": {
            "text/plain": [
              "'*******4444'"
            ],
            "application/vnd.google.colaboratory.intrinsic+json": {
              "type": "string"
            }
          },
          "metadata": {},
          "execution_count": 20
        }
      ],
      "source": [
        "phone_number = \"01033334444\"\n",
        "def solution(phone_number):\n",
        "    answer = ''\n",
        "    a = phone_number[-4:]\n",
        "    b = phone_number[:-4]\n",
        "    for i in range(len(b)):\n",
        "        answer += '*'\n",
        "    return answer+a\n",
        "\n",
        "## 더 간단하게\n",
        "def solution2(phone_number):\n",
        "    return '*'*(len(phone_number)-4) + phone_number[-4:]\n",
        "solution2(phone_number)"
      ]
    },
    {
      "cell_type": "markdown",
      "source": [
        "## 나누어 떨어지는 숫자 배열\n",
        "array의 각 element중 divisor로 나누어 떨어지는 값을 오름차순으로 정렬한 배열을 반환하는 함수, solution을 작성해주세요. divisor로 나누어 떨어지는 element가 하나도 없다면 배열에 -1을 담아 반환하세요.\n",
        "* arr은 자연수를 담은 배열입니다.\n",
        "* 정수i,j에 대해 i≠j 이면 arr[i]≠arr[j]입니다.\n",
        "* divisor는 자연수입니다.\n",
        "* array는 길이 1이상인 배열입니다."
      ],
      "metadata": {
        "id": "caYe-NGZkFbJ"
      }
    },
    {
      "cell_type": "code",
      "source": [
        "arr = [5, 9, 7, 10]\n",
        "divisor = 5\n",
        "def solution(arr, divisor):\n",
        "    answer = [i for i in arr if i % divisor == 0]\n",
        "    if len(answer) > 0:\n",
        "        return sorted(answer, reverse=False)\n",
        "    else:\n",
        "        return [-1]\n",
        "solution(arr, divisor)"
      ],
      "metadata": {
        "colab": {
          "base_uri": "https://localhost:8080/"
        },
        "id": "hq7AZg5Xjtdl",
        "outputId": "938a542c-8e4e-4b4e-afac-c03c516ecc65"
      },
      "execution_count": 22,
      "outputs": [
        {
          "output_type": "execute_result",
          "data": {
            "text/plain": [
              "[5, 10]"
            ]
          },
          "metadata": {},
          "execution_count": 22
        }
      ]
    },
    {
      "cell_type": "markdown",
      "source": [
        "## 제일 작은 수 제거하기\n",
        "정수를 저장한 배열, arr에서 가장 작은 수를 제거한 배열을 리턴하는 함수, solution을 완성해주세요. 단, 리턴하려는 배열이 빈 배열인 경우엔 배열에 -1을 채워 리턴하세요. 예를들어 arr이 [4,3,2,1]인 경우는 [4,3,2]를 리턴하고, [10]면 [-1]을 리턴 합니다.\n",
        "* arr은 길이 1 이상인 배열입니다.\n",
        "* 인덱스 i,j에 대해 i≠ j이면 arr[i] ≠ arr[j] 입니다."
      ],
      "metadata": {
        "id": "N_uXFx9El-zk"
      }
    },
    {
      "cell_type": "code",
      "source": [
        "arr = [4,3,2,1]\n",
        "def solution(arr):\n",
        "    if len(arr)>1:\n",
        "        arr.remove(min(arr))\n",
        "        return arr\n",
        "    else:\n",
        "        return [-1]\n",
        "solution(arr)"
      ],
      "metadata": {
        "colab": {
          "base_uri": "https://localhost:8080/"
        },
        "id": "CKFK5h_-kyN9",
        "outputId": "4ee56edd-cd75-4575-d12f-8a6ec2e48a65"
      },
      "execution_count": 28,
      "outputs": [
        {
          "output_type": "execute_result",
          "data": {
            "text/plain": [
              "[4, 3, 2]"
            ]
          },
          "metadata": {},
          "execution_count": 28
        }
      ]
    },
    {
      "cell_type": "markdown",
      "source": [
        "## 음양 더하기\n",
        "어떤 정수들이 있습니다. 이 정수들의 절댓값을 차례대로 담은 정수 배열 absolutes와 이 정수들의 부호를 차례대로 담은 불리언 배열 signs가 매개변수로 주어집니다. 실제 정수들의 합을 구하여 return하도록 solution함수를 완성해주세요."
      ],
      "metadata": {
        "id": "VkyD8VA-oQLq"
      }
    },
    {
      "cell_type": "code",
      "source": [
        "absolutes = [4,7,12]\n",
        "signs = [True,False,True]\n",
        "def solution(absolutes, signs):\n",
        "    answer = []\n",
        "    for i in range(len(absolutes)):\n",
        "        if signs[i] == True:\n",
        "            answer.append(absolutes[i])\n",
        "        else:\n",
        "            answer.append(-absolutes[i])\n",
        "    return sum(answer)\n",
        "# solution(absolutes, signs)\n",
        "## 다른 풀이\n",
        "def solution2(absolutes, signs):\n",
        "    return sum(absolutes if sign else -absolutes for absolutes, sign in zip(absolutes, signs))\n",
        "solution2(absolutes, signs)"
      ],
      "metadata": {
        "colab": {
          "base_uri": "https://localhost:8080/"
        },
        "id": "AX1iVIGEmulb",
        "outputId": "7601e027-e91d-402a-b2fb-002399534e96"
      },
      "execution_count": 34,
      "outputs": [
        {
          "output_type": "execute_result",
          "data": {
            "text/plain": [
              "9"
            ]
          },
          "metadata": {},
          "execution_count": 34
        }
      ]
    },
    {
      "cell_type": "markdown",
      "source": [
        "## 없는 숫자 더하기\n",
        "0부터 9까지의 숫자 중 일부가 들어있는 정수 배열 numbers가 매개변수로 주어집니다. numbers에서 찾을 수 없는 0부터 9까지의 숫자를 모두 찾아 더한 수를 return 하도록 solution함수를 완성해주세요."
      ],
      "metadata": {
        "id": "FBk0AAoTqptR"
      }
    },
    {
      "cell_type": "code",
      "source": [
        "numbers = [1,2,3,4,6,7,8,0]\n",
        "def solution(numbers):\n",
        "    return sum([i for i in range(10) if i not in numbers])\n",
        "# solution(numbers)\n",
        "## 초간단 문제풀이\n",
        "def solution2(numbers):\n",
        "    return 45 - sum(numbers)\n",
        "solution2(numbers)"
      ],
      "metadata": {
        "colab": {
          "base_uri": "https://localhost:8080/"
        },
        "id": "q6zFBnmSpj4O",
        "outputId": "031a6f2c-6c74-46c5-f2ad-a39528b570cd"
      },
      "execution_count": 38,
      "outputs": [
        {
          "output_type": "execute_result",
          "data": {
            "text/plain": [
              "14"
            ]
          },
          "metadata": {},
          "execution_count": 38
        }
      ]
    },
    {
      "cell_type": "markdown",
      "source": [
        "## 가운데 글자 가져오기\n",
        "단어 s의 가운데 글자를 반환하는 함수, solution을 만들어 보세요. 단어의 길이가 짝수라면 가운데 두글자를 반환하면 됩니다.\n",
        "* s는 길이가 1 이상, 100 이하인 스트링 입니다."
      ],
      "metadata": {
        "id": "u0HtqOJfryC3"
      }
    },
    {
      "cell_type": "code",
      "source": [
        "s = \"abcde\"\n",
        "## 정확도 83.3 / 100\n",
        "def solution(s):\n",
        "    if len(s) % 2 == 0:\n",
        "        return s[len(s)//2-1:-(len(s)//2-1)]\n",
        "    else:\n",
        "        return s[len(s)//2:-(len(s)//2)]\n",
        "## 정확도 100 / 100\n",
        "def solution2(s):\n",
        "    if len(s) % 2 == 0:\n",
        "        return s[int(len(s)/2-1):int(len(s)/2+1)]\n",
        "    else:\n",
        "        return s[int(len(s)/2)]\n",
        "# solution2(s)\n",
        "## 더 간단한 풀이\n",
        "def solution3(s):\n",
        "    return s[(len(s)-1)//2:len(s)//2+1]\n",
        "solution3(s)"
      ],
      "metadata": {
        "colab": {
          "base_uri": "https://localhost:8080/",
          "height": 35
        },
        "id": "LaAmJ8RLrHwp",
        "outputId": "47bb6dfd-ea08-4efc-a695-6b42675f091e"
      },
      "execution_count": 50,
      "outputs": [
        {
          "output_type": "execute_result",
          "data": {
            "text/plain": [
              "'c'"
            ],
            "application/vnd.google.colaboratory.intrinsic+json": {
              "type": "string"
            }
          },
          "metadata": {},
          "execution_count": 50
        }
      ]
    },
    {
      "cell_type": "markdown",
      "source": [
        "## 수박수박수박수박수박수?\n",
        "길이가 n이고, \"수박수박수박수....\"와 같은 패턴을 유지하는 문자열을 리턴하는 함수, solution을 완성하세요. 예를들어 n이 4이면 \"수박수박\"을 리턴하고 3이라면 \"수박수\"를 리턴하면 됩니다."
      ],
      "metadata": {
        "id": "Iyslas-bwGfe"
      }
    },
    {
      "cell_type": "code",
      "source": [
        "n = 3\n",
        "def solution(n):\n",
        "    return \"\".join([\"수박\"[i%2] for i in range(n)])\n",
        "# solution(n)\n",
        "\n",
        "## 진짜 완전 간단한 풀이\n",
        "## 다른사람 풀이\n",
        "def solution2(n):\n",
        "    s = \"수박\" * n\n",
        "    return s[:n]\n",
        "solution2(n)"
      ],
      "metadata": {
        "colab": {
          "base_uri": "https://localhost:8080/",
          "height": 35
        },
        "id": "lkygTVYdssj-",
        "outputId": "7b51a5a0-91b3-459d-a30f-7e1c6897ce01"
      },
      "execution_count": 54,
      "outputs": [
        {
          "output_type": "execute_result",
          "data": {
            "text/plain": [
              "'수박수'"
            ],
            "application/vnd.google.colaboratory.intrinsic+json": {
              "type": "string"
            }
          },
          "metadata": {},
          "execution_count": 54
        }
      ]
    },
    {
      "cell_type": "markdown",
      "source": [
        "## 내적\n",
        "길이가 같은 두 1차원 정수 배열 a, b가 매개변수로 주어집니다. a와 b의 내적을 return 하도록 solution 함수를 완성해주세요.\n",
        "\n",
        "이때, a와 b의 내적은 a[0]*b[0] + a[1]*b[1] + ... + a[n-1]*b[n-1] 입니다. (n은 a, b의 길이)"
      ],
      "metadata": {
        "id": "ynXPh-7sxTHX"
      }
    },
    {
      "cell_type": "code",
      "source": [
        "a = [1,2,3,4]\n",
        "b = [-3,-1,0,2]\n",
        "def solution(a, b):\n",
        "    return sum([a[i]*b[i] for i in range(len(a))])\n",
        "# solution(a,b)\n",
        "\n",
        "## zip 을 이용한 문제풀이\n",
        "def solution2(a, b):\n",
        "    return sum([i*j for i,j in zip(a, b)])\n",
        "solution2(a,b)"
      ],
      "metadata": {
        "colab": {
          "base_uri": "https://localhost:8080/"
        },
        "id": "b4Cswq1twVJ0",
        "outputId": "f80fd107-11ec-4715-d51b-1494e45d73fc"
      },
      "execution_count": 58,
      "outputs": [
        {
          "output_type": "execute_result",
          "data": {
            "text/plain": [
              "3"
            ]
          },
          "metadata": {},
          "execution_count": 58
        }
      ]
    },
    {
      "cell_type": "markdown",
      "source": [
        "## 문자열 내림차순으로 배치하기\n",
        "문자열 s에 나타나는 문자를 큰것부터 작은 순으로 정렬해 새로운 문자열을 리턴하는 함수, solution을 완성해주세요.\n",
        "s는 영문 대소문자로만 구성되어 있으며, 대문자는 소문자보다 작은 것으로 간주합니다."
      ],
      "metadata": {
        "id": "QPk2BWwyzCR9"
      }
    },
    {
      "cell_type": "code",
      "source": [
        "s = \"Zbcdefg\"\n",
        "def solution(s):\n",
        "    return \"\".join(sorted(s, reverse=True))\n",
        "solution(s)"
      ],
      "metadata": {
        "colab": {
          "base_uri": "https://localhost:8080/",
          "height": 35
        },
        "id": "VolQ8QGryadJ",
        "outputId": "88da7d70-44a5-4d12-dba8-559a9073818c"
      },
      "execution_count": 62,
      "outputs": [
        {
          "output_type": "execute_result",
          "data": {
            "text/plain": [
              "'gfedcbZ'"
            ],
            "application/vnd.google.colaboratory.intrinsic+json": {
              "type": "string"
            }
          },
          "metadata": {},
          "execution_count": 62
        }
      ]
    },
    {
      "cell_type": "markdown",
      "source": [
        "## 25. 문자열 다루기 기본\n",
        "문자열 s의 길이가 4 혹은 6이고, 숫자로만 구성돼있는지 확인해주는 함수, solution을 완성하세요. 예를 들어 s가 \"a234\"이면 False를 리턴하고 \"1234\"라면 True를 리턴하면 됩니다."
      ],
      "metadata": {
        "id": "qzwCz9s50Io9"
      }
    },
    {
      "cell_type": "code",
      "source": [
        "s = \"1234\"\n",
        "def solution(s):\n",
        "    if len(s) == 4 or len(s) == 6:\n",
        "        return s.isdigit()\n",
        "    else:\n",
        "        return False\n",
        "# solution(s)\n",
        "\n",
        "## 더 간단하게\n",
        "def solution2(s):\n",
        "    return s.isdigit() and len(s) in (4,6)\n",
        "solution2(s)"
      ],
      "metadata": {
        "colab": {
          "base_uri": "https://localhost:8080/"
        },
        "id": "l1OBXvnszfgV",
        "outputId": "6ffc142d-90c0-4526-df08-3a800173b599"
      },
      "execution_count": 66,
      "outputs": [
        {
          "output_type": "execute_result",
          "data": {
            "text/plain": [
              "True"
            ]
          },
          "metadata": {},
          "execution_count": 66
        }
      ]
    },
    {
      "cell_type": "markdown",
      "source": [
        "## 약수의 개수와 덧셈\n",
        "두 정수 left와 right가 매개변수로 주어집니다. left부터 right까지의 모든 수들 중에서, 약수의 개수가 짝수인 수는 더하고, 약수의 개수가 홀수인 수는 뺀 수를 return 하도록 solution 함수를 완성해주세요."
      ],
      "metadata": {
        "id": "kaxYuIst1jiD"
      }
    },
    {
      "cell_type": "code",
      "source": [
        "left = 13\n",
        "right = 17\n",
        "def solution(left, right):\n",
        "    answer = 0\n",
        "    for i in range(left, right+1):\n",
        "      cnt = 0\n",
        "      for j in range(1, i+1):\n",
        "        if i%j==0:\n",
        "          cnt += 1\n",
        "      if cnt % 2 == 0:\n",
        "          answer += i\n",
        "      else:\n",
        "          answer -= i\n",
        "    return answer\n",
        "solution(left, right)"
      ],
      "metadata": {
        "colab": {
          "base_uri": "https://localhost:8080/"
        },
        "id": "QDrPHchk6Sn8",
        "outputId": "2ce15799-1645-4ae2-a002-c274f234c61a"
      },
      "execution_count": 81,
      "outputs": [
        {
          "output_type": "execute_result",
          "data": {
            "text/plain": [
              "43"
            ]
          },
          "metadata": {},
          "execution_count": 81
        }
      ]
    },
    {
      "cell_type": "markdown",
      "source": [
        "## 행렬의 덧셈\n",
        "행렬의 덧셈은 행과 열의 크기가 같은 두 행렬의 같은 행, 같은 열의 값을 서로 더한 결과가 됩니다. 2개의 행렬 arr1과 arr2를 입력받아, 행렬 덧셈의 결과를 반환하는 함수, solution을 완성해주세요."
      ],
      "metadata": {
        "id": "c496DMoh9aDC"
      }
    },
    {
      "cell_type": "code",
      "source": [
        "arr1 = [[1,2],[2,3]]\n",
        "arr2 = [[3,4],[5,6]]\n",
        "def solution2(arr1,arr2):\n",
        "    for i in range(len(arr1)) :\n",
        "        for j in range(len(arr1[0])):\n",
        "            arr1[i][j] += arr2[i][j] \n",
        "    return arr1\n",
        "solution2(arr1,arr2)"
      ],
      "metadata": {
        "colab": {
          "base_uri": "https://localhost:8080/"
        },
        "id": "o87p9TGf-9x8",
        "outputId": "8661f234-464f-4d12-c187-29d840de9890"
      },
      "execution_count": 89,
      "outputs": [
        {
          "output_type": "execute_result",
          "data": {
            "text/plain": [
              "[[4, 6], [7, 9]]"
            ]
          },
          "metadata": {},
          "execution_count": 89
        }
      ]
    },
    {
      "cell_type": "markdown",
      "source": [
        "## 부족한 금액 계산하기\n",
        "새로 생긴 놀이기구는 인기가 매우 많아 줄이 끊이질 않습니다. 이 놀이기구의 원래 이용료는 price원 인데, 놀이기구를 N 번 째 이용한다면 원래 이용료의 N배를 받기로 하였습니다. 즉, 처음 이용료가 100이었다면 2번째에는 200, 3번째에는 300으로 요금이 인상됩니다.\n",
        "놀이기구를 count번 타게 되면 현재 자신이 가지고 있는 금액에서 얼마가 모자라는지를 return 하도록 solution 함수를 완성하세요.\n",
        "단, 금액이 부족하지 않으면 0을 return 하세요."
      ],
      "metadata": {
        "id": "YEWlOPfMAFkQ"
      }
    },
    {
      "cell_type": "code",
      "source": [
        "price = 3\n",
        "money = 20\n",
        "count = 4\n",
        "## 정확성 95.7 / 100\n",
        "def solution(price, money, count):\n",
        "    answer = 0\n",
        "    for i in range(1, count+1):\n",
        "        answer += price*i\n",
        "    if answer > money:\n",
        "        return answer - money\n",
        "    else:\n",
        "        return 0\n",
        "solution(price, money, count)"
      ],
      "metadata": {
        "colab": {
          "base_uri": "https://localhost:8080/"
        },
        "id": "e1CxJxPv_v13",
        "outputId": "4c01d128-e97c-4ace-af93-ce1633495b4d"
      },
      "execution_count": 94,
      "outputs": [
        {
          "output_type": "execute_result",
          "data": {
            "text/plain": [
              "10"
            ]
          },
          "metadata": {},
          "execution_count": 94
        }
      ]
    },
    {
      "cell_type": "markdown",
      "source": [
        "## 직사각형 별찍기\n",
        "이 문제에는 표준 입력으로 두 개의 정수 n과 m이 주어집니다.\n",
        "\n",
        "별(*) 문자를 이용해 가로의 길이가 n, 세로의 길이가 m인 직사각형 형태를 출력해보세요."
      ],
      "metadata": {
        "id": "nykOPdpaCEgD"
      }
    },
    {
      "cell_type": "code",
      "source": [
        "a, b = map(int, input().strip().split(' '))\n",
        "answer = ('*'*a + '\\n')*b\n",
        "print(answer)"
      ],
      "metadata": {
        "colab": {
          "base_uri": "https://localhost:8080/"
        },
        "id": "Nk8W5OKEAr8F",
        "outputId": "a02db2c0-6f08-4674-8e4a-54158165b8f4"
      },
      "execution_count": 95,
      "outputs": [
        {
          "output_type": "stream",
          "name": "stdout",
          "text": [
            "5 3\n",
            "*****\n",
            "*****\n",
            "*****\n",
            "\n"
          ]
        }
      ]
    },
    {
      "cell_type": "markdown",
      "source": [
        "## 30.최대공약수와 최소공배수\n",
        "두 수를 입력받아 두 수의 최대공약수와 최소공배수를 반환하는 함수, solution을 완성해 보세요. 배열의 맨 앞에 최대공약수, 그다음 최소공배수를 넣어 반환하면 됩니다. 예를 들어 두 수 3, 12의 최대공약수는 3, 최소공배수는 12이므로 solution(3, 12)는 [3, 12]를 반환해야 합니다."
      ],
      "metadata": {
        "id": "MRHzPznYC4X5"
      }
    },
    {
      "cell_type": "code",
      "source": [
        "n = 3\n",
        "m = 12\n",
        "def solution(n, m):\n",
        "    answer = []\n",
        "    for i in range(min(n,m),0,-1):\n",
        "        if n % i == 0 and m % i == 0 :\n",
        "            answer.append(i)\n",
        "            break\n",
        "    for i in range(max(n,m),(n*m)+1):\n",
        "        if i % n == 0 and i % m == 0:\n",
        "            answer.append(i)\n",
        "            break\n",
        "    return answer\n",
        "solution(n,m)"
      ],
      "metadata": {
        "colab": {
          "base_uri": "https://localhost:8080/"
        },
        "id": "IqrCJ1LZC4zg",
        "outputId": "b763aac7-7779-46d5-cc2d-60d7d4ed77b8"
      },
      "execution_count": 98,
      "outputs": [
        {
          "output_type": "execute_result",
          "data": {
            "text/plain": [
              "[3, 12]"
            ]
          },
          "metadata": {},
          "execution_count": 98
        }
      ]
    },
    {
      "cell_type": "code",
      "source": [],
      "metadata": {
        "id": "z-IbiDaYD_1A"
      },
      "execution_count": null,
      "outputs": []
    }
  ]
}