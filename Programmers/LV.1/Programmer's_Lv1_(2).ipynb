{
  "nbformat": 4,
  "nbformat_minor": 0,
  "metadata": {
    "colab": {
      "provenance": [],
      "authorship_tag": "ABX9TyPhhVoF/jRWkOO7kQ+WtIeS",
      "include_colab_link": true
    },
    "kernelspec": {
      "name": "python3",
      "display_name": "Python 3"
    },
    "language_info": {
      "name": "python"
    }
  },
  "cells": [
    {
      "cell_type": "markdown",
      "metadata": {
        "id": "view-in-github",
        "colab_type": "text"
      },
      "source": [
        "<a href=\"https://colab.research.google.com/github/heokwon/Algorithm_Study/blob/main/Programmers/LV.1/Programmer's_Lv1_(2).ipynb\" target=\"_parent\"><img src=\"https://colab.research.google.com/assets/colab-badge.svg\" alt=\"Open In Colab\"/></a>"
      ]
    },
    {
      "cell_type": "markdown",
      "source": [
        "## 핸드폰 번호 가리기\n",
        "프로그래머스 모바일은 개인정보 보호를 위해 고지서를 보낼 때 고객들의 전화번호의 일부를 가립니다. 전화번호가 문자열 phone_number로 주어졌을 때, 전화번호의 뒷 4자리를 제외한 나머지 숫자를 전부 * 으로 가린 문자열을 리턴하는 함수, solution을 완성해주세요."
      ],
      "metadata": {
        "id": "XIqguCIMhepT"
      }
    },
    {
      "cell_type": "code",
      "execution_count": 20,
      "metadata": {
        "colab": {
          "base_uri": "https://localhost:8080/",
          "height": 35
        },
        "id": "Tqb_qKVKyFQi",
        "outputId": "c817af99-63bb-474c-c5d2-5eaad676d162"
      },
      "outputs": [
        {
          "output_type": "execute_result",
          "data": {
            "text/plain": [
              "'*******4444'"
            ],
            "application/vnd.google.colaboratory.intrinsic+json": {
              "type": "string"
            }
          },
          "metadata": {},
          "execution_count": 20
        }
      ],
      "source": [
        "phone_number = \"01033334444\"\n",
        "def solution(phone_number):\n",
        "    answer = ''\n",
        "    a = phone_number[-4:]\n",
        "    b = phone_number[:-4]\n",
        "    for i in range(len(b)):\n",
        "        answer += '*'\n",
        "    return answer+a\n",
        "\n",
        "## 더 간단하게\n",
        "def solution2(phone_number):\n",
        "    return '*'*(len(phone_number)-4) + phone_number[-4:]\n",
        "solution2(phone_number)"
      ]
    },
    {
      "cell_type": "markdown",
      "source": [
        "## 나누어 떨어지는 숫자 배열\n",
        "array의 각 element중 divisor로 나누어 떨어지는 값을 오름차순으로 정렬한 배열을 반환하는 함수, solution을 작성해주세요. divisor로 나누어 떨어지는 element가 하나도 없다면 배열에 -1을 담아 반환하세요.\n",
        "* arr은 자연수를 담은 배열입니다.\n",
        "* 정수i,j에 대해 i≠j 이면 arr[i]≠arr[j]입니다.\n",
        "* divisor는 자연수입니다.\n",
        "* array는 길이 1이상인 배열입니다."
      ],
      "metadata": {
        "id": "caYe-NGZkFbJ"
      }
    },
    {
      "cell_type": "code",
      "source": [
        "arr = [5, 9, 7, 10]\n",
        "divisor = 5\n",
        "def solution(arr, divisor):\n",
        "    answer = [i for i in arr if i % divisor == 0]\n",
        "    if len(answer) > 0:\n",
        "        return sorted(answer, reverse=False)\n",
        "    else:\n",
        "        return [-1]\n",
        "solution(arr, divisor)"
      ],
      "metadata": {
        "colab": {
          "base_uri": "https://localhost:8080/"
        },
        "id": "hq7AZg5Xjtdl",
        "outputId": "938a542c-8e4e-4b4e-afac-c03c516ecc65"
      },
      "execution_count": 22,
      "outputs": [
        {
          "output_type": "execute_result",
          "data": {
            "text/plain": [
              "[5, 10]"
            ]
          },
          "metadata": {},
          "execution_count": 22
        }
      ]
    },
    {
      "cell_type": "markdown",
      "source": [
        "## 제일 작은 수 제거하기\n",
        "정수를 저장한 배열, arr에서 가장 작은 수를 제거한 배열을 리턴하는 함수, solution을 완성해주세요. 단, 리턴하려는 배열이 빈 배열인 경우엔 배열에 -1을 채워 리턴하세요. 예를들어 arr이 [4,3,2,1]인 경우는 [4,3,2]를 리턴하고, [10]면 [-1]을 리턴 합니다.\n",
        "* arr은 길이 1 이상인 배열입니다.\n",
        "* 인덱스 i,j에 대해 i≠ j이면 arr[i] ≠ arr[j] 입니다."
      ],
      "metadata": {
        "id": "N_uXFx9El-zk"
      }
    },
    {
      "cell_type": "code",
      "source": [
        "arr = [4,3,2,1]\n",
        "def solution(arr):\n",
        "    if len(arr)>1:\n",
        "        arr.remove(min(arr))\n",
        "        return arr\n",
        "    else:\n",
        "        return [-1]\n",
        "solution(arr)"
      ],
      "metadata": {
        "colab": {
          "base_uri": "https://localhost:8080/"
        },
        "id": "CKFK5h_-kyN9",
        "outputId": "4ee56edd-cd75-4575-d12f-8a6ec2e48a65"
      },
      "execution_count": 28,
      "outputs": [
        {
          "output_type": "execute_result",
          "data": {
            "text/plain": [
              "[4, 3, 2]"
            ]
          },
          "metadata": {},
          "execution_count": 28
        }
      ]
    },
    {
      "cell_type": "markdown",
      "source": [
        "## 음양 더하기\n",
        "어떤 정수들이 있습니다. 이 정수들의 절댓값을 차례대로 담은 정수 배열 absolutes와 이 정수들의 부호를 차례대로 담은 불리언 배열 signs가 매개변수로 주어집니다. 실제 정수들의 합을 구하여 return하도록 solution함수를 완성해주세요."
      ],
      "metadata": {
        "id": "VkyD8VA-oQLq"
      }
    },
    {
      "cell_type": "code",
      "source": [
        "absolutes = [4,7,12]\n",
        "signs = [True,False,True]\n",
        "def solution(absolutes, signs):\n",
        "    answer = []\n",
        "    for i in range(len(absolutes)):\n",
        "        if signs[i] == True:\n",
        "            answer.append(absolutes[i])\n",
        "        else:\n",
        "            answer.append(-absolutes[i])\n",
        "    return sum(answer)\n",
        "# solution(absolutes, signs)\n",
        "## 다른 풀이\n",
        "def solution2(absolutes, signs):\n",
        "    return sum(absolutes if sign else -absolutes for absolutes, sign in zip(absolutes, signs))\n",
        "solution2(absolutes, signs)"
      ],
      "metadata": {
        "colab": {
          "base_uri": "https://localhost:8080/"
        },
        "id": "AX1iVIGEmulb",
        "outputId": "7601e027-e91d-402a-b2fb-002399534e96"
      },
      "execution_count": 34,
      "outputs": [
        {
          "output_type": "execute_result",
          "data": {
            "text/plain": [
              "9"
            ]
          },
          "metadata": {},
          "execution_count": 34
        }
      ]
    },
    {
      "cell_type": "markdown",
      "source": [
        "## 없는 숫자 더하기\n",
        "0부터 9까지의 숫자 중 일부가 들어있는 정수 배열 numbers가 매개변수로 주어집니다. numbers에서 찾을 수 없는 0부터 9까지의 숫자를 모두 찾아 더한 수를 return 하도록 solution함수를 완성해주세요."
      ],
      "metadata": {
        "id": "FBk0AAoTqptR"
      }
    },
    {
      "cell_type": "code",
      "source": [
        "numbers = [1,2,3,4,6,7,8,0]\n",
        "def solution(numbers):\n",
        "    return sum([i for i in range(10) if i not in numbers])\n",
        "# solution(numbers)\n",
        "## 초간단 문제풀이\n",
        "def solution2(numbers):\n",
        "    return 45 - sum(numbers)\n",
        "solution2(numbers)"
      ],
      "metadata": {
        "colab": {
          "base_uri": "https://localhost:8080/"
        },
        "id": "q6zFBnmSpj4O",
        "outputId": "031a6f2c-6c74-46c5-f2ad-a39528b570cd"
      },
      "execution_count": 38,
      "outputs": [
        {
          "output_type": "execute_result",
          "data": {
            "text/plain": [
              "14"
            ]
          },
          "metadata": {},
          "execution_count": 38
        }
      ]
    },
    {
      "cell_type": "markdown",
      "source": [
        "## 가운데 글자 가져오기\n",
        "단어 s의 가운데 글자를 반환하는 함수, solution을 만들어 보세요. 단어의 길이가 짝수라면 가운데 두글자를 반환하면 됩니다.\n",
        "* s는 길이가 1 이상, 100 이하인 스트링 입니다."
      ],
      "metadata": {
        "id": "u0HtqOJfryC3"
      }
    },
    {
      "cell_type": "code",
      "source": [
        "s = \"abcde\"\n",
        "## 정확도 83.3 / 100\n",
        "def solution(s):\n",
        "    if len(s) % 2 == 0:\n",
        "        return s[len(s)//2-1:-(len(s)//2-1)]\n",
        "    else:\n",
        "        return s[len(s)//2:-(len(s)//2)]\n",
        "## 정확도 100 / 100\n",
        "def solution2(s):\n",
        "    if len(s) % 2 == 0:\n",
        "        return s[int(len(s)/2-1):int(len(s)/2+1)]\n",
        "    else:\n",
        "        return s[int(len(s)/2)]\n",
        "# solution2(s)\n",
        "## 더 간단한 풀이\n",
        "def solution3(s):\n",
        "    return s[(len(s)-1)//2:len(s)//2+1]\n",
        "solution3(s)"
      ],
      "metadata": {
        "colab": {
          "base_uri": "https://localhost:8080/",
          "height": 35
        },
        "id": "LaAmJ8RLrHwp",
        "outputId": "47bb6dfd-ea08-4efc-a695-6b42675f091e"
      },
      "execution_count": 50,
      "outputs": [
        {
          "output_type": "execute_result",
          "data": {
            "text/plain": [
              "'c'"
            ],
            "application/vnd.google.colaboratory.intrinsic+json": {
              "type": "string"
            }
          },
          "metadata": {},
          "execution_count": 50
        }
      ]
    },
    {
      "cell_type": "code",
      "source": [],
      "metadata": {
        "id": "lkygTVYdssj-"
      },
      "execution_count": null,
      "outputs": []
    }
  ]
}