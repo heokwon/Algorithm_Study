{
  "nbformat": 4,
  "nbformat_minor": 0,
  "metadata": {
    "colab": {
      "provenance": [],
      "collapsed_sections": [],
      "authorship_tag": "ABX9TyO4QN2ENhaRPNVZXwtfDJE8",
      "include_colab_link": true
    },
    "kernelspec": {
      "name": "python3",
      "display_name": "Python 3"
    },
    "language_info": {
      "name": "python"
    }
  },
  "cells": [
    {
      "cell_type": "markdown",
      "metadata": {
        "id": "view-in-github",
        "colab_type": "text"
      },
      "source": [
        "<a href=\"https://colab.research.google.com/github/heokwon/Algorithm_Study/blob/main/Programmers/Programmer's_Lv_0_(3).ipynb\" target=\"_parent\"><img src=\"https://colab.research.google.com/assets/colab-badge.svg\" alt=\"Open In Colab\"/></a>"
      ]
    },
    {
      "cell_type": "code",
      "execution_count": 1,
      "metadata": {
        "colab": {
          "base_uri": "https://localhost:8080/"
        },
        "id": "3PQcK_t5Ck4T",
        "outputId": "d0bc4276-ebc1-4f0f-f6e1-7281e94b07f4"
      },
      "outputs": [
        {
          "output_type": "stream",
          "name": "stdout",
          "text": [
            "5\n",
            "*\n",
            "**\n",
            "***\n",
            "****\n",
            "*****\n"
          ]
        }
      ],
      "source": [
        "# 문제 설명\n",
        "# \"*\"의 높이와 너비를 1이라고 했을 때, \"*\"을 이용해 직각 이등변 삼각형을 \n",
        "# 그리려고합니다. 정수 n 이 주어지면 높이와 너비가 n 인 직각 이등변 삼각형\n",
        "# 을 출력하도록 코드를 작성해보세요.\n",
        "n = int(input())\n",
        "for i in range(n):\n",
        "    print('*'*(i+1))"
      ]
    },
    {
      "cell_type": "code",
      "source": [
        "# 문제 설명\n",
        "# 개미 군단이 사냥을 나가려고 합니다. 개미군단은 사냥감의 체력에 딱 맞는 병력을 \n",
        "# 데리고 나가려고 합니다. 장군개미는 5의 공격력을, 병정개미는 3의 공격력을 일개\n",
        "# 미는 1의 공격력을 가지고 있습니다. 예를 들어 체력 23의 여치를 사냥하려고 할 때, \n",
        "# 일개미 23마리를 데리고 가도 되지만, 장군개미 네 마리와 병정개미 한 마리를 데리고 \n",
        "# 간다면 더 적은 병력으로 사냥할 수 있습니다. 사냥감의 체력 hp가 매개변수로 주어질 때, \n",
        "# 사냥감의 체력에 딱 맞게 최소한의 병력을 구성하려면 몇 마리의 개미가 필요한지를 \n",
        "# return하도록 solution 함수를 완성해주세요.\n",
        "# 장군개미 = 5\n",
        "# 병정개미 = 3\n",
        "# 일개미 = 1\n",
        "# 사냥감의 체력에 딱 맞게 최소한의 병력을 구성\n",
        "def solution(hp):\n",
        "    a = (hp // 5)\n",
        "    b = (hp % 5) // 3\n",
        "    c = ((hp % 5) % 3) // 1\n",
        "    return a+b+c\n",
        "solution(999)"
      ],
      "metadata": {
        "colab": {
          "base_uri": "https://localhost:8080/"
        },
        "id": "rjz8CuBED6oa",
        "outputId": "ff828826-21de-430a-d70a-a73e2f600625"
      },
      "execution_count": 12,
      "outputs": [
        {
          "output_type": "execute_result",
          "data": {
            "text/plain": [
              "201"
            ]
          },
          "metadata": {},
          "execution_count": 12
        }
      ]
    },
    {
      "cell_type": "code",
      "source": [
        "# 문제 설명\n",
        "# 정수 num과 k가 매개변수로 주어질 때, num을 이루는 숫자 중에 k가 있으면 num의 \n",
        "# 그 숫자가 있는 자리 수를 return하고 없으면 -1을 return 하도록 solution 함수를 완성해보세요.\n",
        "num = 123456\n",
        "k = 7\n",
        "def solution(num, k):\n",
        "    answer = 0\n",
        "    for i in str(num):\n",
        "        answer += 1\n",
        "        if i == str(k):\n",
        "            break\n",
        "        if answer == len(str(num)):\n",
        "            return -1\n",
        "    return answer\n",
        "\n",
        "# 간단하게\n",
        "def solution2(num, k):\n",
        "    answer = (str(num).find(str(k))+1)\n",
        "    if answer == 0:\n",
        "        answer = -1\n",
        "    return answer\n",
        "\n",
        "solution(num, k)"
      ],
      "metadata": {
        "colab": {
          "base_uri": "https://localhost:8080/"
        },
        "id": "aqDwnFQBFPB1",
        "outputId": "7d7feaf3-651c-4b23-81bc-a7f06de735ec"
      },
      "execution_count": 41,
      "outputs": [
        {
          "output_type": "execute_result",
          "data": {
            "text/plain": [
              "-1"
            ]
          },
          "metadata": {},
          "execution_count": 41
        }
      ]
    },
    {
      "cell_type": "code",
      "source": [
        "solution2(num,k)"
      ],
      "metadata": {
        "colab": {
          "base_uri": "https://localhost:8080/"
        },
        "id": "GIbTr9dsHxj_",
        "outputId": "d3166706-c8b3-46ce-f12a-6539af2aa051"
      },
      "execution_count": 40,
      "outputs": [
        {
          "output_type": "execute_result",
          "data": {
            "text/plain": [
              "-1"
            ]
          },
          "metadata": {},
          "execution_count": 40
        }
      ]
    },
    {
      "cell_type": "code",
      "source": [
        "# 문제 설명\n",
        "# 우주여행을 하던 머쓱이는 엔진 고장으로 PROGRAMMERS-962 행성에 불시착하게 됐습니다. \n",
        "# 입국심사에서 나이를 말해야 하는데, PROGRAMMERS-962 행성에서는 나이를 알파벳으로 \n",
        "# 말하고 있습니다. a는 0, b는 1, c는 2, ..., j는 9입니다. 예를 들어 23살은 cd, 51살은 \n",
        "# fb로 표현합니다. 나이 age가 매개변수로 주어질 때 PROGRAMMER-962식 나이를 return하도록 \n",
        "# solution 함수를 완성해주세요.\n",
        "age = 100\n",
        "def solution1(age):\n",
        "    num = [i for i in range(0,10)]\n",
        "    alpha = ['a','b','c','d','e','f','g','h','i','j']\n",
        "    answer = ''\n",
        "    for i in str(age):\n",
        "        answer += alpha[int(i)]\n",
        "    return answer\n",
        "\n",
        "# ord : 문자를 아스키 코드 값으로 변환 , chr : 아스키 코드 값을 문자로 변환\n",
        "def solution2(age):\n",
        "    return ''.join([chr(ord('a')+int(i)) for i in str(age)])\n",
        "\n",
        "solution1(age)"
      ],
      "metadata": {
        "colab": {
          "base_uri": "https://localhost:8080/",
          "height": 35
        },
        "id": "aLbAaug1J2PI",
        "outputId": "030ae25c-d765-4a8b-c217-0828769e3299"
      },
      "execution_count": 58,
      "outputs": [
        {
          "output_type": "execute_result",
          "data": {
            "text/plain": [
              "'baa'"
            ],
            "application/vnd.google.colaboratory.intrinsic+json": {
              "type": "string"
            }
          },
          "metadata": {},
          "execution_count": 58
        }
      ]
    },
    {
      "cell_type": "code",
      "source": [
        "solution2(age)"
      ],
      "metadata": {
        "colab": {
          "base_uri": "https://localhost:8080/",
          "height": 35
        },
        "id": "4_qvimgQNJ0a",
        "outputId": "e58337f8-a125-4de3-fe68-935c390fd4ee"
      },
      "execution_count": 59,
      "outputs": [
        {
          "output_type": "execute_result",
          "data": {
            "text/plain": [
              "'baa'"
            ],
            "application/vnd.google.colaboratory.intrinsic+json": {
              "type": "string"
            }
          },
          "metadata": {},
          "execution_count": 59
        }
      ]
    },
    {
      "cell_type": "code",
      "source": [
        "# 문제 설명\n",
        "# 머쓱이는 행운의 숫자 7을 가장 좋아합니다. 정수 배열 array가 매개변수로 주어질 때, \n",
        "# 7이 총 몇 개 있는지 return 하도록 solution 함수를 완성해보세요.\n",
        "array = [7,77,17]\n",
        "def solution(array):\n",
        "    string = ''\n",
        "    answer = 0\n",
        "    for i in array:\n",
        "        string += str(i)\n",
        "    for j in string:\n",
        "        if j == str(7):\n",
        "            answer += 1\n",
        "    return answer\n",
        "\n",
        "# 더 간단하게\n",
        "def solution2(array):\n",
        "    answer = sum([str(i).count(\"7\") for i in array])\n",
        "    return answer\n",
        "solution(array)"
      ],
      "metadata": {
        "colab": {
          "base_uri": "https://localhost:8080/"
        },
        "id": "--0y6XokOC33",
        "outputId": "70cc468c-7ed0-41b7-da1c-cafeedaa20b6"
      },
      "execution_count": 70,
      "outputs": [
        {
          "output_type": "execute_result",
          "data": {
            "text/plain": [
              "4"
            ]
          },
          "metadata": {},
          "execution_count": 70
        }
      ]
    },
    {
      "cell_type": "code",
      "source": [
        "solution2(array)"
      ],
      "metadata": {
        "colab": {
          "base_uri": "https://localhost:8080/"
        },
        "id": "PIQDjrBaTmfe",
        "outputId": "ea330e7a-fa1c-4cb7-a817-8e5d62e407c5"
      },
      "execution_count": 71,
      "outputs": [
        {
          "output_type": "execute_result",
          "data": {
            "text/plain": [
              "4"
            ]
          },
          "metadata": {},
          "execution_count": 71
        }
      ]
    },
    {
      "cell_type": "code",
      "source": [
        "# 문제 설명\n",
        "# 머쓱이는 친구들과 369게임을 하고 있습니다. 369게임은 1부터 숫자를 하나씩 대며 \n",
        "# 3, 6, 9가 들어가는 숫자는 숫자 대신 3, 6, 9의 개수만큼 박수를 치는 게임입니다. \n",
        "# 머쓱이가 말해야하는 숫자 order가 매개변수로 주어질 때, 머쓱이가 쳐야할 박수 \n",
        "# 횟수를 return 하도록 solution 함수를 완성해보세요.\n",
        "order = 29423\n",
        "def solution(order):\n",
        "    answer = 0\n",
        "    for i in str(order):\n",
        "        if int(i) % 3 == 0 and int(i) != 0:\n",
        "            answer += 1\n",
        "    return answer\n",
        "\n",
        "# 더 간단한 풀이\n",
        "def solution2(order):\n",
        "    return sum(map(lambda x: str(order).count(str(x)), [3, 6, 9]))\n",
        "\n",
        "solution(order)"
      ],
      "metadata": {
        "colab": {
          "base_uri": "https://localhost:8080/"
        },
        "id": "ZM5iL4x-VYqi",
        "outputId": "6157f823-e1c6-43cd-9b2e-20dd588ea884"
      },
      "execution_count": 77,
      "outputs": [
        {
          "output_type": "execute_result",
          "data": {
            "text/plain": [
              "2"
            ]
          },
          "metadata": {},
          "execution_count": 77
        }
      ]
    },
    {
      "cell_type": "code",
      "source": [
        "solution2(order)"
      ],
      "metadata": {
        "colab": {
          "base_uri": "https://localhost:8080/"
        },
        "id": "4uYRucn4WkUl",
        "outputId": "05eea708-be11-4cfa-d29a-f4e45b2d7120"
      },
      "execution_count": 79,
      "outputs": [
        {
          "output_type": "execute_result",
          "data": {
            "text/plain": [
              "2"
            ]
          },
          "metadata": {},
          "execution_count": 79
        }
      ]
    },
    {
      "cell_type": "code",
      "source": [
        "# 문제 설명\n",
        "# 순서쌍이란 두 개의 숫자를 순서를 정하여 짝지어 나타낸 쌍으로 (a, b)로 표기합니다. \n",
        "# 자연수 n이 매개변수로 주어질 때 두 숫자의 곱이 n인 자연수 순서쌍의 개수를 return하도록 \n",
        "# solution 함수를 완성해주세요.\n",
        "n = 100\n",
        "## 시간초과\n",
        "def solution(n):\n",
        "    answer = 0\n",
        "    for i in range(1, n+1):\n",
        "        for j in range(1, n+1):\n",
        "            if i * j == n:\n",
        "                answer += 1\n",
        "    return answer\n",
        "\n",
        "## 2번쨰 풀이\n",
        "def solution2(n):\n",
        "    answer = 0\n",
        "    for i in range(1, n+1):\n",
        "        if n % i == 0:\n",
        "            answer += 1\n",
        "    return answer\n",
        "solution2(n)"
      ],
      "metadata": {
        "colab": {
          "base_uri": "https://localhost:8080/"
        },
        "id": "u_siAI39XWY4",
        "outputId": "b4c77f68-66de-4b57-93d5-a142e7133fc1"
      },
      "execution_count": 83,
      "outputs": [
        {
          "output_type": "execute_result",
          "data": {
            "text/plain": [
              "9"
            ]
          },
          "metadata": {},
          "execution_count": 83
        }
      ]
    },
    {
      "cell_type": "code",
      "source": [
        "# 문제 설명\n",
        "# 문자열 before와 after가 매개변수로 주어질 때, before의 순서를 바꾸어 after를 \n",
        "# 만들 수 있으면 1을, 만들 수 없으면 0을 return 하도록 solution 함수를 완성해보세요.\n",
        "before = 'olleh'\n",
        "after = 'hello'\n",
        "\n",
        "def solution(before, after):\n",
        "    a = sorted(before)\n",
        "    b = sorted(after)\n",
        "    if a == b:\n",
        "        return 1\n",
        "    else:\n",
        "        return 0\n",
        "\n",
        "## 더 간단하게\n",
        "def solution2(before, after):\n",
        "    return 1 if \"\".join(sorted(before)) == \"\".join(sorted(after)) else 0\n",
        "\n",
        "solution(before, after)"
      ],
      "metadata": {
        "colab": {
          "base_uri": "https://localhost:8080/"
        },
        "id": "Utb8EuCAYhKd",
        "outputId": "a7d0508f-a413-4d4b-e87d-1f6fcb04953f"
      },
      "execution_count": 86,
      "outputs": [
        {
          "output_type": "execute_result",
          "data": {
            "text/plain": [
              "1"
            ]
          },
          "metadata": {},
          "execution_count": 86
        }
      ]
    },
    {
      "cell_type": "code",
      "source": [
        "solution2(before, after)"
      ],
      "metadata": {
        "colab": {
          "base_uri": "https://localhost:8080/"
        },
        "id": "mKaLNp0jb_Ma",
        "outputId": "8d3b98b7-c124-4d42-e4c0-b426d17e0945"
      },
      "execution_count": 87,
      "outputs": [
        {
          "output_type": "execute_result",
          "data": {
            "text/plain": [
              "1"
            ]
          },
          "metadata": {},
          "execution_count": 87
        }
      ]
    },
    {
      "cell_type": "code",
      "source": [
        "# 문제 설명\n",
        "# 문자열 my_string이 매개변수로 주어집니다. my_string에서 중복된 문자를 \n",
        "# 제거하고 하나의 문자만 남긴 문자열을 return하도록 solution 함수를 완성해주세요.\n",
        "def solution(my_string):\n",
        "    return ''.join(dict.fromkeys(my_string))\n",
        "my_string = 'We are the world'\n",
        "\n",
        "# 제일 많았던 문제풀이\n",
        "def solution2(my_string):\n",
        "    answer = ''\n",
        "    for i in my_string:\n",
        "        if i not in answer:\n",
        "            answer+=i\n",
        "    return answer\n",
        "solution(my_string)"
      ],
      "metadata": {
        "colab": {
          "base_uri": "https://localhost:8080/",
          "height": 35
        },
        "id": "zCbvsfUHcBY1",
        "outputId": "6480ffd6-b97f-4344-8738-34f4116f2195"
      },
      "execution_count": 91,
      "outputs": [
        {
          "output_type": "execute_result",
          "data": {
            "text/plain": [
              "'We arthwold'"
            ],
            "application/vnd.google.colaboratory.intrinsic+json": {
              "type": "string"
            }
          },
          "metadata": {},
          "execution_count": 91
        }
      ]
    },
    {
      "cell_type": "code",
      "source": [
        "solution2(my_string)"
      ],
      "metadata": {
        "colab": {
          "base_uri": "https://localhost:8080/",
          "height": 35
        },
        "id": "J0B3uuJ2dn_v",
        "outputId": "61e50631-8d61-4c7d-da4f-4f293df96db1"
      },
      "execution_count": 92,
      "outputs": [
        {
          "output_type": "execute_result",
          "data": {
            "text/plain": [
              "'We arthwold'"
            ],
            "application/vnd.google.colaboratory.intrinsic+json": {
              "type": "string"
            }
          },
          "metadata": {},
          "execution_count": 92
        }
      ]
    },
    {
      "cell_type": "code",
      "source": [
        "# 문제 설명\n",
        "# 머쓱이는 직육면체 모양의 상자를 하나 가지고 있는데 이 상자에 정육면체 모양의 \n",
        "# 주사위를 최대한 많이 채우고 싶습니다. 상자의 가로, 세로, 높이가 저장되어있는 \n",
        "# 배열 box와 주사위 모서리의 길이 정수 n이 매개변수로 주어졌을 때, 상자에 들어갈 \n",
        "# 수 있는 주사위의 최대 개수를 return 하도록 solution 함수를 완성해주세요.\n",
        "box = [10,8,6]\n",
        "n = 3\n",
        "def solution(box, n):\n",
        "    return (box[0]//n) * (box[1]//n) * (box[2]//n)\n",
        "solution(box, n)"
      ],
      "metadata": {
        "colab": {
          "base_uri": "https://localhost:8080/"
        },
        "id": "OoTGxK2OeyBk",
        "outputId": "9a9ba779-dd3c-4c63-8a3a-439bcc100f5f"
      },
      "execution_count": 107,
      "outputs": [
        {
          "output_type": "execute_result",
          "data": {
            "text/plain": [
              "12"
            ]
          },
          "metadata": {},
          "execution_count": 107
        }
      ]
    },
    {
      "cell_type": "code",
      "source": [],
      "metadata": {
        "id": "2v5TgZ_TgfEO"
      },
      "execution_count": null,
      "outputs": []
    }
  ]
}