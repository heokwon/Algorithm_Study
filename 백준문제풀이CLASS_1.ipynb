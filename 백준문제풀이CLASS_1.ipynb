{
  "nbformat": 4,
  "nbformat_minor": 0,
  "metadata": {
    "colab": {
      "provenance": [],
      "collapsed_sections": [],
      "authorship_tag": "ABX9TyN+zHBmapHyCGHXbYbeUxW/",
      "include_colab_link": true
    },
    "kernelspec": {
      "name": "python3",
      "display_name": "Python 3"
    },
    "language_info": {
      "name": "python"
    }
  },
  "cells": [
    {
      "cell_type": "markdown",
      "metadata": {
        "id": "view-in-github",
        "colab_type": "text"
      },
      "source": [
        "<a href=\"https://colab.research.google.com/github/heokwon/Algorithm_Study/blob/main/%EB%B0%B1%EC%A4%80%EB%AC%B8%EC%A0%9C%ED%92%80%EC%9D%B4CLASS_1.ipynb\" target=\"_parent\"><img src=\"https://colab.research.google.com/assets/colab-badge.svg\" alt=\"Open In Colab\"/></a>"
      ]
    },
    {
      "cell_type": "markdown",
      "source": [
        "###구구단\n",
        "N을 입력받은 뒤, 구구단 N단을 출력하는 프로그램을 작성하시오. 출력 형식에 맞춰서 출력하면 된다."
      ],
      "metadata": {
        "id": "rvFut1barTtc"
      }
    },
    {
      "cell_type": "code",
      "execution_count": null,
      "metadata": {
        "colab": {
          "base_uri": "https://localhost:8080/"
        },
        "id": "clIJ6GdYpVY5",
        "outputId": "2a6017ff-4049-48b7-ff52-1ca6d85241ac"
      },
      "outputs": [
        {
          "output_type": "stream",
          "name": "stdout",
          "text": [
            "2\n",
            "2 * 1 = 2\n",
            "2 * 2 = 4\n",
            "2 * 3 = 6\n",
            "2 * 4 = 8\n",
            "2 * 5 = 10\n",
            "2 * 6 = 12\n",
            "2 * 7 = 14\n",
            "2 * 8 = 16\n",
            "2 * 9 = 18\n"
          ]
        }
      ],
      "source": [
        "n = int(input())\n",
        "for i in range(1,10):\n",
        "  print(n,'*',i,'=',n*i)"
      ]
    },
    {
      "cell_type": "markdown",
      "source": [
        "###n 찍기\n",
        "자연수 N이 주어졌을 때, 1부터 N까지 한 줄에 하나씩 출력하는 프로그램을 작성하시오."
      ],
      "metadata": {
        "id": "6ZpoxPs-rrK8"
      }
    },
    {
      "cell_type": "code",
      "source": [
        "n = int(input())\n",
        "\n",
        "for i in range(1,n+1):\n",
        "  if n <= 100000:\n",
        "    print(i)"
      ],
      "metadata": {
        "colab": {
          "base_uri": "https://localhost:8080/"
        },
        "id": "fTM-fodKrLDl",
        "outputId": "e8eec119-23b7-4d3d-e2b3-690f1aba6de4"
      },
      "execution_count": null,
      "outputs": [
        {
          "output_type": "stream",
          "name": "stdout",
          "text": [
            "5\n",
            "1\n",
            "2\n",
            "3\n",
            "4\n",
            "5\n"
          ]
        }
      ]
    },
    {
      "cell_type": "markdown",
      "source": [
        "###윤년\n",
        "연도가 주어졌을 때, 윤년이면 1, 아니면 0을 출력하는 프로그램을 작성하시오.\n",
        "\n",
        "윤년은 연도가 4의 배수이면서, 100의 배수가 아닐 때 또는 400의 배수일 때이다.\n",
        "\n",
        "예를 들어, 2012년은 4의 배수이면서 100의 배수가 아니라서 윤년이다. 1900년은 100의 배수이고 400의 배수는 아니기 때문에 윤년이 아니다. 하지만, 2000년은 400의 배수이기 때문에 윤년이다."
      ],
      "metadata": {
        "id": "la6YReIcsvkx"
      }
    },
    {
      "cell_type": "code",
      "source": [
        "a = int(input())\n",
        "\n",
        "if (a % 4 == 0 and a % 100 != 0) or a % 400 == 0 :\n",
        "  print(1)\n",
        "else:\n",
        "  print(0) "
      ],
      "metadata": {
        "colab": {
          "base_uri": "https://localhost:8080/"
        },
        "id": "9l2Ix2PfsFSD",
        "outputId": "1b42eb55-1d0e-47af-93f1-e09a1ffb0bf8"
      },
      "execution_count": null,
      "outputs": [
        {
          "output_type": "stream",
          "name": "stdout",
          "text": [
            "4\n",
            "1\n"
          ]
        }
      ]
    },
    {
      "cell_type": "markdown",
      "source": [
        "###시험성적\n",
        "시험 점수를 입력받아 90 ~ 100점은 A, 80 ~ 89점은 B, 70 ~ 79점은 C, 60 ~ 69점은 D, 나머지 점수는 F를 출력하는 프로그램을 작성하시오.\n"
      ],
      "metadata": {
        "id": "QcyEvNcnttn7"
      }
    },
    {
      "cell_type": "markdown",
      "source": [
        "\n",
        "\n",
        "```\n",
        "내가 쓴 답\n",
        "```\n",
        "\n"
      ],
      "metadata": {
        "id": "AroL9TUNv7lG"
      }
    },
    {
      "cell_type": "code",
      "source": [
        "a = int(input())\n",
        "\n",
        "if 0 <= a <= 100:\n",
        "   if 90 <= a < 100:\n",
        "     print('A')\n",
        "   elif 80 <= a < 90:\n",
        "     print('B')\n",
        "   elif 70 <= a < 80:\n",
        "     print('C')\n",
        "   elif 60 <= a < 70:\n",
        "     print('D')\n",
        "   else:\n",
        "     print('F')"
      ],
      "metadata": {
        "colab": {
          "base_uri": "https://localhost:8080/"
        },
        "id": "vP-YqLaMtVgv",
        "outputId": "dbb1a9f8-1f60-49f9-b295-aaafe07fcc7d"
      },
      "execution_count": null,
      "outputs": [
        {
          "output_type": "stream",
          "name": "stdout",
          "text": [
            "79\n",
            "C\n"
          ]
        }
      ]
    },
    {
      "cell_type": "markdown",
      "source": [
        "\n",
        "\n",
        "```\n",
        "구글링한 답\n",
        "```\n",
        "\n"
      ],
      "metadata": {
        "id": "dCIxWjpJwA7o"
      }
    },
    {
      "cell_type": "code",
      "source": [
        "a = int(input())\n",
        "\n",
        "if a >= 90 :\n",
        "    print('A')\n",
        "elif a >= 80 :\n",
        "    print('B')\n",
        "elif a >= 70 :\n",
        "    print('C')\n",
        "elif a >= 60 :\n",
        "    print('D')\n",
        "else:\n",
        "    print('F')"
      ],
      "metadata": {
        "colab": {
          "base_uri": "https://localhost:8080/"
        },
        "id": "hZHxPUw8vex2",
        "outputId": "fe99848a-2699-4aca-dcb0-c30a8bc42f3b"
      },
      "execution_count": null,
      "outputs": [
        {
          "output_type": "stream",
          "name": "stdout",
          "text": [
            "89\n",
            "B\n"
          ]
        }
      ]
    },
    {
      "cell_type": "markdown",
      "source": [
        "###알파벳 찾기\n",
        "알파벳 소문자로만 이루어진 단어 S가 주어진다. 각각의 알파벳에 대해서, 단어에 포함되어 있는 경우에는 처음 등장하는 위치를, 포함되어 있지 않은 경우에는 -1을 출력하는 프로그램을 작성하시오."
      ],
      "metadata": {
        "id": "RLgWf3ylwiHR"
      }
    },
    {
      "cell_type": "code",
      "source": [
        "a = input()\n",
        "\n",
        "alphabet = list(map(chr,range(97,123))) # a-z까지는 아스키코드에서 숫자 97-122에 해당,\n",
        "                                        # range함수를 이용해서 97-122까지의 숫자 범위를chr()함수를 이용해서 \n",
        "                                        # 알파벳으로 만들어주고 리스트로 변환해줌\n",
        "for i in alphabet :\n",
        "  print(a.find(i))"
      ],
      "metadata": {
        "colab": {
          "base_uri": "https://localhost:8080/"
        },
        "id": "TlKl5yt2uKH3",
        "outputId": "055694a2-ba03-40bd-97ea-7f240c7b5b82"
      },
      "execution_count": null,
      "outputs": [
        {
          "output_type": "stream",
          "name": "stdout",
          "text": [
            "backjoon\n",
            "1\n",
            "0\n",
            "2\n",
            "-1\n",
            "-1\n",
            "-1\n",
            "-1\n",
            "-1\n",
            "-1\n",
            "4\n",
            "3\n",
            "-1\n",
            "-1\n",
            "7\n",
            "5\n",
            "-1\n",
            "-1\n",
            "-1\n",
            "-1\n",
            "-1\n",
            "-1\n",
            "-1\n",
            "-1\n",
            "-1\n",
            "-1\n",
            "-1\n"
          ]
        }
      ]
    },
    {
      "cell_type": "markdown",
      "source": [
        "###별찍기\n",
        "첫째 줄에는 별 1개, 둘째 줄에는 별 2개, N번째 줄에는 별 N개를 찍는 문제"
      ],
      "metadata": {
        "id": "ypHhlscjx_Pg"
      }
    },
    {
      "cell_type": "code",
      "source": [
        "a = int(input())\n",
        "\n",
        "for i in range(1,a+1):\n",
        "  if 1 <= a <= 100:\n",
        "    print('*'*i)"
      ],
      "metadata": {
        "colab": {
          "base_uri": "https://localhost:8080/"
        },
        "id": "1yxazOJyxEky",
        "outputId": "064acafd-d529-4737-cdb1-eda17cddbc39"
      },
      "execution_count": null,
      "outputs": [
        {
          "output_type": "stream",
          "name": "stdout",
          "text": [
            "5\n",
            "*\n",
            "**\n",
            "***\n",
            "****\n",
            "*****\n"
          ]
        }
      ]
    },
    {
      "cell_type": "markdown",
      "source": [
        "###A+B-3\n",
        "두 정수 A와 B를 입력받은 다음, A+B를 출력하는 프로그램을 작성하시오."
      ],
      "metadata": {
        "id": "ubncEhH8ynsx"
      }
    },
    {
      "cell_type": "code",
      "source": [
        "T = int(input())\n",
        "\n",
        "for i in range(T):\n",
        "  A,B = map(int,input().split())\n",
        "  print(A+B)"
      ],
      "metadata": {
        "colab": {
          "base_uri": "https://localhost:8080/"
        },
        "id": "MxR2tnvgyZOn",
        "outputId": "eb475cbb-e396-4f39-a43c-80174d1ab7e9"
      },
      "execution_count": null,
      "outputs": [
        {
          "output_type": "stream",
          "name": "stdout",
          "text": [
            "3\n",
            "1 1\n",
            "2\n",
            "1 3\n",
            "4\n",
            "2 4\n",
            "6\n"
          ]
        }
      ]
    },
    {
      "cell_type": "markdown",
      "source": [
        "###A+B -4\n",
        "두 정수 A와 B를 입력받은 다음, A+B를 출력하는 프로그램을 작성하시오.\n",
        "\n",
        "입력은 여러 개의 테스트 케이스로 이루어져 있다.\n",
        "\n",
        "각 테스트 케이스는 한 줄로 이루어져 있으며, 각 줄에 A와 B가 주어진다. (0 < A, B < 10)"
      ],
      "metadata": {
        "id": "NTluANwV0RH6"
      }
    },
    {
      "cell_type": "code",
      "source": [
        "while True:\n",
        "  try:\n",
        "    A, B = map(int, input().split())\n",
        "    print(A+B)\n",
        "  except:\n",
        "    break"
      ],
      "metadata": {
        "colab": {
          "base_uri": "https://localhost:8080/"
        },
        "id": "PdAKf9YZzTV_",
        "outputId": "4df4c8c6-9c21-45a0-a25c-d7c766c111a3"
      },
      "execution_count": null,
      "outputs": [
        {
          "name": "stdout",
          "output_type": "stream",
          "text": [
            "1 1\n",
            "2\n",
            "2 2\n",
            "4\n",
            "3 3\n",
            "6\n",
            "4 4\n",
            "8\n",
            "5 5\n",
            "10\n",
            "0 0\n",
            "0\n",
            "11\n"
          ]
        }
      ]
    },
    {
      "cell_type": "markdown",
      "source": [
        "###A+B -5\n",
        "두 정수 A와 B를 입력받은 다음, A+B를 출력하는 프로그램을 작성하시오.\n",
        "\n",
        "입력은 여러 개의 테스트 케이스로 이루어져 있다.\n",
        "\n",
        "각 테스트 케이스는 한 줄로 이루어져 있으며, 각 줄에 A와 B가 주어진다. (0 < A, B < 10)\n",
        "\n",
        "입력의 마지막에는 0 두 개가 들어온다."
      ],
      "metadata": {
        "id": "fwjrAS0s1by7"
      }
    },
    {
      "cell_type": "code",
      "source": [
        "while True:\n",
        "  A, B = map(int, input().split())\n",
        "  if A == 0 and B == 0:\n",
        "    break;\n",
        "  else:\n",
        "    print(A+B)"
      ],
      "metadata": {
        "colab": {
          "base_uri": "https://localhost:8080/"
        },
        "id": "3ktdtJJC06z5",
        "outputId": "9d767a79-92e0-45a3-d3cf-3fe770f4eb8f"
      },
      "execution_count": null,
      "outputs": [
        {
          "name": "stdout",
          "output_type": "stream",
          "text": [
            "1 1\n",
            "2\n",
            "2 2\n",
            "4\n",
            "3 3\n",
            "6\n",
            "4 4\n",
            "8\n",
            "5 5\n",
            "10\n",
            "0 0\n"
          ]
        }
      ]
    },
    {
      "cell_type": "markdown",
      "source": [
        "###아스키 코드\n",
        "알파벳 소문자, 대문자, 숫자 0-9중 하나가 주어졌을 때, 주어진 글자의 아스키 코드값을 출력하는 프로그램을 작성하시오"
      ],
      "metadata": {
        "id": "FBJYDS1_4rq5"
      }
    },
    {
      "cell_type": "code",
      "source": [
        "a = input()\n",
        "\n",
        "if type(a) == str:\n",
        "  print(ord(a))\n",
        "elif type(a) == int:\n",
        "  print(chr(a))"
      ],
      "metadata": {
        "colab": {
          "base_uri": "https://localhost:8080/"
        },
        "id": "1b6sVMmE195W",
        "outputId": "0b127312-035d-4cf4-c7b0-19d4f6075eb1"
      },
      "execution_count": null,
      "outputs": [
        {
          "output_type": "stream",
          "name": "stdout",
          "text": [
            "A\n",
            "65\n"
          ]
        }
      ]
    },
    {
      "cell_type": "markdown",
      "source": [
        "###숫자의 합\n",
        "N개의 숫자가 공백 없이 쓰여있다. 이 숫자를 모두 합해서 출력하는 프로그램을 작성하시오.\n",
        "\n",
        "첫째 줄에 숫자의 개수 N (1 ≤ N ≤ 100)이 주어진다. 둘째 줄에 숫자 N개가 공백없이 주어진다."
      ],
      "metadata": {
        "id": "5r_ZtUUB7FOT"
      }
    },
    {
      "cell_type": "code",
      "source": [
        "n = int(input())\n",
        "\n",
        "print(sum(map(int,input())))"
      ],
      "metadata": {
        "colab": {
          "base_uri": "https://localhost:8080/"
        },
        "id": "P93Ka5ww6ucx",
        "outputId": "70326f7e-666d-4bed-9bd8-975bb31034ea"
      },
      "execution_count": null,
      "outputs": [
        {
          "output_type": "stream",
          "name": "stdout",
          "text": [
            "5\n",
            "12345\n",
            "15\n"
          ]
        }
      ]
    },
    {
      "cell_type": "markdown",
      "source": [
        "\n",
        "\n",
        "```\n",
        "for문을 이용\n",
        "```\n",
        "\n"
      ],
      "metadata": {
        "id": "p9DAY5S38CG6"
      }
    },
    {
      "cell_type": "code",
      "source": [
        "n = input()\n",
        "nums = input()\n",
        "total = 0\n",
        "for i in nums:\n",
        "  total += int(i)\n",
        "print(total)"
      ],
      "metadata": {
        "colab": {
          "base_uri": "https://localhost:8080/"
        },
        "id": "oKyEgVHy78Ym",
        "outputId": "5855299c-a681-4bcd-9933-ce7ad3e9ac74"
      },
      "execution_count": null,
      "outputs": [
        {
          "output_type": "stream",
          "name": "stdout",
          "text": [
            "5\n",
            "12345\n",
            "15\n"
          ]
        }
      ]
    },
    {
      "cell_type": "markdown",
      "source": [
        "###최소,최대\n",
        "N개의 정수가 주어진다. 이때, 최솟값과 최댓값을 구하는 프로그램을 작성하시오.\n",
        "\n",
        "첫째 줄에 정수의 개수 N (1 ≤ N ≤ 1,000,000)이 주어진다. 둘째 줄에는 N개의 정수를 공백으로 구분해서 주어진다. 모든 정수는 -1,000,000보다 크거나 같고, 1,000,000보다 작거나 같은 정수이다."
      ],
      "metadata": {
        "id": "ocsgaqWE9R_P"
      }
    },
    {
      "cell_type": "code",
      "source": [
        "n = int(input())\n",
        "N = list(map(int,input().split()))\n",
        "#del min,max\n",
        "print(min(N), max(N))"
      ],
      "metadata": {
        "colab": {
          "base_uri": "https://localhost:8080/"
        },
        "id": "KTTDL62t8qq1",
        "outputId": "26607b6c-c344-4f66-9681-5692d9a5256a"
      },
      "execution_count": null,
      "outputs": [
        {
          "output_type": "stream",
          "name": "stdout",
          "text": [
            "5\n",
            "20 10 35 30 7\n",
            "7 35\n"
          ]
        }
      ]
    },
    {
      "cell_type": "markdown",
      "source": [
        "\n",
        "\n",
        "```\n",
        "for문 사용(구글링 답안)\n",
        "```\n",
        "\n"
      ],
      "metadata": {
        "id": "uBzX74Em_77b"
      }
    },
    {
      "cell_type": "code",
      "source": [
        "n = int(input())\n",
        "num = list(map(int,input().split()))\n",
        "max = num[0]\n",
        "min = num[0]\n",
        "\n",
        "for i in num[1:]:\n",
        "  if i > max:\n",
        "    max = i\n",
        "  elif i < min:\n",
        "    min = i\n",
        "print(min,max)"
      ],
      "metadata": {
        "colab": {
          "base_uri": "https://localhost:8080/"
        },
        "id": "pfX59G7d971f",
        "outputId": "83224fa1-068c-4972-962d-313cfc04eddf"
      },
      "execution_count": null,
      "outputs": [
        {
          "output_type": "stream",
          "name": "stdout",
          "text": [
            "5\n",
            "20 10 35 30 7\n",
            "7 35\n"
          ]
        }
      ]
    },
    {
      "cell_type": "markdown",
      "source": [
        "###최댓값\n",
        "9개의 서로 다른 자연수가 주어질 때, 이들 중 최댓값을 찾고 그 최댓값이 몇 번째 수인지를 구하는 프로그램을 작성하시오.\n",
        "\n",
        "예를 들어, 서로 다른 9개의 자연수\n",
        "\n",
        "3, 29, 38, 12, 57, 74, 40, 85, 61\n",
        "\n",
        "이 주어지면, 이들 중 최댓값은 85이고, 이 값은 8번째 수이다.\n",
        "\n",
        "첫째 줄부터 아홉 번째 줄까지 한 줄에 하나의 자연수가 주어진다. 주어지는 자연수는 100 보다 작다."
      ],
      "metadata": {
        "id": "ch_P_hvJDvWV"
      }
    },
    {
      "cell_type": "code",
      "source": [],
      "metadata": {
        "id": "MJZh_HN7_S5z"
      },
      "execution_count": null,
      "outputs": []
    },
    {
      "cell_type": "markdown",
      "source": [
        "###알람시계\n",
        "상근이는 매일 아침 알람을 듣고 일어난다. 알람을 듣고 바로 일어나면 다행이겠지만, 항상 조금만 더 자려는 마음 때문에 매일 학교를 지각하고 있다.\n",
        "\n",
        "상근이는 모든 방법을 동원해보았지만, 조금만 더 자려는 마음은 그 어떤 것도 없앨 수가 없었다.\n",
        "\n",
        "이런 상근이를 불쌍하게 보던, 창영이는 자신이 사용하는 방법을 추천해 주었다.\n",
        "\n",
        "바로 \"45분 일찍 알람 설정하기\"이다.\n",
        "\n",
        "이 방법은 단순하다. 원래 설정되어 있는 알람을 45분 앞서는 시간으로 바꾸는 것이다. 어차피 알람 소리를 들으면, 알람을 끄고 조금 더 잘 것이기 때문이다. 이 방법을 사용하면, 매일 아침 더 잤다는 기분을 느낄 수 있고, 학교도 지각하지 않게 된다.\n",
        "\n",
        "현재 상근이가 설정한 알람 시각이 주어졌을 때, 창영이의 방법을 사용한다면, 이를 언제로 고쳐야 하는지 구하는 프로그램을 작성하시오.\n",
        "\n",
        "첫째 줄에 두 정수 H와 M이 주어진다. (0 ≤ H ≤ 23, 0 ≤ M ≤ 59) 그리고 이것은 현재 상근이가 설정한 놓은 알람 시간 H시 M분을 의미한다.\n",
        "\n",
        "입력 시간은 24시간 표현을 사용한다. 24시간 표현에서 하루의 시작은 0:0(자정)이고, 끝은 23:59(다음날 자정 1분 전)이다. 시간을 나타낼 때, 불필요한 0은 사용하지 않는다."
      ],
      "metadata": {
        "id": "6O26Ykl2xJa-"
      }
    },
    {
      "cell_type": "code",
      "source": [
        "H, M = map(int, input().split())\n",
        "\n",
        "if M >= 45 :\n",
        "  print(H, M-45)\n",
        "elif M < 45:\n",
        "  print(H-1, (60-(M+15)))"
      ],
      "metadata": {
        "colab": {
          "base_uri": "https://localhost:8080/"
        },
        "id": "RC3wDYauxNe3",
        "outputId": "94db773a-9f2b-490e-fe6a-2a91e0f0c1df"
      },
      "execution_count": null,
      "outputs": [
        {
          "output_type": "stream",
          "name": "stdout",
          "text": [
            "10 10\n",
            "9 35\n"
          ]
        }
      ]
    },
    {
      "cell_type": "markdown",
      "source": [
        "###평균\n",
        "세준이는 기말고사를 망쳤다. 세준이는 점수를 조작해서 집에 가져가기로 했다. 일단 세준이는 자기 점수 중에 최댓값을 골랐다. 이 값을 M이라고 한다. 그리고 나서 모든 점수를 점수/M*100으로 고쳤다.\n",
        "\n",
        "예를 들어, 세준이의 최고점이 70이고, 수학점수가 50이었으면 수학점수는 50/70*100이 되어 71.43점이 된다.\n",
        "\n",
        "세준이의 성적을 위의 방법대로 새로 계산했을 때, 새로운 평균을 구하는 프로그램을 작성하시오.\n",
        "\n",
        "첫째 줄에 시험 본 과목의 개수 N이 주어진다. 이 값은 1000보다 작거나 같다. 둘째 줄에 세준이의 현재 성적이 주어진다. 이 값은 100보다 작거나 같은 음이 아닌 정수이고, 적어도 하나의 값은 0보다 크다."
      ],
      "metadata": {
        "id": "I8HUGq-R1SqY"
      }
    },
    {
      "cell_type": "code",
      "source": [
        "#자기 점수 중 max = M\n",
        "#나머지 모든 점수 = 점수/M*100\n",
        "#ex) M=70, math=50 >> math=50/70*100=71.43\n",
        "#새로운 평균을 구하는 프로그램\n",
        "#시험 본 과목의 개수 N( N <= 1000)\n",
        "#현재 성적score(0<=score<=100)\n",
        "\n",
        "N = int(input())\n",
        "nums = list(map(int, input().split()))\n",
        "print(sum(nums)/max(nums)*100/N)"
      ],
      "metadata": {
        "colab": {
          "base_uri": "https://localhost:8080/"
        },
        "id": "ZeYVVLXGzVai",
        "outputId": "08a70cdb-7dfe-4aa3-ca30-af868ea8eb21"
      },
      "execution_count": null,
      "outputs": [
        {
          "output_type": "stream",
          "name": "stdout",
          "text": [
            "3\n",
            "40 80 60\n",
            "75.0\n"
          ]
        }
      ]
    },
    {
      "cell_type": "markdown",
      "source": [
        "#CLASS2\n",
        "###벌집\n",
        "위의 그림과 같이 육각형으로 이루어진 벌집이 있다. 그림에서 보는 바와 같이 중앙의 방 1부터 시작해서 이웃하는 방에 돌아가면서 1씩 증가하는 번호를 주소로 매길 수 있다. 숫자 N이 주어졌을 때, 벌집의 중앙 1에서 N번 방까지 최소 개수의 방을 지나서 갈 때 몇 개의 방을 지나가는지(시작과 끝을 포함하여)를 계산하는 프로그램을 작성하시오. 예를 들면, 13까지는 3개, 58까지는 5개를 지난다.\n",
        "\n",
        "첫째 줄에 N(1 ≤ N ≤ 1,000,000,000)이 주어진다."
      ],
      "metadata": {
        "id": "x081LDR26yKY"
      }
    },
    {
      "cell_type": "code",
      "source": [
        "N = int(input())\n",
        "center = 1 # 스타트\n",
        "cnt = 1 # 지나가는 방의 개수 카운트\n",
        "        # 처음과 끝을 포함\n",
        "while N > center:\n",
        "  center += 6*cnt\n",
        "  cnt += 1\n",
        "print(cnt)"
      ],
      "metadata": {
        "colab": {
          "base_uri": "https://localhost:8080/"
        },
        "id": "UVQC8snf3cbp",
        "outputId": "6d5534ec-b086-483b-eef3-16fce7056e40"
      },
      "execution_count": null,
      "outputs": [
        {
          "output_type": "stream",
          "name": "stdout",
          "text": [
            "66\n",
            "6\n"
          ]
        }
      ]
    },
    {
      "cell_type": "markdown",
      "source": [
        "\n",
        "\n",
        "```\n",
        "다른사람 풀이\n",
        "```\n",
        "\n"
      ],
      "metadata": {
        "id": "PFQkKuRp_wuA"
      }
    },
    {
      "cell_type": "code",
      "source": [
        "n = int(input())\n",
        "k = (n-1)/6\n",
        "\n",
        "i=0\n",
        "while i*(i+1)/2<k:\n",
        "    i+=1\n",
        "\n",
        "print(i+1)"
      ],
      "metadata": {
        "colab": {
          "base_uri": "https://localhost:8080/"
        },
        "id": "r2L9HgGG9Xys",
        "outputId": "b8c2f0d8-ef01-4854-e96d-4f9c611e3882"
      },
      "execution_count": null,
      "outputs": [
        {
          "output_type": "stream",
          "name": "stdout",
          "text": [
            "66\n",
            "6\n"
          ]
        }
      ]
    },
    {
      "cell_type": "markdown",
      "source": [
        "###분해합\n",
        "어떤 자연수 N이 있을 때, 그 자연수 N의 분해합은 N과 N을 이루는 각 자리수의 합을 의미한다. 어떤 자연수 M의 분해합이 N인 경우, M을 N의 생성자라 한다. 예를 들어, 245의 분해합은 256(=245+2+4+5)이 된다. 따라서 245는 256의 생성자가 된다. 물론, 어떤 자연수의 경우에는 생성자가 없을 수도 있다. 반대로, 생성자가 여러 개인 자연수도 있을 수 있다.\n",
        "\n",
        "자연수 N이 주어졌을 때, N의 가장 작은 생성자를 구해내는 프로그램을 작성하시오.\n",
        "\n",
        "첫째 줄에 자연수 N(1 ≤ N ≤ 1,000,000)이 주어진다.\n"
      ],
      "metadata": {
        "id": "aE6yIhKAA4zp"
      }
    },
    {
      "cell_type": "markdown",
      "source": [
        "\n",
        "\n",
        "```\n",
        "ex) N = 256(=245+2+4+5)\n",
        "N = 분해합, M = 생성자\n",
        "```\n",
        "\n"
      ],
      "metadata": {
        "id": "FxIH39DmBJNX"
      }
    },
    {
      "cell_type": "markdown",
      "source": [
        "\n",
        "\n",
        "```\n",
        "실패\n",
        "```\n",
        "\n"
      ],
      "metadata": {
        "id": "0_TWnfSpJmAN"
      }
    },
    {
      "cell_type": "code",
      "source": [
        "# 자연수 M의 분해합이 N\n",
        "N = int(input())\n",
        "result = 0 #첫째 줄에 답을 출력한다. 생성자가 없는 경우에는 0을 출력한다.\n",
        "for i in range(N+1):\n",
        "  nums = list(map(int,str(i)))\n",
        "  "
      ],
      "metadata": {
        "colab": {
          "base_uri": "https://localhost:8080/"
        },
        "id": "8IJrvxmZ_vDB",
        "outputId": "a7b36c9d-000b-40ba-c81e-925a9d26b9e1"
      },
      "execution_count": null,
      "outputs": [
        {
          "output_type": "stream",
          "name": "stdout",
          "text": [
            "256\n",
            "[0]\n",
            "[1]\n",
            "[2]\n",
            "[3]\n",
            "[4]\n",
            "[5]\n",
            "[6]\n",
            "[7]\n",
            "[8]\n",
            "[9]\n",
            "[1, 0]\n",
            "[1, 1]\n",
            "[1, 2]\n",
            "[1, 3]\n",
            "[1, 4]\n",
            "[1, 5]\n",
            "[1, 6]\n",
            "[1, 7]\n",
            "[1, 8]\n",
            "[1, 9]\n",
            "[2, 0]\n",
            "[2, 1]\n",
            "[2, 2]\n",
            "[2, 3]\n",
            "[2, 4]\n",
            "[2, 5]\n",
            "[2, 6]\n",
            "[2, 7]\n",
            "[2, 8]\n",
            "[2, 9]\n",
            "[3, 0]\n",
            "[3, 1]\n",
            "[3, 2]\n",
            "[3, 3]\n",
            "[3, 4]\n",
            "[3, 5]\n",
            "[3, 6]\n",
            "[3, 7]\n",
            "[3, 8]\n",
            "[3, 9]\n",
            "[4, 0]\n",
            "[4, 1]\n",
            "[4, 2]\n",
            "[4, 3]\n",
            "[4, 4]\n",
            "[4, 5]\n",
            "[4, 6]\n",
            "[4, 7]\n",
            "[4, 8]\n",
            "[4, 9]\n",
            "[5, 0]\n",
            "[5, 1]\n",
            "[5, 2]\n",
            "[5, 3]\n",
            "[5, 4]\n",
            "[5, 5]\n",
            "[5, 6]\n",
            "[5, 7]\n",
            "[5, 8]\n",
            "[5, 9]\n",
            "[6, 0]\n",
            "[6, 1]\n",
            "[6, 2]\n",
            "[6, 3]\n",
            "[6, 4]\n",
            "[6, 5]\n",
            "[6, 6]\n",
            "[6, 7]\n",
            "[6, 8]\n",
            "[6, 9]\n",
            "[7, 0]\n",
            "[7, 1]\n",
            "[7, 2]\n",
            "[7, 3]\n",
            "[7, 4]\n",
            "[7, 5]\n",
            "[7, 6]\n",
            "[7, 7]\n",
            "[7, 8]\n",
            "[7, 9]\n",
            "[8, 0]\n",
            "[8, 1]\n",
            "[8, 2]\n",
            "[8, 3]\n",
            "[8, 4]\n",
            "[8, 5]\n",
            "[8, 6]\n",
            "[8, 7]\n",
            "[8, 8]\n",
            "[8, 9]\n",
            "[9, 0]\n",
            "[9, 1]\n",
            "[9, 2]\n",
            "[9, 3]\n",
            "[9, 4]\n",
            "[9, 5]\n",
            "[9, 6]\n",
            "[9, 7]\n",
            "[9, 8]\n",
            "[9, 9]\n",
            "[1, 0, 0]\n",
            "[1, 0, 1]\n",
            "[1, 0, 2]\n",
            "[1, 0, 3]\n",
            "[1, 0, 4]\n",
            "[1, 0, 5]\n",
            "[1, 0, 6]\n",
            "[1, 0, 7]\n",
            "[1, 0, 8]\n",
            "[1, 0, 9]\n",
            "[1, 1, 0]\n",
            "[1, 1, 1]\n",
            "[1, 1, 2]\n",
            "[1, 1, 3]\n",
            "[1, 1, 4]\n",
            "[1, 1, 5]\n",
            "[1, 1, 6]\n",
            "[1, 1, 7]\n",
            "[1, 1, 8]\n",
            "[1, 1, 9]\n",
            "[1, 2, 0]\n",
            "[1, 2, 1]\n",
            "[1, 2, 2]\n",
            "[1, 2, 3]\n",
            "[1, 2, 4]\n",
            "[1, 2, 5]\n",
            "[1, 2, 6]\n",
            "[1, 2, 7]\n",
            "[1, 2, 8]\n",
            "[1, 2, 9]\n",
            "[1, 3, 0]\n",
            "[1, 3, 1]\n",
            "[1, 3, 2]\n",
            "[1, 3, 3]\n",
            "[1, 3, 4]\n",
            "[1, 3, 5]\n",
            "[1, 3, 6]\n",
            "[1, 3, 7]\n",
            "[1, 3, 8]\n",
            "[1, 3, 9]\n",
            "[1, 4, 0]\n",
            "[1, 4, 1]\n",
            "[1, 4, 2]\n",
            "[1, 4, 3]\n",
            "[1, 4, 4]\n",
            "[1, 4, 5]\n",
            "[1, 4, 6]\n",
            "[1, 4, 7]\n",
            "[1, 4, 8]\n",
            "[1, 4, 9]\n",
            "[1, 5, 0]\n",
            "[1, 5, 1]\n",
            "[1, 5, 2]\n",
            "[1, 5, 3]\n",
            "[1, 5, 4]\n",
            "[1, 5, 5]\n",
            "[1, 5, 6]\n",
            "[1, 5, 7]\n",
            "[1, 5, 8]\n",
            "[1, 5, 9]\n",
            "[1, 6, 0]\n",
            "[1, 6, 1]\n",
            "[1, 6, 2]\n",
            "[1, 6, 3]\n",
            "[1, 6, 4]\n",
            "[1, 6, 5]\n",
            "[1, 6, 6]\n",
            "[1, 6, 7]\n",
            "[1, 6, 8]\n",
            "[1, 6, 9]\n",
            "[1, 7, 0]\n",
            "[1, 7, 1]\n",
            "[1, 7, 2]\n",
            "[1, 7, 3]\n",
            "[1, 7, 4]\n",
            "[1, 7, 5]\n",
            "[1, 7, 6]\n",
            "[1, 7, 7]\n",
            "[1, 7, 8]\n",
            "[1, 7, 9]\n",
            "[1, 8, 0]\n",
            "[1, 8, 1]\n",
            "[1, 8, 2]\n",
            "[1, 8, 3]\n",
            "[1, 8, 4]\n",
            "[1, 8, 5]\n",
            "[1, 8, 6]\n",
            "[1, 8, 7]\n",
            "[1, 8, 8]\n",
            "[1, 8, 9]\n",
            "[1, 9, 0]\n",
            "[1, 9, 1]\n",
            "[1, 9, 2]\n",
            "[1, 9, 3]\n",
            "[1, 9, 4]\n",
            "[1, 9, 5]\n",
            "[1, 9, 6]\n",
            "[1, 9, 7]\n",
            "[1, 9, 8]\n",
            "[1, 9, 9]\n",
            "[2, 0, 0]\n",
            "[2, 0, 1]\n",
            "[2, 0, 2]\n",
            "[2, 0, 3]\n",
            "[2, 0, 4]\n",
            "[2, 0, 5]\n",
            "[2, 0, 6]\n",
            "[2, 0, 7]\n",
            "[2, 0, 8]\n",
            "[2, 0, 9]\n",
            "[2, 1, 0]\n",
            "[2, 1, 1]\n",
            "[2, 1, 2]\n",
            "[2, 1, 3]\n",
            "[2, 1, 4]\n",
            "[2, 1, 5]\n",
            "[2, 1, 6]\n",
            "[2, 1, 7]\n",
            "[2, 1, 8]\n",
            "[2, 1, 9]\n",
            "[2, 2, 0]\n",
            "[2, 2, 1]\n",
            "[2, 2, 2]\n",
            "[2, 2, 3]\n",
            "[2, 2, 4]\n",
            "[2, 2, 5]\n",
            "[2, 2, 6]\n",
            "[2, 2, 7]\n",
            "[2, 2, 8]\n",
            "[2, 2, 9]\n",
            "[2, 3, 0]\n",
            "[2, 3, 1]\n",
            "[2, 3, 2]\n",
            "[2, 3, 3]\n",
            "[2, 3, 4]\n",
            "[2, 3, 5]\n",
            "[2, 3, 6]\n",
            "[2, 3, 7]\n",
            "[2, 3, 8]\n",
            "[2, 3, 9]\n",
            "[2, 4, 0]\n",
            "[2, 4, 1]\n",
            "[2, 4, 2]\n",
            "[2, 4, 3]\n",
            "[2, 4, 4]\n",
            "[2, 4, 5]\n",
            "[2, 4, 6]\n",
            "[2, 4, 7]\n",
            "[2, 4, 8]\n",
            "[2, 4, 9]\n",
            "[2, 5, 0]\n",
            "[2, 5, 1]\n",
            "[2, 5, 2]\n",
            "[2, 5, 3]\n",
            "[2, 5, 4]\n",
            "[2, 5, 5]\n"
          ]
        }
      ]
    },
    {
      "cell_type": "markdown",
      "source": [
        "\n",
        "\n",
        "```\n",
        "다른사람 풀이\n",
        "```\n",
        "\n"
      ],
      "metadata": {
        "id": "EWUE95YHFP4u"
      }
    },
    {
      "cell_type": "code",
      "source": [
        "n = int(input()) #입력받은 자연수 n\n",
        "\n",
        "for i in range(1, n+1):\n",
        "    arr = list(map(int, str(i)))\n",
        "    #print(arr)\n",
        "    hap = i + sum(arr)\n",
        "    #print(hap)\n",
        "    if hap == n:\n",
        "        print(i)\n",
        "        break\n",
        "    if i == n:\n",
        "        print(0)\n",
        "        break"
      ],
      "metadata": {
        "colab": {
          "base_uri": "https://localhost:8080/"
        },
        "id": "V2DepwKgEFcY",
        "outputId": "4793f089-cef8-4922-9b19-4ad96dd5ad6e"
      },
      "execution_count": null,
      "outputs": [
        {
          "output_type": "stream",
          "name": "stdout",
          "text": [
            "256\n",
            "245\n"
          ]
        }
      ]
    },
    {
      "cell_type": "markdown",
      "source": [
        "###요세푸스 문제0\n",
        "요세푸스 문제는 다음과 같다.\n",
        "\n",
        "1번부터 N번까지 N명의 사람이 원을 이루면서 앉아있고, 양의 정수 K(≤ N)가 주어진다. 이제 순서대로 K번째 사람을 제거한다. 한 사람이 제거되면 남은 사람들로 이루어진 원을 따라 이 과정을 계속해 나간다. 이 과정은 N명의 사람이 모두 제거될 때까지 계속된다. 원에서 사람들이 제거되는 순서를 (N, K)-요세푸스 순열이라고 한다. 예를 들어 (7, 3)-요세푸스 순열은 <3, 6, 2, 7, 5, 1, 4>이다.\n",
        "\n",
        "N과 K가 주어지면 (N, K)-요세푸스 순열을 구하는 프로그램을 작성하시오.\n",
        "\n",
        "첫째 줄에 N과 K가 빈 칸을 사이에 두고 순서대로 주어진다. (1 ≤ K ≤ N ≤ 1,000)"
      ],
      "metadata": {
        "id": "KYlbLBd2KMKN"
      }
    },
    {
      "cell_type": "code",
      "source": [
        "# 1-N, N명의 사람이 원\n",
        "# K(<= N)\n",
        "# 순서대로 K번째 사람 제거\n",
        "# 한 사람이 제거되면 남은 사람들로 이루어진 원\n",
        "# 과정을 계속해서 반복\n",
        "# N명의 사람이 모두 제거될 때까지\n",
        "# 원에서 사람들이 제거되는 순서를 (N, K)-요세푸스 순열\n",
        "# ex) (7, 3)요세푸스 순열 = <3. 6. 2. 7. 5. 1. 4>\n",
        "N, K = map(int, input().split())\n",
        "#while N == 0:\n",
        "numbers = []\n",
        "new = []\n",
        "for i in range(1, N+1):\n",
        "  numbers.append(i)\n",
        "  for j in numbers[K+1]:\n",
        "    new_num = int(numbers[K+1])\n",
        "    new.append(new_num)\n",
        "    number"
      ],
      "metadata": {
        "colab": {
          "base_uri": "https://localhost:8080/"
        },
        "id": "D47O6CmWEF03",
        "outputId": "5bf10340-e72a-4c98-eb25-4650f5083b29"
      },
      "execution_count": null,
      "outputs": [
        {
          "output_type": "stream",
          "name": "stdout",
          "text": [
            "7 4\n",
            "[1, 2, 3, 4, 5, 6, 7]\n"
          ]
        }
      ]
    },
    {
      "cell_type": "code",
      "source": [
        "N, K = map(int,input().split())\n",
        "ans= []\n",
        "arr = [i for i in range(1,N+1)] \n",
        "num = 0\n",
        "for i in range(N):\n",
        "    num+=(K-1)\n",
        "    if num >= len(arr):\n",
        "        num %= len(arr)\n",
        "    ans.append(str(arr[num]))\n",
        "    arr.pop(num)\n",
        "\n",
        "print(\"<\",', '.join(ans),\">\", sep=\"\")"
      ],
      "metadata": {
        "id": "ZtuKD_gdMM18"
      },
      "execution_count": null,
      "outputs": []
    }
  ]
}