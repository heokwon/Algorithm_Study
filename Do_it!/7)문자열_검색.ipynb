{
  "nbformat": 4,
  "nbformat_minor": 0,
  "metadata": {
    "colab": {
      "provenance": [],
      "authorship_tag": "ABX9TyNkoYsfNYzetKrHvZpfcAPS",
      "include_colab_link": true
    },
    "kernelspec": {
      "name": "python3",
      "display_name": "Python 3"
    },
    "language_info": {
      "name": "python"
    }
  },
  "cells": [
    {
      "cell_type": "markdown",
      "metadata": {
        "id": "view-in-github",
        "colab_type": "text"
      },
      "source": [
        "<a href=\"https://colab.research.google.com/github/heokwon/Algorithm_Study/blob/main/Do_it!/7)%EB%AC%B8%EC%9E%90%EC%97%B4_%EA%B2%80%EC%83%89.ipynb\" target=\"_parent\"><img src=\"https://colab.research.google.com/assets/colab-badge.svg\" alt=\"Open In Colab\"/></a>"
      ]
    },
    {
      "cell_type": "markdown",
      "source": [
        "# 문자열 검색(String searching)\n",
        "* 브루트 포스법\n",
        "* KMP법\n",
        "* 보이어·무어법"
      ],
      "metadata": {
        "id": "vGax1nu8bfa6"
      }
    },
    {
      "cell_type": "markdown",
      "source": [
        "## 부르트 포스법(brute force method)\n",
        "브루트 포스법은 선형 검색을 단순하게 확장한 알고리즘이라서 **단순법**이라고 한다."
      ],
      "metadata": {
        "id": "kwPW1QdHbzDW"
      }
    },
    {
      "cell_type": "code",
      "execution_count": 1,
      "metadata": {
        "colab": {
          "base_uri": "https://localhost:8080/"
        },
        "id": "Nwae9i3KbXyk",
        "outputId": "3a859e93-c06f-4aec-c6cb-154f311443a6"
      },
      "outputs": [
        {
          "output_type": "stream",
          "name": "stdout",
          "text": [
            "텍스트를 입력하세요.: ABABCDEFGHA\n",
            "패턴을 입력하세요.: ABC\n",
            "3번째 문자가 일치합니다.\n"
          ]
        }
      ],
      "source": [
        "# 브루트 포스법으로 문자열 검색하기\n",
        "# bf_match.py\n",
        "\n",
        "def bf_match(txt:str, pat:str) -> int:\n",
        "    \"\"\"브루트 포스법으로 문자열 검색\"\"\"\n",
        "    pt = 0                              # txt를 따라가는 커서\n",
        "    pp = 0                              # pat를 따라가는 커서\n",
        "\n",
        "    while pt != len(txt) and pp != len(pat):\n",
        "        if txt[pt] == pat[pp]:\n",
        "            pt += 1\n",
        "            pp += 1\n",
        "        else:\n",
        "            pt = pt - pp + 1\n",
        "            pp = 0\n",
        "\n",
        "    return pt - pp if pp == len(pat) else -1\n",
        "\n",
        "if __name__ == '__main__':\n",
        "    s1 = input('텍스트를 입력하세요.: ')\n",
        "    s2 = input('패턴을 입력하세요.: ')\n",
        "\n",
        "    idx = bf_match(s1,s2)         # 문자열 s1 ~ s2 를 브루트 포스법으로 검색\n",
        "\n",
        "    if idx == -1: print('텍스트 안에 패턴이 존재하지 않습니다.')\n",
        "    else: print(f'{(idx + 1)}번째 문자가 일치합니다.')"
      ]
    },
    {
      "cell_type": "code",
      "source": [],
      "metadata": {
        "id": "OKlLh3IIdI9N"
      },
      "execution_count": null,
      "outputs": []
    }
  ]
}