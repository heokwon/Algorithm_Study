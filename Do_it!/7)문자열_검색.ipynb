{
  "nbformat": 4,
  "nbformat_minor": 0,
  "metadata": {
    "colab": {
      "provenance": [],
      "authorship_tag": "ABX9TyPoogOgBts9WvSJoblZ0Da3",
      "include_colab_link": true
    },
    "kernelspec": {
      "name": "python3",
      "display_name": "Python 3"
    },
    "language_info": {
      "name": "python"
    }
  },
  "cells": [
    {
      "cell_type": "markdown",
      "metadata": {
        "id": "view-in-github",
        "colab_type": "text"
      },
      "source": [
        "<a href=\"https://colab.research.google.com/github/heokwon/Algorithm_Study/blob/main/Do_it!/7)%EB%AC%B8%EC%9E%90%EC%97%B4_%EA%B2%80%EC%83%89.ipynb\" target=\"_parent\"><img src=\"https://colab.research.google.com/assets/colab-badge.svg\" alt=\"Open In Colab\"/></a>"
      ]
    },
    {
      "cell_type": "markdown",
      "source": [
        "# 문자열 검색(String searching)\n",
        "* 브루트 포스법\n",
        "* KMP법\n",
        "* 보이어·무어법"
      ],
      "metadata": {
        "id": "vGax1nu8bfa6"
      }
    },
    {
      "cell_type": "markdown",
      "source": [
        "## 부르트 포스법(brute force method)\n",
        "브루트 포스법은 선형 검색을 단순하게 확장한 알고리즘이라서 **단순법**이라고 한다."
      ],
      "metadata": {
        "id": "kwPW1QdHbzDW"
      }
    },
    {
      "cell_type": "code",
      "execution_count": null,
      "metadata": {
        "colab": {
          "base_uri": "https://localhost:8080/"
        },
        "id": "Nwae9i3KbXyk",
        "outputId": "3a859e93-c06f-4aec-c6cb-154f311443a6"
      },
      "outputs": [
        {
          "output_type": "stream",
          "name": "stdout",
          "text": [
            "텍스트를 입력하세요.: ABABCDEFGHA\n",
            "패턴을 입력하세요.: ABC\n",
            "3번째 문자가 일치합니다.\n"
          ]
        }
      ],
      "source": [
        "# 브루트 포스법으로 문자열 검색하기\n",
        "# bf_match.py\n",
        "\n",
        "def bf_match(txt:str, pat:str) -> int:\n",
        "    \"\"\"브루트 포스법으로 문자열 검색\"\"\"\n",
        "    pt = 0                              # txt를 따라가는 커서\n",
        "    pp = 0                              # pat를 따라가는 커서\n",
        "\n",
        "    while pt != len(txt) and pp != len(pat):\n",
        "        if txt[pt] == pat[pp]:\n",
        "            pt += 1\n",
        "            pp += 1\n",
        "        else:\n",
        "            pt = pt - pp + 1\n",
        "            pp = 0\n",
        "\n",
        "    return pt - pp if pp == len(pat) else -1\n",
        "\n",
        "if __name__ == '__main__':\n",
        "    s1 = input('텍스트를 입력하세요.: ')\n",
        "    s2 = input('패턴을 입력하세요.: ')\n",
        "\n",
        "    idx = bf_match(s1,s2)         # 문자열 s1 ~ s2 를 브루트 포스법으로 검색\n",
        "\n",
        "    if idx == -1: print('텍스트 안에 패턴이 존재하지 않습니다.')\n",
        "    else: print(f'{(idx + 1)}번째 문자가 일치합니다.')"
      ]
    },
    {
      "cell_type": "markdown",
      "source": [
        "## KMP법\n",
        "브루트 포스법은 일치하지 않는 문자를 만나면 다시 패턴의 첫 문자부터 검사를 수행하지만, 이와 달리 KMP법은 검사한 결과를 효율적으로 사용할 수 있는 알고리즘이다.\n",
        "\n",
        "텍스트와 패턴 안에서 겹치는 문자열을 찾아내 검사를 다시 시작할 위치를 구하여 패턴의 이동을 되도록이면 크게 하는 알고리즘이다."
      ],
      "metadata": {
        "id": "oeU1nuURbzGX"
      }
    },
    {
      "cell_type": "code",
      "source": [
        "# KMP법으로 문자열 검색하기\n",
        "# kmp_match.py\n",
        "\n",
        "def kmp_match(txt: str, pat: str) -> int:\n",
        "    \"\"\"KMP법으로 문자열 검색\"\"\"\n",
        "    pt = 1                     # txt를 따라가는 커서\n",
        "    pp = 0                     # pat를 따라가는 커서\n",
        "    skip = [0] * (len(pat)+1)  # 건너띄기 표\n",
        "\n",
        "    # 건너뛰기 표 만들기\n",
        "    skip[pt] = 0\n",
        "    while pt != len(pat):\n",
        "        if pat[pt] == pat[pp]:\n",
        "            pt += 1\n",
        "            pp += 1\n",
        "            skip[pt] = pp\n",
        "        elif pp == 0:\n",
        "            pt += 1\n",
        "            skip[pt] = pp\n",
        "        else: pp = skip[pp]\n",
        "\n",
        "    # 문자열 검색하기\n",
        "    pt = pp = 0\n",
        "    while pt != len(txt) and pp != len(pat):\n",
        "        if txt[pt] == pat[pp]:\n",
        "            pt += 1\n",
        "            pp += 1\n",
        "        elif pp == 0:\n",
        "            pt += 1\n",
        "        else: pp = skip[pp]\n",
        "\n",
        "    return pt - pp if pp == len(pat) else -1\n",
        "\n",
        "if __name__ == '__main__':\n",
        "    s1 = input('텍스트를 입력하세요.: ')  # 텍스트용 문자열\n",
        "    s2 = input('패턴을 입력하세요.: ')    # 패턴용 문자열\n",
        "\n",
        "    idx = kmp_match(s1,s2)                # 문자열 s1 ~ s2 까지를 KMP법으로 검색\n",
        "\n",
        "    if idx == -1:\n",
        "        print('텍스트 안에 패턴이 존재하지 않습니다.')\n",
        "    else:\n",
        "        print(f'{(idx + 1)}번째 문자가 일치합니다.')"
      ],
      "metadata": {
        "id": "OKlLh3IIdI9N",
        "colab": {
          "base_uri": "https://localhost:8080/"
        },
        "outputId": "7d2f25e4-3a78-4746-f46e-c85c47ac9023"
      },
      "execution_count": 2,
      "outputs": [
        {
          "output_type": "stream",
          "name": "stdout",
          "text": [
            "텍스트를 입력하세요.: ABABCDEFGHA\n",
            "패턴을 입력하세요.:  ABC\n",
            "텍스트 안에 패턴이 존재하지 않습니다.\n"
          ]
        }
      ]
    },
    {
      "cell_type": "markdown",
      "source": [
        "KMP법에서 텍스트를 스캔하는 커서 pt는 앞으로 나아갈 뿐 뒤로 되돌아오지 않는다. 이것은 브루트 포스법에는 없는 특징이다. 그러나 이 알고리즘은 복잡할 뿐 보이어무어법 보다 성능 면에서 같거나 오히려 낮은 수준이다. 따라서 KMP법은 실제 프로그램에서 별로 사용하지 않는다."
      ],
      "metadata": {
        "id": "sOhmda_pdxaO"
      }
    },
    {
      "cell_type": "markdown",
      "source": [
        "## 보이어·무어법 (Boyer-Moor method)\n",
        "보이어·무어법은 KMP법 보다 더 효율적이어서 실제 문자열 검색에서 널리 사용하는 알고리즘이다. 패턴의 끝 문자에서 시작하여 앞쪽을 향해 검사를 수행한다. 이 과정에서 일치하지 않는 문자를 발견하면 미리 준비한 표를 바탕으로 패턴이 이동하는 값을 결정한다."
      ],
      "metadata": {
        "id": "qF5dqa1IeTzM"
      }
    },
    {
      "cell_type": "code",
      "source": [
        "# 보이어·무어법으로 문자열 검색하기(문자열 길이는 0 ~ 255개)\n",
        "# bm_match.py\n",
        "\n",
        "def bm_match(txt: str, pat: str) -> int:\n",
        "    \"\"\"보이어·무어법으로 문자열 검색\"\"\"\n",
        "    skip = [None] * 256                    # 건너뛰기 표\n",
        "\n",
        "    # 건너뛰기 표 만들기\n",
        "    for pt in range(256): skip[pt] = len(pat)\n",
        "    for pt in range(len(pat)): skip[ord(pat[pt])] = len(pat) - pt - 1\n",
        "\n",
        "    # 검색하기\n",
        "    while pt < len(txt):\n",
        "        pp = len(pat) - 1\n",
        "        while txt[pt] == pat[pp]:\n",
        "            if pp == 0:\n",
        "               return pt\n",
        "            pt -= 1\n",
        "            pp -= 1\n",
        "        pt += skip[ord(txt[pt])] if skip[ord(txt[pt])] > len(pat) - pp \\\n",
        "               else len(pat) - pp\n",
        "\n",
        "    return -1\n",
        "\n",
        "if __name__ == '__main__':\n",
        "    s1 = input('텍스트를 입력하세요.: ')      # 텍스트용 문자열\n",
        "    s2 = input('패턴을 입력하세요.: ')        # 패턴용 문자열\n",
        "\n",
        "    idx = bm_match(s1,s2)\n",
        "\n",
        "    if idx == -1: print('텍스트 안에 패턴이 존재하지 않습니다.')\n",
        "    else: print(f'{(idx + 1)}번째 문자가 일치합니다.')"
      ],
      "metadata": {
        "colab": {
          "base_uri": "https://localhost:8080/"
        },
        "id": "8-yES_V5di2y",
        "outputId": "74dc4093-91e4-4da8-d023-bc44fb81fe4d"
      },
      "execution_count": 4,
      "outputs": [
        {
          "output_type": "stream",
          "name": "stdout",
          "text": [
            "텍스트를 입력하세요.: ABABCDEFGHA\n",
            "패턴을 입력하세요.: ABC\n",
            "3번째 문자가 일치합니다.\n"
          ]
        }
      ]
    },
    {
      "cell_type": "markdown",
      "source": [
        "## 문자열 검색 알고리즘의 시간 복잡도\n",
        "* 브루트 포스법\n",
        "  + 이 알고리즘의 시간 복잡도는 O(mn)이지만 일부러 꾸며 낸 패턴이 아니라면 O(n)이 된다고 알려져있다. 단순한 알고리즘이지만 실제로는 아주 빠르게 동작한다.\n",
        "* KMP법\n",
        "  + 이 알고리즘의 시간 복잡도는 최악의 경우에도 O(n)이다. 다만 처리하기 복잡하고 패턴 안에 반복이 없으면 효율은 좋지 않다. 그러나 검색 과정에서 주목하는 곳을 앞으로 되돌릴 필요가 전혀 없으므로 파일을 차례로 읽어 들이면서 검색할 때 사용하면 좋다.\n",
        "* 보이어·무어법\n",
        "  + 이 알고리즘의 시간 복잡도는 최악의 경우라도 O(n)이고 평균 O(n/m)이다. 배열 2개로 알고리즘을 구현하면 KMP법과 마찬가지로 배열을 만드는 데 복잡한 처리 과정이 필요하므로 효율성이 떨어진다. 보이어·무어법은 배열을 1개만 사용해도 충분히 빠르다."
      ],
      "metadata": {
        "id": "CRg628IEicoZ"
      }
    },
    {
      "cell_type": "code",
      "source": [],
      "metadata": {
        "id": "DsACZTHphnNt"
      },
      "execution_count": null,
      "outputs": []
    }
  ]
}