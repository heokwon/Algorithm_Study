{
  "nbformat": 4,
  "nbformat_minor": 0,
  "metadata": {
    "colab": {
      "provenance": [],
      "authorship_tag": "ABX9TyP2iXqDkV41ArWZxh2MyrcH",
      "include_colab_link": true
    },
    "kernelspec": {
      "name": "python3",
      "display_name": "Python 3"
    },
    "language_info": {
      "name": "python"
    }
  },
  "cells": [
    {
      "cell_type": "markdown",
      "metadata": {
        "id": "view-in-github",
        "colab_type": "text"
      },
      "source": [
        "<a href=\"https://colab.research.google.com/github/heokwon/Algorithm_Study/blob/main/Do_it!/5)%EC%9E%AC%EA%B7%80_%EC%95%8C%EA%B3%A0%EB%A6%AC%EC%A6%98.ipynb\" target=\"_parent\"><img src=\"https://colab.research.google.com/assets/colab-badge.svg\" alt=\"Open In Colab\"/></a>"
      ]
    },
    {
      "cell_type": "markdown",
      "source": [
        "# 재귀 알고리즘"
      ],
      "metadata": {
        "id": "OK0YDoBUzi4R"
      }
    },
    {
      "cell_type": "markdown",
      "source": [
        "## 재귀 알고리즘의 기본\n",
        "어더한 이벤트에서 자기 자신을 포함하고 다시 자기 자신을 사용하여 정의되는 경우 **재귀**라고 한다.\n",
        "* 재귀 호출 - 자신과 똑같은 함수를 호출"
      ],
      "metadata": {
        "id": "kEqfyorEzlG2"
      }
    },
    {
      "cell_type": "code",
      "execution_count": 1,
      "metadata": {
        "colab": {
          "base_uri": "https://localhost:8080/"
        },
        "id": "NynwKKmlzW-W",
        "outputId": "46356d0e-f2d1-4209-8eb2-742a3b39b122"
      },
      "outputs": [
        {
          "output_type": "stream",
          "name": "stdout",
          "text": [
            "출력할 팩토리얼값을 입력하세요.: 3\n",
            "3의 팩토리얼은 6입니다.\n"
          ]
        }
      ],
      "source": [
        "## 실습 5-1\n",
        "## 양의 정수 n의 팩토리얼 구하기\n",
        "## factorial.py\n",
        "\n",
        "def factorial(n:int) -> int:\n",
        "    \"\"\"양의 정수 n의 팩토리얼값을 재귀적으로 구함\"\"\"\n",
        "    if n > 0: return n * factorial(n-1)\n",
        "    else: return 1\n",
        "\n",
        "if __name__ == '__main__':\n",
        "    n = int(input('출력할 팩토리얼값을 입력하세요.: '))\n",
        "    print(f'{n}의 팩토리얼은 {factorial(n)}입니다.')"
      ]
    },
    {
      "cell_type": "markdown",
      "source": [
        "\n",
        "\n",
        "```\n",
        "보충) math.factorial() 함수\n",
        "파이썬에는 팩토리얼값을 구하는 표준 라이브러리로 math모듈에서 factorial()함수를 제공한다.\n",
        "예를 들어 math.factorial(x)는 정수 x의 팩토리얼값을 반환한다.\n",
        "x가 정수가 아니거나 음수라면 ValueError 예외 처리를 내보낸다.\n",
        "```\n",
        "\n"
      ],
      "metadata": {
        "id": "AIjDZ7lC0ZhU"
      }
    },
    {
      "cell_type": "markdown",
      "source": [
        "* 직접 재귀 : 자신과 똑같은 함수를 호출하는 방식\n",
        "* 간접 재귀 : a() 함수가 b()함수를 호출하고 다시 b()함수가 a()함수를 호출하는구조"
      ],
      "metadata": {
        "id": "ieqm0CoG1FX5"
      }
    },
    {
      "cell_type": "markdown",
      "source": [
        "## 유클리드 호제법 (Euclidean algorithm)"
      ],
      "metadata": {
        "id": "gIGboQN71j6F"
      }
    },
    {
      "cell_type": "code",
      "source": [
        "## 실습 5-2\n",
        "## 유클리드 호제법으로 최대 공약수 구하기\n",
        "## gcd.py 저장\n",
        "\n",
        "def gcd(x: int,y: int) -> int:\n",
        "    \"\"\"정숫값 x와 y의 최대 공약수를 반환\"\"\"\n",
        "    if y == 0: return x\n",
        "    else: return gcd(y, x%y)\n",
        "\n",
        "if __name__ == '__main__':\n",
        "    print('두 정숫값의 최대 공약수를 구합니다.')\n",
        "    x = int(input('첫 번째 정숫값을 입력하세요.: '))\n",
        "    y = int(input('두 번째 정숫값을 입력하세요.: '))\n",
        "\n",
        "    print(f'두 정숫값의 최대 공약수는 {gcd(x,y)}입니다.')"
      ],
      "metadata": {
        "colab": {
          "base_uri": "https://localhost:8080/"
        },
        "id": "tiamUMXC0Sw1",
        "outputId": "364c0c79-b6f9-4dad-abc8-2baf42f35c8a"
      },
      "execution_count": 3,
      "outputs": [
        {
          "output_type": "stream",
          "name": "stdout",
          "text": [
            "두 정숫값의 최대 공약수를 구합니다.\n",
            "첫 번째 정숫값을 입력하세요.: 22\n",
            "두 번째 정숫값을 입력하세요.: 8\n",
            "두 정숫값의 최대 공약수는 2입니다.\n"
          ]
        }
      ]
    },
    {
      "cell_type": "markdown",
      "source": [
        "\n",
        "\n",
        "```\n",
        "보충) math.gcd()함수\n",
        "파이썬에서는 최대 공약수를 구하는 표준 라이브러리로 math모듈에서  gcd(0함수를 제공한다.\n",
        "예를 들어 math.gcd(a,b)는 정수 a와 b의 최대 공약수를 반환한다.\n",
        "a, b가 0이 아닌 경우 gcd(a,b)의 값은 a와 b 모두를 나누어 떨어지게 하는 가장 큰 정수를 반환한다.\n",
        "```\n",
        "\n"
      ],
      "metadata": {
        "id": "6MDMumrQ2UyO"
      }
    },
    {
      "cell_type": "markdown",
      "source": [
        "## 재귀 알고리즘 분석\n",
        "재귀 알고리즘을 분석하는 방법으로 하향식 분석과 상향식 분석이 있다."
      ],
      "metadata": {
        "id": "y3qLr66X2xAb"
      }
    },
    {
      "cell_type": "code",
      "source": [
        "## 실습 5-3\n",
        "## 순수한 재귀 함수 구하기\n",
        "## recur1.py 저장\n",
        "\n",
        "def recur(n: int) -> int:\n",
        "    \"\"\"순수한 재귀 함수 recur의 구현\"\"\"\n",
        "    if n > 0 :\n",
        "        recur(n-1)\n",
        "        print(n)\n",
        "        recur(n-2)\n",
        "\n",
        "x = int(input('정숫값을 입력하세요.: '))\n",
        "\n",
        "recur(x)"
      ],
      "metadata": {
        "colab": {
          "base_uri": "https://localhost:8080/"
        },
        "id": "uFCZdVTP2Bmg",
        "outputId": "6d3cb23f-3868-4340-83a6-0a649dda7c50"
      },
      "execution_count": 4,
      "outputs": [
        {
          "output_type": "stream",
          "name": "stdout",
          "text": [
            "정숫값을 입력하세요.: 4\n",
            "1\n",
            "2\n",
            "3\n",
            "1\n",
            "4\n",
            "1\n",
            "2\n"
          ]
        }
      ]
    },
    {
      "cell_type": "code",
      "source": [
        "## recur() 함수의 재귀 호출을 거꾸로 출력하기\n",
        "## recur2.py\n",
        "\n",
        "def recur(n: int) -> int:\n",
        "    \"\"\"순수한 재귀 함수 recur의 구현(거꾸로 출력)\"\"\"\n",
        "    if n > 0:\n",
        "        recur(n-2)\n",
        "        print(n)\n",
        "        recur(n-1)\n",
        "\n",
        "x = int(input('정숫값을 입력하세요.: '))\n",
        "\n",
        "recur(x)"
      ],
      "metadata": {
        "colab": {
          "base_uri": "https://localhost:8080/"
        },
        "id": "96fJZFkc3TJq",
        "outputId": "7dca26e6-357c-4255-8fa1-d62335d29f24"
      },
      "execution_count": 5,
      "outputs": [
        {
          "output_type": "stream",
          "name": "stdout",
          "text": [
            "정숫값을 입력하세요.: 4\n",
            "2\n",
            "1\n",
            "4\n",
            "1\n",
            "3\n",
            "2\n",
            "1\n"
          ]
        }
      ]
    },
    {
      "cell_type": "markdown",
      "source": [
        "## 재귀 알고리즘의 비재귀적 표현\n",
        "* 꼬리 재귀를 제거하기\n",
        "  + recur() 함수의 맨 끝에서 재귀 호출하는 꼬리 재귀 recur(n-2) 함수의 의미는 '인수로 n-2의 값을 전달하고 recur()함수를 호출하는 것'이다."
      ],
      "metadata": {
        "id": "hWIdJ1fL6FJi"
      }
    },
    {
      "cell_type": "code",
      "source": [
        "## 실습 5-4\n",
        "## 비재귀적으로 재귀 함수 구현하기(꼬리 재귀를 제거)\n",
        "## recur1a.py\n",
        "\n",
        "def recur(n:int) -> int:\n",
        "    \"\"\"꼬리 재귀를 제거한 recur()함수\"\"\"\n",
        "    while n > 0:\n",
        "        recur(n-1)\n",
        "        print(n)\n",
        "        n = n-2\n",
        "\n",
        "x = int(input('정숫값을 입력하세요.: '))\n",
        "\n",
        "recur(x)"
      ],
      "metadata": {
        "colab": {
          "base_uri": "https://localhost:8080/"
        },
        "id": "foa2qUvd5_Yi",
        "outputId": "9f326864-a03f-466e-ab91-91690dee9aa8"
      },
      "execution_count": 6,
      "outputs": [
        {
          "output_type": "stream",
          "name": "stdout",
          "text": [
            "정숫값을 입력하세요.: 4\n",
            "1\n",
            "2\n",
            "3\n",
            "1\n",
            "4\n",
            "1\n",
            "2\n"
          ]
        }
      ]
    },
    {
      "cell_type": "code",
      "source": [],
      "metadata": {
        "id": "mQLpVWQf6zJb"
      },
      "execution_count": 6,
      "outputs": []
    }
  ]
}