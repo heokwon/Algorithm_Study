{
  "nbformat": 4,
  "nbformat_minor": 0,
  "metadata": {
    "colab": {
      "provenance": [],
      "collapsed_sections": [],
      "authorship_tag": "ABX9TyPgQq5w8oS8v0hh/ML3SQqN",
      "include_colab_link": true
    },
    "kernelspec": {
      "name": "python3",
      "display_name": "Python 3"
    },
    "language_info": {
      "name": "python"
    }
  },
  "cells": [
    {
      "cell_type": "markdown",
      "metadata": {
        "id": "view-in-github",
        "colab_type": "text"
      },
      "source": [
        "<a href=\"https://colab.research.google.com/github/heokwon/Algorithm_Study/blob/main/Do_it!/%ED%81%B4%EB%9E%98%EC%8A%A4.ipynb\" target=\"_parent\"><img src=\"https://colab.research.google.com/assets/colab-badge.svg\" alt=\"Open In Colab\"/></a>"
      ]
    },
    {
      "cell_type": "markdown",
      "source": [
        "##객체\n",
        "프로그램을 만들 때는 우선 '우리가 어떤 데이터를 활용하는가?'를 생각하게 됩니다.\n",
        "\n",
        "병원에서 사용하는 업무 프로그램을 만든다면 의사,간호사,환자,병실,예약 기록,진료 기록,입퇴원 기록과 같은 '데이터'를 먼저 고려합니다."
      ],
      "metadata": {
        "id": "g-ayYPLdX6NS"
      }
    },
    {
      "cell_type": "code",
      "source": [
        "# dict로 객체 만들기\n",
        "students=[\n",
        "         {\"name\":\"윤인성\",\"korean\":87,'math':98,'english':88,'science':95},\n",
        "         {\"name\":\"연하진\",\"korean\":92,'math':98,'english':96,'science':98},\n",
        "         {\"name\":\"구지연\",\"korean\":76,'math':96,'english':94,'science':90},\n",
        "         {\"name\":\"나선주\",\"korean\":98,'math':92,'english':96,'science':92},\n",
        "         {\"name\":\"윤아린\",\"korean\":95,'math':98,'english':98,'science':98},\n",
        "         {\"name\":\"윤명월\",\"korean\":64,'math':88,'english':92,'science':92}\n",
        "]\n",
        "# 학생을 한 명씩 반복합니다.\n",
        "print('이름','총점','평균',sep=\"\\t\")\n",
        "for student in students:\n",
        "  #점수의 총합과 평균을 구합니다.\n",
        "  score_sum = student[\"korean\"]+student['math']+student['english']+student['science']\n",
        "  score_average = score_sum/4\n",
        "  \n",
        "  print(student['name'],score_sum,score_average,sep='\\t')"
      ],
      "metadata": {
        "colab": {
          "base_uri": "https://localhost:8080/"
        },
        "id": "BX9JYVa5Xm_i",
        "outputId": "b88e5cf4-bbf7-40e3-f369-15867ff47257"
      },
      "execution_count": null,
      "outputs": [
        {
          "output_type": "stream",
          "name": "stdout",
          "text": [
            "이름\t총점\t평균\n",
            "윤인성\t368\t92.0\n",
            "연하진\t384\t96.0\n",
            "구지연\t356\t89.0\n",
            "나선주\t378\t94.5\n",
            "윤아린\t389\t97.25\n",
            "윤명월\t336\t84.0\n"
          ]
        }
      ]
    },
    {
      "cell_type": "code",
      "source": [
        "def create_student(name,korean,math,english,science):\n",
        "  return{\n",
        "      'name':name,\n",
        "      'korean':korean,\n",
        "      'math':math,\n",
        "      'english':english,\n",
        "      'science':science\n",
        "  }\n",
        "\n",
        "students=[\n",
        "          create_student('윤인성',87,98,88,95),\n",
        "          create_student('연하진',92,98,96,98),\n",
        "          create_student('구지연',76,96,94,90),\n",
        "          create_student('나선주',98,92,96,92),\n",
        "          create_student('윤아린',95,98,98,98),\n",
        "          create_student('윤명월',64,88,92,92)\n",
        "]\n",
        "\n",
        "print('이름','총점','평균',sep='\\t')\n",
        "for student in students:\n",
        "  score_sum=student['korean']+student['math']+student['english']+student['science']\n",
        "  score_average=score_sum/4\n",
        "\n",
        "  print(student['name'],score_sum,score_average,sep='\\t')"
      ],
      "metadata": {
        "colab": {
          "base_uri": "https://localhost:8080/"
        },
        "id": "5zelnawnZUwj",
        "outputId": "c602bf56-4b5f-471c-e58e-b4de605ba194"
      },
      "execution_count": null,
      "outputs": [
        {
          "output_type": "stream",
          "name": "stdout",
          "text": [
            "이름\t총점\t평균\n",
            "윤인성\t368\t92.0\n",
            "연하진\t384\t96.0\n",
            "구지연\t356\t89.0\n",
            "나선주\t378\t94.5\n",
            "윤아린\t389\t97.25\n",
            "윤명월\t336\t84.0\n"
          ]
        }
      ]
    },
    {
      "cell_type": "code",
      "source": [
        "def create_student(name,korean,math,english,science):\n",
        "  return {\n",
        "      'name':name,\n",
        "      'korean':korean,\n",
        "      'math':math,\n",
        "      'english':english,\n",
        "      'science':science\n",
        "  }\n",
        "\n",
        "def student_get_sum(student):\n",
        "  return student['korean']+student['math']+student['english']+student['science']\n",
        "\n",
        "def student_get_average(student):\n",
        "  return student_get_sum(student)/4\n",
        "\n",
        "def student_to_string(student):\n",
        "  return '{}\\t{}\\t{}'.format(\n",
        "      student['name'],\n",
        "      student_get_sum(student),\n",
        "      student_get_average(student)\n",
        "  )\n",
        "\n",
        "students=[\n",
        "          create_student('윤인성',87,98,88,95),\n",
        "          create_student('연하진',92,98,96,98),\n",
        "          create_student('구지연',76,96,94,90),\n",
        "          create_student('나선주',98,92,96,92),\n",
        "          create_student('윤아린',95,98,98,98),\n",
        "          create_student('윤명월',64,88,92,92)\n",
        "]\n",
        "\n",
        "print('이름','총점','평균',sep='\\t')\n",
        "\n",
        "for student in students:\n",
        "  print(student_to_string(student))"
      ],
      "metadata": {
        "colab": {
          "base_uri": "https://localhost:8080/"
        },
        "id": "2nqj1JOJbuUe",
        "outputId": "865420b7-28a5-435a-bf79-f17d95035942"
      },
      "execution_count": null,
      "outputs": [
        {
          "output_type": "stream",
          "name": "stdout",
          "text": [
            "이름\t총점\t평균\n",
            "윤인성\t368\t92.0\n",
            "연하진\t384\t96.0\n",
            "구지연\t356\t89.0\n",
            "나선주\t378\t94.5\n",
            "윤아린\t389\t97.25\n",
            "윤명월\t336\t84.0\n"
          ]
        }
      ]
    },
    {
      "cell_type": "markdown",
      "source": [
        "##생성자\n",
        "__init__라는 함수를 만들면 객체를 생성할 때 처리할 내용을 작성할 수 있습니다."
      ],
      "metadata": {
        "id": "NViwX9AAet4N"
      }
    },
    {
      "cell_type": "markdown",
      "source": [
        "인스턴스 이름(변수 이름) = 클래스 이름() ----> 생성자 함수 라고 부릅니다."
      ],
      "metadata": {
        "id": "4GoAstg1eSgV"
      }
    },
    {
      "cell_type": "code",
      "source": [
        "#class 클래스 이름:\n",
        "#  def __init__(self, 추가적인 매개변수):\n",
        "#    pass"
      ],
      "metadata": {
        "id": "_8seKqHkd4u4"
      },
      "execution_count": null,
      "outputs": []
    },
    {
      "cell_type": "markdown",
      "source": [
        "클래스 내부의 함수는 첫 번째 매개변수로 반드시 self를 입력해야 합니다.\n",
        "\n",
        "이때 self는 '자기 자신'을 나타내는 딕셔너리라고 생각하면 됩니다.\n",
        "\n",
        "다만 self가 가지고 있는 속성과 기능에 접근할 때는 self.<식별자> 형태로 접근합니다.\n",
        "\n",
        "self는 키워드가 아니라 단순한 식별자이므로, 변수 이름으로 활용해도 됩니다.\n",
        "\n",
        "하지만 거의 모든 파이썬 개발자가 self라는 이름을 사용하고 있으므로 기본 규칙을 지키는 것이 좋겠습니다."
      ],
      "metadata": {
        "id": "QhxPUrpFesG5"
      }
    },
    {
      "cell_type": "code",
      "source": [
        "# 클래스를 선언합니다.\n",
        "class Student:\n",
        "  def __init__(self,name,korean,math,english,science):\n",
        "    self.name = name\n",
        "    self.korean = korean\n",
        "    self.math = math\n",
        "    self.english = english\n",
        "    self.science = science\n",
        " \n",
        "  def get_sum(self):\n",
        "    return self.korean + self.math + self.english + self.science\n",
        "  \n",
        "  def get_average(self):\n",
        "    return self.get_sum()/4\n",
        "\n",
        "  def to_string(self):\n",
        "    return '[]\\t[]\\t[]'.format(self.name,self.get_sum(),self.get_average())\n",
        "# 학생 리스트르르 선언합니다.\n",
        "students = [\n",
        "            Student('장주찬',99,98,97,96),\n",
        "            Student('전규원',98,99,100,77),\n",
        "            Student('한정현',87,98,70,77),\n",
        "            Student('박정현',99,99,99,99),\n",
        "            Student('이소정',88,82,78,54),\n",
        "            Student('이성준',100,98,74,88)\n",
        "]\n",
        "\n",
        "# Student 인스턴스의 속성에 접근하는 방법\n",
        "#students[0].name\n",
        "#students[0].korean\n",
        "#students[0].math\n",
        "#students[0].english\n",
        "#students[0].science\n",
        "\n",
        "# 학생을 한 명씩 반복합니다.\n",
        "print('이름','총점','평균',sep='\\t')\n",
        "for student in students:\n",
        "  print(student.to_string())"
      ],
      "metadata": {
        "colab": {
          "base_uri": "https://localhost:8080/"
        },
        "id": "T-7pTADCfK5g",
        "outputId": "036790d4-c1d9-4d39-fdc5-a1553784afa5"
      },
      "execution_count": null,
      "outputs": [
        {
          "output_type": "stream",
          "name": "stdout",
          "text": [
            "이름\t총점\t평균\n",
            "[]\t[]\t[]\n",
            "[]\t[]\t[]\n",
            "[]\t[]\t[]\n",
            "[]\t[]\t[]\n",
            "[]\t[]\t[]\n",
            "[]\t[]\t[]\n"
          ]
        }
      ]
    },
    {
      "cell_type": "markdown",
      "source": [
        "isinstance(인스턴스, 클래스)\n",
        "\n",
        "객체(인스턴스)가 어떤 클래스로부터 만들어졌는지 확인할 수 있도록 isinstance()함수를 제공합니다.\n",
        "\n",
        "isinstance()함수는 첫 번째 매개변수에 객체(인스턴스), 두 번째 매개변수에 클래스를 입력합니다.\n",
        "\n",
        "이때, 인스턴스가 해당 클래스를 기반으로 만들어졌다면 True,\n",
        "\n",
        "전혀 상관이 없는 인스턴스와 클래스라면 False를 리턴합니다."
      ],
      "metadata": {
        "id": "9lw9uzwPkV82"
      }
    },
    {
      "cell_type": "code",
      "source": [
        "class Student:\n",
        "  def __init__(self):\n",
        "    pass\n",
        "\n",
        "student = Student()\n",
        "\n",
        "print('isinstance(student, Student):',isinstance(student, Student))"
      ],
      "metadata": {
        "colab": {
          "base_uri": "https://localhost:8080/"
        },
        "id": "0BT1ltdehK83",
        "outputId": "f99d811c-a828-496c-ece4-463e723ab506"
      },
      "execution_count": null,
      "outputs": [
        {
          "output_type": "stream",
          "name": "stdout",
          "text": [
            "isinstance(student, Student): True\n"
          ]
        }
      ]
    },
    {
      "cell_type": "markdown",
      "source": [
        "단순한 인스턴스 확인이라면 다음과 같은 방법도 사용할 수 있습니다."
      ],
      "metadata": {
        "id": "XRN-dLzilPaK"
      }
    },
    {
      "cell_type": "code",
      "source": [
        "type(student) == Student"
      ],
      "metadata": {
        "colab": {
          "base_uri": "https://localhost:8080/"
        },
        "id": "4rIF9FS4lKEe",
        "outputId": "46360929-4745-42e7-de1e-af1e12bdb8b1"
      },
      "execution_count": null,
      "outputs": [
        {
          "output_type": "execute_result",
          "data": {
            "text/plain": [
              "True"
            ]
          },
          "metadata": {},
          "execution_count": 22
        }
      ]
    },
    {
      "cell_type": "code",
      "source": [
        "class Student:\n",
        "  def study(self):\n",
        "    print('공부를 합니다.')\n",
        "\n",
        "class Teacher:\n",
        "  def teach(self):\n",
        "    print('학생을 가르칩니다.')\n",
        "\n",
        "classroom = [Student(), Student(), Teacher(), Student(), Student()]\n",
        "\n",
        "for person in classroom:\n",
        "  if isinstance(person, Student):\n",
        "    person.study()\n",
        "  elif isinstance(person, Teacher):\n",
        "    person.teach()"
      ],
      "metadata": {
        "colab": {
          "base_uri": "https://localhost:8080/"
        },
        "id": "-4ZQUHaklVaT",
        "outputId": "f02179bf-0692-45c8-cd19-1733455ad6ef"
      },
      "execution_count": null,
      "outputs": [
        {
          "output_type": "stream",
          "name": "stdout",
          "text": [
            "공부를 합니다.\n",
            "공부를 합니다.\n",
            "학생을 가르칩니다.\n",
            "공부를 합니다.\n",
            "공부를 합니다.\n"
          ]
        }
      ]
    },
    {
      "cell_type": "markdown",
      "source": [
        "일반적으로 객체 지향 프로그래밍은 모든 데이터를 클래스로 구현합니다.\n",
        "\n",
        "이러한 데이터를 관리할 때 종류별로 리스트를 따로 만들고 활용해야 한다고 생각하는\n",
        "\n",
        "경우가 많은데요, isinstance()함수를 사용하면 이처럼 하나의 리스트로도 여러 종류\n",
        "\n",
        "의 데이터를 다룰 수 있습니다."
      ],
      "metadata": {
        "id": "XGBXQ3jAmFFF"
      }
    },
    {
      "cell_type": "markdown",
      "source": [
        "## 클래스 변수와 메소드"
      ],
      "metadata": {
        "id": "wRQTzYXumXVT"
      }
    },
    {
      "cell_type": "markdown",
      "source": [
        "클래스 변수\n",
        "\n",
        "클래스 변수는 class 구문 바로 아래의 단계에 변수를 선언하기만 하면 됩니다. 이렇게 만들어진 클래스 변수는 다음과 같이 사용합니다."
      ],
      "metadata": {
        "id": "e1KehFmamrmf"
      }
    },
    {
      "cell_type": "code",
      "source": [
        " # class 클래스 이름:\n",
        " #   클래스 변수 = 값\n",
        "\n",
        " # 클래스 변수에 접근하기\n",
        " # 클래스 이름.변수 이름"
      ],
      "metadata": {
        "id": "hX927-drmBEF"
      },
      "execution_count": null,
      "outputs": []
    },
    {
      "cell_type": "code",
      "source": [
        "class Student:\n",
        "  count = 0\n",
        "\n",
        "  def __init__(self,name,korean,math,english,science):\n",
        "    self.name = name\n",
        "    self.korean = korean\n",
        "    self.math = math\n",
        "    self.english = english\n",
        "    self.science = science\n",
        "\n",
        "    Student.count += 1\n",
        "    print('{}번째 학생이 생성되었습니다.'.format(Student.count))\n",
        "\n",
        "students = [\n",
        "            Student('주찬',92,97,96,98),\n",
        "            Student('규원',100,98,99,91),\n",
        "            Student('남우',100,100,100,100),\n",
        "            Student('수현',99,98,56,33),\n",
        "            Student('보영',78,82,88,90),\n",
        "            Student('권',40,39,30,22)\n",
        "]\n",
        "\n",
        "print()\n",
        "print('현재 생성된 총 학생 수는 {}명입니다.'.format(Student.count))"
      ],
      "metadata": {
        "colab": {
          "base_uri": "https://localhost:8080/"
        },
        "id": "dOtA5U1snDvl",
        "outputId": "bc260154-1627-4c48-8294-16c6b3ce18e5"
      },
      "execution_count": null,
      "outputs": [
        {
          "output_type": "stream",
          "name": "stdout",
          "text": [
            "1번째 학생이 생성되었습니다.\n",
            "2번째 학생이 생성되었습니다.\n",
            "3번째 학생이 생성되었습니다.\n",
            "4번째 학생이 생성되었습니다.\n",
            "5번째 학생이 생성되었습니다.\n",
            "6번째 학생이 생성되었습니다.\n",
            "\n",
            "현재 생성된 총 학생 수는 6명입니다.\n"
          ]
        }
      ]
    },
    {
      "cell_type": "markdown",
      "source": [
        "클래스 함수도 클래스 변수처럼 그냥 클래스가 가진 함수입니다. \n",
        "\n",
        "일반적인 함수로 만드나 클래스 함수로 만드나 사용에는 큰 차이가 없습니다. \n",
        "\n",
        "다만 '클래스가 가진 기능'이라고 명시적으로 나타내는것 뿐입니다.\n",
        "\n",
        "그런데 생성하는 방법이 조금 특이합니다.\n",
        "\n",
        "@classmethod 부분을 '데코레이터' 라고 부릅니다."
      ],
      "metadata": {
        "id": "LVfaip1zozqj"
      }
    },
    {
      "cell_type": "code",
      "source": [
        "## 클래스 함수 만들기\n",
        "#class 클래스 이름:\n",
        "#  @classmethod\n",
        "#  def 클래스 함수(cls,매개변수):\n",
        "#    pass"
      ],
      "metadata": {
        "id": "q3Lzm6vZoe8x"
      },
      "execution_count": null,
      "outputs": []
    },
    {
      "cell_type": "code",
      "source": [
        "# 클래스 함수 호출하기\n",
        "# 클래스 이름.함수 이름(매개 변수)"
      ],
      "metadata": {
        "id": "-dsc7wzUpYdL"
      },
      "execution_count": null,
      "outputs": []
    },
    {
      "cell_type": "code",
      "source": [
        "class Student:\n",
        "  #클래스 변수\n",
        "  count = 0\n",
        "  students = []\n",
        "\n",
        "  #클래스 함수\n",
        "  @classmethod\n",
        "  def print(cls):\n",
        "    print('------ 학생 목록 ------')\n",
        "    print('이름\\t총점\\t평균')\n",
        "    for student in cls.students:\n",
        "      print(str(student))\n",
        "    print('------ ------ ------')\n",
        "  \n",
        "  #인스턴스 함수\n",
        "  def __init__(self,name,korean,math,english,science):\n",
        "    self.name = name\n",
        "    self.korean = korean\n",
        "    self.math = math\n",
        "    self.english = english\n",
        "    self.science = science\n",
        "    Student.count += 1\n",
        "    Student.students.append(self)\n",
        "\n",
        "  def get_sum(self):\n",
        "    return self.korean + self.math + self.english + self.science\n",
        "\n",
        "  def get_average(self):\n",
        "    return self.get_sum()/4\n",
        "  \n",
        "  def __str__(self):\n",
        "    return \"{}\\t{}\\t{}\".format(self.name, self.get_sum(), self.get_average())\n",
        "  \n",
        "students = [\n",
        "            Student('주찬',92,97,96,98),\n",
        "            Student('규원',100,98,99,91),\n",
        "            Student('남우',100,100,100,100),\n",
        "            Student('수현',99,98,56,33),\n",
        "            Student('보영',78,82,88,90),\n",
        "            Student('권',40,39,30,22)\n",
        "]\n",
        "\n",
        "Student.print()"
      ],
      "metadata": {
        "colab": {
          "base_uri": "https://localhost:8080/"
        },
        "id": "6c56OAszpfsw",
        "outputId": "b0a9de73-5f18-4363-83d4-dba6d1ec2d83"
      },
      "execution_count": null,
      "outputs": [
        {
          "output_type": "stream",
          "name": "stdout",
          "text": [
            "------ 학생 목록 ------\n",
            "이름\t총점\t평균\n",
            "주찬\t383\t95.75\n",
            "규원\t388\t97.0\n",
            "남우\t400\t100.0\n",
            "수현\t286\t71.5\n",
            "보영\t338\t84.5\n",
            "권\t131\t32.75\n",
            "------ ------ ------\n"
          ]
        }
      ]
    },
    {
      "cell_type": "markdown",
      "source": [
        "## 가비지 컬렉터\n",
        "프로그램 내부에서 무언가를 생성한다는 것은 메모리 위에 올린다는 의미입니다,\n",
        "\n",
        "메모리가 부족해지면 컴퓨터는 하드디스크를 메모리처럼 사용해 무언가를 올리기 시작합니다.\n",
        "\n",
        "이러한 동작을 '스왑' 이라고 하는데, 하드디스크는 메모리보다 훨씬 느리므로 스왑을 처리하는 속도도 느립니다."
      ],
      "metadata": {
        "id": "ehqoC2MkpBFc"
      }
    },
    {
      "cell_type": "code",
      "source": [
        "class Test:\n",
        "  def __init__(self, name):\n",
        "    self.name = name\n",
        "    print(\"{} - 생성되었습니다.\".format(self.name))\n",
        "  def __del__(self):\n",
        "    print(\"{} - 파괴되었습니다.\".format(self.name))\n",
        "\n",
        "Test(\"A\")\n",
        "Test('B')\n",
        "Test('C')"
      ],
      "metadata": {
        "id": "6BY4d7JmrbEl",
        "colab": {
          "base_uri": "https://localhost:8080/"
        },
        "outputId": "e267099b-fcc2-473a-c558-f12547f76e8c"
      },
      "execution_count": null,
      "outputs": [
        {
          "output_type": "stream",
          "name": "stdout",
          "text": [
            "A - 생성되었습니다.\n",
            "A - 파괴되었습니다.\n",
            "B - 생성되었습니다.\n",
            "B - 파괴되었습니다.\n",
            "C - 생성되었습니다.\n"
          ]
        },
        {
          "output_type": "execute_result",
          "data": {
            "text/plain": [
              "<__main__.Test at 0x7fcdad140310>"
            ]
          },
          "metadata": {},
          "execution_count": 1
        }
      ]
    },
    {
      "cell_type": "markdown",
      "source": [
        "A생성 A파괴, B생성 B파괴, C생성 C파괴 과정 진행"
      ],
      "metadata": {
        "id": "5lb21xj1qz_3"
      }
    },
    {
      "cell_type": "code",
      "source": [
        "class Test:\n",
        "  def __init__(self,name):\n",
        "    self.name = name\n",
        "    print('{} - 생성되었습니다.'.format(self.name))\n",
        "  def __del__(self,name):\n",
        "    print('{} - 파괴되었습니다.'.format(self.name))\n",
        "\n",
        "a = Test(\"A\")\n",
        "b = Test(\"B\")\n",
        "c = Test(\"C\")"
      ],
      "metadata": {
        "colab": {
          "base_uri": "https://localhost:8080/"
        },
        "id": "-83ccMzfqGI0",
        "outputId": "265a57a0-25fd-4644-999d-0f28b341ece1"
      },
      "execution_count": null,
      "outputs": [
        {
          "output_type": "stream",
          "name": "stdout",
          "text": [
            "A - 생성되었습니다.\n",
            "B - 생성되었습니다.\n",
            "C - 생성되었습니다.\n"
          ]
        }
      ]
    },
    {
      "cell_type": "markdown",
      "source": [
        "a,b,c 라는 변수에 저장\n",
        "\n",
        "가비지 컬렉터는 변수에 저장했으면 나중에 활용한다는 의미를 가지고 있다고 판단한다.\n",
        "\n",
        "따라서, A생성 B생성 C생성 후에 프로그램이 종료될 때 A파괴 B파괴 C파괴가 일어난다."
      ],
      "metadata": {
        "id": "95u9_PUYq8D6"
      }
    },
    {
      "cell_type": "markdown",
      "source": [
        "## 프라이빗 변수와 게터/세터"
      ],
      "metadata": {
        "id": "XYs5UeZnrO5y"
      }
    },
    {
      "cell_type": "markdown",
      "source": [
        "원의 둘레와 넓이를 구하는 객체 지향 프로그램"
      ],
      "metadata": {
        "id": "2l5gsTqqrO23"
      }
    },
    {
      "cell_type": "code",
      "source": [
        "# 모듈을 가져옵니다.\n",
        "import math\n",
        "\n",
        "# 클래스를 선언합니다.\n",
        "class Circle:\n",
        "  def __init__(self, radius):\n",
        "    self.radius = radius\n",
        "  def get_circumference(self):\n",
        "    return 2*math.pi*self.radius\n",
        "  def get_area(self):\n",
        "    return math.pi*(self.radius**2)\n",
        "\n",
        "# 원의 둘레와 넓이를 구합니다.\n",
        "circle = Circle(10)\n",
        "print('원의 둘레:',circle.get_circumference())\n",
        "print('원의 넓이:',circle.get_area())"
      ],
      "metadata": {
        "colab": {
          "base_uri": "https://localhost:8080/"
        },
        "id": "D8mQ3DTLqrpt",
        "outputId": "ef10ed12-bae4-472d-f393-37941f9eac0c"
      },
      "execution_count": null,
      "outputs": [
        {
          "output_type": "stream",
          "name": "stdout",
          "text": [
            "원의 둘레: 62.83185307179586\n",
            "원의 넓이: 314.1592653589793\n"
          ]
        }
      ]
    },
    {
      "cell_type": "markdown",
      "source": [
        "## 프라이빗 변수\n",
        "클래스 내부의 변수를 외부에서 사용하는 것을 막고 싶을 때 인스턴스 변수 이름을 __<변수이름> 형태로 선언한다."
      ],
      "metadata": {
        "id": "gkcfOgK2soaq"
      }
    },
    {
      "cell_type": "code",
      "source": [
        "import math\n",
        "\n",
        "class Circle:\n",
        "  def __init__(self, radius):\n",
        "    self.__radius = radius\n",
        "  def get_circumference(self):\n",
        "    return 2*math.pi*self.__radius\n",
        "  def get_area(self):\n",
        "    return math.pi*(self.__radius**2)\n",
        "# 원의 둘레와 넓이를 구합니다\n",
        "circle =Circle(10)\n",
        "print('# 원의 둘레와 넓이를 구합니다.')\n",
        "print('원의 둘레:', circle.get_circumference())\n",
        "print('원의 넓이:', circle.get_area())\n",
        "print()\n",
        "#__radius에 접근합니다.\n",
        "print('# __radius에 접근합니다.')\n",
        "print(circle.__radius)"
      ],
      "metadata": {
        "colab": {
          "base_uri": "https://localhost:8080/",
          "height": 300
        },
        "id": "-Uvu42jasc3Z",
        "outputId": "1390e24d-41d3-4297-90c6-4b1d020baddf"
      },
      "execution_count": null,
      "outputs": [
        {
          "output_type": "stream",
          "name": "stdout",
          "text": [
            "# 원의 둘레와 넓이를 구합니다.\n",
            "원의 둘레: 62.83185307179586\n",
            "원의 넓이: 314.1592653589793\n",
            "\n",
            "# __radius에 접근합니다.\n"
          ]
        },
        {
          "output_type": "error",
          "ename": "AttributeError",
          "evalue": "ignored",
          "traceback": [
            "\u001b[0;31m---------------------------------------------------------------------------\u001b[0m",
            "\u001b[0;31mAttributeError\u001b[0m                            Traceback (most recent call last)",
            "\u001b[0;32m<ipython-input-6-d13ed5d81bba>\u001b[0m in \u001b[0;36m<module>\u001b[0;34m()\u001b[0m\n\u001b[1;32m     16\u001b[0m \u001b[0;31m#__radius에 접근합니다.\u001b[0m\u001b[0;34m\u001b[0m\u001b[0;34m\u001b[0m\u001b[0;34m\u001b[0m\u001b[0m\n\u001b[1;32m     17\u001b[0m \u001b[0mprint\u001b[0m\u001b[0;34m(\u001b[0m\u001b[0;34m'# __radius에 접근합니다.'\u001b[0m\u001b[0;34m)\u001b[0m\u001b[0;34m\u001b[0m\u001b[0;34m\u001b[0m\u001b[0m\n\u001b[0;32m---> 18\u001b[0;31m \u001b[0mprint\u001b[0m\u001b[0;34m(\u001b[0m\u001b[0mcircle\u001b[0m\u001b[0;34m.\u001b[0m\u001b[0m__radius\u001b[0m\u001b[0;34m)\u001b[0m\u001b[0;34m\u001b[0m\u001b[0;34m\u001b[0m\u001b[0m\n\u001b[0m",
            "\u001b[0;31mAttributeError\u001b[0m: 'Circle' object has no attribute '__radius'"
          ]
        }
      ]
    },
    {
      "cell_type": "markdown",
      "source": [
        "클래스 내부에서 __radius를 사용하는 것은 아무 문제없지만,\n",
        "\n",
        " 클래스 외부에서 __radius를 사용하려고 할 때 그런 속성이 없다는 오류를 출력합니다.\n",
        "\n",
        "이처럼 속성을 선언할 때 앞에 __를 붙이기만 하면 외부에서 사용할 수 없는 변수가 됩니다."
      ],
      "metadata": {
        "id": "zH5JLwS5uB_f"
      }
    },
    {
      "cell_type": "markdown",
      "source": [
        "## 게터와 세터\n",
        "중간에 원의 둘레를 변경하고 싶다면??\n",
        "\n",
        "클래스 외부에서 직접 __radius속성에 접근할 수 없기 때문에 간접적으로 접근할 수 있는 방법을 찾아야 합니다.\n",
        "\n",
        "이때 사용되는 것이 '게터'와 '세터'입니다. 게터와 세터는 프라이빗 변수의 값을 추출하거나 변경할 목적으로,\n",
        "\n",
        "간접적으로 속성에 접근하도록 해주는 함수입니다."
      ],
      "metadata": {
        "id": "Z9S8n4YguXuj"
      }
    },
    {
      "cell_type": "code",
      "source": [
        "import math\n",
        "\n",
        "class Circle:\n",
        "  def __init__(self, radius):\n",
        "    self.__radius = radius\n",
        "  def get_circumference(self):\n",
        "    return 2*math.pi*self.__radius\n",
        "  def get_area(self):\n",
        "    return math.pi*(self.__radius**2)\n",
        "    \n",
        "  #게터와 세터를 선언합니다.\n",
        "  def get_radius(self):\n",
        "    return self.__radius\n",
        "  def set_radius(self, value):\n",
        "    #if value <= 0:\n",
        "    #  raise TypeError('길이는 양의 숫자여야 합니다.') 게터 세터로 변수를 안전하게 사용하기 // __radius에 할당할 값을 양의 숫자로만 한정할 수 있다.\n",
        "    self.__radius = value\n",
        "\n",
        "# 원의 둘레와 넓이를 구합니다.\n",
        "circle = Circle(10)\n",
        "print('# 원의 둘레와 넓이를 구합니다.')\n",
        "print('원의 둘레:',circle.get_circumference())\n",
        "print('원의 넓이:',circle.get_area())\n",
        "print()\n",
        "\n",
        "# 간접적으로 __radius에 접근합니다.\n",
        "print('# 간접적으로 __radius에 접근합니다.')\n",
        "print(circle.get_radius())\n",
        "print()\n",
        "\n",
        "# 원의 둘레와 넓이를 구합니다.\n",
        "circle.set_radius(2)\n",
        "print('# 원의 둘레와 넓이를 구합니다.')\n",
        "print('원의 둘레:',circle.get_circumference())\n",
        "print('원의 넓이:',circle.get_area())"
      ],
      "metadata": {
        "colab": {
          "base_uri": "https://localhost:8080/"
        },
        "id": "qrs60gyftwzN",
        "outputId": "0d8dda97-f246-4f3b-fc3a-4684e9ae7a29"
      },
      "execution_count": null,
      "outputs": [
        {
          "output_type": "stream",
          "name": "stdout",
          "text": [
            "# 원의 둘레와 넓이를 구합니다.\n",
            "원의 둘레: 62.83185307179586\n",
            "원의 넓이: 314.1592653589793\n",
            "\n",
            "# 간접적으로 __radius에 접근합니다.\n",
            "10\n",
            "\n",
            "# 원의 둘레와 넓이를 구합니다.\n",
            "원의 둘레: 12.566370614359172\n",
            "원의 넓이: 12.566370614359172\n"
          ]
        }
      ]
    },
    {
      "cell_type": "markdown",
      "source": [
        "## 데코레이터를 사용한 게터와 세터\n",
        "게터와 세터를 함수로 만드는 일이 많아져서 파이썬 프로그래밍 언어는 게터와 세터를 쉽게 만들고 사용할 수 있게 하는 기능을 제공합니다.\n",
        "\n",
        "다음과 같이 변수 이름과 같은 함수를 정의하고 위에 @property와 @<변수이름>.setter라는 데코레이터를 붙여 주세요"
      ],
      "metadata": {
        "id": "jQrDurPhxINr"
      }
    },
    {
      "cell_type": "code",
      "source": [
        "import math\n",
        "\n",
        "class Circle:\n",
        "  def __init__(self, radius):\n",
        "    self.__radius = radius\n",
        "  def get_circumference(self):\n",
        "    return 2*math.pi*self.__radius\n",
        "  def get_area(self):\n",
        "    return math.pi*(self.__radius**2)\n",
        "  @property\n",
        "  def radius(self):\n",
        "    return self.__radius\n",
        "  @radius.setter\n",
        "  \n",
        "  def radius(self, value):\n",
        "    if value <= 0:\n",
        "      raise TypeError('길이는 양의 숫자여야 합니다.')\n",
        "      self.__radius = value\n",
        "\n",
        "# 원의 둘레와 넓이를 구합니다.\n",
        "print('# 데코레이터를 사용한 Getter와 Setter.')\n",
        "circle = Circle(10)\n",
        "print('원래 원의 반지름:',circle.radius)\n",
        "circle.radius = 2\n",
        "print('변경된 원의 반지름:',circle.radius)\n",
        "print()\n",
        "\n",
        "# 강제로 예외를 발생시킵니다.\n",
        "print('# 강제로 예외를 발생시킵니다.')\n",
        "circle.radius = -10"
      ],
      "metadata": {
        "colab": {
          "base_uri": "https://localhost:8080/",
          "height": 427
        },
        "id": "a3gnsPOQwkTx",
        "outputId": "0453cf2e-1e05-4214-9bad-e26366cef415"
      },
      "execution_count": null,
      "outputs": [
        {
          "output_type": "stream",
          "name": "stdout",
          "text": [
            "# 데코레이터를 사용한 Getter와 Setter.\n",
            "원래 원의 반지름: 10\n",
            "변경된 원의 반지름: 10\n",
            "\n",
            "# 강제로 예외를 발생시킵니다.\n"
          ]
        },
        {
          "output_type": "error",
          "ename": "TypeError",
          "evalue": "ignored",
          "traceback": [
            "\u001b[0;31m---------------------------------------------------------------------------\u001b[0m",
            "\u001b[0;31mTypeError\u001b[0m                                 Traceback (most recent call last)",
            "\u001b[0;32m<ipython-input-11-e49cdb46c660>\u001b[0m in \u001b[0;36m<module>\u001b[0;34m()\u001b[0m\n\u001b[1;32m     28\u001b[0m \u001b[0;31m# 강제로 예외를 발생시킵니다.\u001b[0m\u001b[0;34m\u001b[0m\u001b[0;34m\u001b[0m\u001b[0;34m\u001b[0m\u001b[0m\n\u001b[1;32m     29\u001b[0m \u001b[0mprint\u001b[0m\u001b[0;34m(\u001b[0m\u001b[0;34m'# 강제로 예외를 발생시킵니다.'\u001b[0m\u001b[0;34m)\u001b[0m\u001b[0;34m\u001b[0m\u001b[0;34m\u001b[0m\u001b[0m\n\u001b[0;32m---> 30\u001b[0;31m \u001b[0mcircle\u001b[0m\u001b[0;34m.\u001b[0m\u001b[0mradius\u001b[0m \u001b[0;34m=\u001b[0m \u001b[0;34m-\u001b[0m\u001b[0;36m10\u001b[0m\u001b[0;34m\u001b[0m\u001b[0;34m\u001b[0m\u001b[0m\n\u001b[0m",
            "\u001b[0;32m<ipython-input-11-e49cdb46c660>\u001b[0m in \u001b[0;36mradius\u001b[0;34m(self, value)\u001b[0m\n\u001b[1;32m     15\u001b[0m   \u001b[0;32mdef\u001b[0m \u001b[0mradius\u001b[0m\u001b[0;34m(\u001b[0m\u001b[0mself\u001b[0m\u001b[0;34m,\u001b[0m \u001b[0mvalue\u001b[0m\u001b[0;34m)\u001b[0m\u001b[0;34m:\u001b[0m\u001b[0;34m\u001b[0m\u001b[0;34m\u001b[0m\u001b[0m\n\u001b[1;32m     16\u001b[0m     \u001b[0;32mif\u001b[0m \u001b[0mvalue\u001b[0m \u001b[0;34m<=\u001b[0m \u001b[0;36m0\u001b[0m\u001b[0;34m:\u001b[0m\u001b[0;34m\u001b[0m\u001b[0;34m\u001b[0m\u001b[0m\n\u001b[0;32m---> 17\u001b[0;31m       \u001b[0;32mraise\u001b[0m \u001b[0mTypeError\u001b[0m\u001b[0;34m(\u001b[0m\u001b[0;34m'길이는 양의 숫자여야 합니다.'\u001b[0m\u001b[0;34m)\u001b[0m\u001b[0;34m\u001b[0m\u001b[0;34m\u001b[0m\u001b[0m\n\u001b[0m\u001b[1;32m     18\u001b[0m       \u001b[0mself\u001b[0m\u001b[0;34m.\u001b[0m\u001b[0m__radius\u001b[0m \u001b[0;34m=\u001b[0m \u001b[0mvalue\u001b[0m\u001b[0;34m\u001b[0m\u001b[0;34m\u001b[0m\u001b[0m\n\u001b[1;32m     19\u001b[0m \u001b[0;34m\u001b[0m\u001b[0m\n",
            "\u001b[0;31mTypeError\u001b[0m: 길이는 양의 숫자여야 합니다."
          ]
        }
      ]
    },
    {
      "cell_type": "markdown",
      "source": [
        "## 상속\n",
        "프로그래밍 언어는 기반이 되는 것을 '부모'라고 부르고, 이를 기반으로 생성한 것을 '자식'이라고 부릅니다. 부모가 자식에게 자신의 기반을 무렬주는 기능이므로 '상속'이라고 부릅니다."
      ],
      "metadata": {
        "id": "cIMJrUt0zkOs"
      }
    },
    {
      "cell_type": "code",
      "source": [
        "class Parent:\n",
        "  def __init__(self):\n",
        "    self.value = '테스트'\n",
        "    print('Parent 클래스의 __init()__ 메소드가 호출되었습니다.')\n",
        "  def test(self):\n",
        "    print('Parent 클래스의 test() 메소드 입니다.')\n",
        "\n",
        "class Child(Parent):\n",
        "  def __init__(self):\n",
        "    Parent.__init__(self)\n",
        "    print('Child 클래스의 __init()__ 메소드가 호출되었습니다.')\n",
        "\n",
        "# 자식 클래스의 인스턴스를 생성하고 부모의 메소드를 호출합니다.\n",
        "child = Child()\n",
        "child.test()\n",
        "print(child.value)"
      ],
      "metadata": {
        "colab": {
          "base_uri": "https://localhost:8080/"
        },
        "id": "UdfYPq1ZynGD",
        "outputId": "79cc1a20-2dc7-429f-d769-c5ab9545cf7c"
      },
      "execution_count": null,
      "outputs": [
        {
          "output_type": "stream",
          "name": "stdout",
          "text": [
            "Parent 클래스의 __init()__ 메소드가 호출되었습니다.\n",
            "Child 클래스의 __init()__ 메소드가 호출되었습니다.\n",
            "Parent 클래스의 test() 메소드 입니다.\n",
            "테스트\n"
          ]
        }
      ]
    },
    {
      "cell_type": "markdown",
      "source": [
        "### 예외 클래스 만들기\n",
        "사용자 정의 예외 클래스 만들기"
      ],
      "metadata": {
        "id": "stYxqISP054a"
      }
    },
    {
      "cell_type": "code",
      "source": [
        "class CustomException(Exception):\n",
        "  def __init__(self):\n",
        "    Exception.__init__(self)\n",
        "raise CustomException"
      ],
      "metadata": {
        "colab": {
          "base_uri": "https://localhost:8080/",
          "height": 209
        },
        "id": "l263EBZf0xfz",
        "outputId": "b79c7b96-f799-47a2-e005-60fa060f7fbd"
      },
      "execution_count": null,
      "outputs": [
        {
          "output_type": "error",
          "ename": "CustomException",
          "evalue": "ignored",
          "traceback": [
            "\u001b[0;31m---------------------------------------------------------------------------\u001b[0m",
            "\u001b[0;31mCustomException\u001b[0m                           Traceback (most recent call last)",
            "\u001b[0;32m<ipython-input-13-07a28c97e237>\u001b[0m in \u001b[0;36m<module>\u001b[0;34m()\u001b[0m\n\u001b[1;32m      2\u001b[0m   \u001b[0;32mdef\u001b[0m \u001b[0m__init__\u001b[0m\u001b[0;34m(\u001b[0m\u001b[0mself\u001b[0m\u001b[0;34m)\u001b[0m\u001b[0;34m:\u001b[0m\u001b[0;34m\u001b[0m\u001b[0;34m\u001b[0m\u001b[0m\n\u001b[1;32m      3\u001b[0m     \u001b[0mException\u001b[0m\u001b[0;34m.\u001b[0m\u001b[0m__init__\u001b[0m\u001b[0;34m(\u001b[0m\u001b[0mself\u001b[0m\u001b[0;34m)\u001b[0m\u001b[0;34m\u001b[0m\u001b[0;34m\u001b[0m\u001b[0m\n\u001b[0;32m----> 4\u001b[0;31m \u001b[0;32mraise\u001b[0m \u001b[0mCustomException\u001b[0m\u001b[0;34m\u001b[0m\u001b[0;34m\u001b[0m\u001b[0m\n\u001b[0m",
            "\u001b[0;31mCustomException\u001b[0m: "
          ]
        }
      ]
    },
    {
      "cell_type": "code",
      "source": [
        "class CustomException(Exception):\n",
        "  def __init__(self):\n",
        "    Exception.__init__(self)\n",
        "    print('##### 내가 만든 오류가 생성되었어요!! #####')\n",
        "  def __str__(self):\n",
        "    return \"오류가 발생했어요.\"\n",
        "\n",
        "raise CustomException"
      ],
      "metadata": {
        "colab": {
          "base_uri": "https://localhost:8080/",
          "height": 227
        },
        "id": "yeyNR_zo1M3H",
        "outputId": "f6605e0c-3065-49e5-8511-07b3ccc85f6a"
      },
      "execution_count": null,
      "outputs": [
        {
          "output_type": "stream",
          "name": "stdout",
          "text": [
            "##### 내가 만든 오류가 생성되었어요!! #####\n"
          ]
        },
        {
          "output_type": "error",
          "ename": "CustomException",
          "evalue": "ignored",
          "traceback": [
            "\u001b[0;31m---------------------------------------------------------------------------\u001b[0m",
            "\u001b[0;31mCustomException\u001b[0m                           Traceback (most recent call last)",
            "\u001b[0;32m<ipython-input-14-535dee5785bd>\u001b[0m in \u001b[0;36m<module>\u001b[0;34m()\u001b[0m\n\u001b[1;32m      6\u001b[0m     \u001b[0;32mreturn\u001b[0m \u001b[0;34m\"오류가 발생했어요.\"\u001b[0m\u001b[0;34m\u001b[0m\u001b[0;34m\u001b[0m\u001b[0m\n\u001b[1;32m      7\u001b[0m \u001b[0;34m\u001b[0m\u001b[0m\n\u001b[0;32m----> 8\u001b[0;31m \u001b[0;32mraise\u001b[0m \u001b[0mCustomException\u001b[0m\u001b[0;34m\u001b[0m\u001b[0;34m\u001b[0m\u001b[0m\n\u001b[0m",
            "\u001b[0;31mCustomException\u001b[0m: 오류가 발생했어요."
          ]
        }
      ]
    },
    {
      "cell_type": "code",
      "source": [
        "class CustomException(Exception):\n",
        "  def __init__(self):\n",
        "    Exception.__init__(self)\n",
        "    self.message = message\n",
        "    self.value = value\n",
        "\n",
        "  def __str__(self):\n",
        "    return self.message\n",
        "\n",
        "  def print(self):\n",
        "    print('##### 오류 정보 #####')\n",
        "    print('메세지:', self.message)\n",
        "    print('값:', self.value)\n",
        "  # 예외를 발생시켜 봅시다.\n",
        "  try:\n",
        "    raise CustomException('딱히 이유 없음', 273)\n",
        "  except CustomException as e:\n",
        "    e.print()"
      ],
      "metadata": {
        "colab": {
          "base_uri": "https://localhost:8080/",
          "height": 372
        },
        "id": "qGN2yqoS1z2X",
        "outputId": "bda20b07-c01f-4a33-eb6d-4dc87cedd100"
      },
      "execution_count": null,
      "outputs": [
        {
          "output_type": "error",
          "ename": "TypeError",
          "evalue": "ignored",
          "traceback": [
            "\u001b[0;31m---------------------------------------------------------------------------\u001b[0m",
            "\u001b[0;31mTypeError\u001b[0m                                 Traceback (most recent call last)",
            "\u001b[0;32m<ipython-input-17-90014ba33602>\u001b[0m in \u001b[0;36m<module>\u001b[0;34m()\u001b[0m\n\u001b[0;32m----> 1\u001b[0;31m \u001b[0;32mclass\u001b[0m \u001b[0mCustomException\u001b[0m\u001b[0;34m(\u001b[0m\u001b[0mException\u001b[0m\u001b[0;34m)\u001b[0m\u001b[0;34m:\u001b[0m\u001b[0;34m\u001b[0m\u001b[0;34m\u001b[0m\u001b[0m\n\u001b[0m\u001b[1;32m      2\u001b[0m   \u001b[0;32mdef\u001b[0m \u001b[0m__init__\u001b[0m\u001b[0;34m(\u001b[0m\u001b[0mself\u001b[0m\u001b[0;34m)\u001b[0m\u001b[0;34m:\u001b[0m\u001b[0;34m\u001b[0m\u001b[0;34m\u001b[0m\u001b[0m\n\u001b[1;32m      3\u001b[0m     \u001b[0mException\u001b[0m\u001b[0;34m.\u001b[0m\u001b[0m__init__\u001b[0m\u001b[0;34m(\u001b[0m\u001b[0mself\u001b[0m\u001b[0;34m)\u001b[0m\u001b[0;34m\u001b[0m\u001b[0;34m\u001b[0m\u001b[0m\n\u001b[1;32m      4\u001b[0m     \u001b[0mself\u001b[0m\u001b[0;34m.\u001b[0m\u001b[0mmessage\u001b[0m \u001b[0;34m=\u001b[0m \u001b[0mmessage\u001b[0m\u001b[0;34m\u001b[0m\u001b[0;34m\u001b[0m\u001b[0m\n\u001b[1;32m      5\u001b[0m     \u001b[0mself\u001b[0m\u001b[0;34m.\u001b[0m\u001b[0mvalue\u001b[0m \u001b[0;34m=\u001b[0m \u001b[0mvalue\u001b[0m\u001b[0;34m\u001b[0m\u001b[0;34m\u001b[0m\u001b[0m\n",
            "\u001b[0;32m<ipython-input-17-90014ba33602>\u001b[0m in \u001b[0;36mCustomException\u001b[0;34m()\u001b[0m\n\u001b[1;32m     14\u001b[0m   \u001b[0;31m# 예외를 발생시켜 봅시다.\u001b[0m\u001b[0;34m\u001b[0m\u001b[0;34m\u001b[0m\u001b[0;34m\u001b[0m\u001b[0m\n\u001b[1;32m     15\u001b[0m   \u001b[0;32mtry\u001b[0m\u001b[0;34m:\u001b[0m\u001b[0;34m\u001b[0m\u001b[0;34m\u001b[0m\u001b[0m\n\u001b[0;32m---> 16\u001b[0;31m     \u001b[0;32mraise\u001b[0m \u001b[0mCustomException\u001b[0m\u001b[0;34m(\u001b[0m\u001b[0;34m'딱히 이유 없음'\u001b[0m\u001b[0;34m,\u001b[0m \u001b[0;36m273\u001b[0m\u001b[0;34m)\u001b[0m\u001b[0;34m\u001b[0m\u001b[0;34m\u001b[0m\u001b[0m\n\u001b[0m\u001b[1;32m     17\u001b[0m   \u001b[0;32mexcept\u001b[0m \u001b[0mCustomException\u001b[0m \u001b[0;32mas\u001b[0m \u001b[0me\u001b[0m\u001b[0;34m:\u001b[0m\u001b[0;34m\u001b[0m\u001b[0;34m\u001b[0m\u001b[0m\n\u001b[1;32m     18\u001b[0m     \u001b[0me\u001b[0m\u001b[0;34m.\u001b[0m\u001b[0mprint\u001b[0m\u001b[0;34m(\u001b[0m\u001b[0;34m)\u001b[0m\u001b[0;34m\u001b[0m\u001b[0;34m\u001b[0m\u001b[0m\n",
            "\u001b[0;31mTypeError\u001b[0m: __init__() takes 1 positional argument but 3 were given"
          ]
        }
      ]
    },
    {
      "cell_type": "code",
      "source": [],
      "metadata": {
        "id": "IcBRw1Eg2iRi"
      },
      "execution_count": null,
      "outputs": []
    }
  ]
}