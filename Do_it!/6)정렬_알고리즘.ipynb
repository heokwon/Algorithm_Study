{
  "nbformat": 4,
  "nbformat_minor": 0,
  "metadata": {
    "colab": {
      "provenance": [],
      "collapsed_sections": [],
      "authorship_tag": "ABX9TyNVZywuqG/MxW8fHTCbf5hw",
      "include_colab_link": true
    },
    "kernelspec": {
      "name": "python3",
      "display_name": "Python 3"
    },
    "language_info": {
      "name": "python"
    }
  },
  "cells": [
    {
      "cell_type": "markdown",
      "metadata": {
        "id": "view-in-github",
        "colab_type": "text"
      },
      "source": [
        "<a href=\"https://colab.research.google.com/github/heokwon/Algorithm_Study/blob/main/Do_it!/6)%EC%A0%95%EB%A0%AC_%EC%95%8C%EA%B3%A0%EB%A6%AC%EC%A6%98.ipynb\" target=\"_parent\"><img src=\"https://colab.research.google.com/assets/colab-badge.svg\" alt=\"Open In Colab\"/></a>"
      ]
    },
    {
      "cell_type": "markdown",
      "source": [
        "## 정렬 알고리즘"
      ],
      "metadata": {
        "id": "ezT7--uJzoRA"
      }
    },
    {
      "cell_type": "markdown",
      "source": [
        "정렬 알고리즘은 **안정적인 알고리즘(stable)**과 그렇지 않은 알고리즘으로 나눌 수 있다. 안정적인 정렬 알고리즘은 값이 같은 원소의 순서가 정렬한 후에도 원래의 순서가 유지된다는 보장을 할 수 없다.\n",
        "<br>\n",
        "<hr>\n",
        "정렬 알고리즘도 하나의 배열에서 작업할 수 있는 경우 내부 정렬을 사용하고, 그렇지 않은 경우에는 외부 정렬을 사용한다.<br>\n",
        "\n",
        "* 내부 정렬(internal sorting): 정렬할 모든 데이터를 하나의 배열에 저장할 수 있는 경우에 사용하는 알고리즘\n",
        "* 외부 정렬(external sorting): 정렬할 데이터가 많아서 하나의 배열에 저장할 수 없는 경우에 사용하는 알고리즘\n",
        "\n",
        "외부 정렬은 내부 정렬을 응용한 것으로, 외부 정렬을 구현하려면 별도로 작업용 파일이 필요하고 알고리즘도 복잡하다."
      ],
      "metadata": {
        "id": "OX8ZQNwbyWi6"
      }
    },
    {
      "cell_type": "markdown",
      "source": [
        "## 버블 정렬\n",
        "**버블 정렬(bubble sort)**은 이웃한 두 원소의 대소 관계를 비교하여 필요에 따라 교환을 반복하는 알고리즘으로, 단순 교환 정렬이라고도 한다."
      ],
      "metadata": {
        "id": "GKbKlr5EzqTP"
      }
    },
    {
      "cell_type": "code",
      "execution_count": 3,
      "metadata": {
        "colab": {
          "base_uri": "https://localhost:8080/"
        },
        "id": "Crrng561yLwf",
        "outputId": "f0419aca-63aa-45a3-dc4f-ab23b2304620"
      },
      "outputs": [
        {
          "output_type": "stream",
          "name": "stdout",
          "text": [
            "버블 정렬을 수행합니다.\n",
            "원소 수를 입력하세요.: 7\n",
            "x[0]: 6\n",
            "x[1]: 4\n",
            "x[2]: 3\n",
            "x[3]: 7\n",
            "x[4]: 1\n",
            "x[5]: 9\n",
            "x[6]: 8\n",
            "오른차순으로 정렬했습니다.\n",
            "x[0] = 1\n",
            "x[1] = 3\n",
            "x[2] = 4\n",
            "x[3] = 6\n",
            "x[4] = 7\n",
            "x[5] = 8\n",
            "x[6] = 9\n"
          ]
        }
      ],
      "source": [
        "## 실습 6-1\n",
        "## 버블 정렬 알고리즘 구현하기\n",
        "## bubble_sort1.py\n",
        "from typing import MutableSequence\n",
        "\n",
        "def bubble_sort(a: MutableSequence) -> None:\n",
        "    \"\"\"버블 정렬\"\"\"\n",
        "    n = len(a)\n",
        "    for i in range(n-1):\n",
        "        for j in range(n-1, i, -1):\n",
        "            if a[j-1] > a[j]:\n",
        "                a[j-1], a[j] = a[j],a[j-1]\n",
        "\n",
        "if __name__ == '__main__':\n",
        "    print('버블 정렬을 수행합니다.')\n",
        "    num = int(input('원소 수를 입력하세요.: '))\n",
        "    x = [None] * num  # 원소 수가 num인 배열\n",
        "\n",
        "    for i in range(num):\n",
        "        x[i] = int(input(f'x[{i}]: '))\n",
        "\n",
        "    bubble_sort(x) # 배열 x를 버블 정렬\n",
        "\n",
        "    print('오른차순으로 정렬했습니다.')\n",
        "    for i in range(num):\n",
        "        print(f'x[{i}] = {x[i]}')"
      ]
    },
    {
      "cell_type": "markdown",
      "source": [
        "여기에서 비교하는 두 원소의 인덱스를 a[j-1]과 a[j]라 하고 j값이 어떻게 변화하는지 보자. 배열의 맨 끝에서 맨 앞을 향해 스캔하므로 j의 시작값은 n-1이다. 이때 두 원소 a[j-1]과 a[j]의 값을 비교하여 앞쪽 값이 뒷쪽 값보다 크면 교환한다.\n",
        "그 이후의 비교.교환 과정은 맨 앞쪽을 향해 수행하므로 j값은 1씩 감소한다.\n",
        "\n",
        "각 패스에서 앞쪽i개 원소는 정렬이 끝난 상태이고, 정렬하지 않은 부분은 a[i] ~ a[n-1]이라고 가정한다. 따라서 한 번의 패스에서 j값을 i+1이 될 때까지 비교.교환한다.\n",
        "\n",
        "버블 정렬은 1칸 이상 떨어져 있는 원소를 교환하는 것이 아니라 서로 이웃한 원소만을 교환하므로 안정적이다. 원소를 비교하는 횟수는 첫 번째 패스에서는 n-1, 두 번째 패스에서는 n-2번, ... 이므로 합계는 다음과 같다.\n",
        "\n",
        "\n",
        "```\n",
        "(n-1) + (n-2) + ... + 1 = n(n-1) / 2\n",
        "```\n",
        "\n",
        "그런데 실제 원소를 교환하는 횟수는 배열의 원솟값에 따라 영향을 받으므로 그 평균값은 비교 횟수 전체의 절반인 n(n-1)/4 번 이다.\n",
        "\n"
      ],
      "metadata": {
        "id": "BtxYxicK1QHZ"
      }
    },
    {
      "cell_type": "code",
      "source": [
        "## 실습 6-2\n",
        "## 버블 정렬 알고리즘을 구현하기(정렬 과정을 출력)\n",
        "## bubble_sort1_verbose.py\n",
        "\n",
        "from typing import MutableSequence\n",
        "\n",
        "def bubble_sort_verbose(a: MutableSequence) -> None:\n",
        "    \"\"\"버블 정렬(정렬 과정을 출력)\"\"\"\n",
        "    ccnt = 0 # 비교 횟수\n",
        "    scnt = 0 # 교환 횟수\n",
        "    n = len(a)\n",
        "    for i in range(n-1):\n",
        "        print(f'패스{i+1}')\n",
        "        for j in range(n - 1, i, -1):\n",
        "            for m in range(0, n-1):\n",
        "                print(f'{a[m]:2}'+('  ' if m != j - 1 else\n",
        "                                   ' +' if a[j - 1] > a[j] else ' -'),\n",
        "                                   end='')\n",
        "            print(f'{a[n - 1]:2}')\n",
        "            ccnt += 1\n",
        "            if a[j - 1] > a[j]:\n",
        "                scnt += 1\n",
        "                a[j - 1],a[j] = a[j], a[j - 1]\n",
        "        for m in range(0,n-1):\n",
        "            print(f'{a[m]:2}',end=' ')\n",
        "        print(f'{a[n - 1]:2}')\n",
        "    print(f'비교를 {ccnt}번 했습니다.')\n",
        "    print(f'교환을 {scnt}번 했습니다.')\n",
        "\n",
        "if __name__ == '__main__':\n",
        "    print('버블 정렬을 수행합니다.')\n",
        "    num = int(input('원소 수를 입력하세요.: '))\n",
        "    x = [None] * num  # 원소 수가 num인 배열\n",
        "\n",
        "    for i in range(num):\n",
        "        x[i] = int(input(f'x[{i}]: '))\n",
        "\n",
        "    bubble_sort_verbose(x) # 배열 x를 버블 정렬\n",
        "\n",
        "    print('오른차순으로 정렬했습니다.')\n",
        "    for i in range(num):\n",
        "        print(f'x[{i}] = {x[i]}')"
      ],
      "metadata": {
        "colab": {
          "base_uri": "https://localhost:8080/"
        },
        "id": "-B3lN05r0vrz",
        "outputId": "01f76d99-4a2b-4943-8448-6186e63bc379"
      },
      "execution_count": 16,
      "outputs": [
        {
          "output_type": "stream",
          "name": "stdout",
          "text": [
            "버블 정렬을 수행합니다.\n",
            "원소 수를 입력하세요.: 7\n",
            "x[0]: 6\n",
            "x[1]: 4\n",
            "x[2]: 3\n",
            "x[3]: 7\n",
            "x[4]: 1\n",
            "x[5]: 9\n",
            "x[6]: 8\n",
            "패스1\n",
            " 6   4   3   7   1   9 + 8\n",
            " 6   4   3   7   1 - 8   9\n",
            " 6   4   3   7 + 1   8   9\n",
            " 6   4   3 + 1   7   8   9\n",
            " 6   4 + 1   3   7   8   9\n",
            " 6 + 1   4   3   7   8   9\n",
            " 1  6  4  3  7  8  9\n",
            "패스2\n",
            " 1   6   4   3   7   8 - 9\n",
            " 1   6   4   3   7 - 8   9\n",
            " 1   6   4   3 - 7   8   9\n",
            " 1   6   4 + 3   7   8   9\n",
            " 1   6 + 3   4   7   8   9\n",
            " 1  3  6  4  7  8  9\n",
            "패스3\n",
            " 1   3   6   4   7   8 - 9\n",
            " 1   3   6   4   7 - 8   9\n",
            " 1   3   6   4 - 7   8   9\n",
            " 1   3   6 + 4   7   8   9\n",
            " 1  3  4  6  7  8  9\n",
            "패스4\n",
            " 1   3   4   6   7   8 - 9\n",
            " 1   3   4   6   7 - 8   9\n",
            " 1   3   4   6 - 7   8   9\n",
            " 1  3  4  6  7  8  9\n",
            "패스5\n",
            " 1   3   4   6   7   8 - 9\n",
            " 1   3   4   6   7 - 8   9\n",
            " 1  3  4  6  7  8  9\n",
            "패스6\n",
            " 1   3   4   6   7   8 - 9\n",
            " 1  3  4  6  7  8  9\n",
            "비교를 21번 했습니다.\n",
            "교환을 8번 했습니다.\n",
            "오른차순으로 정렬했습니다.\n",
            "x[0] = 1\n",
            "x[1] = 3\n",
            "x[2] = 4\n",
            "x[3] = 6\n",
            "x[4] = 7\n",
            "x[5] = 8\n",
            "x[6] = 9\n"
          ]
        }
      ]
    },
    {
      "cell_type": "markdown",
      "source": [
        "## 교환 횟수에 따라 중단 방식을 적용하여 개선한 프로그램"
      ],
      "metadata": {
        "id": "WRf3IlGg-ZWq"
      }
    },
    {
      "cell_type": "code",
      "source": [
        "## 실습 6-3\n",
        "## 버블 정렬 알고리즘 구현하기(알고리즘의 개선1)\n",
        "## bubble_sort2.py\n",
        "\n",
        "from typing import MutableSequence\n",
        "\n",
        "def bubble_sort(a: MutableSequence) -> None:\n",
        "    \"\"\"버블 정렬(교환 횟수에 따른 중단)\"\"\"\n",
        "    n = len(a)\n",
        "    for i in range(n-1):\n",
        "        exchng = 0 # 패스에서 교환 횟수\n",
        "        for j in range(n-1,i,-1):\n",
        "            if a[j-1] > a[j]:\n",
        "                a[j-1],a[j] = a[j],a[j-1]\n",
        "                exchng += 1\n",
        "        if exchng == 0:\n",
        "           break"
      ],
      "metadata": {
        "id": "sk2StGbpCJN_"
      },
      "execution_count": null,
      "outputs": []
    },
    {
      "cell_type": "code",
      "source": [],
      "metadata": {
        "id": "P9EXThQJDTfv"
      },
      "execution_count": null,
      "outputs": []
    }
  ]
}