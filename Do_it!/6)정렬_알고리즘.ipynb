{
  "nbformat": 4,
  "nbformat_minor": 0,
  "metadata": {
    "colab": {
      "provenance": [],
      "collapsed_sections": [],
      "authorship_tag": "ABX9TyPO2AFCFH0BbNPX4Vx+NUt/",
      "include_colab_link": true
    },
    "kernelspec": {
      "name": "python3",
      "display_name": "Python 3"
    },
    "language_info": {
      "name": "python"
    }
  },
  "cells": [
    {
      "cell_type": "markdown",
      "metadata": {
        "id": "view-in-github",
        "colab_type": "text"
      },
      "source": [
        "<a href=\"https://colab.research.google.com/github/heokwon/Algorithm_Study/blob/main/Do_it!/6)%EC%A0%95%EB%A0%AC_%EC%95%8C%EA%B3%A0%EB%A6%AC%EC%A6%98.ipynb\" target=\"_parent\"><img src=\"https://colab.research.google.com/assets/colab-badge.svg\" alt=\"Open In Colab\"/></a>"
      ]
    },
    {
      "cell_type": "markdown",
      "source": [
        "## 정렬 알고리즘"
      ],
      "metadata": {
        "id": "ezT7--uJzoRA"
      }
    },
    {
      "cell_type": "markdown",
      "source": [
        "정렬 알고리즘은 **안정적인 알고리즘(stable)**과 그렇지 않은 알고리즘으로 나눌 수 있다. 안정적인 정렬 알고리즘은 값이 같은 원소의 순서가 정렬한 후에도 원래의 순서가 유지된다는 보장을 할 수 없다.\n",
        "<br>\n",
        "<hr>\n",
        "정렬 알고리즘도 하나의 배열에서 작업할 수 있는 경우 내부 정렬을 사용하고, 그렇지 않은 경우에는 외부 정렬을 사용한다.<br>\n",
        "\n",
        "* 내부 정렬(internal sorting): 정렬할 모든 데이터를 하나의 배열에 저장할 수 있는 경우에 사용하는 알고리즘\n",
        "* 외부 정렬(external sorting): 정렬할 데이터가 많아서 하나의 배열에 저장할 수 없는 경우에 사용하는 알고리즘\n",
        "\n",
        "외부 정렬은 내부 정렬을 응용한 것으로, 외부 정렬을 구현하려면 별도로 작업용 파일이 필요하고 알고리즘도 복잡하다."
      ],
      "metadata": {
        "id": "OX8ZQNwbyWi6"
      }
    },
    {
      "cell_type": "markdown",
      "source": [
        "## 버블 정렬\n",
        "**버블 정렬(bubble sort)**은 이웃한 두 원소의 대소 관계를 비교하여 필요에 따라 교환을 반복하는 알고리즘으로, 단순 교환 정렬이라고도 한다."
      ],
      "metadata": {
        "id": "GKbKlr5EzqTP"
      }
    },
    {
      "cell_type": "code",
      "execution_count": null,
      "metadata": {
        "colab": {
          "base_uri": "https://localhost:8080/"
        },
        "id": "Crrng561yLwf",
        "outputId": "f0419aca-63aa-45a3-dc4f-ab23b2304620"
      },
      "outputs": [
        {
          "output_type": "stream",
          "name": "stdout",
          "text": [
            "버블 정렬을 수행합니다.\n",
            "원소 수를 입력하세요.: 7\n",
            "x[0]: 6\n",
            "x[1]: 4\n",
            "x[2]: 3\n",
            "x[3]: 7\n",
            "x[4]: 1\n",
            "x[5]: 9\n",
            "x[6]: 8\n",
            "오른차순으로 정렬했습니다.\n",
            "x[0] = 1\n",
            "x[1] = 3\n",
            "x[2] = 4\n",
            "x[3] = 6\n",
            "x[4] = 7\n",
            "x[5] = 8\n",
            "x[6] = 9\n"
          ]
        }
      ],
      "source": [
        "## 실습 6-1\n",
        "## 버블 정렬 알고리즘 구현하기\n",
        "## bubble_sort1.py\n",
        "from typing import MutableSequence\n",
        "\n",
        "def bubble_sort(a: MutableSequence) -> None:\n",
        "    \"\"\"버블 정렬\"\"\"\n",
        "    n = len(a)\n",
        "    for i in range(n-1):\n",
        "        for j in range(n-1, i, -1):\n",
        "            if a[j-1] > a[j]:\n",
        "                a[j-1], a[j] = a[j],a[j-1]\n",
        "\n",
        "if __name__ == '__main__':\n",
        "    print('버블 정렬을 수행합니다.')\n",
        "    num = int(input('원소 수를 입력하세요.: '))\n",
        "    x = [None] * num  # 원소 수가 num인 배열\n",
        "\n",
        "    for i in range(num):\n",
        "        x[i] = int(input(f'x[{i}]: '))\n",
        "\n",
        "    bubble_sort(x) # 배열 x를 버블 정렬\n",
        "\n",
        "    print('오른차순으로 정렬했습니다.')\n",
        "    for i in range(num):\n",
        "        print(f'x[{i}] = {x[i]}')"
      ]
    },
    {
      "cell_type": "markdown",
      "source": [
        "여기에서 비교하는 두 원소의 인덱스를 a[j-1]과 a[j]라 하고 j값이 어떻게 변화하는지 보자. 배열의 맨 끝에서 맨 앞을 향해 스캔하므로 j의 시작값은 n-1이다. 이때 두 원소 a[j-1]과 a[j]의 값을 비교하여 앞쪽 값이 뒷쪽 값보다 크면 교환한다.\n",
        "그 이후의 비교.교환 과정은 맨 앞쪽을 향해 수행하므로 j값은 1씩 감소한다.\n",
        "\n",
        "각 패스에서 앞쪽i개 원소는 정렬이 끝난 상태이고, 정렬하지 않은 부분은 a[i] ~ a[n-1]이라고 가정한다. 따라서 한 번의 패스에서 j값을 i+1이 될 때까지 비교.교환한다.\n",
        "\n",
        "버블 정렬은 1칸 이상 떨어져 있는 원소를 교환하는 것이 아니라 서로 이웃한 원소만을 교환하므로 안정적이다. 원소를 비교하는 횟수는 첫 번째 패스에서는 n-1, 두 번째 패스에서는 n-2번, ... 이므로 합계는 다음과 같다.\n",
        "\n",
        "\n",
        "```\n",
        "(n-1) + (n-2) + ... + 1 = n(n-1) / 2\n",
        "```\n",
        "\n",
        "그런데 실제 원소를 교환하는 횟수는 배열의 원솟값에 따라 영향을 받으므로 그 평균값은 비교 횟수 전체의 절반인 n(n-1)/4 번 이다.\n",
        "\n"
      ],
      "metadata": {
        "id": "BtxYxicK1QHZ"
      }
    },
    {
      "cell_type": "code",
      "source": [
        "## 실습 6-2\n",
        "## 버블 정렬 알고리즘을 구현하기(정렬 과정을 출력)\n",
        "## bubble_sort1_verbose.py\n",
        "\n",
        "from typing import MutableSequence\n",
        "\n",
        "def bubble_sort_verbose(a: MutableSequence) -> None:\n",
        "    \"\"\"버블 정렬(정렬 과정을 출력)\"\"\"\n",
        "    ccnt = 0 # 비교 횟수\n",
        "    scnt = 0 # 교환 횟수\n",
        "    n = len(a)\n",
        "    for i in range(n-1):\n",
        "        print(f'패스{i+1}')\n",
        "        for j in range(n - 1, i, -1):\n",
        "            for m in range(0, n-1):\n",
        "                print(f'{a[m]:2}'+('  ' if m != j - 1 else\n",
        "                                   ' +' if a[j - 1] > a[j] else ' -'),\n",
        "                                   end='')\n",
        "            print(f'{a[n - 1]:2}')\n",
        "            ccnt += 1\n",
        "            if a[j - 1] > a[j]:\n",
        "                scnt += 1\n",
        "                a[j - 1],a[j] = a[j], a[j - 1]\n",
        "        for m in range(0,n-1):\n",
        "            print(f'{a[m]:2}',end=' ')\n",
        "        print(f'{a[n - 1]:2}')\n",
        "    print(f'비교를 {ccnt}번 했습니다.')\n",
        "    print(f'교환을 {scnt}번 했습니다.')\n",
        "\n",
        "if __name__ == '__main__':\n",
        "    print('버블 정렬을 수행합니다.')\n",
        "    num = int(input('원소 수를 입력하세요.: '))\n",
        "    x = [None] * num  # 원소 수가 num인 배열\n",
        "\n",
        "    for i in range(num):\n",
        "        x[i] = int(input(f'x[{i}]: '))\n",
        "\n",
        "    bubble_sort_verbose(x) # 배열 x를 버블 정렬\n",
        "\n",
        "    print('오른차순으로 정렬했습니다.')\n",
        "    for i in range(num):\n",
        "        print(f'x[{i}] = {x[i]}')"
      ],
      "metadata": {
        "colab": {
          "base_uri": "https://localhost:8080/"
        },
        "id": "-B3lN05r0vrz",
        "outputId": "01f76d99-4a2b-4943-8448-6186e63bc379"
      },
      "execution_count": null,
      "outputs": [
        {
          "output_type": "stream",
          "name": "stdout",
          "text": [
            "버블 정렬을 수행합니다.\n",
            "원소 수를 입력하세요.: 7\n",
            "x[0]: 6\n",
            "x[1]: 4\n",
            "x[2]: 3\n",
            "x[3]: 7\n",
            "x[4]: 1\n",
            "x[5]: 9\n",
            "x[6]: 8\n",
            "패스1\n",
            " 6   4   3   7   1   9 + 8\n",
            " 6   4   3   7   1 - 8   9\n",
            " 6   4   3   7 + 1   8   9\n",
            " 6   4   3 + 1   7   8   9\n",
            " 6   4 + 1   3   7   8   9\n",
            " 6 + 1   4   3   7   8   9\n",
            " 1  6  4  3  7  8  9\n",
            "패스2\n",
            " 1   6   4   3   7   8 - 9\n",
            " 1   6   4   3   7 - 8   9\n",
            " 1   6   4   3 - 7   8   9\n",
            " 1   6   4 + 3   7   8   9\n",
            " 1   6 + 3   4   7   8   9\n",
            " 1  3  6  4  7  8  9\n",
            "패스3\n",
            " 1   3   6   4   7   8 - 9\n",
            " 1   3   6   4   7 - 8   9\n",
            " 1   3   6   4 - 7   8   9\n",
            " 1   3   6 + 4   7   8   9\n",
            " 1  3  4  6  7  8  9\n",
            "패스4\n",
            " 1   3   4   6   7   8 - 9\n",
            " 1   3   4   6   7 - 8   9\n",
            " 1   3   4   6 - 7   8   9\n",
            " 1  3  4  6  7  8  9\n",
            "패스5\n",
            " 1   3   4   6   7   8 - 9\n",
            " 1   3   4   6   7 - 8   9\n",
            " 1  3  4  6  7  8  9\n",
            "패스6\n",
            " 1   3   4   6   7   8 - 9\n",
            " 1  3  4  6  7  8  9\n",
            "비교를 21번 했습니다.\n",
            "교환을 8번 했습니다.\n",
            "오른차순으로 정렬했습니다.\n",
            "x[0] = 1\n",
            "x[1] = 3\n",
            "x[2] = 4\n",
            "x[3] = 6\n",
            "x[4] = 7\n",
            "x[5] = 8\n",
            "x[6] = 9\n"
          ]
        }
      ]
    },
    {
      "cell_type": "markdown",
      "source": [
        "## 교환 횟수에 따라 중단 방식을 적용하여 개선한 프로그램"
      ],
      "metadata": {
        "id": "WRf3IlGg-ZWq"
      }
    },
    {
      "cell_type": "code",
      "source": [
        "## 실습 6-3\n",
        "## 버블 정렬 알고리즘 구현하기(알고리즘의 개선1)\n",
        "## bubble_sort2.py\n",
        "\n",
        "from typing import MutableSequence\n",
        "\n",
        "def bubble_sort(a: MutableSequence) -> None:\n",
        "    \"\"\"버블 정렬(교환 횟수에 따른 중단)\"\"\"\n",
        "    n = len(a)\n",
        "    for i in range(n-1):\n",
        "        exchng = 0 # 패스에서 교환 횟수\n",
        "        for j in range(n-1,i,-1):\n",
        "            if a[j-1] > a[j]:\n",
        "                a[j-1],a[j] = a[j],a[j-1]\n",
        "                exchng += 1\n",
        "        if exchng == 0:\n",
        "           break"
      ],
      "metadata": {
        "id": "sk2StGbpCJN_"
      },
      "execution_count": null,
      "outputs": []
    },
    {
      "cell_type": "code",
      "source": [
        "## 버블 정렬 알고리즘 구현하기(알고리즘 개선2)\n",
        "## bubble_sort3.py\n",
        "\n",
        "from typing import MutableSequence\n",
        "\n",
        "def bubble_sort(a: MutableSequence) -> None:\n",
        "    \"\"\"버블 정렬(스캔 범위를 제한)\"\"\"\n",
        "    n = len(a)\n",
        "    k = 0\n",
        "    while k < n - 1:\n",
        "        last = n - 1\n",
        "        for j in range(n-1, k, -1):\n",
        "            if a[j - 1] > a[j]:\n",
        "                a[j - 1], a[j] = a[j], a[j - 1]\n",
        "                last = j\n",
        "        k - last"
      ],
      "metadata": {
        "id": "P9EXThQJDTfv"
      },
      "execution_count": null,
      "outputs": []
    },
    {
      "cell_type": "markdown",
      "source": [
        "## 산술 연산에 사용하는 내장 함수\n",
        "* abs() : 절대값을 반환\n",
        "* bool() : 논리값을 True 또는 False로 반환\n",
        "* complex(real, imag) : real + imag * 1j 인 복소수를 반환하거나, 문자열 또는 수를 복소수로 변환한 값을 반환한다. imag를 생략하면 real + 0j를, real과 imag둘 다 생략한다면 0j를 반환\n",
        "* divmod(a,b) : a를 b로 나누었을 때의 몫과 나머지로 구성된 튜플을 반환\n",
        "* float(x) : 문자열 또는 수로 입력받은 x를 부동 소수점 수로 변환하여 값을 반환한다. x를 생략하면 0.0을 반환\n",
        "* hex(x) : 정숫값 x의 16진수 문자열을 반환\n",
        "* int(x, base) : x를 int형 정수로 변환한 값을 반환. base는 0 ~ 36의 범위에서 진수를 나타내야 하며, 생략할 경우는 10(10진법)이다.\n",
        "* oct(x) : 정숫값 x에 해당하는 8진수 문자열을 반환\n",
        "* pow(x,y,z) : x의 y제곱인 (x**y)를 반환. z값을 입력하면 x의 y제곱을 z로 나누었을 때의 나머지를 반환. 같은 식인 pow(x,y)%z보다 효율적으로 계산가능\n",
        "* round(n, ndigits) : n의 소수부를 ndigits 자릿수가 되도록 반올림한 값을 반환. ndigits가 None이거나 생략한 경우 입력한 값에 가장 가까운 정수를 반환.\n",
        "* sum(x, start) : x의 원솟값을 처음부터 끝까지 순서대로 더한 총합에 start값을 더하여 반환. start의 기본값은 0"
      ],
      "metadata": {
        "id": "ZXKzI4RIbyWp"
      }
    },
    {
      "cell_type": "markdown",
      "source": [
        "## 단순 선택 정렬(straight selection sort)\n",
        "가장 작은 원소부터 선택해 알맞은 위치로 옮기는 작업\n",
        "\n",
        "단순 선택 정렬에서 교환 과정은 다음과 같다.\n",
        "\n",
        "\n",
        "```\n",
        "1. 아직 정렬하지 않은 부분에서 값이 가장 작은 원소 a[min]을 선택한다.\n",
        "2. a[min]과 아직 정렬하지 않은 부분에서 맨 앞에 있는 원소를 교환한다.\n",
        "```\n",
        "이 과정을 n-1번 반복하면 정렬하지 않은 부분이 없어지면서 전체 정렬을 완료한다.\n",
        "이 알고리즘의 개요는 다음과 같다.\n",
        "\n",
        "\n",
        "```\n",
        "for i in range(n-1):\n",
        "    min # a[i], ..., a[n-1]에서 키값이 가장 작은 원소의 인덱스\n",
        "    a[i]와 a[min]의 값을 교환한다\n",
        "```\n",
        "\n",
        "\n"
      ],
      "metadata": {
        "id": "NYN2TQTCeCOk"
      }
    },
    {
      "cell_type": "code",
      "source": [
        "## 실습 6-6\n",
        "## 단순 선택 정렬 알고리즘 구현\n",
        "## selection_sort.py\n",
        "\n",
        "from typing import MutableSequence\n",
        "\n",
        "def selection_sort(a: MutableSequence) -> None:\n",
        "    \"\"\"단순 선택 정렬\"\"\"\n",
        "    n = len(a)\n",
        "    for i in range(n-1):\n",
        "        min = i # 정렬할 부분에서 가장 작은 원소의 인덱스\n",
        "        for j in range(i+1, n):\n",
        "            if a[j] < a[min]:\n",
        "                min = j\n",
        "        a[i], a[min] = a[min], a[i] # 정렬할 부분에서 맨 앞의 원소와 가장 작은 원소를 교환"
      ],
      "metadata": {
        "id": "_OCdavokdS36"
      },
      "execution_count": null,
      "outputs": []
    },
    {
      "cell_type": "markdown",
      "source": [
        "## 단순 삽입 정렬(straight insertion sort)\n",
        "주목한 원소보다 더 앞쪽에서 알맞은 위치로 삽입하며 정렬하는 알고리즘이다. 단순 선택 정렬과 비슷해 보이지만 값이 가장 작은 원소를 선택하지 않는다는 점이 다르다.\n",
        "\n",
        "알고리즘의 개요는 다음과 같다.\n",
        "\n",
        "\n",
        "```\n",
        "for i in range(1,n):\n",
        "    tmp <- a[i]를 넣는다\n",
        "    tnp를 a[0], ... , a[i-1]의 알맞은 위치에 삽입\n",
        "```"
      ],
      "metadata": {
        "id": "9pF9mLZKfiF4"
      }
    },
    {
      "cell_type": "code",
      "source": [
        "## 실습 6-7\n",
        "## 단순 삽입 정렬 알고리즘 구현하기\n",
        "## insertion_sort.py\n",
        "\n",
        "from typing import MutableSequence\n",
        "\n",
        "def insertion_sort(a: MutableSequence) -> None:\n",
        "    \"\"\"단순 삽입 정렬\"\"\"\n",
        "    n = len(a)\n",
        "    for i in range(1,n):\n",
        "        j = i\n",
        "        tmp = a[i]\n",
        "        while j > 0 and a[j-1] > tmp:\n",
        "            a[j] = a[j-1]\n",
        "            j -= 1\n",
        "        a[j] = tmp\n",
        "\n",
        "if __name__ == '__main__':\n",
        "    print('단순 삽입 정렬을 수행합니다.')\n",
        "    num = int(input('원소 수를 입력하세요.: '))\n",
        "    x = [None]*num # 원소 수가 num인 배열을 생성\n",
        "\n",
        "    for i in range(num):\n",
        "        x[i] = int(input(f'x[{i}]: '))\n",
        "\n",
        "    insertion_sort(x)\n",
        "\n",
        "    print('오름차순으로 정렬했습니다.')\n",
        "    for i in range(num):\n",
        "        print(f'x[{i}] = {x[i]}')"
      ],
      "metadata": {
        "colab": {
          "base_uri": "https://localhost:8080/"
        },
        "id": "0JKsvXTwfwp7",
        "outputId": "81ea6b77-7b4c-475f-c228-ba5d07337044"
      },
      "execution_count": null,
      "outputs": [
        {
          "output_type": "stream",
          "name": "stdout",
          "text": [
            "단순 삽입 정렬을 수행합니다.\n",
            "원소 수를 입력하세요.: 7\n",
            "x[0]: 6\n",
            "x[1]: 4\n",
            "x[2]: 3\n",
            "x[3]: 7\n",
            "x[4]: 1\n",
            "x[5]: 9\n",
            "x[6]: 8\n",
            "오름차순으로 정렬했습니다.\n",
            "x[0] = 1\n",
            "x[1] = 3\n",
            "x[2] = 4\n",
            "x[3] = 6\n",
            "x[4] = 7\n",
            "x[5] = 8\n",
            "x[6] = 9\n"
          ]
        }
      ]
    },
    {
      "cell_type": "markdown",
      "source": [
        "위 알고리즘은 서로 떨어져 있는 원소를 교환하지 않으므로 안정적이라고 할 수 있다. 원소의 비교 횟수와 교환 횟수는 모두 n**2/2번이다"
      ],
      "metadata": {
        "id": "I2617emahhUg"
      }
    },
    {
      "cell_type": "markdown",
      "source": [
        "**단순 정렬 알고리즘의 시간 복잡도**\n",
        "\n",
        "지금까지 다룬 3가지 단순 정렬(버블,선택,삽입)알고리즘의 시간 복잡도는 모두 O(n**2)으로 프로그램의 효율이 좋지 않다.\n",
        "<br><br>\n",
        "\n",
        "**이진 삽입 정렬**\n",
        "\n",
        "단순 삽입 정렬은 배열 원소 수가 많아지면 원소 삽입에 필요한 비교.교환 비용이 커진다. 그러나 이진 검색법을 사용하여 삽입 정렬을 하면 이미 정렬을 마친 배열을 제외하고 원소를 삽입해야 할 위치를 검사하므로 비용을 줄일 수 있다. 이러한 알고리즘을 이진 삽입 정렬(binary insertion sort)이라고 한다."
      ],
      "metadata": {
        "id": "7iNjzwIRhvw4"
      }
    },
    {
      "cell_type": "code",
      "source": [
        "## 실습 6C-1\n",
        "## 이진 삽입 정렬 알고리즘 구현하기\n",
        "## binary_insertion_sort.py\n",
        "\n",
        "from typing import MutableSequence\n",
        "\n",
        "def binary_insertion_sort(a: MutableSequence) -> None:\n",
        "    \"\"\"이진 삽입 정렬\"\"\"\n",
        "    n = len(a)\n",
        "    for i in range(1,n):\n",
        "        key = a[i]\n",
        "        pl = 0                               # 겁색 범위의 맨 앞 원소 인덱스\n",
        "        pr = i - 1                           # 검색 범위의 맨 끝 원소 인덱스\n",
        "\n",
        "        while True:\n",
        "            pc = (pl + pr) // 2\n",
        "            if a[pc] == key: break\n",
        "            elif a[pc] < key: pl = pc + 1    # 검색 범위를 뒤쪽 절반으로 좁힘\n",
        "            else: pr = pc - 1                # 검색 범위를 앞쪽 절반으로 좁힘\n",
        "            if pl > pr: break\n",
        "\n",
        "        pd = pc + 1 if pl <= pr else pr + 1  # 삽입해야 할 위치의 인덱스\n",
        "\n",
        "        for j in range(i,pd,-1): a[j] = a[j-1]\n",
        "        a[pd] = key\n",
        "\n",
        "if __name__ == '__main__':\n",
        "    print('이진 삽입 정렬을 수행합니다.')\n",
        "    num = int(input('원소 수를 입력하세요.: '))\n",
        "    x = [None]*num\n",
        "\n",
        "    for i in range(num): x[i] = int(input(f'x[{i}]: '))\n",
        "    \n",
        "    binary_insertion_sort(x)\n",
        "    print('오름차순으로 정렬했습니다.')\n",
        "    for i in range(num): print(f'x[{i}] = {x[i]}')"
      ],
      "metadata": {
        "colab": {
          "base_uri": "https://localhost:8080/"
        },
        "id": "pLrPIzHahdQS",
        "outputId": "c6c5a81e-e30e-4474-c8be-5ca8da85e032"
      },
      "execution_count": null,
      "outputs": [
        {
          "output_type": "stream",
          "name": "stdout",
          "text": [
            "이진 삽입 정렬을 수행합니다.\n",
            "원소 수를 입력하세요.: 7\n",
            "x[0]: 6\n",
            "x[1]: 4\n",
            "x[2]: 3\n",
            "x[3]: 7\n",
            "x[4]: 1\n",
            "x[5]: 9\n",
            "x[6]: 8\n",
            "오름차순으로 정렬했습니다.\n",
            "x[0] = 1\n",
            "x[1] = 3\n",
            "x[2] = 4\n",
            "x[3] = 6\n",
            "x[4] = 7\n",
            "x[5] = 8\n",
            "x[6] = 9\n"
          ]
        }
      ]
    },
    {
      "cell_type": "markdown",
      "source": [
        "단순 삽입 정렬 알고리즘은 파이썬 표준 라이브러리에서 bisect모듈의 insort()함수로 제공한다. 이미 정렬이 끝난 배열의 상태를 유지하면서 원소를 삽입한다."
      ],
      "metadata": {
        "id": "JyvSIuNckaKg"
      }
    },
    {
      "cell_type": "code",
      "source": [
        "## 실습 6C-2\n",
        "## 이진 삽입 정렬 알고리즘 구현(bisect.insort)사용\n",
        "## binary_insort.py\n",
        "\n",
        "from typing import MutableSequence\n",
        "import bisect\n",
        "\n",
        "def binary_insertion_sort(a: MutableSequence) -> None:\n",
        "    \"\"\"이진 삽입 정렬(bisect.insort사용)\"\"\"\n",
        "    for i in range(1,len(a)):\n",
        "        bisect.insort(a, a.pop(i), 0, i)\n",
        "\n",
        "if __name__ == '__main__':\n",
        "    print('이진 삽입 정렬을 수행합니다.')\n",
        "    num = int(input('원소 수를 입력하세요.: '))\n",
        "    x = [None]*num\n",
        "\n",
        "    for i in range(num): x[i] = int(input(f'x[{i}]: '))\n",
        "    \n",
        "    binary_insertion_sort(x)\n",
        "    print('오름차순으로 정렬했습니다.')\n",
        "    for i in range(num): print(f'x[{i}] = {x[i]}')"
      ],
      "metadata": {
        "colab": {
          "base_uri": "https://localhost:8080/"
        },
        "id": "qXSzqMqQkRcz",
        "outputId": "d6eb0ce0-f3f2-4113-f9e4-be00d7753cf1"
      },
      "execution_count": null,
      "outputs": [
        {
          "output_type": "stream",
          "name": "stdout",
          "text": [
            "이진 삽입 정렬을 수행합니다.\n",
            "원소 수를 입력하세요.: 7\n",
            "x[0]: 6\n",
            "x[1]: 4\n",
            "x[2]: 3\n",
            "x[3]: 7\n",
            "x[4]: 1\n",
            "x[5]: 9\n",
            "x[6]: 8\n",
            "오름차순으로 정렬했습니다.\n",
            "x[0] = 1\n",
            "x[1] = 3\n",
            "x[2] = 4\n",
            "x[3] = 6\n",
            "x[4] = 7\n",
            "x[5] = 8\n",
            "x[6] = 9\n"
          ]
        }
      ]
    },
    {
      "cell_type": "markdown",
      "source": [
        "## 셸 정렬(shell sort)\n",
        "단순 삽입 정렬의 장점은 살리고 단점은 보완하여 더 빠르게 정렬하는 알고리즘이다.<br><br><hr>\n",
        "\n",
        "**단순 삽입 정렬의 문제**<br>\n",
        "단순 삽입 정렬은 다음과 같은 특징이 있다.\n",
        "\n",
        "\n",
        "```\n",
        "장점 : 이미 정렬을 마쳤거나 정렬이 거의 끝나가는 상태에서는 속도가 아주 빠르다\n",
        "단점 : 삽입할 위치가 멀리 떨어져 있으면 이동 횟수가 많아진다.\n",
        "```\n",
        "<hr>   \n",
        "\n",
        "**셸 정렬 알아보기**<br>\n",
        "단순 삽입 정렬의 장점을 살리면서 단점을 보완한 것이 셸 정렬 알고리즘이다. 셸 정렬은 먼저 정렬할 배열의 원소를 그룹으로 나눠 각 그룹별로 정렬을 수행한다. 그 후 정렬된 그룹을 합치는 작업을 반복하여 원소의 이동 횟수를 줄이는 방법이다.\n",
        "\n",
        "\n",
        "\n",
        "\n"
      ],
      "metadata": {
        "id": "HQ8FHdKhlfI8"
      }
    },
    {
      "cell_type": "code",
      "source": [
        "## 셸 정렬 알고리즘 구현하기\n",
        "## shell_sort1.py\n",
        "\n",
        "from typing import MutableSequence\n",
        "\n",
        "def shell_sort(a: MutableSequence) -> None:\n",
        "    \"\"\"셸 정렬\"\"\"\n",
        "    n = len(a)\n",
        "    h = n // 2\n",
        "    while h > 0:\n",
        "        for i in range(h, n):\n",
        "            j = i - h\n",
        "            tmp = a[i]\n",
        "            while j >= 0 and a[j] > tmp:\n",
        "                a[j+h] = a[j]\n",
        "                j -= h\n",
        "            a[j+h] = tmp\n",
        "        h //= 2\n",
        "\n",
        "if __name__ == '__main__':\n",
        "    print('셸 정렬을 수행합니다.')\n",
        "    num = int(input('원소 수를 입력하세요.: '))\n",
        "    x = [None]*num     # 원소 수가 num인 배열을 생성\n",
        "\n",
        "    for i in range(num): x[i] = int(input(f'x[{i}]: '))\n",
        "    \n",
        "    shell_sort(x)\n",
        "    print('오름차순으로 정렬했습니다.')\n",
        "    for i in range(num): print(f'x[{i}] = {x[i]}')"
      ],
      "metadata": {
        "colab": {
          "base_uri": "https://localhost:8080/"
        },
        "id": "PvIENBsflCL5",
        "outputId": "b23d7042-eb13-4d86-bc07-a09ce47e0f02"
      },
      "execution_count": null,
      "outputs": [
        {
          "output_type": "stream",
          "name": "stdout",
          "text": [
            "셸 정렬을 수행합니다.\n",
            "원소 수를 입력하세요.: 7\n",
            "x[0]: 6\n",
            "x[1]: 4\n",
            "x[2]: 3\n",
            "x[3]: 7\n",
            "x[4]: 1\n",
            "x[5]: 9\n",
            "x[6]: 8\n",
            "오름차순으로 정렬했습니다.\n",
            "x[0] = 1\n",
            "x[1] = 3\n",
            "x[2] = 4\n",
            "x[3] = 6\n",
            "x[4] = 7\n",
            "x[5] = 8\n",
            "x[6] = 9\n"
          ]
        }
      ]
    },
    {
      "cell_type": "code",
      "source": [
        "## 셀 정렬 알고리즘 구현하기(h*3+1의 수열 사용)\n",
        "## shell_sort2.py\n",
        "\n",
        "from typing import MutableSequence\n",
        "\n",
        "def shell_sort(a: MutableSequence) -> None:\n",
        "    \"\"\"셀 정렬 (h*3+1의 수열 사용)\"\"\"\n",
        "    n = len(a)\n",
        "    h = 1\n",
        "\n",
        "    while h < n // 9 : h = h * 3 + 1\n",
        "    while h > 0:\n",
        "        for i in range(h,n):\n",
        "            j = i - h\n",
        "            tmp = a[i]\n",
        "            while j >= 0 and a[j] > tmp:\n",
        "                a[j+h] = a[j]\n",
        "                j -= h\n",
        "            a[j+h] = tmp\n",
        "        h //= 3\n",
        "\n",
        "if __name__ == '__main__':\n",
        "    print('셸 정렬을 수행합니다(h * 3 + 1의 수열 사용).')\n",
        "    num = int(input('원소 수를 입력하세요.: '))\n",
        "    x = [None]*num\n",
        "\n",
        "    for i in range(num): x[i] = int(input(f'x[{i}]: '))\n",
        "    shell_sort(x)\n",
        "    print('오름차순으로 정렬했습니다.')\n",
        "    for i in range(num): print(f'x[{i}] = {x[i]}')"
      ],
      "metadata": {
        "colab": {
          "base_uri": "https://localhost:8080/"
        },
        "id": "2OqV2xaQrRnV",
        "outputId": "7e56eef5-9b08-4ecb-8494-dbb663d87d29"
      },
      "execution_count": null,
      "outputs": [
        {
          "output_type": "stream",
          "name": "stdout",
          "text": [
            "셸 정렬을 수행합니다(h * 3 + 1의 수열 사용).\n",
            "원소 수를 입력하세요.: 7\n",
            "x[0]: 6\n",
            "x[1]: 4\n",
            "x[2]: 3\n",
            "x[3]: 7\n",
            "x[4]: 1\n",
            "x[5]: 9\n",
            "x[6]: 8\n",
            "오름차순으로 정렬했습니다.\n",
            "x[0] = 1\n",
            "x[1] = 3\n",
            "x[2] = 4\n",
            "x[3] = 6\n",
            "x[4] = 7\n",
            "x[5] = 8\n",
            "x[6] = 9\n"
          ]
        }
      ]
    },
    {
      "cell_type": "markdown",
      "source": [
        "## 퀵 정렬\n",
        "가장 빠른 정렬 알고리즘이다. "
      ],
      "metadata": {
        "id": "JH_fI1gPmu1v"
      }
    },
    {
      "cell_type": "code",
      "source": [
        "## 배열을 두 그룹으로 나누기\n",
        "## partition.py\n",
        "from typing import MutableSequence\n",
        "\n",
        "def partition(a: MutableSequence) -> None:\n",
        "    \"\"\"배열을 나누어 출력\"\"\"\n",
        "    n = len(a)\n",
        "    pl = 0     # 왼쪽 커서\n",
        "    pr = n - 1 # 오른쪽 커서\n",
        "    x = a[n // 2] # 피벗(가운데 원소)\n",
        "\n",
        "    while pl <= pr:\n",
        "        while a[pl] < x: pl += 1\n",
        "        while a[pr] > x: pr -= 1\n",
        "        if pl <= pr:\n",
        "            a[pl],a[pr] = a[pr],a[pl]\n",
        "            pl += 1\n",
        "            pr -= 1\n",
        "\n",
        "    print(f'피벗은 {x}입니다.')\n",
        "\n",
        "    print('피벗 이하인 그룹입니다.')\n",
        "    print(*a[0:pl])\n",
        "\n",
        "    if pl > pr + 1:\n",
        "        print('피벗과 일치하는 그룹입니다.')\n",
        "        print(*a[pr + 1 : pl])\n",
        "    \n",
        "    print('피벗 이상인 그룹니다.')\n",
        "    print(*a[pr+1:n])\n",
        "\n",
        "if __name__ == '__main__':\n",
        "    print('배열을 나눕니다.')\n",
        "    num = int(input('원소 수를 입력하세요.: '))\n",
        "    x = [None]*num\n",
        "\n",
        "    for i in range(num):\n",
        "        x[i] = int(input(f'x[{i}]: '))\n",
        "    partition(x)"
      ],
      "metadata": {
        "id": "WQKYDGBpxI49",
        "colab": {
          "base_uri": "https://localhost:8080/"
        },
        "outputId": "3f9ef213-f003-4302-ee5f-6be9793c9bde"
      },
      "execution_count": 1,
      "outputs": [
        {
          "output_type": "stream",
          "name": "stdout",
          "text": [
            "배열을 나눕니다.\n",
            "원소 수를 입력하세요.: 9\n",
            "x[0]: 1\n",
            "x[1]: 8\n",
            "x[2]: 7\n",
            "x[3]: 4\n",
            "x[4]: 5\n",
            "x[5]: 2\n",
            "x[6]: 6\n",
            "x[7]: 3\n",
            "x[8]: 9\n",
            "피벗은 5입니다.\n",
            "피벗 이하인 그룹입니다.\n",
            "1 3 2 4 5\n",
            "피벗과 일치하는 그룹입니다.\n",
            "5\n",
            "피벗 이상인 그룹니다.\n",
            "5 7 6 8 9\n"
          ]
        }
      ]
    },
    {
      "cell_type": "code",
      "source": [
        "## 퀵 정렬 알고리즘 구현하기\n",
        "## quick_sort1.py\n",
        "\n",
        "from typing import MutableSequence\n",
        "\n",
        "def qsort(a: MutableSequence, left: int, right: int) -> None:\n",
        "    \"\"\"a[left] ~ a[right]를 퀵 정렬\"\"\"\n",
        "    pl = left\n",
        "    pr = right\n",
        "    x = a[(left + right) // 2]\n",
        "\n",
        "    while pl <= pr:\n",
        "        while a[pl] < x: pl += 1\n",
        "        while a[pr] > x: pr -= 1\n",
        "        if pl <= pr:\n",
        "            a[pl],a[pr] = a[pr],a[pl]\n",
        "            pl += 1\n",
        "            pr -= 1\n",
        "    \n",
        "    if left < pr: qsort(a, left, pr)\n",
        "    if pl < right: qsort(a, pl, right)\n",
        "\n",
        "def quick_sort(a: MutableSequence) -> None:\n",
        "    \"\"\"퀵 정렬\"\"\"\n",
        "    qsort(a, 0, len(a) - 1)\n",
        "\n",
        "if __name__ == '__main__':\n",
        "    print('퀵 정렬을 수행합니다.')\n",
        "    num = int(input('원소 수를 입력하세요.: '))\n",
        "    x = [None] * num\n",
        "\n",
        "    for i in range(num):\n",
        "        x[i] = int(input(f'x[{i}]: '))\n",
        "\n",
        "    quick_sort(x)\n",
        "\n",
        "    print('오름차순으로 정렬했습니다.')\n",
        "    for i in range(num): print(f'x[{i}] = {x[i]}')"
      ],
      "metadata": {
        "colab": {
          "base_uri": "https://localhost:8080/"
        },
        "id": "rpWpx4Qihk6y",
        "outputId": "45e9067e-b71d-4857-a596-037af4aa69e4"
      },
      "execution_count": 2,
      "outputs": [
        {
          "output_type": "stream",
          "name": "stdout",
          "text": [
            "퀵 정렬을 수행합니다.\n",
            "원소 수를 입력하세요.: 9\n",
            "x[0]: 5\n",
            "x[1]: 8\n",
            "x[2]: 4\n",
            "x[3]: 2\n",
            "x[4]: 6\n",
            "x[5]: 1\n",
            "x[6]: 3\n",
            "x[7]: 9\n",
            "x[8]: 7\n",
            "오름차순으로 정렬했습니다.\n",
            "x[0] = 1\n",
            "x[1] = 2\n",
            "x[2] = 3\n",
            "x[3] = 4\n",
            "x[4] = 5\n",
            "x[5] = 6\n",
            "x[6] = 7\n",
            "x[7] = 8\n",
            "x[8] = 9\n"
          ]
        }
      ]
    },
    {
      "cell_type": "code",
      "source": [
        "## 퀵 정렬 알고리즘 구현하기(배열을 나누는 과정 출력)\n",
        "## quick_sort1_verbose.py\n",
        "\n",
        "from typing import MutableSequence\n",
        "\n",
        "def qsort(a: MutableSequence, left: int, right: int) -> None:\n",
        "    \"\"\"a[left] ~ a[right]를 퀵 정렬(배열을 나누는 과정 출력)\"\"\"\n",
        "    pl = left                       # 왼쪽 커서\n",
        "    pr = right                      # 오른쪽 커서\n",
        "    x = a[(left + right) // 2]      # 피벗(가운데 원소)\n",
        "\n",
        "    print(f'a[{left}] ~ a[{right}]: ', *a[left : right + 1])    # 새로 추가된 부분\n",
        "\n",
        "    while pl <= pr:\n",
        "        while a[pl] < x: pl += 1\n",
        "        while a[pr] > x: pr -= 1\n",
        "        if pl <= pr:\n",
        "            a[pl],a[pr] = a[pr],a[pl]\n",
        "            pl += 1\n",
        "            pr -= 1\n",
        "\n",
        "    if left < pr : qsort(a, left, pr)\n",
        "    if pl < right: qsort(a, pl, right)\n",
        "\n",
        "def quick_sort(a: MutableSequence) -> None:\n",
        "    \"\"\"퀵 정렬\"\"\"\n",
        "    qsort(a, 0, len(a) - 1)\n",
        "\n",
        "if __name__ == '__main__':\n",
        "    print('퀵 정렬을 수행합니다.')\n",
        "    num = int(input('원소 수를 입력하세요.: '))\n",
        "    x = [None] * num\n",
        "\n",
        "    for i in range(num):\n",
        "        x[i] = int(input(f'x[{i}]: '))\n",
        "\n",
        "    quick_sort(x)\n",
        "\n",
        "    print('오름차순으로 정렬했습니다.')\n",
        "    for i in range(num): print(f'x[{i}] = {x[i]}')"
      ],
      "metadata": {
        "colab": {
          "base_uri": "https://localhost:8080/"
        },
        "id": "ksAWHmWl6HTk",
        "outputId": "b8153d6f-716f-437e-903f-af6654923a15"
      },
      "execution_count": 2,
      "outputs": [
        {
          "output_type": "stream",
          "name": "stdout",
          "text": [
            "퀵 정렬을 수행합니다.\n",
            "원소 수를 입력하세요.: 9\n",
            "x[0]: 5\n",
            "x[1]: 8\n",
            "x[2]: 4\n",
            "x[3]: 2\n",
            "x[4]: 6\n",
            "x[5]: 1\n",
            "x[6]: 3\n",
            "x[7]: 9\n",
            "x[8]: 7\n",
            "a[0] ~ a[8]:  5 8 4 2 6 1 3 9 7\n",
            "a[0] ~ a[4]:  5 3 4 2 1\n",
            "a[0] ~ a[2]:  1 3 2\n",
            "a[0] ~ a[1]:  1 2\n",
            "a[3] ~ a[4]:  4 5\n",
            "a[5] ~ a[8]:  6 8 9 7\n",
            "a[5] ~ a[6]:  6 7\n",
            "a[7] ~ a[8]:  9 8\n",
            "오름차순으로 정렬했습니다.\n",
            "x[0] = 1\n",
            "x[1] = 2\n",
            "x[2] = 3\n",
            "x[3] = 4\n",
            "x[4] = 5\n",
            "x[5] = 6\n",
            "x[6] = 7\n",
            "x[7] = 8\n",
            "x[8] = 9\n"
          ]
        }
      ]
    },
    {
      "cell_type": "markdown",
      "source": [
        "## 비재귀적인 퀵 정렬 만들기"
      ],
      "metadata": {
        "id": "uJaKmcrWc-jv"
      }
    },
    {
      "cell_type": "code",
      "source": [
        "## 비재귀적인 퀵 정렬 구현하기\n",
        "## quick_sort1_non_recur.py\n",
        "\n",
        "from stack import Stack\n",
        "from typing import MutableSequence\n",
        "\n",
        "def qsort(a: MutableSequence, left: int, right: int) -> None:\n",
        "    \"\"\"a[left] ~ a[right]를 퀵 정렬(비재귀적인 퀵 정렬)\"\"\"\n",
        "    range = Stack(right - left + 1)               # 스택생성\n",
        "\n",
        "    range.push((left, right))\n",
        "\n",
        "    while not range.is_empty():\n",
        "        pl, pr = left, right = range.pop()        # 왼쪽, 오른쪽 커서를 꺼냄\n",
        "        x = a[(left + right) // 2]                # 피벗(가운데 원소)\n",
        "\n",
        "        while pl <= pr:\n",
        "            while a[pl] < x: pl += 1\n",
        "            while a[pr] > x: pr -= 1\n",
        "            if pl <= pr:\n",
        "                a[pl],a[pr] = a[pr],a[pl]\n",
        "                pl += 1\n",
        "                pr -= 1\n",
        "        \n",
        "        if left < pr: range.push((left,pr))       # 왼쪽 그룹의 커서를 저장\n",
        "        if pl < right: range.push((pl,right))     # 오른쪽 그룹의 커서를 저장\n",
        "\n",
        "def quick_sort(a: MutableSequence) -> None:\n",
        "    \"\"\"퀵 정렬\"\"\"\n",
        "    qsort(a, 0, len(a) - 1)\n",
        "\n",
        "if __name__ == '__main__':\n",
        "    print('퀵 정렬을 수행합니다.')\n",
        "    num = int(input('원소 수를 입력하세요.: '))\n",
        "    x = [None] * num\n",
        "\n",
        "    for i in range(num):\n",
        "        x[i] = int(input(f'x[{i}]: '))\n",
        "\n",
        "    quick_sort(x)\n",
        "\n",
        "    print('오름차순으로 정렬했습니다.')\n",
        "    for i in range(num): print(f'x[{i}] = {x[i]}')"
      ],
      "metadata": {
        "colab": {
          "base_uri": "https://localhost:8080/"
        },
        "id": "GlVI1QIjb81K",
        "outputId": "361672a3-0fac-4a06-e91c-7e5145867c66"
      },
      "execution_count": 4,
      "outputs": [
        {
          "output_type": "stream",
          "name": "stdout",
          "text": [
            "퀵 정렬을 수행합니다.\n",
            "원소 수를 입력하세요.: 9\n",
            "x[0]: 5\n",
            "x[1]: 8\n",
            "x[2]: 4\n",
            "x[3]: 2\n",
            "x[4]: 6\n",
            "x[5]: 1\n",
            "x[6]: 3\n",
            "x[7]: 9\n",
            "x[8]: 7\n",
            "오름차순으로 정렬했습니다.\n",
            "x[0] = 1\n",
            "x[1] = 2\n",
            "x[2] = 3\n",
            "x[3] = 4\n",
            "x[4] = 5\n",
            "x[5] = 6\n",
            "x[6] = 7\n",
            "x[7] = 8\n",
            "x[8] = 9\n"
          ]
        }
      ]
    },
    {
      "cell_type": "markdown",
      "source": [
        "## 퀵 정렬의 시간 복잡도\n",
        "퀵 정렬은 배열을 조금씩 나누어 보다 작은 문제를 푸는 과정을 반복하므로 시간 복잡도는 O(n log n)이다. 그런데 정렬하는 배열의 초깃값이나 피벗을 선택하는 방법에 따라 실행 시간 복잡도가 증가하는 경우도 있습니다. 예를 들어 매번 1개의 원소와 나머지 원소로 나누어진다면 n번의 분할이 필요합니다. 이러한 최악의 경우 시간 복잡도는 O(n**2)이 된다.\n",
        "\n",
        "퀵 정렬은 원소 수가 적은 경우에는 그다지 빠른 알고리즘이 아닌 것으로 알려져있다.그래서 다음 2가지 방법을 적용하여 프로그램을 작성했다\n",
        "* 원소 수가 9개 미만인 경우 단순 삽입 정렬로 전환\n",
        "* 피벗 선택은 방법 2를 채택"
      ],
      "metadata": {
        "id": "AL66czwdfHr2"
      }
    },
    {
      "cell_type": "code",
      "source": [
        "from typing import MutableSequence\n",
        "\n",
        "def sort3(a:MutableSequence, idx1: int, idx2: int, idx3: int):\n",
        "    \"\"\"a[idx1],a[idx2],a[idx3]을 오름차순으로 정렬하고 중앙값의 인덱스를 변환\"\"\"\n",
        "    if a[idx2] < a[idx1]: a[idx2], a[idx1] = a[idx1], a[idx2]\n",
        "    if a[idx3] < a[idx2]: a[idx3], a[idx2] = a[idx2], a[idx3]\n",
        "    if a[idx2] < a[idx1]: a[idx2], a[idx1] = a[idx1], a[idx2]\n",
        "    return idx2\n",
        "\n",
        "def insertion_sort(a: MutableSequence, left: int, right: int) -> None:\n",
        "    \"\"\"a[left] ~ a[right]를 단순 삽입 정렬\"\"\"\n",
        "    for i in range(left + 1, right + 1):\n",
        "        j = i\n",
        "        tmp = a[i]\n",
        "        while j > 0 and a[j-1] > tmp:\n",
        "            a[j] = a[j - 1]\n",
        "            j -= 1\n",
        "        a[j] = tmp\n",
        "\n",
        "def qsort(a: MutableSequence, left: int, right: int) -> None:\n",
        "    \"\"\"a[left] ~ a[right]를 퀵 정렬\"\"\"\n",
        "    if right - left < 9:                # 원소 수가 9 미만이면 단순 삽입 정렬로 전환\n",
        "        insertion_sort(a, left, right)\n",
        "    else:\n",
        "        pl = left\n",
        "        pr = right\n",
        "        m = sort3(a,pl,(pl+pr)//2,pr)\n",
        "        x = a[m]\n",
        "\n",
        "        a[m],a[pr-1] = a[pr - 1],a[m]\n",
        "        pl += 1\n",
        "        pr -= 2\n",
        "        while pl <= pr:\n",
        "            while a[pl] < x: pl += 1\n",
        "            while a[pr] > x: pr -= 1\n",
        "            if pl <= pr:\n",
        "                a[pl],a[pr] = a[pr],a[pl]\n",
        "                pl += 1\n",
        "                pr -= 1\n",
        "        \n",
        "        if left < pr: qsort(a, left, pr)\n",
        "        if pl < right: qsort(a, pl, right)\n",
        "\n",
        "def quick_sort(a: MutableSequence) -> None:\n",
        "    \"\"\"퀵 정렬\"\"\"\n",
        "    qsort(a, 0, len(a)-1)\n",
        "\n",
        "if __name__ == '__main__':\n",
        "    print('퀵 정렬을 합니다(원소 수가 9 미만이면 단순 삽입 정렬을 합니다).')\n",
        "    num = int(input('원소 수를 입력하세요.: '))\n",
        "    x = [None]*num\n",
        "\n",
        "    for i in range(num):\n",
        "        x[i] = int(input(f'x[{i}]: '))\n",
        "\n",
        "    quick_sort(x)\n",
        "\n",
        "    print('오름차순으로 정렬했습니다.')\n",
        "    for i in range(num):\n",
        "        print(f'x[{i}] = {x[i]}')"
      ],
      "metadata": {
        "colab": {
          "base_uri": "https://localhost:8080/"
        },
        "id": "AVhFnAdHdahI",
        "outputId": "b3a094e2-0ca9-4c11-a53d-5fd9a8fb7c33"
      },
      "execution_count": 5,
      "outputs": [
        {
          "output_type": "stream",
          "name": "stdout",
          "text": [
            "퀵 정렬을 합니다(원소 수가 9 미만이면 단순 삽입 정렬을 합니다).\n",
            "원소 수를 입력하세요.: 12\n",
            "x[0]: 5\n",
            "x[1]: 8\n",
            "x[2]: 4\n",
            "x[3]: 2\n",
            "x[4]: 6\n",
            "x[5]: 1\n",
            "x[6]: 3\n",
            "x[7]: 9\n",
            "x[8]: 7\n",
            "x[9]: 0\n",
            "x[10]: 3\n",
            "x[11]: 5\n",
            "오름차순으로 정렬했습니다.\n",
            "x[0] = 0\n",
            "x[1] = 1\n",
            "x[2] = 2\n",
            "x[3] = 3\n",
            "x[4] = 3\n",
            "x[5] = 4\n",
            "x[6] = 5\n",
            "x[7] = 5\n",
            "x[8] = 6\n",
            "x[9] = 7\n",
            "x[10] = 8\n",
            "x[11] = 9\n"
          ]
        }
      ]
    },
    {
      "cell_type": "code",
      "source": [
        "## sorted() 사용하여 정렬하기\n",
        "\n",
        "print('sorted() 함수를 사용하여 정렬합니다.')\n",
        "num = int(input('원소 수를 입력하세요.: '))\n",
        "x = [None]*num\n",
        "\n",
        "for i in range(num):\n",
        "    x[i] = int(input(f'x[{i}]: '))\n",
        "\n",
        "# 배열 x를 오름차순으로 정렬\n",
        "x = sorted(x)\n",
        "print('오름차순으로 정렬했습니다.')\n",
        "for i in range(num):\n",
        "    print(f'x[{i}] = {x[i]}')\n",
        "\n",
        "# 배열 x를 내림차순으로 정렬\n",
        "x = sorted(x, reverse = True)\n",
        "print('내림차순으로 정렬했습니다.')\n",
        "for i in range(num):\n",
        "    print(f'x[{i}] = {x[i]}')"
      ],
      "metadata": {
        "colab": {
          "base_uri": "https://localhost:8080/"
        },
        "id": "J6nyK61wh_dB",
        "outputId": "ecf9ae85-37f7-4f85-9806-e078a84fca40"
      },
      "execution_count": 6,
      "outputs": [
        {
          "output_type": "stream",
          "name": "stdout",
          "text": [
            "sorted() 함수를 사용하여 정렬합니다.\n",
            "원소 수를 입력하세요.: 5\n",
            "x[0]: 6\n",
            "x[1]: 4\n",
            "x[2]: 3\n",
            "x[3]: 7\n",
            "x[4]: 1\n",
            "오름차순으로 정렬했습니다.\n",
            "x[0] = 1\n",
            "x[1] = 3\n",
            "x[2] = 4\n",
            "x[3] = 6\n",
            "x[4] = 7\n",
            "내림차순으로 정렬했습니다.\n",
            "x[0] = 7\n",
            "x[1] = 6\n",
            "x[2] = 4\n",
            "x[3] = 3\n",
            "x[4] = 1\n"
          ]
        }
      ]
    },
    {
      "cell_type": "markdown",
      "source": [
        "## 정렬을 마친 배열의 병합"
      ],
      "metadata": {
        "id": "51pWVGlEjNIs"
      }
    },
    {
      "cell_type": "code",
      "source": [
        "## merge.py\n",
        "\n",
        "from typing import Sequence, MutableSequence\n",
        "\n",
        "def merge_sorted_list(a: Sequence, b:Sequence, c:MutableSequence) -> None:\n",
        "    \"\"\"정렬을 마친 배열 a와 b를 병합하여 c에 저장\"\"\"\n",
        "    pa, pb, pc = 0, 0, 0                   # 각 배열의 커서\n",
        "    na, nb, nc = len(a), len(b), len(c)    # 각 배열의 원소 수\n",
        "\n",
        "    while pa < na and pb < nb:             # pa와 pb를 비교하여 작은 값을 pc에 저장\n",
        "        if a[pa] <= b[pb]:\n",
        "            c[pc] = a[pa]\n",
        "            pa += 1\n",
        "        else:\n",
        "            c[pc] = b[pb]\n",
        "            pb += 1\n",
        "        pc += 1\n",
        "\n",
        "    while pa < na:                         # a에 남은 원소를 c에 복사\n",
        "        c[pc] = a[pa]\n",
        "        pa += 1\n",
        "        pc += 1\n",
        "\n",
        "    while pb < nb:                         # b에 남은 원소를 c에 복사\n",
        "        c[pc] = b[pb]\n",
        "        pb += 1\n",
        "        pc += 1\n",
        "\n",
        "if __name__ == '__main__':\n",
        "    a = [2,4,6,8,11,13]\n",
        "    b = [1,2,3,4,9,16,21]\n",
        "    c = [None]*(len(a)+len(b))\n",
        "    print('정렬을 마친 두 배열의 병합을 수행합니다.')\n",
        "\n",
        "    merge_sorted_list(a,b,c)\n",
        "\n",
        "    print('배열 a와 b를 병합하여 배열 c에 저장했습니다.')\n",
        "    print(f'배열 a: {a}')\n",
        "    print(f'배열 b: {b}')\n",
        "    print(f'배열 c: {c}')"
      ],
      "metadata": {
        "colab": {
          "base_uri": "https://localhost:8080/"
        },
        "id": "9ZabFpfGjHya",
        "outputId": "87637e8f-ca70-448c-b673-ea44f5f3b288"
      },
      "execution_count": 7,
      "outputs": [
        {
          "output_type": "stream",
          "name": "stdout",
          "text": [
            "정렬을 마친 두 배열의 병합을 수행합니다.\n",
            "배열 a와 b를 병합하여 배열 c에 저장했습니다.\n",
            "배열 a: [2, 4, 6, 8, 11, 13]\n",
            "배열 b: [1, 2, 3, 4, 9, 16, 21]\n",
            "배열 c: [1, 2, 2, 3, 4, 4, 6, 8, 9, 11, 13, 16, 21]\n"
          ]
        }
      ]
    },
    {
      "cell_type": "code",
      "source": [],
      "metadata": {
        "id": "-XcQyfZCkxyL"
      },
      "execution_count": null,
      "outputs": []
    }
  ]
}