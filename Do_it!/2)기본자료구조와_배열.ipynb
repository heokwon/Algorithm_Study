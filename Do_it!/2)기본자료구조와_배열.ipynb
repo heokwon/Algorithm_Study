{
  "nbformat": 4,
  "nbformat_minor": 0,
  "metadata": {
    "colab": {
      "provenance": [],
      "collapsed_sections": [],
      "authorship_tag": "ABX9TyP0j0ggAv9Jf5neAc7Hwt3k",
      "include_colab_link": true
    },
    "kernelspec": {
      "name": "python3",
      "display_name": "Python 3"
    },
    "language_info": {
      "name": "python"
    }
  },
  "cells": [
    {
      "cell_type": "markdown",
      "metadata": {
        "id": "view-in-github",
        "colab_type": "text"
      },
      "source": [
        "<a href=\"https://colab.research.google.com/github/heokwon/Algorithm_Study/blob/main/2)%EA%B8%B0%EB%B3%B8%EC%9E%90%EB%A3%8C%EA%B5%AC%EC%A1%B0%EC%99%80_%EB%B0%B0%EC%97%B4.ipynb\" target=\"_parent\"><img src=\"https://colab.research.google.com/assets/colab-badge.svg\" alt=\"Open In Colab\"/></a>"
      ]
    },
    {
      "cell_type": "markdown",
      "source": [
        "### 배열 개념 알아보기\n",
        "배열을 사용하면서 따로따로 흩어진 변수를 하나로 묶어서 사용할 수 있어 코드를 쉽고 효율적으로 작성할 수 있다."
      ],
      "metadata": {
        "id": "FNCFb98HYRVQ"
      }
    },
    {
      "cell_type": "code",
      "source": [
        "# 학생 5명의 시험 점수를 입력받아 합계와 평균을 출력하기\n",
        "\n",
        "print('학생 그룹 점수의 합계와 평균을 구합니다.')\n",
        "\n",
        "score1 = int(input('1번 학생의 점수를 입력하세요.: '))\n",
        "score2 = int(input('2번 학생의 점수를 입력하세요.: '))\n",
        "score3 = int(input('3번 학생의 점수를 입력하세요.: '))\n",
        "score4 = int(input('4번 학생의 점수를 입력하세요.: '))\n",
        "score5 = int(input('5번 학생의 점수를 입력하세요.: '))\n",
        "\n",
        "total=0\n",
        "total+=score1\n",
        "total+=score2\n",
        "total+=score3\n",
        "total+=score4\n",
        "total+=score5\n",
        "\n",
        "print(f'합계는 {total}점 입니다.')\n",
        "print(f'평균은 {total/5}점 입니다.')"
      ],
      "metadata": {
        "colab": {
          "base_uri": "https://localhost:8080/"
        },
        "id": "h-D1kV2zYZ2E",
        "outputId": "31efacbc-e798-4fb0-88b1-ecf4a043f5c0"
      },
      "execution_count": null,
      "outputs": [
        {
          "output_type": "stream",
          "name": "stdout",
          "text": [
            "학생 그룹 점수의 합계와 평균을 구합니다.\n",
            "1번 학생의 점수를 입력하세요.: 32\n",
            "2번 학생의 점수를 입력하세요.: 68\n",
            "3번 학생의 점수를 입력하세요.: 72\n",
            "4번 학생의 점수를 입력하세요.: 54\n",
            "5번 학생의 점수를 입력하세요.: 92\n",
            "합계는 318점 입니다.\n",
            "평균은 63.6점 입니다.\n"
          ]
        }
      ]
    },
    {
      "cell_type": "markdown",
      "source": [
        "\n",
        "\n",
        "```\n",
        "배열에는 객체가 저장되며, 배열에 저장된 객체 하나하나를 '원소'라고 한다. \n",
        "또한 각 원소는 0,1,2 순으로 index를 부여받는다. \n",
        "```\n",
        "\n"
      ],
      "metadata": {
        "id": "9ARCx8q9ZXA5"
      }
    },
    {
      "cell_type": "markdown",
      "source": [
        "### 리스트와 튜플 알아보기\n",
        "배열을 list와 tuple로 구현가능. list와 tuple은 data container라고 하며, 비슷한 기능을 하는 듯 하지만 원소를 변경할 수 있는지 없는지에 따라 차이가 있다."
      ],
      "metadata": {
        "id": "40IKx4f6Z52l"
      }
    },
    {
      "cell_type": "markdown",
      "source": [
        "\n",
        "\n",
        "```\n",
        "정수를 나타내는int형과 문자열을 나타내는 str형은 값을 변경할 수 없다.\n",
        "이렇게 값을 변경할 수 없는 특성을 '이뮤터블(immutable)'이라고 하며,\n",
        "값을 변경할 수 있는 특성을 '뮤터블(mutable)'이라고 한다.\n",
        "```\n",
        "\n"
      ],
      "metadata": {
        "id": "DKMRLL3Nd2NQ"
      }
    },
    {
      "cell_type": "markdown",
      "source": [
        "\n",
        "\n",
        "```\n",
        "*   뮤터블 자료형: 리스트, 딕셔너리, 집합 등\n",
        "*   이뮤터블 자료형: 수, 문자열, 튜플 등\n",
        "```\n",
        "\n"
      ],
      "metadata": {
        "id": "2cRFmFAgeV9y"
      }
    },
    {
      "cell_type": "code",
      "source": [
        "x=0\n",
        "type(x+17)"
      ],
      "metadata": {
        "colab": {
          "base_uri": "https://localhost:8080/"
        },
        "id": "FyUx2PnldtH5",
        "outputId": "4099757a-08c1-4c48-e0e2-22f29940273b"
      },
      "execution_count": null,
      "outputs": [
        {
          "output_type": "execute_result",
          "data": {
            "text/plain": [
              "int"
            ]
          },
          "metadata": {},
          "execution_count": 2
        }
      ]
    },
    {
      "cell_type": "code",
      "source": [
        "type(x=17)"
      ],
      "metadata": {
        "colab": {
          "base_uri": "https://localhost:8080/",
          "height": 172
        },
        "id": "rFYrjqo9esbs",
        "outputId": "652cab00-c525-4c27-e6fe-bc809829d377"
      },
      "execution_count": null,
      "outputs": [
        {
          "output_type": "error",
          "ename": "TypeError",
          "evalue": "ignored",
          "traceback": [
            "\u001b[0;31m---------------------------------------------------------------------------\u001b[0m",
            "\u001b[0;31mTypeError\u001b[0m                                 Traceback (most recent call last)",
            "\u001b[0;32m<ipython-input-3-7278350b9f47>\u001b[0m in \u001b[0;36m<module>\u001b[0;34m()\u001b[0m\n\u001b[0;32m----> 1\u001b[0;31m \u001b[0mtype\u001b[0m\u001b[0;34m(\u001b[0m\u001b[0mx\u001b[0m\u001b[0;34m=\u001b[0m\u001b[0;36m17\u001b[0m\u001b[0;34m)\u001b[0m\u001b[0;34m\u001b[0m\u001b[0;34m\u001b[0m\u001b[0m\n\u001b[0m",
            "\u001b[0;31mTypeError\u001b[0m: type() takes 1 or 3 arguments"
          ]
        }
      ]
    },
    {
      "cell_type": "markdown",
      "source": [
        "\n",
        "\n",
        "```\n",
        "x=17은 '식'이 아니라 '문'이므로 자료형을 확인할 수 없다.\n",
        "```\n",
        "\n"
      ],
      "metadata": {
        "id": "jlLcrdkaezEG"
      }
    },
    {
      "cell_type": "markdown",
      "source": [
        "### 자료구조의 개념 알아보기\n",
        "data structure : 논리적인 관계로 이루어진 데이터 구성\n",
        "\n",
        "즉, 데이터가 모여 있는 구조다."
      ],
      "metadata": {
        "id": "kqiy-xqgfAho"
      }
    },
    {
      "cell_type": "markdown",
      "source": [
        "\n",
        "\n",
        "```\n",
        "등가성과 동일성\n",
        "\n",
        "*   두 객체의 값이 같은지 비교 : ==\n",
        "*   두 객체의 값과 식별 번호가 같은지 비교 : is\n",
        "\n",
        "\n",
        "```\n",
        "\n"
      ],
      "metadata": {
        "id": "4yO1h1gwfclw"
      }
    },
    {
      "cell_type": "markdown",
      "source": [
        "### 배열\n",
        "> ### 배열 원소의 최댓값 구하기  "
      ],
      "metadata": {
        "id": "9yrpZLGDf9ZS"
      }
    },
    {
      "cell_type": "code",
      "source": [
        "from typing import Any,Sequence\n",
        "# Any : 제약이 없는 임의의 자료형\n",
        "# Sequence형에는 list,bytearry,str,tuple,bytes형이 있다.\n",
        "\n",
        "def max_of(a: Sequence) -> Any:\n",
        "  maximum = a[0]\n",
        "  for i in range(1, len(a)):\n",
        "    if a[i] > maximum:\n",
        "      maximum = a[i]\n",
        "  return maximum\n",
        "\n",
        "if __name__ == '__main__':\n",
        "  print('배열의 최댓값을 구합니다.: ')\n",
        "  num = int(input('원소 수를 입력하세요.: '))\n",
        "  x = [None] * num\n",
        "\n",
        "  for i in range(num):\n",
        "    x[i] = int(input(f'x[{i}값을 입력하세요.: '))\n",
        "\n",
        "  print(f'최댓값은 {max_of(x)}입니다.')"
      ],
      "metadata": {
        "colab": {
          "base_uri": "https://localhost:8080/"
        },
        "id": "MvGPz4PfhsSR",
        "outputId": "4c40e1b4-6030-46f0-f6ba-7086ce3b6740"
      },
      "execution_count": null,
      "outputs": [
        {
          "output_type": "stream",
          "name": "stdout",
          "text": [
            "배열의 최댓값을 구합니다.: \n",
            "원소 수를 입력하세요.: 5\n",
            "x[0값을 입력하세요.: 172\n",
            "x[1값을 입력하세요.: 153\n",
            "x[2값을 입력하세요.: 192\n",
            "x[3값을 입력하세요.: 140\n",
            "x[4값을 입력하세요.: 165\n",
            "최댓값은 192입니다.\n"
          ]
        }
      ]
    },
    {
      "cell_type": "markdown",
      "source": [
        "\n",
        "\n",
        "```\n",
        "두 자료형을 사용하여 max_of합수를 다음과 같이 정의\n",
        "* 건네받는 매개변수 a의 자료형은 Sequence\n",
        "* 반환하는 것은 임의의 자료형인 Any\n",
        "\n",
        "이를 바탕으로 max_of()함수의 특성은 다음과 같이 정의\n",
        "* 함수 안에서는 배열a의 원솟값을 변경하지 않음\n",
        "* 호출하는 쪽이 넘겨주는 실제 인수의 자료형은 뮤터블인 리스트,\n",
        "  이뮤터블인 튜플.문자열 등 시퀀스 자료형이라면 무엇이든 상관 없다.\n",
        "* 인수의 원소를 비교 연산자>로 값을 비교할 수 있다면 다른 형(int형,float형)이\n",
        " 섞여 있어도 된다.\n",
        "* 최댓값의 원소가 int형 원소면 int형 값을 반환하고, float형 원소면 float형 값을 반환\n",
        "```\n",
        "\n"
      ],
      "metadata": {
        "id": "6Myp-aXimxEm"
      }
    },
    {
      "cell_type": "markdown",
      "source": [
        "### 재사용할 수 있는 모듈 작성하기\n",
        "하나의 스크립트 프로그램을 '모듈(module)'이라고 한다.\n",
        "확장자(.py)를 포함하지 않는 파일의 이름 자체를 모듈 이름으로 사용."
      ],
      "metadata": {
        "id": "kKLDM8AXokqL"
      }
    },
    {
      "cell_type": "markdown",
      "source": [
        "\n",
        "\n",
        "```\n",
        "스크립트 프로그램이 직접 실행될 때 변수 __name__은 '__main__'이다.\n",
        "스크립트 프로그램이 import될 때 변수 __name__은 원래 모듈 이름\n",
        "```\n",
        "\n"
      ],
      "metadata": {
        "id": "J0yNK_ANozep"
      }
    },
    {
      "cell_type": "markdown",
      "source": [
        "### 모듈 테스트하기"
      ],
      "metadata": {
        "id": "CxOsHXzVpPQy"
      }
    },
    {
      "cell_type": "code",
      "source": [
        "# 배열 원소의 최댓값을 구해서 출력하기(원솟값을 입력받음)\n",
        "# from max import max_of : 전 실습을 max.py로 저장했을때, max.py에서 max_of함수를 불러옴\n",
        "\n",
        "print('배열의 최댓값을 구합니다.')\n",
        "print('주의: \"End\"를 입력하면 종료합니다.')\n",
        "\n",
        "number = 0\n",
        "x = []\n",
        "\n",
        "while True:\n",
        "  s = input(f'x[{number}]값을 입력하세요.: ')\n",
        "  if s == 'End':\n",
        "    break\n",
        "  x.append(int(s))\n",
        "  number += 1\n",
        "\n",
        "print(f'{number}개를 입력했습니다.')\n",
        "print(f'최댓값은 {max_of(x)}입니다.')"
      ],
      "metadata": {
        "colab": {
          "base_uri": "https://localhost:8080/"
        },
        "id": "3K0K1wDwjwIR",
        "outputId": "7ba027e0-147b-4666-b6f4-7037571028c7"
      },
      "execution_count": null,
      "outputs": [
        {
          "output_type": "stream",
          "name": "stdout",
          "text": [
            "배열의 최댓값을 구합니다.\n",
            "주의: \"End\"를 입력하면 종료합니다.\n",
            "x[0]값을 입력하세요.: 15\n",
            "x[1]값을 입력하세요.: 72\n",
            "x[2]값을 입력하세요.: 64\n",
            "x[3]값을 입력하세요.: 7\n",
            "x[4]값을 입력하세요.: End\n",
            "4개를 입력했습니다.\n",
            "최댓값은 72입니다.\n"
          ]
        }
      ]
    },
    {
      "cell_type": "markdown",
      "source": [
        "### 배열의 원솟갑을 난수로 결정하기\n",
        "배열의 원소 수,최댓값,최솟값은 입력받고, 최댓값과 최솟값 안에서 배열을 구성하는 원솟값은 난수로 결정하는 실습하기"
      ],
      "metadata": {
        "id": "l_b7dtP5rNdk"
      }
    },
    {
      "cell_type": "code",
      "source": [
        "import random\n",
        "\n",
        "print('난수의 최댓값 구하기')\n",
        "num = int(input('난수 개수 입력: '))\n",
        "lo = int(input('난수 최솟값 입력: '))\n",
        "hi = int(input('난수 최댓값 입력: '))\n",
        "x = [None]*num\n",
        "\n",
        "for i in range(num):\n",
        "  x[i]=random.randint(lo,hi)\n",
        "\n",
        "print(f'{(x)}')\n",
        "print(f'이중 최댓값은 {max_of(x)}이다.')"
      ],
      "metadata": {
        "colab": {
          "base_uri": "https://localhost:8080/"
        },
        "id": "v9GTcj42ssL1",
        "outputId": "b9d2c8d3-0cc5-40bf-b6b1-e5fa849c03ee"
      },
      "execution_count": null,
      "outputs": [
        {
          "output_type": "stream",
          "name": "stdout",
          "text": [
            "난수의 최댓값 구하기\n",
            "난수 개수 입력: 5\n",
            "난수 최솟값 입력: 10\n",
            "난수 최댓값 입력: 99\n",
            "[20, 63, 62, 89, 18]\n",
            "이중 최댓값은 89이다.\n"
          ]
        }
      ]
    },
    {
      "cell_type": "code",
      "source": [
        "# 배열 원소의 최댓값을 구해서 출력하기(원솟값을 난수로 생성)\n",
        "\n",
        "import random\n",
        "# from max import max_of\n",
        "\n",
        "print('난수의 최댓값을 구합니다.')\n",
        "num = int(input('난수의 개수를 입력하세요.: '))\n",
        "lo = int(input('난수의 최솟값을 입력하세요.: '))\n",
        "hi = int(input('난수의 최댓값을 입력하세요.: '))\n",
        "x = [None] * num   # 원소 수가 num인 리스트를 생성\n",
        "\n",
        "for i in range(num):\n",
        "  x[i] = random.randint(lo,hi) # lo 이상 hi 이하인 정수 난수를 반환\n",
        "\n",
        "print(f'{(x)}')\n",
        "print(f'이 가운데 최댓값은 {max_of(x)}입니다.')"
      ],
      "metadata": {
        "colab": {
          "base_uri": "https://localhost:8080/"
        },
        "id": "0Py9P-2ZqIwx",
        "outputId": "56ea6e2d-6e86-4ff0-d6a1-64b59672bede"
      },
      "execution_count": null,
      "outputs": [
        {
          "output_type": "stream",
          "name": "stdout",
          "text": [
            "난수의 최댓값을 구합니다.\n",
            "난수의 개수를 입력하세요.: 5\n",
            "난수의 최솟값을 입력하세요.: 10\n",
            "난수의 최댓값을 입력하세요.: 99\n",
            "[94, 30, 14, 76, 98]\n",
            "이 가운데 최댓값은 98입니다.\n"
          ]
        }
      ]
    },
    {
      "cell_type": "markdown",
      "source": [
        "### 튜플,문자열,문자열 리스트의 최댓값 구하기"
      ],
      "metadata": {
        "id": "FiqMDzA0t1iQ"
      }
    },
    {
      "cell_type": "code",
      "source": [
        "# 각 배열 원소의 최댓값을 구해서 출력하기(튜플,문자열,문자열 리스트)\n",
        "\n",
        "#from max import max_of\n",
        "\n",
        "t = (4,7,5.6,2,3.14,1)\n",
        "s = 'string'\n",
        "a = ['DTS','AAC','FLAC']\n",
        "\n",
        "print(f'{t}의 최댓값은 {max_of(t)}')\n",
        "print(f'{s}의 최댓값은 {max_of(s)}')\n",
        "print(f'{a}의 최댓값은 {max_of(a)}')"
      ],
      "metadata": {
        "colab": {
          "base_uri": "https://localhost:8080/"
        },
        "id": "JuMEZyEYtk_h",
        "outputId": "1024a46e-0861-4b80-f6a5-0caf56017ede"
      },
      "execution_count": null,
      "outputs": [
        {
          "output_type": "stream",
          "name": "stdout",
          "text": [
            "(4, 7, 5.6, 2, 3.14, 1)의 최댓값은 7\n",
            "string의 최댓값은 t\n",
            "['DTS', 'AAC', 'FLAC']의 최댓값은 FLAC\n"
          ]
        }
      ]
    },
    {
      "cell_type": "markdown",
      "source": [
        "\n",
        "\n",
        "```\n",
        "t : 정수와 실수 원소중 가장 큰 값 출력\n",
        "s : string이라는 문자열 가운데 가장 큰 문자코드 t 출력\n",
        "a : 문자열 리스트, 사전 순으로 가장 큰 문자열인 FLAC 츨력\n",
        "```\n",
        "\n"
      ],
      "metadata": {
        "id": "L0sld21Qu9T4"
      }
    },
    {
      "cell_type": "code",
      "source": [
        "# 리스트의 모든 원소를 스캔하기(원소 수를 미리 파악)\n",
        "\n",
        "x = ['John','George','Paul','Ringo']\n",
        "\n",
        "for i in range(len(x)):\n",
        "  print(f'x[{i}] = {x[i]}')"
      ],
      "metadata": {
        "colab": {
          "base_uri": "https://localhost:8080/"
        },
        "id": "KcMn9xTQulFD",
        "outputId": "d7ea14f9-3fc2-4f3d-c744-c5c23852a07f"
      },
      "execution_count": null,
      "outputs": [
        {
          "output_type": "stream",
          "name": "stdout",
          "text": [
            "x[0] = John\n",
            "x[1] = George\n",
            "x[2] = Paul\n",
            "x[3] = Ringo\n"
          ]
        }
      ]
    },
    {
      "cell_type": "code",
      "source": [
        "# 리스트의 모든 원소를 enumerate() 함수로 스캔하기\n",
        "\n",
        "x = ['Jogn','George','Paul','Ringo']\n",
        "\n",
        "for i,name in enumerate(x):\n",
        "  print(f'x[{i}] = {name}')"
      ],
      "metadata": {
        "colab": {
          "base_uri": "https://localhost:8080/"
        },
        "id": "E11N5cdRwhvC",
        "outputId": "560b3ec6-2e13-4cce-acd2-daa76d8c9385"
      },
      "execution_count": null,
      "outputs": [
        {
          "output_type": "stream",
          "name": "stdout",
          "text": [
            "x[0] = Jogn\n",
            "x[1] = George\n",
            "x[2] = Paul\n",
            "x[3] = Ringo\n"
          ]
        }
      ]
    },
    {
      "cell_type": "code",
      "source": [
        "# 리스트의 모든 원소를 enumerate()함수로 스캔하기(1부터 카운트)\n",
        "\n",
        "x = ['John','George','Paul','Ringo']\n",
        "\n",
        "for i, name in enumerate(x, 1):\n",
        "  print(f'{i}번째 = {name}')"
      ],
      "metadata": {
        "colab": {
          "base_uri": "https://localhost:8080/"
        },
        "id": "hF0_tPiUxFJC",
        "outputId": "66c63a1f-9780-414b-8c07-691c28bbbea3"
      },
      "execution_count": null,
      "outputs": [
        {
          "output_type": "stream",
          "name": "stdout",
          "text": [
            "1번째 = John\n",
            "2번째 = George\n",
            "3번째 = Paul\n",
            "4번째 = Ringo\n"
          ]
        }
      ]
    },
    {
      "cell_type": "code",
      "source": [
        "# 리스트의 모든 원소를 스캔하기(인덱스값을 사용하지 않음)\n",
        "\n",
        "x = ['John','George','Paul','Ringo']\n",
        "\n",
        "for i in x:\n",
        "  print(i)"
      ],
      "metadata": {
        "colab": {
          "base_uri": "https://localhost:8080/"
        },
        "id": "uJYFEKrMx0oh",
        "outputId": "ee438ae8-c0ce-4d9a-b145-3becfddd2e35"
      },
      "execution_count": null,
      "outputs": [
        {
          "output_type": "stream",
          "name": "stdout",
          "text": [
            "John\n",
            "George\n",
            "Paul\n",
            "Ringo\n"
          ]
        }
      ]
    },
    {
      "cell_type": "markdown",
      "source": [
        "### 배열 원소를 역순으로 정렬하기"
      ],
      "metadata": {
        "id": "OPbjAU6x1g61"
      }
    },
    {
      "cell_type": "markdown",
      "source": [
        "\n",
        "\n",
        "```\n",
        "배열 원소를 역순으로 정렬하는 알고리즘\n",
        "for i in range(n//2):\n",
        "    a[i]와 a[n-i-1]의 값을 교환\n",
        "```\n",
        "\n"
      ],
      "metadata": {
        "id": "sKamG4-u25uX"
      }
    },
    {
      "cell_type": "code",
      "source": [
        "# 뮤터블 시퀀스 원소를 역순으로 정렬\n",
        "\n",
        "from typing import Any, MutableSequence\n",
        "\n",
        "def reverse_array(a: MutableSequence) -> None:\n",
        "  \"\"\"뮤터블 시퀀스 a의 원소를 역순으로 정렬\"\"\"\n",
        "  n = len(a)\n",
        "  for i in range(n//2):\n",
        "    a[i], a[n-i-1] = a[n-i-1], a[i]\n",
        "\n",
        "if __name__ == '__main__':\n",
        "  print('배열 원소를 역순으로 정렬합니다,')\n",
        "  nx = int(input('원소 수를 입력하세요.: '))\n",
        "  x = [None] * nx\n",
        "\n",
        "  for i in range(nx):\n",
        "    x[i] = int(input(f'x[{i}]값을 입력하세요.: '))\n",
        "\n",
        "  reverse_array(x)\n",
        "\n",
        "  print('배열 원소를 역순으로 정렬했습니다.')\n",
        "  for i in range(nx):\n",
        "    print(f'x[{i}] = {x[i]}')"
      ],
      "metadata": {
        "colab": {
          "base_uri": "https://localhost:8080/"
        },
        "id": "oT5GrWtK09Rk",
        "outputId": "c6e73b91-4813-4bac-867f-76335f91f022"
      },
      "execution_count": null,
      "outputs": [
        {
          "output_type": "stream",
          "name": "stdout",
          "text": [
            "배열 원소를 역순으로 정렬합니다,\n",
            "원소 수를 입력하세요.: 7\n",
            "x[0]값을 입력하세요.: 2\n",
            "x[1]값을 입력하세요.: 5\n",
            "x[2]값을 입력하세요.: 1\n",
            "x[3]값을 입력하세요.: 3\n",
            "x[4]값을 입력하세요.: 9\n",
            "x[5]값을 입력하세요.: 6\n",
            "x[6]값을 입력하세요.: 7\n",
            "배열 원소를 역순으로 정렬했습니다.\n",
            "x[0] = 7\n",
            "x[1] = 6\n",
            "x[2] = 9\n",
            "x[3] = 3\n",
            "x[4] = 1\n",
            "x[5] = 5\n",
            "x[6] = 2\n"
          ]
        }
      ]
    },
    {
      "cell_type": "markdown",
      "source": [
        "\n",
        "\n",
        "```\n",
        "기수와 서수\n",
        "'기수'는 수를 나타내는 데 기초가 되며 10진법에서는 0~9까지 정수를 말한다.\n",
        "이 10개의 기수를 사용하여 무수히 많은 값을 수로 나타낼 수 있다.\n",
        "'서수'는 사물의 순서를 나타낸다.(첫째,둘째,셋째,...)\n",
        "```\n",
        "\n"
      ],
      "metadata": {
        "id": "XkA8z47-312B"
      }
    },
    {
      "cell_type": "markdown",
      "source": [
        "\n",
        "\n",
        "```\n",
        "* 16진수 : 0,1,2,3,4,5,6,7,8,9,A,B,C,D,E,F\n",
        "* 10진수 : 0,1,2,3,4,5,6,7,8,9\n",
        "* 8진수  : 0,1,2,3,4,5,6,7\n",
        "```\n",
        "\n"
      ],
      "metadata": {
        "id": "LBWZThXU4SEm"
      }
    },
    {
      "cell_type": "code",
      "source": [
        "# 10진수 정숫값을 입력받아 2~36진수로 변환하여 출력하기\n",
        "\n",
        "def card_conv(x: int, r: int) -> str:\n",
        "  \"\"\"정숫값 x를 r진수로 변환한 뒤 그 수를 나타내는 문자열을 반환\"\"\"\n",
        "\n",
        "  d = '' # 변환 후의 문자열\n",
        "  dchar = '0123456789ABCDEFGHIJKLMNOPQRSTUVWXYZ'\n",
        "\n",
        "  while x > 0:\n",
        "    d += dchar[x % r] # 해당하는 문자를 꺼내 결합\n",
        "    x //= r\n",
        "\n",
        "  return d[::-1] # 역순으로 반환"
      ],
      "metadata": {
        "id": "T1UjWfjs3J4T"
      },
      "execution_count": null,
      "outputs": []
    },
    {
      "cell_type": "code",
      "source": [
        "if __name__ == '__main__':\n",
        "  print('10진수를 n진수로 변환합니다.')\n",
        "\n",
        "  while True:\n",
        "    while True:\n",
        "      no = int(input('변환할 값으로 음이 아닌 정수를 입력하세요.: '))\n",
        "      if no > 0 :\n",
        "        break\n",
        "\n",
        "    while True : \n",
        "      cd = int(input('어떤 진수로 변환할까요?: '))\n",
        "      if 2 <= cd <= 36:\n",
        "        break\n",
        "\n",
        "    print(f'{cd}진수로는 {card_conv(no,cd)}입니다.')\n",
        "\n",
        "    retry = input(\"한 번 더 변환할까요?(Y...예 / N...아니요): \")\n",
        "    if retry in {'N', 'n'}:\n",
        "      break"
      ],
      "metadata": {
        "colab": {
          "base_uri": "https://localhost:8080/"
        },
        "id": "SDxEFeBP5P8u",
        "outputId": "f960a5fa-731e-4f60-f2ec-6372971752c5"
      },
      "execution_count": null,
      "outputs": [
        {
          "name": "stdout",
          "output_type": "stream",
          "text": [
            "10진수를 n진수로 변환합니다.\n",
            "변환할 값으로 음이 아닌 정수를 입력하세요.: 29\n",
            "어떤 진수로 변환할까요?: 2\n",
            "2진수로는 11101입니다.\n",
            "한 번 더 변환할까요?(Y...예 / N...아니요): Y\n",
            "변환할 값으로 음이 아닌 정수를 입력하세요.: 27\n",
            "어떤 진수로 변환할까요?: 10\n",
            "10진수로는 27입니다.\n",
            "한 번 더 변환할까요?(Y...예 / N...아니요): Y\n",
            "변환할 값으로 음이 아닌 정수를 입력하세요.: 42\n",
            "어떤 진수로 변환할까요?: 8\n",
            "8진수로는 52입니다.\n",
            "한 번 더 변환할까요?(Y...예 / N...아니요): n\n"
          ]
        }
      ]
    },
    {
      "cell_type": "code",
      "source": [
        "if __name__ == '__main__':\n",
        "  print('10진수를 n진수로 변환합니다.')\n",
        "\n",
        "  while True:\n",
        "    while True:\n",
        "      no = int(input('변환할 값으로 음이 아닌 정수를 입력하세요.: '))\n",
        "      if no > 0:\n",
        "        break\n",
        "\n",
        "    while True:\n",
        "      cd = int(input('어떤 진수로 변환할까요?: '))\n",
        "      if 2 <= cd <= 36:\n",
        "        break\n",
        "\n",
        "    print(f'{cd}진수로는 {card_conv(no, cd)}입니다.')\n",
        "\n",
        "    retry = input('한 번 더 변환할까요?(Y...예 / N...아니요): ')\n",
        "    if retry in ('N','n'):\n",
        "      break"
      ],
      "metadata": {
        "id": "SSJn2UQF69Ru",
        "colab": {
          "base_uri": "https://localhost:8080/"
        },
        "outputId": "01fda9eb-5c16-46f7-9e6c-0bac4c38d6cb"
      },
      "execution_count": null,
      "outputs": [
        {
          "name": "stdout",
          "output_type": "stream",
          "text": [
            "10진수를 n진수로 변환합니다.\n",
            "변환할 값으로 음이 아닌 정수를 입력하세요.: 29\n",
            "어떤 진수로 변환할까요?: 2\n",
            "2진수로는 11101입니다.\n",
            "한 번 더 변환할까요?(Y...예 / N...아니요): N\n"
          ]
        }
      ]
    },
    {
      "cell_type": "code",
      "source": [
        "# 10진수 정숫값을 입력받아 2~36진수로 변환하여 출력하기\n",
        "\n",
        "def card_conv(x: int, r: int) -> str:\n",
        "  \"\"\"정숫값 x를 r진수로 변환한 뒤 그 수를 나타내는 문자열을 반환\"\"\"\n",
        "\n",
        "  d = ''\n",
        "  dchar = '0123456789ABCDEFGHIJKLMNOPQRSTUVWXYZ'\n",
        "  n = len(str(x))\n",
        "\n",
        "  print(f'{r:2} | {x:{n}d}')\n",
        "  while x > 0:\n",
        "    print('  +'+(n+2)*'-')\n",
        "    if x // r:\n",
        "      print(f'{r:2} | {x // r:{n}d} ... {x % r}')\n",
        "    else:\n",
        "      print(f'     {x // r:{n}d} ... {x % r}')\n",
        "    d += dchar [x % r]\n",
        "    x //= r\n",
        "\n",
        "  return d[::-1]\n",
        "\n",
        "if __name__ == '__main__':\n",
        "  print('10진수를 n진수로 변환합니다.')\n",
        "\n",
        "  while True:\n",
        "    while True:\n",
        "      no = int(input('변환할 값으로 음이 아닌 정수를 입력하세요.: '))\n",
        "      if no > 0:\n",
        "        break\n",
        "\n",
        "    while True:\n",
        "      cd = int(input('어떤 진수로 변환할까요?: '))\n",
        "      if 2 <= cd <= 36:\n",
        "        break\n",
        "\n",
        "    print(f'{cd}진수로는 {card_conv(no, cd)}입니다.')\n",
        "\n",
        "    retry = input('한 번 더 변환할까요?(Y...예 / N...아니요): ')\n",
        "    if retry in ('N','n'):\n",
        "      break"
      ],
      "metadata": {
        "colab": {
          "base_uri": "https://localhost:8080/"
        },
        "id": "5daCLSf8xRVI",
        "outputId": "d1c16754-065c-4477-d2e2-dd08ba134483"
      },
      "execution_count": null,
      "outputs": [
        {
          "name": "stdout",
          "output_type": "stream",
          "text": [
            "10진수를 n진수로 변환합니다.\n",
            "변환할 값으로 음이 아닌 정수를 입력하세요.: 29\n",
            "어떤 진수로 변환할까요?: 2\n",
            " 2 | 29\n",
            "  +----\n",
            " 2 | 14 ... 1\n",
            "  +----\n",
            " 2 |  7 ... 0\n",
            "  +----\n",
            " 2 |  3 ... 1\n",
            "  +----\n",
            " 2 |  1 ... 1\n",
            "  +----\n",
            "      0 ... 1\n",
            "2진수로는 11101입니다.\n",
            "한 번 더 변환할까요?(Y...예 / N...아니요): N\n"
          ]
        }
      ]
    },
    {
      "cell_type": "markdown",
      "source": [
        "### 함수 사이에 인수 주고받기"
      ],
      "metadata": {
        "id": "EwXHsYjm3HAI"
      }
    },
    {
      "cell_type": "code",
      "source": [
        "# 1부터 n까지 정수의 합 구하기\n",
        "\n",
        "def sum_1ton(n):\n",
        "  \"\"\"1부터 n까지 정수의 합\"\"\"\n",
        "  s = 0\n",
        "  while n > 0:\n",
        "    s += n\n",
        "    n -= 1\n",
        "  return s\n",
        "\n",
        "x = int(input('x의 값을 입력하세요.: '))\n",
        "print(f'1부터 {x}까지 정수의 합은 {sum_1ton(x)}입니다.')"
      ],
      "metadata": {
        "colab": {
          "base_uri": "https://localhost:8080/"
        },
        "id": "s0fyQ2Wy0xFh",
        "outputId": "5da9abe7-744b-40ec-9a7c-3c7d4d8f01ec"
      },
      "execution_count": null,
      "outputs": [
        {
          "output_type": "stream",
          "name": "stdout",
          "text": [
            "x의 값을 입력하세요.: 5\n",
            "1부터 5까지 정수의 합은 15입니다.\n"
          ]
        }
      ]
    },
    {
      "cell_type": "code",
      "source": [
        "# 리스트에서 임의의 원솟값을 업데이트하기\n",
        "\n",
        "def change(lst, idx, val):\n",
        "  \"\"\"lst[idx]의 값을 val로 업데이트\"\"\"\n",
        "  lst[idx] = val\n",
        "\n",
        "x = [11,22,33,44,55]\n",
        "print('x =', x)\n",
        "\n",
        "index = int(input('업데이트할 인덱스를 선택하세요.: '))\n",
        "value = int(input('새로운 값을 입력하세요.: '))\n",
        "\n",
        "change(x, index, value)\n",
        "print(f'x = {x}')"
      ],
      "metadata": {
        "colab": {
          "base_uri": "https://localhost:8080/"
        },
        "id": "MWhoRImt3sKj",
        "outputId": "20ba66ef-76dc-4a2a-ee1f-fd86cfe4b547"
      },
      "execution_count": null,
      "outputs": [
        {
          "output_type": "stream",
          "name": "stdout",
          "text": [
            "x = [11, 22, 33, 44, 55]\n",
            "업데이트할 인덱스를 선택하세요.: 2\n",
            "새로운 값을 입력하세요.: 99\n",
            "x = [11, 22, 99, 44, 55]\n"
          ]
        }
      ]
    },
    {
      "cell_type": "markdown",
      "source": [
        "### 소수 나열하기"
      ],
      "metadata": {
        "id": "L3vnk3IQ4-m_"
      }
    },
    {
      "cell_type": "markdown",
      "source": [
        "\n",
        "\n",
        "```\n",
        "2부터 n-1까지 어떤 정수로도 나누어 떨어지지 않습니다.\n",
        "만약 나누어 떨어지는 정수가 하나 이상 존재하면 그 수는 '합성수'입니다.\n",
        "```\n",
        "\n"
      ],
      "metadata": {
        "id": "ietNJrJD5K8a"
      }
    },
    {
      "cell_type": "code",
      "source": [
        "# 1000 이하의 소수 나열하기\n",
        "\n",
        "counter = 0\n",
        "\n",
        "for n in range(2, 1001):\n",
        "  for i in range(2, n):\n",
        "    counter += 1\n",
        "    if n % i == 0:  # 나누어 떨어지면 소수가 아님\n",
        "      break         # 반복은 더 이상 불필요하여 중단\n",
        "  else:             # 끝까지 나누어 떨어지지 않으면 다음을 수행\n",
        "    print(n)\n",
        "print(f'나눗셈을 실행한 횟수: {counter}')"
      ],
      "metadata": {
        "colab": {
          "base_uri": "https://localhost:8080/"
        },
        "id": "OlV8RJrY4y5R",
        "outputId": "0b227dd8-3cfe-4cab-adc1-006cfc246e85"
      },
      "execution_count": null,
      "outputs": [
        {
          "output_type": "stream",
          "name": "stdout",
          "text": [
            "2\n",
            "3\n",
            "5\n",
            "7\n",
            "11\n",
            "13\n",
            "17\n",
            "19\n",
            "23\n",
            "29\n",
            "31\n",
            "37\n",
            "41\n",
            "43\n",
            "47\n",
            "53\n",
            "59\n",
            "61\n",
            "67\n",
            "71\n",
            "73\n",
            "79\n",
            "83\n",
            "89\n",
            "97\n",
            "101\n",
            "103\n",
            "107\n",
            "109\n",
            "113\n",
            "127\n",
            "131\n",
            "137\n",
            "139\n",
            "149\n",
            "151\n",
            "157\n",
            "163\n",
            "167\n",
            "173\n",
            "179\n",
            "181\n",
            "191\n",
            "193\n",
            "197\n",
            "199\n",
            "211\n",
            "223\n",
            "227\n",
            "229\n",
            "233\n",
            "239\n",
            "241\n",
            "251\n",
            "257\n",
            "263\n",
            "269\n",
            "271\n",
            "277\n",
            "281\n",
            "283\n",
            "293\n",
            "307\n",
            "311\n",
            "313\n",
            "317\n",
            "331\n",
            "337\n",
            "347\n",
            "349\n",
            "353\n",
            "359\n",
            "367\n",
            "373\n",
            "379\n",
            "383\n",
            "389\n",
            "397\n",
            "401\n",
            "409\n",
            "419\n",
            "421\n",
            "431\n",
            "433\n",
            "439\n",
            "443\n",
            "449\n",
            "457\n",
            "461\n",
            "463\n",
            "467\n",
            "479\n",
            "487\n",
            "491\n",
            "499\n",
            "503\n",
            "509\n",
            "521\n",
            "523\n",
            "541\n",
            "547\n",
            "557\n",
            "563\n",
            "569\n",
            "571\n",
            "577\n",
            "587\n",
            "593\n",
            "599\n",
            "601\n",
            "607\n",
            "613\n",
            "617\n",
            "619\n",
            "631\n",
            "641\n",
            "643\n",
            "647\n",
            "653\n",
            "659\n",
            "661\n",
            "673\n",
            "677\n",
            "683\n",
            "691\n",
            "701\n",
            "709\n",
            "719\n",
            "727\n",
            "733\n",
            "739\n",
            "743\n",
            "751\n",
            "757\n",
            "761\n",
            "769\n",
            "773\n",
            "787\n",
            "797\n",
            "809\n",
            "811\n",
            "821\n",
            "823\n",
            "827\n",
            "829\n",
            "839\n",
            "853\n",
            "857\n",
            "859\n",
            "863\n",
            "877\n",
            "881\n",
            "883\n",
            "887\n",
            "907\n",
            "911\n",
            "919\n",
            "929\n",
            "937\n",
            "941\n",
            "947\n",
            "953\n",
            "967\n",
            "971\n",
            "977\n",
            "983\n",
            "991\n",
            "997\n",
            "나눗셈을 실행한 횟수: 78022\n"
          ]
        }
      ]
    },
    {
      "cell_type": "code",
      "source": [
        "# 1000 이하의 소수를 나열하기(알고리즘 개선1)\n",
        "\n",
        "counter = 0                 # 나눗셈 횟수를 카운트\n",
        "ptr = 0                     # 이미 찾은 소수의 개수\n",
        "prime = [None] * 500        # 소수를 저장하는 배열\n",
        "\n",
        "prime[ptr] = 2              # 2는 소수이므로 초깃값으로 지정\n",
        "ptr += 1\n",
        "\n",
        "for n in range(3, 1001, 2): # 홀수만을 대상으로 설정\n",
        "  for i in range(1, ptr):   # 이미 찾은 소수로 나눔\n",
        "    counter += 1\n",
        "    if n % prime[i] == 0:   # 나누어 떨어지면 소수가 아님\n",
        "      break\n",
        "  else:\n",
        "    prime[ptr] = n          # 소수로 배열에 등록 \n",
        "    ptr += 1\n",
        "\n",
        "for i in range(ptr):        # ptr의 소수를 출력\n",
        "  print(prime[i])\n",
        "print(f'나눗셈을 실행한 횟수: {counter}')"
      ],
      "metadata": {
        "colab": {
          "base_uri": "https://localhost:8080/"
        },
        "id": "s3-3z5_T6QHp",
        "outputId": "c53ab106-a4f3-4970-80a1-41b5330c7086"
      },
      "execution_count": null,
      "outputs": [
        {
          "output_type": "stream",
          "name": "stdout",
          "text": [
            "2\n",
            "3\n",
            "5\n",
            "7\n",
            "11\n",
            "13\n",
            "17\n",
            "19\n",
            "23\n",
            "29\n",
            "31\n",
            "37\n",
            "41\n",
            "43\n",
            "47\n",
            "53\n",
            "59\n",
            "61\n",
            "67\n",
            "71\n",
            "73\n",
            "79\n",
            "83\n",
            "89\n",
            "97\n",
            "101\n",
            "103\n",
            "107\n",
            "109\n",
            "113\n",
            "127\n",
            "131\n",
            "137\n",
            "139\n",
            "149\n",
            "151\n",
            "157\n",
            "163\n",
            "167\n",
            "173\n",
            "179\n",
            "181\n",
            "191\n",
            "193\n",
            "197\n",
            "199\n",
            "211\n",
            "223\n",
            "227\n",
            "229\n",
            "233\n",
            "239\n",
            "241\n",
            "251\n",
            "257\n",
            "263\n",
            "269\n",
            "271\n",
            "277\n",
            "281\n",
            "283\n",
            "293\n",
            "307\n",
            "311\n",
            "313\n",
            "317\n",
            "331\n",
            "337\n",
            "347\n",
            "349\n",
            "353\n",
            "359\n",
            "367\n",
            "373\n",
            "379\n",
            "383\n",
            "389\n",
            "397\n",
            "401\n",
            "409\n",
            "419\n",
            "421\n",
            "431\n",
            "433\n",
            "439\n",
            "443\n",
            "449\n",
            "457\n",
            "461\n",
            "463\n",
            "467\n",
            "479\n",
            "487\n",
            "491\n",
            "499\n",
            "503\n",
            "509\n",
            "521\n",
            "523\n",
            "541\n",
            "547\n",
            "557\n",
            "563\n",
            "569\n",
            "571\n",
            "577\n",
            "587\n",
            "593\n",
            "599\n",
            "601\n",
            "607\n",
            "613\n",
            "617\n",
            "619\n",
            "631\n",
            "641\n",
            "643\n",
            "647\n",
            "653\n",
            "659\n",
            "661\n",
            "673\n",
            "677\n",
            "683\n",
            "691\n",
            "701\n",
            "709\n",
            "719\n",
            "727\n",
            "733\n",
            "739\n",
            "743\n",
            "751\n",
            "757\n",
            "761\n",
            "769\n",
            "773\n",
            "787\n",
            "797\n",
            "809\n",
            "811\n",
            "821\n",
            "823\n",
            "827\n",
            "829\n",
            "839\n",
            "853\n",
            "857\n",
            "859\n",
            "863\n",
            "877\n",
            "881\n",
            "883\n",
            "887\n",
            "907\n",
            "911\n",
            "919\n",
            "929\n",
            "937\n",
            "941\n",
            "947\n",
            "953\n",
            "967\n",
            "971\n",
            "977\n",
            "983\n",
            "991\n",
            "997\n",
            "나눗셈을 실행한 횟수: 14622\n"
          ]
        }
      ]
    },
    {
      "cell_type": "code",
      "source": [
        "# 1000 이하의 소수를 나열하기(알고리즘 개선2)\n",
        "\n",
        "counter = 0                 # 곱셈과 나눗셈을 합한 횟수 \n",
        "ptr = 0                     # 이미 찾은 소수의 개수\n",
        "prime = [None]*500          # 소수를 저장하는 배열\n",
        "\n",
        "prime[ptr] = 2\n",
        "ptr += 1\n",
        "\n",
        "prime[ptr] = 3\n",
        "ptr += 1\n",
        "\n",
        "for n in range(5, 1001, 2): # 홀수만을 대상으로 설정\n",
        "  i = 1\n",
        "  while prime[i] * prime[i] <= n:\n",
        "    counter += 2\n",
        "    if n % prime[i] == 0:   # 나누어 떨어지므로 소수가 아님\n",
        "      break\n",
        "    i += 1\n",
        "  else:                     # 끝까지 나누어 떨어지지 않았다면\n",
        "    prime[ptr] = n          # 소수로 배열에 등록\n",
        "    ptr += 1\n",
        "    counter += 1\n",
        "\n",
        "for i in range(ptr):        # ptr의 소수 출력\n",
        "  print(prime[i])\n",
        "print(f'곱셈과 나눗셈을 실행한 횟수: {counter}')"
      ],
      "metadata": {
        "colab": {
          "base_uri": "https://localhost:8080/"
        },
        "id": "xvMEMsal8TBA",
        "outputId": "cfcc5549-3efe-4e18-f8c7-1bebc9eb8d0c"
      },
      "execution_count": null,
      "outputs": [
        {
          "output_type": "stream",
          "name": "stdout",
          "text": [
            "2\n",
            "3\n",
            "5\n",
            "7\n",
            "11\n",
            "13\n",
            "17\n",
            "19\n",
            "23\n",
            "29\n",
            "31\n",
            "37\n",
            "41\n",
            "43\n",
            "47\n",
            "53\n",
            "59\n",
            "61\n",
            "67\n",
            "71\n",
            "73\n",
            "79\n",
            "83\n",
            "89\n",
            "97\n",
            "101\n",
            "103\n",
            "107\n",
            "109\n",
            "113\n",
            "127\n",
            "131\n",
            "137\n",
            "139\n",
            "149\n",
            "151\n",
            "157\n",
            "163\n",
            "167\n",
            "173\n",
            "179\n",
            "181\n",
            "191\n",
            "193\n",
            "197\n",
            "199\n",
            "211\n",
            "223\n",
            "227\n",
            "229\n",
            "233\n",
            "239\n",
            "241\n",
            "251\n",
            "257\n",
            "263\n",
            "269\n",
            "271\n",
            "277\n",
            "281\n",
            "283\n",
            "293\n",
            "307\n",
            "311\n",
            "313\n",
            "317\n",
            "331\n",
            "337\n",
            "347\n",
            "349\n",
            "353\n",
            "359\n",
            "367\n",
            "373\n",
            "379\n",
            "383\n",
            "389\n",
            "397\n",
            "401\n",
            "409\n",
            "419\n",
            "421\n",
            "431\n",
            "433\n",
            "439\n",
            "443\n",
            "449\n",
            "457\n",
            "461\n",
            "463\n",
            "467\n",
            "479\n",
            "487\n",
            "491\n",
            "499\n",
            "503\n",
            "509\n",
            "521\n",
            "523\n",
            "541\n",
            "547\n",
            "557\n",
            "563\n",
            "569\n",
            "571\n",
            "577\n",
            "587\n",
            "593\n",
            "599\n",
            "601\n",
            "607\n",
            "613\n",
            "617\n",
            "619\n",
            "631\n",
            "641\n",
            "643\n",
            "647\n",
            "653\n",
            "659\n",
            "661\n",
            "673\n",
            "677\n",
            "683\n",
            "691\n",
            "701\n",
            "709\n",
            "719\n",
            "727\n",
            "733\n",
            "739\n",
            "743\n",
            "751\n",
            "757\n",
            "761\n",
            "769\n",
            "773\n",
            "787\n",
            "797\n",
            "809\n",
            "811\n",
            "821\n",
            "823\n",
            "827\n",
            "829\n",
            "839\n",
            "853\n",
            "857\n",
            "859\n",
            "863\n",
            "877\n",
            "881\n",
            "883\n",
            "887\n",
            "907\n",
            "911\n",
            "919\n",
            "929\n",
            "937\n",
            "941\n",
            "947\n",
            "953\n",
            "967\n",
            "971\n",
            "977\n",
            "983\n",
            "991\n",
            "997\n",
            "곱셈과 나눗셈을 실행한 횟수: 3774\n"
          ]
        }
      ]
    },
    {
      "cell_type": "markdown",
      "source": [
        "리스트의 원소와 복사"
      ],
      "metadata": {
        "id": "S-Y_Wcg4Bwc9"
      }
    },
    {
      "cell_type": "code",
      "source": [
        "# 자료형을 정하지 않은 리스트 원소 확인하기\n",
        "\n",
        "x = [15,64,7,3.14,[32,55],'ABC']\n",
        "for i in range(len(x)):\n",
        "  print(f'x[{i}] = {x[i]}')"
      ],
      "metadata": {
        "colab": {
          "base_uri": "https://localhost:8080/"
        },
        "id": "Nerzq4kK-YsH",
        "outputId": "528ddbcb-9447-4346-cfe3-e73edf814014"
      },
      "execution_count": null,
      "outputs": [
        {
          "output_type": "stream",
          "name": "stdout",
          "text": [
            "x[0] = 15\n",
            "x[1] = 64\n",
            "x[2] = 7\n",
            "x[3] = 3.14\n",
            "x[4] = [32, 55]\n",
            "x[5] = ABC\n"
          ]
        }
      ]
    },
    {
      "cell_type": "markdown",
      "source": [
        "\n",
        "\n",
        "```\n",
        "파이썬에서는 리스트 내 각 원소의 자료형을 다르게 사용할 수 있습니다.\n",
        "```\n",
        "\n"
      ],
      "metadata": {
        "id": "v2WUO7AzCJj3"
      }
    },
    {
      "cell_type": "code",
      "source": [
        "x = [[1,2,3],[4,5,6]]\n",
        "y = x.copy()\n",
        "x[0][1] = 9\n",
        "x"
      ],
      "metadata": {
        "colab": {
          "base_uri": "https://localhost:8080/"
        },
        "id": "OhpBbJf_CAp_",
        "outputId": "9053cc02-196f-4388-bca7-30d5bbe87611"
      },
      "execution_count": null,
      "outputs": [
        {
          "output_type": "execute_result",
          "data": {
            "text/plain": [
              "[[1, 9, 3], [4, 5, 6]]"
            ]
          },
          "metadata": {},
          "execution_count": 18
        }
      ]
    },
    {
      "cell_type": "code",
      "source": [
        "y"
      ],
      "metadata": {
        "colab": {
          "base_uri": "https://localhost:8080/"
        },
        "id": "GFU4QidECjDK",
        "outputId": "bb979803-3f88-48e6-aac9-5fa961297352"
      },
      "execution_count": null,
      "outputs": [
        {
          "output_type": "execute_result",
          "data": {
            "text/plain": [
              "[[1, 9, 3], [4, 5, 6]]"
            ]
          },
          "metadata": {},
          "execution_count": 19
        }
      ]
    },
    {
      "cell_type": "markdown",
      "source": [
        "\n",
        "\n",
        "```\n",
        "y[0][1]의 값까지 9로 업데이트 된다. 그 이유는 리스트의 얕은 복사를 수행하기 때문이다.\n",
        "```\n",
        "\n"
      ],
      "metadata": {
        "id": "dEv1iW3WC65p"
      }
    },
    {
      "cell_type": "code",
      "source": [
        "# 깊은 복사\n",
        "import copy\n",
        "x = [[1,2,3],[4,5,6]]\n",
        "y = copy.deepcopy(x)\n",
        "x[0][1] = 9\n",
        "x"
      ],
      "metadata": {
        "colab": {
          "base_uri": "https://localhost:8080/"
        },
        "id": "8Q8H7ZQbCj1E",
        "outputId": "12e76d5a-cd4c-45bd-a687-fba590277d5f"
      },
      "execution_count": null,
      "outputs": [
        {
          "output_type": "execute_result",
          "data": {
            "text/plain": [
              "[[1, 9, 3], [4, 5, 6]]"
            ]
          },
          "metadata": {},
          "execution_count": 20
        }
      ]
    },
    {
      "cell_type": "code",
      "source": [
        "y # x[0][1] 의 값이 9로 바끼기 이전 값을 복사"
      ],
      "metadata": {
        "colab": {
          "base_uri": "https://localhost:8080/"
        },
        "id": "Lt3NvV28CzUW",
        "outputId": "6c825639-f1c1-4fdf-8314-b9a179b7f8fd"
      },
      "execution_count": null,
      "outputs": [
        {
          "output_type": "execute_result",
          "data": {
            "text/plain": [
              "[[1, 2, 3], [4, 5, 6]]"
            ]
          },
          "metadata": {},
          "execution_count": 22
        }
      ]
    },
    {
      "cell_type": "markdown",
      "source": [
        "\n",
        "\n",
        "```\n",
        "얕은 복사와 깊은 복사\n",
        "객체가 갖는 멤버의 값을 새로운 객체로 복사할 때 객체가 참조 자료형의 멤버를 포함할 경우\n",
        "얕은 복사라고 하며, 이는 참조값만 복사하는 방식입니다.\n",
        "깊은 복사는 참조값 뿐만 아니라 참조하는 객체 자체를 복사합니다. 즉, 객체가 갖는 모든 멤버\n",
        "(값과 참조 형식 모두)를 복사하므로 전체 복사 라고도 합니다,\n",
        "```\n",
        "\n"
      ],
      "metadata": {
        "id": "0HmkPEoMDMAt"
      }
    },
    {
      "cell_type": "code",
      "source": [],
      "metadata": {
        "id": "G8MkJtNZC0E6"
      },
      "execution_count": null,
      "outputs": []
    }
  ]
}
