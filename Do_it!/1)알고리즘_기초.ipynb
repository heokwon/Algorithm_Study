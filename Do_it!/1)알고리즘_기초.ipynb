{
  "nbformat": 4,
  "nbformat_minor": 0,
  "metadata": {
    "colab": {
      "provenance": [],
      "collapsed_sections": [],
      "authorship_tag": "ABX9TyMmU83ED/+0ygvvc8PGAaJ2",
      "include_colab_link": true
    },
    "kernelspec": {
      "name": "python3",
      "display_name": "Python 3"
    },
    "language_info": {
      "name": "python"
    }
  },
  "cells": [
    {
      "cell_type": "markdown",
      "metadata": {
        "id": "view-in-github",
        "colab_type": "text"
      },
      "source": [
        "<a href=\"https://colab.research.google.com/github/heokwon/Algorithm_Study/blob/main/1)%EC%95%8C%EA%B3%A0%EB%A6%AC%EC%A6%98_%EA%B8%B0%EC%B4%88.ipynb\" target=\"_parent\"><img src=\"https://colab.research.google.com/assets/colab-badge.svg\" alt=\"Open In Colab\"/></a>"
      ]
    },
    {
      "cell_type": "markdown",
      "source": [
        "## 세 정수의 최댓값 구하기\n",
        "a,b,c에 정숫값을 입력받아 maximum으로 최댓값을 찾을 수 있다."
      ],
      "metadata": {
        "id": "duw3StlyFUdS"
      }
    },
    {
      "cell_type": "code",
      "execution_count": null,
      "metadata": {
        "colab": {
          "base_uri": "https://localhost:8080/"
        },
        "id": "BHk6NpMOFGUb",
        "outputId": "a73195cc-bddb-4487-9180-58d73b902cfb"
      },
      "outputs": [
        {
          "output_type": "stream",
          "name": "stdout",
          "text": [
            "세 정수의 최댓값을 구합니다.\n",
            "정수 a의 값을 입력하세요.:1\n",
            "정수 b의 값을 입력하세요.:3\n",
            "정수 c의 값을 입력하세요.:2\n",
            "최댓값은 3입니다.\n"
          ]
        }
      ],
      "source": [
        "print('세 정수의 최댓값을 구합니다.')\n",
        "a = int(input('정수 a의 값을 입력하세요.:'))\n",
        "b = int(input('정수 b의 값을 입력하세요.:'))\n",
        "c = int(input('정수 c의 값을 입력하세요.:'))\n",
        "\n",
        "maximum = a                 # maximum에 a의 값을 대입\n",
        "if b > maximum: maximum = b # b의 값이 maximum보다 크면, maximum에 b의 값을 대입\n",
        "if c > maximum: maximum = c # c의 값이 maximum보다 크면, maximum에 c의 값을 대입\n",
        "\n",
        "print(f'최댓값은 {maximum}입니다.')"
      ]
    },
    {
      "cell_type": "markdown",
      "source": [
        "문자열과 숫자 입력받기"
      ],
      "metadata": {
        "id": "9HLWCHMgGiC3"
      }
    },
    {
      "cell_type": "code",
      "source": [
        "# 이름을 입력받아 인사하기\n",
        "print('이름을 입려하세요.:', end='')\n",
        "name = input()\n",
        "print(f'안녕하세요? {name} 님.')"
      ],
      "metadata": {
        "colab": {
          "base_uri": "https://localhost:8080/"
        },
        "id": "_IY9-KeLGDrI",
        "outputId": "74a48f91-5e2c-4d5c-efe9-494a999bc5bd"
      },
      "execution_count": null,
      "outputs": [
        {
          "output_type": "stream",
          "name": "stdout",
          "text": [
            "이름을 입려하세요.:허권\n",
            "안녕하세요? 허권 님.\n"
          ]
        }
      ]
    },
    {
      "cell_type": "markdown",
      "source": [
        "input()함수는 키보드로 문자열을 입력받아 반환한다. 실행 결과와 같이 input()함수를 호출하면 입력받은 문자열형(str)의 '허권'을 얻을 수 있고 그 문자열이 name에 대입된다."
      ],
      "metadata": {
        "id": "wWUVaSK7HEK-"
      }
    },
    {
      "cell_type": "code",
      "source": [
        "name = input('이름을 입력하세요.:')\n",
        "print(f'안녕하세요? {name} 님.')"
      ],
      "metadata": {
        "colab": {
          "base_uri": "https://localhost:8080/"
        },
        "id": "3HeiGkZcGvhW",
        "outputId": "0393e108-c46b-4a44-f5f0-145476548aa0"
      },
      "execution_count": null,
      "outputs": [
        {
          "output_type": "stream",
          "name": "stdout",
          "text": [
            "이름을 입력하세요.:허권\n",
            "안녕하세요? 허권 님.\n"
          ]
        }
      ]
    },
    {
      "cell_type": "markdown",
      "source": [
        "a,b,c에 저장해야 할 데이터의 자료형은 문자열이 아니라 10진수 정수형입니다. 그런데 input()함수는 문자열을 반환하므로 문자열을 10진수 정수형으로 변환해야 합니다. 이 때 int()함수를 사용합니다."
      ],
      "metadata": {
        "id": "5ux0mPxqH0SP"
      }
    },
    {
      "cell_type": "markdown",
      "source": [
        "int()함수는 'int(문자열)'과 같이 문자열을 전달받습니다. 그러면 함수의 실행 결과로 10진수 정수형을 얻습니다."
      ],
      "metadata": {
        "id": "2h-GEXzRIPuC"
      }
    },
    {
      "cell_type": "code",
      "source": [
        "print(int('17'),     # 10진수 문자형을 10진수 정수형으로 변환\n",
        "      int('0b110',2),# 2진수 문자열을 10진수 정수형으로 변환\n",
        "      int('0o75',8), # 8진수 문자열을 10진수 정수형으로 변환\n",
        "      int('13',10),  # 10진수 문자열을 10진수 정수형으로 변환\n",
        "      int('0x3F',16),# 16진수 문자열을 10진수 정수형으로 변환\n",
        "      float('3.14')) # 문자열을 실수형으로 변환\n",
        "# 만약 숫자로 변환할 수 없는 문자열을 int(),float()함수에 전달하면 오류가 발생"
      ],
      "metadata": {
        "colab": {
          "base_uri": "https://localhost:8080/"
        },
        "id": "3CSb-VTHHxNy",
        "outputId": "3517ecf9-bf55-4374-c18a-8e909376d1b9"
      },
      "execution_count": null,
      "outputs": [
        {
          "output_type": "stream",
          "name": "stdout",
          "text": [
            "17 6 61 13 63 3.14\n"
          ]
        }
      ]
    },
    {
      "cell_type": "markdown",
      "source": [
        "float은 부동 소수점 방식을 사용\n",
        "\n",
        "부동 소수점은 컴퓨터에서 실수를 근삿값으로 표현할 때 사용. \n",
        "\n",
        "실수를 가수 부분과 지수 부분으로 나누어 표현하는 것.\n",
        "\n",
        "이때 가수 부분은 유효 숫자를 나타내고 지수 부분은소수점의 위치를 나타냄.\n"
      ],
      "metadata": {
        "id": "tFhUtXn0JVO5"
      }
    },
    {
      "cell_type": "markdown",
      "source": [
        "## 복합문의 구조"
      ],
      "metadata": {
        "id": "E7WdFZd1JwO-"
      }
    },
    {
      "cell_type": "code",
      "source": [
        "# 세 정수의 최댓값 구하기\n",
        "\n",
        "def max3(a,b,c):\n",
        "  \"\"\"a,b,c의 최댓값을 구하여 반환\"\"\"\n",
        "  maximum = a\n",
        "  if b > maximum: maximum = b\n",
        "  if c > maximum: maximum = c\n",
        "  return maximum # 최댓값 반환\n",
        "\n",
        "print(f'max3(3,2,1) = {max3(3,2,1)}') # a > b > c\n",
        "print(f'max3(3,2,2) = {max3(3,2,2)}') # a > b = c\n",
        "print(f'max3(3,1,2) = {max3(3,1,2)}') # a > c > b\n",
        "print(f'max3(3,2,3) = {max3(3,2,3)}') # a = c > b\n",
        "print(f'max3(2,1,3) = {max3(2,1,3)}') # c > a > c\n",
        "print(f'max3(3,3,2) = {max3(3,3,2)}') # a = b > c\n",
        "print(f'max3(3,3,3) = {max3(3,3,3)}') # a = b = c\n",
        "print(f'max3(2,2,3) = {max3(2,2,3)}') # a = b < c\n",
        "print(f'max3(2,3,1) = {max3(2,3,1)}') # b > a > c\n",
        "print(f'max3(2,3,2) = {max3(2,3,2)}') # a = c < b\n",
        "print(f'max3(1,3,2) = {max3(1,3,2)}') # b > c > a\n",
        "print(f'max3(2,3,3) = {max3(2,3,3)}') # a < b = c\n",
        "print(f'max3(1,2,3) = {max3(1,2,3)}') # a < b < c\n"
      ],
      "metadata": {
        "colab": {
          "base_uri": "https://localhost:8080/"
        },
        "id": "96OxD0SXIe5H",
        "outputId": "334e8438-a050-437a-d3a3-18e31a2958da"
      },
      "execution_count": null,
      "outputs": [
        {
          "output_type": "stream",
          "name": "stdout",
          "text": [
            "max3(3,2,1) = 3\n",
            "max3(3,2,2) = 3\n",
            "max3(3,1,2) = 3\n",
            "max3(3,2,3) = 3\n",
            "max3(2,1,3) = 3\n",
            "max3(3,3,2) = 3\n",
            "max3(3,3,3) = 3\n",
            "max3(2,2,3) = 3\n",
            "max3(2,3,1) = 3\n",
            "max3(2,3,2) = 3\n",
            "max3(1,3,2) = 3\n",
            "max3(2,3,3) = 3\n",
            "max3(1,2,3) = 3\n"
          ]
        }
      ]
    },
    {
      "cell_type": "markdown",
      "source": [
        "## 복합문을 작성할 때 지켜야 할 규칙\n",
        "복합문의 스위트는 반드시 행마다 같은 수준으로 들여쓰기를 해야 한다. 들여쓰기는 공백을 최소 1개 이상 사용해야 하며, PEP 8 (파이썬 코드 작성 규칙)에서는 공백4개를 들여쓰기로 사용할 것을 권장."
      ],
      "metadata": {
        "id": "mYkEnodBL37c"
      }
    },
    {
      "cell_type": "code",
      "source": [
        "if a < b:\n",
        "  min2 = a # 공백4개로 들여쓰기\n",
        "  max2 = b # 이 문장도 공백 4개로 들여쓰기를 해야 if a < b:에 종속되어 실행된다."
      ],
      "metadata": {
        "id": "xhpCZInfLfmX"
      },
      "execution_count": null,
      "outputs": []
    },
    {
      "cell_type": "markdown",
      "source": [
        "만약 스위트가 단순문이면 해더와 같은 행에 둘 수 있다. 또한 단순문이 2개 이상이면 각각의 단순문을 세미콜론으로 구분하여 다음과 같이 헤더와 같은 행에 둘 수 있다. 이때 세미콜론은 마지막 단순문 뒤에 놓을수도 있다."
      ],
      "metadata": {
        "id": "YKCoUlwUMXCm"
      }
    },
    {
      "cell_type": "code",
      "source": [
        "if a < b: min2 = a # 단순문 1개\n",
        "if a < b: min2 = a; max2 = b # 단순문 2개\n",
        "if a < b: min2 = a; max2 = b; # 단순문 2개(세미콜론을 추가한 단순문)"
      ],
      "metadata": {
        "id": "uL2LqO-yMTsb"
      },
      "execution_count": null,
      "outputs": []
    },
    {
      "cell_type": "markdown",
      "source": [
        "하지만 스위트가 복합문이면 헤더와 스위트를 같은 행에 포함시킬 수 없다. 다음과 같은 코드는 콜론 뒤에 복합문이 포함되었으므로 오류가 발생."
      ],
      "metadata": {
        "id": "kIkNZCPCMyJu"
      }
    },
    {
      "cell_type": "code",
      "source": [
        "if a < b: if c < d: x = u # 오류발생 : 헤더와 같은 행에 복합문을 둘 수 없음"
      ],
      "metadata": {
        "id": "QtKHRRiBM5N-"
      },
      "execution_count": null,
      "outputs": []
    },
    {
      "cell_type": "markdown",
      "source": [
        "## 세 정수의 대소 관계와 중앙값"
      ],
      "metadata": {
        "id": "VNhoeImuNF5x"
      }
    },
    {
      "cell_type": "code",
      "source": [
        "# 세 정수를 입력받아 중앙값 구하기1\n",
        "\n",
        "def med3(a,b,c):\n",
        "  \"\"\"a,b,c의 중앙값을 구하여 반환\"\"\"\n",
        "  if a >= b:\n",
        "    if b >= c:\n",
        "      return b # a >= b >= c\n",
        "    elif a <= c:\n",
        "      return a # c >= a >= b\n",
        "    else:\n",
        "      return c  \n",
        "  elif a > c:\n",
        "    return a\n",
        "  elif b > c:\n",
        "    return c\n",
        "  else:\n",
        "    return b\n",
        "\n",
        "\n",
        "print('세 정수의 중앙값을 구합니다.')\n",
        "a=int(input('정수 a의 값을 입력하세요.:'))\n",
        "b=int(input('정수 b의 값을 입력하세요.:'))\n",
        "c=int(input('정수 c의 값을 입력하세요.:'))\n",
        "\n",
        "print(f'중앙값은 {med3(a,b,c)}입니다.')"
      ],
      "metadata": {
        "colab": {
          "base_uri": "https://localhost:8080/"
        },
        "id": "L6PAFzu0NPTC",
        "outputId": "5a6cb12a-3495-4332-d648-a54fdb0f7478"
      },
      "execution_count": null,
      "outputs": [
        {
          "output_type": "stream",
          "name": "stdout",
          "text": [
            "세 정수의 중앙값을 구합니다.\n",
            "정수 a의 값을 입력하세요.:1\n",
            "정수 b의 값을 입력하세요.:3\n",
            "정수 c의 값을 입력하세요.:2\n",
            "중앙값은 2입니다.\n"
          ]
        }
      ]
    },
    {
      "cell_type": "code",
      "source": [
        "def med3(a,b,c):\n",
        "  if (b>=a and c <= a) or (b<=a and c>=a):\n",
        "    return a\n",
        "  elif (a>b and c<b) or (a<b and c>b):\n",
        "    return b\n",
        "  return c\n",
        "\n",
        "print('세 정수의 중앙값을 구합니다.')\n",
        "a=int(input('정수 a의 값을 입력하세요.:'))\n",
        "b=int(input('정수 b의 값을 입력하세요.:'))\n",
        "c=int(input('정수 c의 값을 입력하세요.:'))\n",
        "\n",
        "print(f'중앙값은 {med3(a,b,c)}입니다.')"
      ],
      "metadata": {
        "colab": {
          "base_uri": "https://localhost:8080/"
        },
        "id": "-45FnuMeOgLg",
        "outputId": "e6b3953c-3b3e-4307-cc04-b12accdaea39"
      },
      "execution_count": null,
      "outputs": [
        {
          "output_type": "stream",
          "name": "stdout",
          "text": [
            "세 정수의 중앙값을 구합니다.\n",
            "정수 a의 값을 입력하세요.:1\n",
            "정수 b의 값을 입력하세요.:3\n",
            "정수 c의 값을 입력하세요.:2\n",
            "중앙값은 2입니다.\n"
          ]
        }
      ]
    },
    {
      "cell_type": "code",
      "source": [
        "# 입력받은 정수의 부호(양수, 음수, 0)출력하기\n",
        "\n",
        "n = int(input('정수를 입력하세요.: '))\n",
        "\n",
        "if n > 0:\n",
        "  print('이 수는 양수입니다.')\n",
        "elif n < 0:\n",
        "  print('이 수는 음수입니다.')\n",
        "else:\n",
        "  print('이 수는 0입니다.')"
      ],
      "metadata": {
        "colab": {
          "base_uri": "https://localhost:8080/"
        },
        "id": "qu3JOr8jO4qn",
        "outputId": "d850eb03-97d1-4d66-89bc-f337274783ec"
      },
      "execution_count": null,
      "outputs": [
        {
          "output_type": "stream",
          "name": "stdout",
          "text": [
            "정수를 입력하세요.: -5\n",
            "이 수는 음수입니다.\n"
          ]
        }
      ]
    },
    {
      "cell_type": "markdown",
      "source": [
        "n = 1, 2, 3 이외의 값을 집어넣었을 때, 결과값을 C로만 출력"
      ],
      "metadata": {
        "id": "Oozl1cSiQPA1"
      }
    },
    {
      "cell_type": "code",
      "source": [
        "# 3개로 분기하는 조건문\n",
        "\n",
        "n = int(input('정수를 입력하세요,: '))\n",
        "\n",
        "if n == 1:\n",
        "  print('A')\n",
        "elif n == 2:\n",
        "  print('B')\n",
        "else:\n",
        "  print('C')"
      ],
      "metadata": {
        "colab": {
          "base_uri": "https://localhost:8080/"
        },
        "id": "UIXzmmB5PizJ",
        "outputId": "cecb0647-98dd-4f33-8b08-a63d951e5472"
      },
      "execution_count": null,
      "outputs": [
        {
          "output_type": "stream",
          "name": "stdout",
          "text": [
            "정수를 입력하세요,: 3\n",
            "C\n"
          ]
        }
      ]
    },
    {
      "cell_type": "markdown",
      "source": [
        "n = 1, 2, 3 이 아니면 아무것도 출력하지 않는다."
      ],
      "metadata": {
        "id": "E5zBv8NTQrAa"
      }
    },
    {
      "cell_type": "code",
      "source": [
        "n = int(input('정수를 입력하세요.: '))\n",
        "\n",
        "if n == 1:\n",
        "  print('A')\n",
        "elif n == 2:\n",
        "  print('B')\n",
        "elif n == 3:\n",
        "  print('C')"
      ],
      "metadata": {
        "colab": {
          "base_uri": "https://localhost:8080/"
        },
        "id": "YlOAy-GCQJMb",
        "outputId": "356ab7a0-e6e7-4bb1-fbe4-a227b63a0fda"
      },
      "execution_count": null,
      "outputs": [
        {
          "name": "stdout",
          "output_type": "stream",
          "text": [
            "정수를 입력하세요.: 4\n"
          ]
        }
      ]
    },
    {
      "cell_type": "code",
      "source": [
        "n = int(input('정수를 입력하세요.: '))\n",
        "\n",
        "if n == 1:\n",
        "  print('A')\n",
        "elif n == 2:\n",
        "  print('B')\n",
        "elif n == 3:\n",
        "  print('C')\n",
        "else:\n",
        "  pass"
      ],
      "metadata": {
        "colab": {
          "base_uri": "https://localhost:8080/"
        },
        "id": "9LeTHNNPQoeg",
        "outputId": "b79ecfa1-67d8-4451-9629-332b12ac1255"
      },
      "execution_count": null,
      "outputs": [
        {
          "name": "stdout",
          "output_type": "stream",
          "text": [
            "정수를 입력하세요.: 4\n"
          ]
        }
      ]
    },
    {
      "cell_type": "markdown",
      "source": [
        "## 연산자와 피연산자\n",
        "ex) a > b 에서, 연산자는 > 피연산자는 a와 b\n",
        "\n",
        "조건 연산자인 if~else 문은 파이썬의 유일한 삼항 연산자이다. 예를 들어 조건식 a if b else c는 b를 평가한 값이 True이면 a를, False이면 c를 보여준다."
      ],
      "metadata": {
        "id": "wcRyMrCORH3x"
      }
    },
    {
      "cell_type": "markdown",
      "source": [
        "# 반복하는 알고리즘\n"
      ],
      "metadata": {
        "id": "-FAH8IVTSMGZ"
      }
    },
    {
      "cell_type": "markdown",
      "source": [
        "### 1부터 n까지 정수의 합 구하기"
      ],
      "metadata": {
        "id": "HZ-9j8KWSRlT"
      }
    },
    {
      "cell_type": "code",
      "source": [
        "print('1부터 n까지 정수의 합을 구합니다.')\n",
        "n = int(input('n값을 입력하세요.: '))\n",
        "\n",
        "sum=0\n",
        "i=1 # 카운터용 변수\n",
        "\n",
        "while i <= n:\n",
        "  sum += i\n",
        "  i += 1\n",
        "\n",
        "print(f'1부터 {n}까지 정수의 합은 {sum}입니다.')\n",
        "print(f'i값은 {i}입니다.')"
      ],
      "metadata": {
        "colab": {
          "base_uri": "https://localhost:8080/"
        },
        "id": "BnjvyTPRRAb1",
        "outputId": "e92b7eb2-87d8-4417-de91-0410ea171f4a"
      },
      "execution_count": null,
      "outputs": [
        {
          "output_type": "stream",
          "name": "stdout",
          "text": [
            "1부터 n까지 정수의 합을 구합니다.\n",
            "n값을 입력하세요.: 5\n",
            "1부터 5까지 정수의 합은 15입니다.\n",
            "i값은 6입니다.\n"
          ]
        }
      ]
    },
    {
      "cell_type": "markdown",
      "source": [
        "for문 반복"
      ],
      "metadata": {
        "id": "jQHlqiKlUI96"
      }
    },
    {
      "cell_type": "code",
      "source": [
        "print('1부터 n까지 정수의 합을 구합니다.')\n",
        "n = int(input('n값을 입력하세요.: '))\n",
        "\n",
        "sum = 0\n",
        "for i in range(1, n+1):\n",
        "  sum += i\n",
        "\n",
        "print(f'1부터 {n}까지 정수의 합은 {sum}입니다.')"
      ],
      "metadata": {
        "colab": {
          "base_uri": "https://localhost:8080/"
        },
        "id": "ukyu8y_sS2wE",
        "outputId": "949cb0d2-8bef-4e38-9016-ce2c64590c9c"
      },
      "execution_count": null,
      "outputs": [
        {
          "output_type": "stream",
          "name": "stdout",
          "text": [
            "1부터 n까지 정수의 합을 구합니다.\n",
            "n값을 입력하세요.: 5\n",
            "1부터 5까지 정수의 합은 15입니다.\n"
          ]
        }
      ]
    },
    {
      "cell_type": "markdown",
      "source": [
        "range()함수로 이터러블 객체 생성하기\n",
        "\n",
        "대표적인 이터러블 자료형으론 list, str, tuple이 있다."
      ],
      "metadata": {
        "id": "ISGjTYG6VXVW"
      }
    },
    {
      "cell_type": "markdown",
      "source": [
        "\n",
        "\n",
        "```\n",
        "range(n) # 0 이상 n 미만인 수를 차례로 나열하는 수열\n",
        "range(a, b) # a 이상 b 미만인 수를 차례로 나열하는 수열\n",
        "range(a, b, step) # a 이상 b 미만인 수를 step 간격으로 나열하는 수열\n",
        "```\n",
        "\n",
        "\n"
      ],
      "metadata": {
        "id": "9GCIx9v7U6E9"
      }
    },
    {
      "cell_type": "markdown",
      "source": [
        "연속하는 정수의 합을 구할 때 시작하는 값이 1이 아닌 정수를 입력받았다면 range()합수에 전달할 시작값과 끝값을 오름차순으로 정렬해야 한다."
      ],
      "metadata": {
        "id": "XGYrGhEjWcac"
      }
    },
    {
      "cell_type": "code",
      "source": [
        "print('a부터 b까지 정수의 합을 구합니다.')\n",
        "a = int(input('정수 a를 입력하세요.: '))\n",
        "b = int(input('정수 b를 입력하세요.: '))\n",
        "\n",
        "if a > b:\n",
        "  a,b = b,a # a와 b를 오름차순으로 정렬 // a와 b의 값을 교환(단일 대입문 사용)\n",
        "\n",
        "sum = 0\n",
        "for i in range(a, b+1):\n",
        "  sum += i\n",
        "\n",
        "print(f'{a}부터 {b}까지 정수의 합은 {sum}입니다.')"
      ],
      "metadata": {
        "colab": {
          "base_uri": "https://localhost:8080/"
        },
        "id": "YHG79tKjVRb4",
        "outputId": "00f41162-b8bb-43a3-a253-7a4b722403a1"
      },
      "execution_count": null,
      "outputs": [
        {
          "output_type": "stream",
          "name": "stdout",
          "text": [
            "a부터 b까지 정수의 합을 구합니다.\n",
            "정수 a를 입력하세요.: 8\n",
            "정수 b를 입력하세요.: 3\n",
            "3부터 8까지 정수의 합은 33입니다.\n"
          ]
        }
      ]
    },
    {
      "cell_type": "markdown",
      "source": [
        "반복 과정에서 조건 판단하기 1"
      ],
      "metadata": {
        "id": "LzNNXbr6W0HE"
      }
    },
    {
      "cell_type": "code",
      "source": [
        "# a부터 b까지 정수의 합 구하기 1\n",
        "\n",
        "print('a부터 b까지 정수의 합을 구합니다.')\n",
        "a = int(input('정수 a를 입력하세요.: '))\n",
        "b = int(input('정수 b를 입력하세요.: '))\n",
        "\n",
        "if a > b:\n",
        "  a,b = b,a\n",
        "\n",
        "sum = 0\n",
        "for i in range(a,b+1):\n",
        "  if i < b:\n",
        "    print(f'{i}+',end='') # i가 b보다 작으면 합을 구하는 과정 출력\n",
        "  else:\n",
        "    print(f'{i} =',end='') # i가 b보다 크거나 같으면 최종값 출력을 위해 i= 를 출력\n",
        "  sum += i\n",
        "\n",
        "print(sum)"
      ],
      "metadata": {
        "colab": {
          "base_uri": "https://localhost:8080/"
        },
        "id": "BKGzyRrqWJwa",
        "outputId": "2271abb9-8176-4f61-b774-4551f3e1de92"
      },
      "execution_count": null,
      "outputs": [
        {
          "output_type": "stream",
          "name": "stdout",
          "text": [
            "a부터 b까지 정수의 합을 구합니다.\n",
            "정수 a를 입력하세요.: 3\n",
            "정수 b를 입력하세요.: 7\n",
            "3+4+5+6+7 =25\n"
          ]
        }
      ]
    },
    {
      "cell_type": "code",
      "source": [
        "# a부터 b까지 정수의 합 구하기 2\n",
        "\n",
        "print('a부터 b까지 정수의 합을 구합니다.')\n",
        "a = int(input('정수 a를 입력하세요.: '))\n",
        "b = int(input('정수 b를 입력하세요.: '))\n",
        "\n",
        "if a > b:\n",
        "  a,b = b,a\n",
        "\n",
        "sum = 0\n",
        "for i in range(a,b):\n",
        "    print(f'{i}+',end='')\n",
        "    sum += i  \n",
        "    \n",
        "print(f'{b} =',end='')\n",
        "sum += b\n",
        "\n",
        "print(sum)"
      ],
      "metadata": {
        "colab": {
          "base_uri": "https://localhost:8080/"
        },
        "id": "bvPGaw2pXY7H",
        "outputId": "78c65ac9-9495-40e6-a74b-b110b8a4597f"
      },
      "execution_count": null,
      "outputs": [
        {
          "output_type": "stream",
          "name": "stdout",
          "text": [
            "a부터 b까지 정수의 합을 구합니다.\n",
            "정수 a를 입력하세요.: 3\n",
            "정수 b를 입력하세요.: 7\n",
            "3+4+5+6+7 =25\n"
          ]
        }
      ]
    },
    {
      "cell_type": "markdown",
      "source": [
        "\n",
        "\n",
        "```\n",
        "판단 횟수가 n번에서 0번으로 바뀌고, 반복 횟수도 1번 감소\n",
        "```\n",
        "\n"
      ],
      "metadata": {
        "id": "tn-pYdVYY9Xo"
      }
    },
    {
      "cell_type": "markdown",
      "source": [
        "\n",
        "\n",
        "```\n",
        "진행 중인 값: for문에서 a부터 b-1까지 값 뒤에 +를 붙여 출력.\n",
        "최종값: b의 값 뒤에 =를 붙여 출력\n",
        "-> 프로그램을 개선하여 알고리즘의 효율상승\n",
        "```\n",
        "\n"
      ],
      "metadata": {
        "id": "VxhQqxijYqGF"
      }
    },
    {
      "cell_type": "markdown",
      "source": [
        "반복 과정에서 조건 판단하기 2"
      ],
      "metadata": {
        "id": "jfw5LDF6ZEwe"
      }
    },
    {
      "cell_type": "code",
      "source": [
        "# +와 -를 번갈아 출력하기 1\n",
        "\n",
        "print('+와 -를 번갈아 출력합니다.')\n",
        "n = int(input('몇 개를 출력할까요?'))\n",
        "\n",
        "for i in range(n):\n",
        "  if i % 2:\n",
        "    print('-', end='') # 홀수인 경우 - 출력\n",
        "  else:\n",
        "    print('+', end='') # 짝수인 경우 + 출력\n",
        "\n",
        "print()"
      ],
      "metadata": {
        "colab": {
          "base_uri": "https://localhost:8080/"
        },
        "id": "t2XLqHMFYklI",
        "outputId": "efcf0000-f64b-4fcc-d7a0-dd81c5cd5081"
      },
      "execution_count": null,
      "outputs": [
        {
          "output_type": "stream",
          "name": "stdout",
          "text": [
            "+와 -를 번갈아 출력합니다.\n",
            "몇 개를 출력할까요?12\n",
            "+-+-+-+-+-+-\n"
          ]
        }
      ]
    },
    {
      "cell_type": "code",
      "source": [
        "# +와 -를 번갈아 출력하기 1(for문 수정)\n",
        "\n",
        "print('+와 -를 번갈아 출력합니다.')\n",
        "n = int(input('몇 개를 출력할까요?'))\n",
        "\n",
        "for i in range(1, n+1):\n",
        "  if i % 2:\n",
        "    print('+', end='')\n",
        "  else:\n",
        "    print('-', end='')\n",
        "\n",
        "print()"
      ],
      "metadata": {
        "id": "eJVxqeEbZ8AG"
      },
      "execution_count": null,
      "outputs": []
    },
    {
      "cell_type": "code",
      "source": [
        "# +와 -를 번갈아 출력하기 2\n",
        "\n",
        "print('+와 -를 번갈아 출력합니다.')\n",
        "n = int(input('몇 개를 출력할까요?: '))\n",
        "\n",
        "#for _ in range(n // 2):\n",
        "#  print('+-', end='')\n",
        "for _ in range(1, n // 2 + 1):\n",
        "  print('+-', end='')\n",
        "if n % 2:\n",
        "  print('+', end='')\n",
        "\n",
        "print()"
      ],
      "metadata": {
        "colab": {
          "base_uri": "https://localhost:8080/"
        },
        "id": "JExYIw4qaspT",
        "outputId": "e7194256-4087-4177-ef2a-cfd50d77d4e5"
      },
      "execution_count": null,
      "outputs": [
        {
          "output_type": "stream",
          "name": "stdout",
          "text": [
            "+와 -를 번갈아 출력합니다.\n",
            "몇 개를 출력할까요?: 13\n",
            "+-+-+-+-+-+-+\n"
          ]
        }
      ]
    },
    {
      "cell_type": "markdown",
      "source": [
        "반복 과정에서 조건 판단하기 3"
      ],
      "metadata": {
        "id": "Hd-ogI5IO1Gc"
      }
    },
    {
      "cell_type": "markdown",
      "source": [
        "\n",
        "\n",
        "```\n",
        "*를 n개 출력하되 w개마다 줄바꿈을 하는 프로그램\n",
        "```\n",
        "\n"
      ],
      "metadata": {
        "id": "H2TYd23nPgW-"
      }
    },
    {
      "cell_type": "code",
      "source": [
        "# *를 n개 출력하되 w개마다 줄바꿈하기 1\n",
        "\n",
        "print('*를 출력합니다.')\n",
        "n = int(input('몇 개를 출력할까요?: '))\n",
        "w = int(input('몇 개마다 줄바꿈할까요?: '))\n",
        "\n",
        "for i in range(n):   # n번 반복\n",
        "  print('*', end='')\n",
        "  if i % w == w - 1: # n번 판단\n",
        "    print()          # 줄바꿈\n",
        "\n",
        "if n % w :           # 1번 판단\n",
        "  print()            # 줄바꿈"
      ],
      "metadata": {
        "id": "Pb1ynr4RbD4C",
        "colab": {
          "base_uri": "https://localhost:8080/"
        },
        "outputId": "bd5a5de8-143e-42b8-fe91-d84cca2d0567"
      },
      "execution_count": null,
      "outputs": [
        {
          "output_type": "stream",
          "name": "stdout",
          "text": [
            "*를 출력합니다.\n",
            "몇 개를 출력할까요?: 14\n",
            "몇 개마다 줄바꿈할까요?: 5\n",
            "*****\n",
            "*****\n",
            "****\n"
          ]
        }
      ]
    },
    {
      "cell_type": "code",
      "source": [
        "# *를 n개 출력하되 w개마다 줄바꿈하기 2\n",
        "\n",
        "print('*를 출력합니다.')\n",
        "n = int(input('몇 개를 출력할까요?: '))\n",
        "w = int(input('몇 개마다 줄바꿈할까요?: '))\n",
        "\n",
        "for _ in range( n // w ): # n//w 번 반복\n",
        "  print('*'*w)\n",
        "\n",
        "rest = n % w\n",
        "if rest:                  # if문 판단 1번\n",
        "  print('*'*rest)"
      ],
      "metadata": {
        "colab": {
          "base_uri": "https://localhost:8080/"
        },
        "id": "slayfGjEPOHx",
        "outputId": "56eec042-f5e2-49d0-a6a7-291af6f868d4"
      },
      "execution_count": null,
      "outputs": [
        {
          "output_type": "stream",
          "name": "stdout",
          "text": [
            "*를 출력합니다.\n",
            "몇 개를 출력할까요?: 14\n",
            "몇 개마다 줄바꿈할까요?: 5\n",
            "*****\n",
            "*****\n",
            "****\n"
          ]
        }
      ]
    },
    {
      "cell_type": "markdown",
      "source": [
        "양수만 입력받기"
      ],
      "metadata": {
        "id": "nJT4_jJtQ1hJ"
      }
    },
    {
      "cell_type": "code",
      "source": [
        "# 1부터 n까지 정수의 합 구하기(n값은 양수만 입력받음)\n",
        "\n",
        "print('1부터 n까지 정수의 합을 구합니다.')\n",
        "\n",
        "while True:\n",
        "  n = int(input('n값을 입력하세요.: '))\n",
        "  if n > 0:\n",
        "    break # n이 0보다 커질 때까지 반복\n",
        "          # n이 음수면 질문을 다시함\n",
        "sum = 0\n",
        "i = 1\n",
        "\n",
        "for i in range(1, n+1):\n",
        "  sum += i\n",
        "  i += 1\n",
        "\n",
        "print(f'1부터 {n}까지 정수의 합은 {sum}입니다.')"
      ],
      "metadata": {
        "colab": {
          "base_uri": "https://localhost:8080/"
        },
        "id": "bKhivrS2Qkwy",
        "outputId": "d10e7e03-13c4-4f17-c205-d4b00c19ee6a"
      },
      "execution_count": null,
      "outputs": [
        {
          "output_type": "stream",
          "name": "stdout",
          "text": [
            "1부터 n까지 정수의 합을 구합니다.\n",
            "n값을 입력하세요.: -6\n",
            "n값을 입력하세요.: 0\n",
            "n값을 입력하세요.: 10\n",
            "1부터 10까지 정수의 합은 55입니다.\n"
          ]
        }
      ]
    },
    {
      "cell_type": "markdown",
      "source": [
        "무한 루프와 break문 알아보기"
      ],
      "metadata": {
        "id": "VIOWl9A-Rixd"
      }
    },
    {
      "cell_type": "markdown",
      "source": [
        "\n",
        "\n",
        "```\n",
        "while True:\n",
        "  n = int(input('n값을 입력하세요.: '))\n",
        "  if n > 0:\n",
        "    break # n이 0보다 커질 때까지 반복\n",
        "          # n이 음수면 질문을 다시함\n",
        "```\n",
        "\n"
      ],
      "metadata": {
        "id": "g6ohVBdYRqdd"
      }
    },
    {
      "cell_type": "markdown",
      "source": [
        "직사각형 넓이로 변의 길이 구하기"
      ],
      "metadata": {
        "id": "Yj9b3BiMR-M6"
      }
    },
    {
      "cell_type": "code",
      "source": [
        "# 가로, 세로 길이가 정수이고 넓이가 area인 직사각형에서 변의 길이 나열하기\n",
        "\n",
        "area = int(input('직사각형의 넓이를 입력하세요.: '))\n",
        "\n",
        "for i in range(1, area + 1):\n",
        "  if i*i>area: break\n",
        "  if area %i : continue\n",
        "  print(f'{i} x {area//i}')"
      ],
      "metadata": {
        "colab": {
          "base_uri": "https://localhost:8080/"
        },
        "id": "cS981Z3ARIRk",
        "outputId": "11dca173-0708-4a56-fe0a-0d34985e00d9"
      },
      "execution_count": null,
      "outputs": [
        {
          "output_type": "stream",
          "name": "stdout",
          "text": [
            "직사각형의 넓이를 입력하세요.: 32\n",
            "1 x 32\n",
            "2 x 16\n",
            "4 x 8\n"
          ]
        }
      ]
    },
    {
      "cell_type": "markdown",
      "source": [
        "i*i가 area를 초과하면 for문을 강제로 종료,i가 가장 긴 변의 길이가 되기 때문이다.\n",
        "\n",
        "예를 들어 i가 6이 되면 6x6=36이므로 사각형의 최대 넓이(32)를 초과하면서도 가장 긴 변의 길이가 되므로 프로그램을 종료합니다."
      ],
      "metadata": {
        "id": "IqYzOSmLSsbi"
      }
    },
    {
      "cell_type": "code",
      "source": [
        "# 10~99 사이의 난수 n개 생성하기(13이 나오면 중단)\n",
        "\n",
        "import random\n",
        "\n",
        "n=int(input('난수의 개수를 입력하세요.: '))\n",
        "\n",
        "for _ in range(n):\n",
        "  r = random.randint(10,99)\n",
        "  print(r, end=' ')\n",
        "  if r == 13:\n",
        "    print('\\n프로그램을 중단합니다.')\n",
        "    break\n",
        "\n",
        "else:\n",
        "  print('\\n난수 생성을 종료합니다.')"
      ],
      "metadata": {
        "colab": {
          "base_uri": "https://localhost:8080/"
        },
        "id": "MR6cyIP4SaTx",
        "outputId": "c194aa8a-4edc-433f-e462-ba92824418ce"
      },
      "execution_count": null,
      "outputs": [
        {
          "output_type": "stream",
          "name": "stdout",
          "text": [
            "난수의 개수를 입력하세요.: 5\n",
            "45 33 25 67 73 \n",
            "난수 생성을 종료합니다.\n"
          ]
        }
      ]
    },
    {
      "cell_type": "markdown",
      "source": [
        "반복문 건너뛰기와 여러 범위 스캔하기"
      ],
      "metadata": {
        "id": "8p_aDW7OT0Sq"
      }
    },
    {
      "cell_type": "code",
      "source": [
        "# 1 ~ 12 까지 8을 건너뛰고 출력하기 1\n",
        "\n",
        "for i in range(1,13):\n",
        "  if i == 8:\n",
        "    continue\n",
        "  print(i,end=' ')\n",
        "\n",
        "print()"
      ],
      "metadata": {
        "colab": {
          "base_uri": "https://localhost:8080/"
        },
        "id": "3BI6OCsmTg5i",
        "outputId": "6cf96614-d9f3-4e59-f7dd-d3ca3fd4ae2a"
      },
      "execution_count": null,
      "outputs": [
        {
          "output_type": "stream",
          "name": "stdout",
          "text": [
            "1 2 3 4 5 6 7 9 10 11 12 \n"
          ]
        }
      ]
    },
    {
      "cell_type": "markdown",
      "source": [
        "### 다중 루프 알아보기"
      ],
      "metadata": {
        "id": "ZqcUw_0YUfmI"
      }
    },
    {
      "cell_type": "markdown",
      "source": [
        "구구단 곱셈표 출력하기"
      ],
      "metadata": {
        "id": "F_8obnXYUi2t"
      }
    },
    {
      "cell_type": "code",
      "source": [
        "# 구구단 곱셈표 출력하기\n",
        "\n",
        "print('-'*27)\n",
        "for i in range(1,10):\n",
        "  for j in range(1,10):\n",
        "    print(f'{i*j:3}',end='') # i*j를 3자리로 출력\n",
        "  print()\n",
        "print('-'*27)"
      ],
      "metadata": {
        "colab": {
          "base_uri": "https://localhost:8080/"
        },
        "id": "4sAUlPPKUAUm",
        "outputId": "84e4ed29-ee39-4d7c-a61c-628f6dedd1ed"
      },
      "execution_count": null,
      "outputs": [
        {
          "output_type": "stream",
          "name": "stdout",
          "text": [
            "---------------------------\n",
            "  1  2  3  4  5  6  7  8  9\n",
            "  2  4  6  8 10 12 14 16 18\n",
            "  3  6  9 12 15 18 21 24 27\n",
            "  4  8 12 16 20 24 28 32 36\n",
            "  5 10 15 20 25 30 35 40 45\n",
            "  6 12 18 24 30 36 42 48 54\n",
            "  7 14 21 28 35 42 49 56 63\n",
            "  8 16 24 32 40 48 56 64 72\n",
            "  9 18 27 36 45 54 63 72 81\n",
            "---------------------------\n"
          ]
        }
      ]
    },
    {
      "cell_type": "markdown",
      "source": [
        "\n",
        "\n",
        "```\n",
        "행,열 루프는 각각 9번 실행되며, 열 루프가 종료되면 줄바꿈하여 다음 행 루프 실행준비\n",
        "```\n",
        "\n"
      ],
      "metadata": {
        "id": "nTCbWA_OVaYg"
      }
    },
    {
      "cell_type": "markdown",
      "source": [
        "직각 이등변 삼각형으로 출력하기"
      ],
      "metadata": {
        "id": "huDYuTsVVpbk"
      }
    },
    {
      "cell_type": "code",
      "source": [
        "# 왼쪽 아래가 직각인 이등변 삼각형으로 *출력하기\n",
        "\n",
        "print('왼쪽 아래가 직각인 이등변 삼각형을 출력합니다.')\n",
        "n = int(input('짧은 변의 길이를 입력하세요.: '))\n",
        "\n",
        "for i in range(n):\n",
        "  for j in range(i + 1):\n",
        "    print('*',end='')\n",
        "  print()\n",
        "\n",
        "for i in range(n):\n",
        "  for _ in range(n - i - 1):\n",
        "    print(' ',end='')\n",
        "  for _ in range(i + 1):\n",
        "    print('*',end='')\n",
        "  print()"
      ],
      "metadata": {
        "colab": {
          "base_uri": "https://localhost:8080/"
        },
        "id": "3Ent-PhVU7T9",
        "outputId": "d7ff9895-9bf0-408c-c177-564ce955bb37"
      },
      "execution_count": null,
      "outputs": [
        {
          "output_type": "stream",
          "name": "stdout",
          "text": [
            "왼쪽 아래가 직각인 이등변 삼각형을 출력합니다.\n",
            "짧은 변의 길이를 입력하세요.: 5\n",
            "*\n",
            "**\n",
            "***\n",
            "****\n",
            "*****\n",
            "    *\n",
            "   **\n",
            "  ***\n",
            " ****\n",
            "*****\n"
          ]
        }
      ]
    },
    {
      "cell_type": "code",
      "source": [
        "# 함수 내부,외부에서 정의한 변수와 객체의 식별 번호를 출력하기\n",
        "\n",
        "n=1\n",
        "def put_id():\n",
        "  x=1\n",
        "  print(f'id(x) = {id(x)}')\n",
        "\n",
        "print(f'id(1) = {id(1)}')\n",
        "print(f'id(n) = {id(n)}')\n",
        "put_id()"
      ],
      "metadata": {
        "colab": {
          "base_uri": "https://localhost:8080/"
        },
        "id": "_J1AmR-TV_XQ",
        "outputId": "40990cd2-a560-4d54-f62b-8c6c451480d3"
      },
      "execution_count": null,
      "outputs": [
        {
          "output_type": "stream",
          "name": "stdout",
          "text": [
            "id(1) = 11256064\n",
            "id(n) = 11256064\n",
            "id(x) = 11256064\n"
          ]
        }
      ]
    },
    {
      "cell_type": "code",
      "source": [
        "# 1부터 100까지 반복하여 출력하기\n",
        "for i in range(1,100):\n",
        "  print(f'i ={i:3}   id(i)={id(i)}')"
      ],
      "metadata": {
        "colab": {
          "base_uri": "https://localhost:8080/"
        },
        "id": "hRgmwX1jXEyA",
        "outputId": "12c8ab5a-e878-4a80-fae7-eaeb232176d1"
      },
      "execution_count": null,
      "outputs": [
        {
          "output_type": "stream",
          "name": "stdout",
          "text": [
            "i =  1   id(i)=11256064\n",
            "i =  2   id(i)=11256096\n",
            "i =  3   id(i)=11256128\n",
            "i =  4   id(i)=11256160\n",
            "i =  5   id(i)=11256192\n",
            "i =  6   id(i)=11256224\n",
            "i =  7   id(i)=11256256\n",
            "i =  8   id(i)=11256288\n",
            "i =  9   id(i)=11256320\n",
            "i = 10   id(i)=11256352\n",
            "i = 11   id(i)=11256384\n",
            "i = 12   id(i)=11256416\n",
            "i = 13   id(i)=11256448\n",
            "i = 14   id(i)=11256480\n",
            "i = 15   id(i)=11256512\n",
            "i = 16   id(i)=11256544\n",
            "i = 17   id(i)=11256576\n",
            "i = 18   id(i)=11256608\n",
            "i = 19   id(i)=11256640\n",
            "i = 20   id(i)=11256672\n",
            "i = 21   id(i)=11256704\n",
            "i = 22   id(i)=11256736\n",
            "i = 23   id(i)=11256768\n",
            "i = 24   id(i)=11256800\n",
            "i = 25   id(i)=11256832\n",
            "i = 26   id(i)=11256864\n",
            "i = 27   id(i)=11256896\n",
            "i = 28   id(i)=11256928\n",
            "i = 29   id(i)=11256960\n",
            "i = 30   id(i)=11256992\n",
            "i = 31   id(i)=11257024\n",
            "i = 32   id(i)=11257056\n",
            "i = 33   id(i)=11257088\n",
            "i = 34   id(i)=11257120\n",
            "i = 35   id(i)=11257152\n",
            "i = 36   id(i)=11257184\n",
            "i = 37   id(i)=11257216\n",
            "i = 38   id(i)=11257248\n",
            "i = 39   id(i)=11257280\n",
            "i = 40   id(i)=11257312\n",
            "i = 41   id(i)=11257344\n",
            "i = 42   id(i)=11257376\n",
            "i = 43   id(i)=11257408\n",
            "i = 44   id(i)=11257440\n",
            "i = 45   id(i)=11257472\n",
            "i = 46   id(i)=11257504\n",
            "i = 47   id(i)=11257536\n",
            "i = 48   id(i)=11257568\n",
            "i = 49   id(i)=11257600\n",
            "i = 50   id(i)=11257632\n",
            "i = 51   id(i)=11257664\n",
            "i = 52   id(i)=11257696\n",
            "i = 53   id(i)=11257728\n",
            "i = 54   id(i)=11257760\n",
            "i = 55   id(i)=11257792\n",
            "i = 56   id(i)=11257824\n",
            "i = 57   id(i)=11257856\n",
            "i = 58   id(i)=11257888\n",
            "i = 59   id(i)=11257920\n",
            "i = 60   id(i)=11257952\n",
            "i = 61   id(i)=11257984\n",
            "i = 62   id(i)=11258016\n",
            "i = 63   id(i)=11258048\n",
            "i = 64   id(i)=11258080\n",
            "i = 65   id(i)=11258112\n",
            "i = 66   id(i)=11258144\n",
            "i = 67   id(i)=11258176\n",
            "i = 68   id(i)=11258208\n",
            "i = 69   id(i)=11258240\n",
            "i = 70   id(i)=11258272\n",
            "i = 71   id(i)=11258304\n",
            "i = 72   id(i)=11258336\n",
            "i = 73   id(i)=11258368\n",
            "i = 74   id(i)=11258400\n",
            "i = 75   id(i)=11258432\n",
            "i = 76   id(i)=11258464\n",
            "i = 77   id(i)=11258496\n",
            "i = 78   id(i)=11258528\n",
            "i = 79   id(i)=11258560\n",
            "i = 80   id(i)=11258592\n",
            "i = 81   id(i)=11258624\n",
            "i = 82   id(i)=11258656\n",
            "i = 83   id(i)=11258688\n",
            "i = 84   id(i)=11258720\n",
            "i = 85   id(i)=11258752\n",
            "i = 86   id(i)=11258784\n",
            "i = 87   id(i)=11258816\n",
            "i = 88   id(i)=11258848\n",
            "i = 89   id(i)=11258880\n",
            "i = 90   id(i)=11258912\n",
            "i = 91   id(i)=11258944\n",
            "i = 92   id(i)=11258976\n",
            "i = 93   id(i)=11259008\n",
            "i = 94   id(i)=11259040\n",
            "i = 95   id(i)=11259072\n",
            "i = 96   id(i)=11259104\n",
            "i = 97   id(i)=11259136\n",
            "i = 98   id(i)=11259168\n",
            "i = 99   id(i)=11259200\n"
          ]
        }
      ]
    },
    {
      "cell_type": "code",
      "source": [],
      "metadata": {
        "id": "gxKe0x7yXiJK"
      },
      "execution_count": null,
      "outputs": []
    }
  ]
}
