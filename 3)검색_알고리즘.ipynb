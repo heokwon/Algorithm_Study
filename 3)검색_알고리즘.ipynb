{
  "nbformat": 4,
  "nbformat_minor": 0,
  "metadata": {
    "colab": {
      "provenance": [],
      "collapsed_sections": [],
      "authorship_tag": "ABX9TyMUqfQiSLwWpA9YltOYFWG8",
      "include_colab_link": true
    },
    "kernelspec": {
      "name": "python3",
      "display_name": "Python 3"
    },
    "language_info": {
      "name": "python"
    }
  },
  "cells": [
    {
      "cell_type": "markdown",
      "metadata": {
        "id": "view-in-github",
        "colab_type": "text"
      },
      "source": [
        "<a href=\"https://colab.research.google.com/github/heokwon/Algorithm_Study/blob/main/3)%EA%B2%80%EC%83%89_%EC%95%8C%EA%B3%A0%EB%A6%AC%EC%A6%98.ipynb\" target=\"_parent\"><img src=\"https://colab.research.google.com/assets/colab-badge.svg\" alt=\"Open In Colab\"/></a>"
      ]
    },
    {
      "cell_type": "markdown",
      "source": [
        "### 검색 알고리즘이란?\n",
        "데이터 집합에서 원하는 값을 가진 원소를 찾아냄"
      ],
      "metadata": {
        "id": "3Nu5mZPd_HlU"
      }
    },
    {
      "cell_type": "markdown",
      "source": [
        "#### 검색과 키\n",
        "검색 조건이 다음과 같다.\n",
        "\n",
        "\n",
        "```\n",
        "* 국적이 한국인 사람을 찾습니다.\n",
        "* 나이가 21세 이상 27세 미만인 사람을 찾습니다,\n",
        "* 이름에 '만'자가 들어간 사람을 찾습니다.\n",
        "```\n",
        "\n"
      ],
      "metadata": {
        "id": "x49AKK7v_V4a"
      }
    },
    {
      "cell_type": "markdown",
      "source": [
        "이 검색 조건은 모두 어떠한 항목에 주목하고 있는데. 이르 '키(key)' 라고 한다,\n",
        "\n",
        "위 조건에서는 '국적' , '나이' , '문자' 가 '키' 이다.\n",
        "\n",
        "국적 : 키값과 일치하도록 지정 // 나이 : 키값의 구간을 지정 // 문자 : 키값에 가깝도록 지정"
      ],
      "metadata": {
        "id": "x9PqvYc9_nwT"
      }
    },
    {
      "cell_type": "markdown",
      "source": [
        "* 선형 검색: 무작위로 늘어놓은 데이터 집합에서 검색을 수행\n",
        "* 이진 검색: 일정한 규칙으로 늘어놓은 데이터 집합에서 아주 빠른 검색을 수행\n",
        "* 해시법: 추가.삭제가 자주 일어나는 데이터 집합에서 아주 빠른 검색을 수행\n",
        "> 체인법: 같은 해시값 데이터를 연결 리스트로 연결\n",
        "\n",
        ">>오픈 주소법: 데이터를 위한 해시값이 충돌할 때 재해시하는 방법.\n"
      ],
      "metadata": {
        "id": "z7cq9Yi8BUET"
      }
    },
    {
      "cell_type": "markdown",
      "source": [
        "### 선형 검색\n",
        "배열에서 검색하는 방법 중 가장 기본적인 알고리즘.\n",
        "\n",
        "직선 모양(선형)으로 늘어선 배열에서 검색하는 경우에 원하는 키값을 가진 원소를 찾을 때까지 맨 앞부터 스캔하여 순서대로 검색하는 알고리즘."
      ],
      "metadata": {
        "id": "263GKUEkCGqL"
      }
    },
    {
      "cell_type": "code",
      "execution_count": null,
      "metadata": {
        "colab": {
          "base_uri": "https://localhost:8080/"
        },
        "id": "VkstT2Mv-7ex",
        "outputId": "decbb020-08c6-4690-a83a-418cf749d4c4"
      },
      "outputs": [
        {
          "output_type": "stream",
          "name": "stdout",
          "text": [
            "원소 수를 입력하세요.: 7\n",
            "x[0]: 6\n",
            "x[1]: 4\n",
            "x[2]: 3\n",
            "x[3]: 2\n",
            "x[4]: 1\n",
            "x[5]: 2\n",
            "x[6]: 8\n",
            "검색할 값을 입력하세요.: 2\n",
            "검색값은 x[3]에 있습니다.\n"
          ]
        }
      ],
      "source": [
        "# 실습 3-1\n",
        "# while 문으로 작성한 선형 검색 알고리즘\n",
        "\n",
        "from typing import Any, Sequence\n",
        "\n",
        "def seq_search(a: Sequence, key:Any) -> int:\n",
        "  \"\"\"시퀀스 a에서 key와 값이 같은 원소를 선형 검색(while문)\"\"\"\n",
        "  i=0\n",
        "  while True:\n",
        "    if i == len(a):\n",
        "      return -1      # 검색에 실패하여 -1을 반환\n",
        "    if a[i] == key:\n",
        "      return i       # 검색에 성공하여 현재 검사한 배열의 인덱스를 반환\n",
        "    i += 1\n",
        "\n",
        "if __name__ == '__main__':\n",
        "  num = int(input('원소 수를 입력하세요.: '))  # num값을 입력받음\n",
        "  x = [None]*num                               # 원소 수가 num인 배열을 생성\n",
        "  \n",
        "  for i in range(num):\n",
        "    x[i] = int(input(f'x[{i}]: '))\n",
        "\n",
        "  ky = int(input('검색할 값을 입력하세요.: ')) # 검색할 키 ky를 입력받음\n",
        "\n",
        "  idx = seq_search(x, ky)                      # ky와 값이 같은 원소를 x에서 검색21\n",
        "  \n",
        "\n",
        "  if idx == -1:\n",
        "    print('검색값을 갖는 원소가 존재하지 않습니다.')\n",
        "  else:\n",
        "    print(f'검색값은 x[{idx}]에 있습니다.')"
      ]
    },
    {
      "cell_type": "markdown",
      "source": [
        "\n",
        "\n",
        "```\n",
        "실행 결과는 배열 6,4,3,2,1,2,8에서 2를 검색. x[3]과 x[5]에 모두 존재하지만\n",
        "맨 처음에 찾은 원소의 인덱스 3을 반환\n",
        "\n",
        "```\n",
        "\n"
      ],
      "metadata": {
        "id": "4m7b0b30FSOi"
      }
    },
    {
      "cell_type": "code",
      "source": [
        "# 실습 3-2\n",
        "# 3-1의 while문을 for문으로 구현\n",
        "# 더 짧고 간결해짐\n",
        "from typing import Any, Sequence\n",
        "\n",
        "def seq_search(a:Sequence,key:Any) -> int:\n",
        "  \"\"\"시퀀스 a에서 key와 값이 같은 원소를 선형 검색(for문)\"\"\"\n",
        "  for i in range(len(a)):\n",
        "    if a[i] == key:\n",
        "      return i  # 검색을 성공하면 인덱스를 반환\n",
        "  return -1     # 검색을 실패하면 -1 반환\n",
        "  \n",
        "if __name__ == '__main__':\n",
        "  num = int(input('원소 수를 입력하세요.: '))  # num값을 입력받음\n",
        "  x = [None]*num                               # 원소 수가 num인 배열을 생성\n",
        "  \n",
        "  for i in range(num):\n",
        "    x[i] = int(input(f'x[{i}]: '))\n",
        "\n",
        "  ky = int(input('검색할 값을 입력하세요.: ')) # 검색할 키 ky를 입력받음\n",
        "\n",
        "  idx = seq_search(x, ky)                      # ky와 값이 같은 원소를 x에서 검색21\n",
        "  \n",
        "\n",
        "  if idx == -1:\n",
        "    print('검색값을 갖는 원소가 존재하지 않습니다.')\n",
        "  else:\n",
        "    print(f'검색값은 x[{idx}]에 있습니다.')"
      ],
      "metadata": {
        "colab": {
          "base_uri": "https://localhost:8080/"
        },
        "id": "o3ORSllVE5OQ",
        "outputId": "bfc1a4d3-1b27-43ee-a4d4-0c35c3aff31c"
      },
      "execution_count": null,
      "outputs": [
        {
          "output_type": "stream",
          "name": "stdout",
          "text": [
            "원소 수를 입력하세요.: 7\n",
            "x[0]: 6\n",
            "x[1]: 4\n",
            "x[2]: 3\n",
            "x[3]: 2\n",
            "x[4]: 1\n",
            "x[5]: 2\n",
            "x[6]: 8\n",
            "검색할 값을 입력하세요.: 2\n",
            "검색값은 x[3]에 있습니다.\n"
          ]
        }
      ]
    },
    {
      "cell_type": "markdown",
      "source": [
        "#### 다양한 자료형인 시퀀스에서 검색\n"
      ],
      "metadata": {
        "id": "pq2KaRz2G_Mj"
      }
    },
    {
      "cell_type": "code",
      "source": [
        "# 실습 3C-1\n",
        "# seq_search()함수를 사용하여 실수 검색하기\n",
        "#from ssearch_while import seq_search\n",
        "print('실수를 검색합니다.: ')\n",
        "print('주의;: \"End\"를 입력하면 종료합니다.')\n",
        "\n",
        "number = 0\n",
        "x = []                                             # 빈 리스트 x를 생성\n",
        "\n",
        "while True:\n",
        "  s = input(f'x[{number}]: ')\n",
        "  if s == \"End\":\n",
        "    break\n",
        "  x.append(float(s))                               # 배열 맨 끝에 원소를 추가\n",
        "  number += 1\n",
        "\n",
        "ky = float(input('검색할 값을 입력하세요,: '))     # 검색할 키 ky를 입력받기\n",
        "\n",
        "idx = seq_search(x, ky)                            # ky와 값이 같은 원소를 x에서 검색\n",
        "if idx == -1:\n",
        "  print('검색값을 갖는 원소가 존재하지 않습니다.')\n",
        "else:\n",
        "  print(f'검색값은 x[{idx}]에 있습니다.')"
      ],
      "metadata": {
        "colab": {
          "base_uri": "https://localhost:8080/"
        },
        "id": "n7EdJqGJGqD-",
        "outputId": "ea7d786b-868a-4248-e59a-ce7ed87590fc"
      },
      "execution_count": null,
      "outputs": [
        {
          "output_type": "stream",
          "name": "stdout",
          "text": [
            "실수를 검색합니다.: \n",
            "주의;: \"End\"를 입력하면 종료합니다.\n",
            "x[0]: 12.7\n",
            "x[1]: 3.14\n",
            "x[2]: 6.4\n",
            "x[3]: 7.2\n",
            "x[4]: End\n",
            "검색할 값을 입력하세요,: 6.4\n",
            "검색값은 x[2]에 있습니다.\n"
          ]
        }
      ]
    },
    {
      "cell_type": "code",
      "source": [
        "# 실습 3C-2\n",
        "# seq_search()함수를 사용하여 특정 인덱스 검색하기\n",
        "# from ssearch_while import seq_search\n",
        "t = (4,7,5.6,2,3.14,1)\n",
        "s = 'string'\n",
        "a = ['DTS','AAC','FLAC']\n",
        "\n",
        "print(f'{t}에서 5.6의 인덱스는 {seq_search(t, 5.6)}입니다.')\n",
        "print(f'{s}에서 \"n\"의 인덱스는 {seq_search(s, \"n\")}입니다.')\n",
        "print(f'{a}에서 \"DTS\"의 인덱스는 {seq_search(a, \"DTS\")}입니다.')"
      ],
      "metadata": {
        "colab": {
          "base_uri": "https://localhost:8080/"
        },
        "id": "Exnlp0BpISJO",
        "outputId": "3586f069-ba0b-4ac4-9715-567820e9e83f"
      },
      "execution_count": null,
      "outputs": [
        {
          "output_type": "stream",
          "name": "stdout",
          "text": [
            "(4, 7, 5.6, 2, 3.14, 1)에서 5.6의 인덱스는 2입니다.\n",
            "string에서 \"n\"의 인덱스는 4입니다.\n",
            "['DTS', 'AAC', 'FLAC']에서 \"DTS\"의 인덱스는 0입니다.\n"
          ]
        }
      ]
    },
    {
      "cell_type": "markdown",
      "source": [
        "보초법\n",
        "\n",
        "선형 검색은 반복할 때마다 2가지 종료 조건을 체크한다. 단순한 판단 이지만 이 과정을 게속\n",
        "\n",
        "반복하면 종료 조건을 검사하는 비용(cost)을 무시할 수 없다.\n",
        "\n",
        "이 비용을 반으로 줄이는 방법이 '보초법'이다."
      ],
      "metadata": {
        "id": "QXcDiGx1Mhmf"
      }
    },
    {
      "cell_type": "code",
      "source": [
        "# 실습 3-3\n",
        "# 선형 검색 알고리즘(실습 3-1)을 보초법으로 수정\n",
        "from typing import Any, Sequence\n",
        "import copy\n",
        "\n",
        "def seq_search(seq:Sequence,key:Any) -> int:\n",
        "  \"\"\"시퀀스 seq에서 key와 일치하는 원소를 선형 검색(보초법)\"\"\"\n",
        "  a = copy.deepcopy(seq) # seq를 복사\n",
        "  a.append(key)          # 보초 key를 추가,\n",
        "                         # 원래의 배열 맨 끝에 보초를 추가한 새로운 배열 완성. \n",
        "  i=0\n",
        "  while True:\n",
        "    if a[i] == key:\n",
        "      break              # 검색에 성공하면 while문 종료\n",
        "    i += 1               # 11-15행 : 배열 원소를 스캔하여 검색하는 과정 반복\n",
        "  return -1 if i == len(seq) else i # while문에 의한 반복이 종료되면 찾은 원소가 원래 데이터인지 보초인지 판단해야함.\n",
        "                                    # i값이 len(seq)와 같으면 찾은 것이 보초 = 검색 실패를 나타내는 -1 반환,\n",
        "                                    # 그렇지 않으면 i를 반환\n",
        "if __name__ == '__main__':\n",
        "  num == int(input('원소 수를 입력하세요.: '))  # num값 입력\n",
        "  x = [None]*num                                # 원소 수가 num인 배열을 생성\n",
        "\n",
        "  for i in range(num):\n",
        "    x[i] = int(input(f'x[{i}]: '))\n",
        "\n",
        "  ky = int(input('검색할 값을 입력하세요.: '))  # 검색할 키 ky를 입력받기\n",
        "\n",
        "  idx = seq_search(x, ky)                       # 키 ky값과 같은 원소를 x에서 검색\n",
        "\n",
        "  if idx == -1:\n",
        "    print('검색값을 갖는 원소가 존재하지 않습니다.')\n",
        "  else:\n",
        "    print(f'검색값은 x[{idx}]에 있습니다.')"
      ],
      "metadata": {
        "colab": {
          "base_uri": "https://localhost:8080/"
        },
        "id": "WWitdgUvJtOu",
        "outputId": "847b320d-f12e-4349-a8e4-506ce657869f"
      },
      "execution_count": null,
      "outputs": [
        {
          "output_type": "stream",
          "name": "stdout",
          "text": [
            "원소 수를 입력하세요.: 7\n",
            "x[0]: 6\n",
            "x[1]: 4\n",
            "x[2]: 3\n",
            "x[3]: 2\n",
            "x[4]: 1\n",
            "x[5]: 2\n",
            "x[6]: 8\n",
            "검색할 값을 입력하세요.: 2\n",
            "검색값은 x[3]에 있습니다.\n"
          ]
        }
      ]
    },
    {
      "cell_type": "markdown",
      "source": [
        "### 이진 검색\n",
        "이진 검색 알고리즘을 사용하려면 배열 데이터가 정렬되어 있어야 합니다. 이진 검색은\n",
        "\n",
        "선형 검색보다 빠르게 검색할 수 있다는 장점이 있습니다.\n",
        "\n",
        "이진 검색은 원소가 오름차순이나 내림차순으로 정렬된 배열에서 좀 더 효율적으로 검색할 수 있는 알고리즘입니다."
      ],
      "metadata": {
        "id": "H-hnF8SnQsk6"
      }
    },
    {
      "cell_type": "code",
      "source": [
        "# 실습 3-4\n",
        "# 이진 검색 알고리즘\n",
        "from typing import Any, Sequence\n",
        "\n",
        "def bin_search(a:Sequence,key:Any) -> int:\n",
        "  \"\"\"시퀀스 a에서 key와 일치하는 원소를 이진 검색\"\"\"\n",
        "  pl = 0                 # 검색 범위 맨 앞 원소의 인덱스\n",
        "  pr = len(a) - 1        # 검색 범위 맨 끝 원소의 인덱스\n",
        "\n",
        "  while True:\n",
        "    pc = (pl + pr) // 2  # 중앙 원소의 인덱스\n",
        "    if a[pc] == key:\n",
        "      return pc          # 검색 성공\n",
        "    elif a[pc] < key:\n",
        "      pl = pc + 1        # 검색 범위를 뒤쪽 절반으로 좁힘\n",
        "    else:\n",
        "      pr = pc - 1        # 검색 범위를 앞쪽 절반으로 좁힘\n",
        "    if pl > pr:\n",
        "      break\n",
        "    return -1            # 검색 실패\n",
        "\n",
        "if __name__ == '__main__':\n",
        "  num = int(input('원소 수를 입력하세요.: '))\n",
        "  x = [None]*num         # 원소 수가 num인 배열을  생성\n",
        "\n",
        "  print('배열 데이터를 오름차순으로 입력하세요.')\n",
        "\n",
        "  x[0] = int(input('x[0]: '))\n",
        "\n",
        "  for i in range(1,num):\n",
        "    while True:\n",
        "      x[i] = int(input(f'x[{i}]: '))\n",
        "      if x[i] >= x[i-1]: # 바로 직전에 입력한 원솟값보다 큰 값을 입력\n",
        "        break\n",
        "\n",
        "  ky = int(input('검색할 값을 입력하세요.: ')) # 검색할 키값 ky를 입력\n",
        "\n",
        "  idx = bin_search(x, ky)# ky값과 같은 원소를 x에서 검색\n",
        "\n",
        "  if idx == -1:\n",
        "    print('검색값을 갖는 원소가 존재하지 않습니다.')\n",
        "  else:\n",
        "    print(f'검색값은 x[{idx}]에 있습니다.')"
      ],
      "metadata": {
        "colab": {
          "base_uri": "https://localhost:8080/"
        },
        "id": "RfIE7tHYO06X",
        "outputId": "01c15407-3e93-44a2-9fd6-218439979758"
      },
      "execution_count": null,
      "outputs": [
        {
          "output_type": "stream",
          "name": "stdout",
          "text": [
            "원소 수를 입력하세요.: 7\n",
            "배열 데이터를 오름차순으로 입력하세요.\n",
            "x[0]: 1\n",
            "x[1]: 2\n",
            "x[2]: 3\n",
            "x[3]: 5\n",
            "x[4]: 7\n",
            "x[5]: 8\n",
            "x[6]: 9\n",
            "검색할 값을 입력하세요.: 5\n",
            "검색값은 x[3]에 있습니다.\n"
          ]
        }
      ]
    },
    {
      "cell_type": "markdown",
      "source": [
        "이진 검색 알고리즘은 반복할 때마다 검색 범위가 거의 절반으로 줄어드므로 검색하는 데 \n",
        "\n",
        "필요한 비교 횟수는 평균 log n 입니다. 검색에 실패할 경우는 [log(n+1)]번이며, 검색에 성공할\n",
        "\n",
        "경우는 log n - 1번 입니다."
      ],
      "metadata": {
        "id": "NFfaWILYUmnw"
      }
    },
    {
      "cell_type": "markdown",
      "source": [
        "#### 복잡도\n",
        "프로그램의 실행 속도(또는 실행하는 데 필요한 시간)는 프로그램이 동작하는 하드웨어나 컴파일러 등의 조건에 따라 달라집니다.\n",
        "\n",
        "알고리즘의 성능을 객관적으로 평가하는 기준을 '복잡도'라고 합니다. 복잡도는 다음과 같이 2가지로 구분합니다,\n",
        "\n",
        "* 시간 복잡도(time complexity): 실행하는 데 필요한 시간을 평가합니다.\n",
        "* 공간 복잡도(space complexity): 메모리(기억 공간)와 파일 공간이 얼마나 필요한지를 평가합니다.\n",
        "\n"
      ],
      "metadata": {
        "id": "a4EPSwsCVlwr"
      }
    },
    {
      "cell_type": "markdown",
      "source": [
        "\n",
        "\n",
        "```\n",
        "# 선형 검색의 시간 복잡도\n",
        "# 실습 3-1의 seq_search()합수를 개편한 코드\n",
        "def seq_search(a:Sequence, key:Any) -> int:\n",
        "    i = 0\n",
        "    while i < n:\n",
        "        if a[i] == key:\n",
        "             return i   # 검색에 성공하여 인덱스를 반환\n",
        "        i += 1\n",
        "        \n",
        "    return -1           # 검색에 실패하여 -1을 반환\n",
        "```\n",
        "\n"
      ],
      "metadata": {
        "id": "_mrbJT4eYB2A"
      }
    },
    {
      "cell_type": "markdown",
      "source": [
        "#### index()함수로 검색하기\n",
        "리스트 또는 튜플에서 검색은 각 클래스의 index() 함수로 수행할 수 있습니다. index()함수는 다음과 같은 형식으로 호출합니다.\n",
        "\n",
        "obj.index( x , i , j ) # 호출할 때 인수는 j 또는 i,j를 생략할 수 있습니다."
      ],
      "metadata": {
        "id": "kkAozflVZA7J"
      }
    },
    {
      "cell_type": "markdown",
      "source": [
        "\n",
        "\n",
        "```\n",
        "# 이진 검색의 시간 복잡도\n",
        "# 실습 3-4의 이진 검색하는 시간 복잡도\n",
        "def bin_search(a:Sequence, key:Any) -> int:\n",
        "   pl = 0                   # 검색 범위 맨 앞 원소의 인덱스\n",
        "   pr = len(a) - 1          # 검색 범위 맨 끝 원소의 인덱스\n",
        "\n",
        "   while True:\n",
        "        pc = (pl + pr) / 2  # 중앙 원소의 인덱스\n",
        "        if a[pc] == key:\n",
        "             return pc      # 검색 성공\n",
        "        elif a[pc] < key:\n",
        "             pl = pc + 1    # 검색 범위를 뒤쪽 절반으로 좁힘\n",
        "        else:\n",
        "             pr = pc - 1    # 검색 범위를 앞쪽 절반으로 좁힘\n",
        "        if pl > pr :\n",
        "             break\n",
        "  return -1                 # 검색 실패\n",
        "```\n",
        "\n"
      ],
      "metadata": {
        "id": "gKEGp7eyZj7h"
      }
    },
    {
      "cell_type": "markdown",
      "source": [
        "이진 검색 알고리즘의 복잡도는 다음과 같이 O(log n)으로 얻을 수 있습니다.\n",
        "\n",
        "O(1) + O(1) + O(log n) + O(log n) + O(1) + O(log n) + ... + O(1) = O(log n)\n",
        "\n",
        "O(n)과 O(log n)은 당연히 O(1)보다 큽니다. 수가 클수록 알고리즘의  실행 시간이 길어지고 복잡도가 높아집니다."
      ],
      "metadata": {
        "id": "qV31ddmgakl9"
      }
    },
    {
      "cell_type": "code",
      "source": [
        "# 실습 3C-3\n",
        "# 이진 검색 알고리즘의 실행 과정을 출력\n",
        "from typing import Any, Sequence\n",
        "\n",
        "def bin_search(a:Sequence, key:Any) -> int:\n",
        "  \"\"\"시퀀스a에서 key와 일치하는 원소를 이진 검색(실행 과정을 출력)\"\"\"\n",
        "  pl = 0                    # 검색 범위 맨 앞 원소의 인덱스\n",
        "  pr = len(a) - 1           # 검색 범위 맨 끝 원소의 인덱스\n",
        "\n",
        "  print('   |', end='')\n",
        "  for i in range(len(a)):\n",
        "    print(f'{i:4}',end='')\n",
        "  print()\n",
        "  print('---+' + (4 * len(a) + 2) * '-')\n",
        "\n",
        "  while True:\n",
        "    pc = (pl + pr) // 2 # 중앙 원소의 인덱스\n",
        "\n",
        "    print('   |', end='')\n",
        "    if pl != pc:        # pl원소 위에 <- 를 출력\n",
        "      print((pl * 4 + 1) * ' ' +'<-' + ((pc - pl) * 4) * ' ' + '+', end='')\n",
        "    else:\n",
        "      print((pc * 4 + 1) * ' ' + '<+', end='')\n",
        "    if pc != pr:        # pr원소 위에 -> 를 출력\n",
        "      print(((pr - pc) * 4 - 2) * ' ' + '->')\n",
        "    else:\n",
        "      print('->')\n",
        "    print(f'{pc:3}|', end='')\n",
        "    for i in range(len(a)):\n",
        "      print(f'{a[i]:4}', end='')\n",
        "    print('\\n   |')\n",
        "    if a[pc] == key:\n",
        "      return pc          # 검색 성공\n",
        "    elif a[pc] < key:\n",
        "      pl = pc + 1        # 검색 범위를 뒤쪽 절반으로 좁힘\n",
        "    else:\n",
        "      pr = pc - 1        # 검색 범위를 앞쪽 절반으로 좁힘\n",
        "    if pl > pr:\n",
        "      break\n",
        "    return -1            # 검색 실패\n",
        "\n",
        "if __name__ == '__main__':\n",
        "  num = int(input('원소 수를 입력하세요.: '))\n",
        "  x = [None]*num         # 원소 수가 num인 배열을  생성\n",
        "\n",
        "  print('배열 데이터를 오름차순으로 입력하세요.')\n",
        "\n",
        "  x[0] = int(input('x[0]: '))\n",
        "\n",
        "  for i in range(1,num):\n",
        "    while True:\n",
        "      x[i] = int(input(f'x[{i}]: '))\n",
        "      if x[i] >= x[i-1]: # 바로 직전에 입력한 원솟값보다 큰 값을 입력\n",
        "        break\n",
        "\n",
        "  ky = int(input('검색할 값을 입력하세요.: ')) # 검색할 키값 ky를 입력\n",
        "\n",
        "  idx = bin_search(x, ky)# ky값과 같은 원소를 x에서 검색\n",
        "\n",
        "  if idx == -1:\n",
        "    print('검색값을 갖는 원소가 존재하지 않습니다.')\n",
        "  else:\n",
        "    print(f'검색값은 x[{idx}]에 있습니다.')"
      ],
      "metadata": {
        "colab": {
          "base_uri": "https://localhost:8080/"
        },
        "id": "H_4G_bSiUXxD",
        "outputId": "90f0c4f0-f26d-4302-acf5-1607c8a91317"
      },
      "execution_count": null,
      "outputs": [
        {
          "output_type": "stream",
          "name": "stdout",
          "text": [
            "원소 수를 입력하세요.: 11\n",
            "배열 데이터를 오름차순으로 입력하세요.\n",
            "x[0]: 1\n",
            "x[1]: 2\n",
            "x[2]: 3\n",
            "x[3]: 4\n",
            "x[4]: 5\n",
            "x[5]: 6\n",
            "x[6]: 7\n",
            "x[7]: 8\n",
            "x[8]: 9\n",
            "x[9]: 10\n",
            "x[10]: 11\n",
            "검색할 값을 입력하세요.: 8\n",
            "   |   0   1   2   3   4   5   6   7   8   9  10\n",
            "---+----------------------------------------------\n",
            "   | <-                    +                  ->\n",
            "  5|   1   2   3   4   5   6   7   8   9  10  11\n",
            "   |\n",
            "검색값을 갖는 원소가 존재하지 않습니다.\n"
          ]
        }
      ]
    },
    {
      "cell_type": "markdown",
      "source": [
        "#### 해시법\n",
        "검색과 더불어 데이터의 추가.삭제도 효율적으로 수행할 수 있다.\n",
        "\n",
        "'데이터를 저장할 위치 = 인덱스' 를 간단한 연산으로 구하는 것을 말한다."
      ],
      "metadata": {
        "id": "Bmw4z-Mqnz2G"
      }
    },
    {
      "cell_type": "markdown",
      "source": [
        "\n",
        "\n",
        "```\n",
        "* 해시 함수: 키를 해시값으로 변환하는 과정\n",
        "* 버킷 : 해시 테이블에서 만들어진 원소\n",
        "* 충돌 : 저장할 버킷이 중복되는 현상\n",
        "# 해시 함수는 가능한 한 해시값이 한쪽으로 치우치지 않고 고르게 분산된 값을 출력하도록\n",
        "만드는 것이 가장 좋다.\n",
        "```\n",
        "\n"
      ],
      "metadata": {
        "id": "SUrg90W3orTe"
      }
    },
    {
      "cell_type": "markdown",
      "source": [
        "\n",
        "\n",
        "```\n",
        "# 해시법에서 충돌이 발생하는 경우 대처방법\n",
        "\n",
        "1.체인법(=오픈해시법) : 해시값이 같은 원소를 연결 리스트로 관리.\n",
        "2.오픈 주소법 : 빈 버킷을 찾을 때까지 해시를 반복.\n",
        "\n",
        "\n",
        "```\n",
        "\n"
      ],
      "metadata": {
        "id": "vG0wGDn6pLoo"
      }
    },
    {
      "cell_type": "markdown",
      "source": [
        "#### Node 클래스 만들기\n",
        "Node클래스는 개별 버킷을 나타낸다. 이 클래스에는 다음과 같이 필드가 3개 있다.\n",
        "\n",
        "1. key : 키(임의의 자료형)\n",
        "2. value : 값(임의의 자료형)\n",
        "3. next : 뒤쪽 노드를 참조(Node형)\n",
        "\n",
        "Node클래스는 키와 값이 짝을 이루는 구조이다. 키에 해시 함수를 적용하여 해시값을 구한다.\n",
        "\n",
        "Node형 인스턴스를 초기화하는 __init__()함수는 3개의 인수 key,value,next를 전달받아\n",
        "\n",
        "각각 대응하는 필드인 self.key, self.value, self.next에 대입한다.\n",
        "\n"
      ],
      "metadata": {
        "id": "k6ML2ugiqJmR"
      }
    },
    {
      "cell_type": "code",
      "source": [
        "# 실습 3-5[A]\n",
        "# 체인법으로 해시 함수 구현하기\n",
        "from __future__ import annotations\n",
        "from typing import Any, Type\n",
        "import hashlib\n",
        "\n",
        "class Node:\n",
        "  \"\"\"해시를 구성하는 노드\"\"\"\n",
        "  def __init__(self,key:Any,value:Any,next:Node) -> None:\n",
        "    \"\"\"초기화\"\"\"\n",
        "    self.key = key\n",
        "    self.value = value\n",
        "    self.next = next\n",
        "# 실습 3-5[B]로 이어짐"
      ],
      "metadata": {
        "id": "Llbza5IBdByU"
      },
      "execution_count": null,
      "outputs": []
    },
    {
      "cell_type": "markdown",
      "source": [
        "#### ChainedHash 해시 클래스 만들기\n",
        "ChainedHash 해시 클래스는 필드 2개로 구성.\n",
        "\n",
        "1. capacity : 해시 테이블의 크기(배열 table의 원소 수)를 나타낸다.\n",
        "2. table: 해시 테이블을 저장하는 list형 배열을 나타낸다.\n",
        "\n",
        "#### __init__()함수로 초기화하기\n",
        "__init__()함수는 빈 해시 테이블을 생성한다. 매개변수 capacity에 전달받는 것은 해시 테이블의 크기이다.\n",
        "\n",
        "원소 수가 capacity인 list형의 배열table을 생성하고 모든 원소를 None으로 한다.\n",
        "\n",
        "#### hash_value()함수 만들기\n",
        "hash_value()함수는 인수 key에 대응하는 해시값을 구한다.\n",
        "\n"
      ],
      "metadata": {
        "id": "CtnoHbMnr-eu"
      }
    },
    {
      "cell_type": "markdown",
      "source": [
        "\n",
        "\n",
        "```\n",
        "key가 int형인 경우\n",
        "key를 해시의 크기 capacity로 나눈 나머지를 해시값으로 한다.\n",
        "key가 int형이 아닌 경우\n",
        "key가 정수가 아닌 경우(문자열,리스트,클래스형 등)그 값으로는 바로 나룰 수 없다.\n",
        "그래서 표준 라이브러리로 형 변환을 해야 해시값을 얻을 수 있다.\n",
        "```\n",
        "\n"
      ],
      "metadata": {
        "id": "_67Ndb9ws2uq"
      }
    },
    {
      "cell_type": "markdown",
      "source": [
        "\n",
        "\n",
        "```\n",
        "# 표준 라이브러리\n",
        "\n",
        "* sha256 알고리즘 : hashlib모듈에서 제공, RSA의 FIPS 알고리즘을 바탕으로 하며,주어진 바이트 문자열의 해시값을 구하는 해시 알고리즘\n",
        "의 생성자.\n",
        "* encode()함수 : hashlib.sha256에는 바이트 문자열의 인수를 전달해야 한다. 그래서 key를 str형 문자열로 변환한 뒤 그 문자열을 encode()\n",
        "함수에 전달하여 바이트 문자열을 생성한다.\n",
        "* hexdigest()함수 : sha256 알고리즘에서 해시값을 16진수 문자열로 꺼낸다.\n",
        "* int()함수 : hexdigest()함수로 꺼낸 문자열을 16진수 문자열로 하는 int형으로 변환\n",
        "\n",
        "\n",
        "```\n",
        "\n"
      ],
      "metadata": {
        "id": "DbuT8WkatP0u"
      }
    },
    {
      "cell_type": "code",
      "source": [
        "# 실습 3-5[B]\n",
        "class ChainedHash:\n",
        "  \"\"\"체인법으로 해시 클래스 구현\"\"\"\n",
        "  def __init__(self,capacity:int) -> None:\n",
        "    \"\"\"초기화\"\"\"\n",
        "    self.capacity = capacity\n",
        "    self.table = [None]*self.capacity\n",
        "\n",
        "  def hash_value(self, key:Any) -> int:\n",
        "    \"\"\"해시값을 구함\"\"\"\n",
        "    if isinstance(key,int):\n",
        "      return key % self.capacity\n",
        "    return(int(hashlib.sha256(str(key).encode()).hexdigest(),16) % self.capacity)\n",
        "    # 실습 3-5[C]로 이어짐"
      ],
      "metadata": {
        "id": "7pxkOIssqJJm"
      },
      "execution_count": null,
      "outputs": []
    },
    {
      "cell_type": "markdown",
      "source": [
        "#### 키로 원소를 검색하는 search()함수\n",
        "search()함수가 원소를 검색하는 과정은 다음과 같이 정리할 수 있다.\n",
        "\n",
        "\n",
        "1. 해시 함수를 사용하여 키를 해시값으로 변환한다.\n",
        "2. 해시값을 인덱스로 하는 버킷에 주목한다.\n",
        "3. 버킷이 참조하는 연결 리스트를 맨 앞부터 차레로 스캔한다. 키와 같은 값이 발견되면 \n",
        "검색에 성공하고, 원소의 맨 끝까지 스캔해서 발견되지 않으면 검색에 실패한다.\n",
        "\n",
        "#### 원소를 추가하는 add()함수\n",
        "add()함수는 키가 key이고 값이 value인 원소를 추가한다. add()함수가 원소를 추가하는 과정은 다음과 같이 정리할 수 있다.\n",
        "\n",
        "\n",
        "1. 해시 함수를 사용하여 키를 해시값으로 변환.\n",
        "2. 해시값을 인덱스로 하는 버킷에 주목.\n",
        "3. 버킷이 참조하는 연결 리스트를 맨 앞부터 차례로 선형 검색한다. 키와 같은 값이 발견되면 키가 이미 등록된 경우이므로 추가에\n",
        "실패한다. 원소의 맨 끝까지 발견되지 않으면 해시값인 리스트의 맨 앞에 노드를 추가. \n",
        "\n",
        "\n",
        "\n"
      ],
      "metadata": {
        "id": "WXuvUthAuCT7"
      }
    },
    {
      "cell_type": "code",
      "source": [
        "# 실습 3-5[C]\n",
        "def search(self, key:Any) -> Any:\n",
        "  \"\"\"키가 key인 원소를 검색하여 값을 반환\"\"\"\n",
        "  hash = self.hash_value(key)\n",
        "  p = self.table[hash]\n",
        "\n",
        "  while p is not None:\n",
        "    if p.key == key:\n",
        "      return p.value\n",
        "    p = p,next\n",
        "\n",
        "  return None\n",
        "\n",
        "def add(self, key:Any, value:Any) -> bool:\n",
        "  \"\"\"키가 key이고 값이 value인 원소를 추가\"\"\"\n",
        "  hash = self.hash_value(key)\n",
        "  p = self.table[hash]\n",
        "\n",
        "  while p is not None:\n",
        "    if p.key == key:\n",
        "      return False\n",
        "    p = p.next\n",
        "\n",
        "  temp = Node(key,value,self.table[hash])\n",
        "  self.table[hash] = temp\n",
        "  return True\n",
        "  # 실습 3-5[D]로 이어짐"
      ],
      "metadata": {
        "id": "0UArTANqr6-C"
      },
      "execution_count": null,
      "outputs": []
    },
    {
      "cell_type": "markdown",
      "source": [
        "#### 원소를 삭제하는 remove()함수\n",
        "remove()함수는 키가 key인 원소를 삭제. 삭제 과정은 다음과 같이 정리.\n",
        "\n",
        "\n",
        "1. 해시 함수를 사용하여 키를 해시값으로 변환.\n",
        "2. 해시값을 인덱스로 하는 버킷에 주목\n",
        "3. 버킷이 참조하는 연결 리스트를 맨 앞부터 차례로 선형 검색. 키와 같은 값이 발견되면 그 노드를 리스트에서 삭제함. 그렇지 않으면 삭\n",
        "제에 실패.\n",
        "\n",
        "#### 원소를 출력하는 dump()함수\n",
        "dump()함수는 모든 원소를 덤프하는 것, 즉 해시 ㅔ이블의 내용을 한꺼번에 통째로 출력. 해시 테이블의 모든 원소인 table[0]~table[capacity ~ 1]까지 뒤쪽 노드를 찾아가면서 각 노드의 키와 값을 출력하는 작업을 반복한다."
      ],
      "metadata": {
        "id": "zcg791kXwlQF"
      }
    },
    {
      "cell_type": "code",
      "source": [
        "# 실습 3-5[D]\n",
        "def remove(self, key:Any) -> bool:\n",
        "  \"\"\"키가 key인 원소를 삭제\"\"\"\n",
        "  hash = self.hash_value(key)\n",
        "  p = self.table[hash]\n",
        "  pp = None\n",
        "\n",
        "  while p is not None:\n",
        "    if p.key == key:\n",
        "      if pp is None:\n",
        "        self.table[hash] = p.next\n",
        "      else:\n",
        "        pp.next = p.next\n",
        "      return True\n",
        "    pp = p\n",
        "    p = p.next\n",
        "  return False\n",
        "\n",
        "def dump(self) -> None:\n",
        "  \"\"\"해시 테이블을 덤프\"\"\"\n",
        "  for i in range(self.capacity):\n",
        "    p = self.table[i]\n",
        "    print(i,end='')\n",
        "    while p is not None:\n",
        "      print(f'   ->{p.key} ({p.value})', end='')\n",
        "    print()"
      ],
      "metadata": {
        "id": "2Ax-xnXoxBwf"
      },
      "execution_count": null,
      "outputs": []
    },
    {
      "cell_type": "code",
      "source": [
        "# 실습 3-5[ABCD]\n",
        "from __future__ import annotations\n",
        "from typing import Any, Type\n",
        "import hashlib\n",
        "\n",
        "class Node:\n",
        "  \"\"\"해시를 구성하는 노드\"\"\"\n",
        "  def __init__(self,key:Any,value:Any,next:Node) -> None:\n",
        "    \"\"\"초기화\"\"\"\n",
        "    self.key = key\n",
        "    self.value = value\n",
        "    self.next = next\n",
        "# 실습 3-5[B]로 이어짐\n",
        "class ChainedHash:\n",
        "  \"\"\"체인법으로 해시 클래스 구현\"\"\"\n",
        "  def __init__(self,capacity:int) -> None:\n",
        "    \"\"\"초기화\"\"\"\n",
        "    self.capacity = capacity\n",
        "    self.table = [None]*self.capacity\n",
        "\n",
        "  def hash_value(self, key:Any) -> int:\n",
        "    \"\"\"해시값을 구함\"\"\"\n",
        "    if isinstance(key,int):\n",
        "      return key % self.capacity\n",
        "    return(int(hashlib.sha256(str(key).encode()).hexdigest(),16) % self.capacity)\n",
        "    # 실습 3-5[C]로 이어짐\n",
        "  def search(self, key:Any) -> Any:\n",
        "    \"\"\"키가 key인 원소를 검색하여 값을 반환\"\"\"\n",
        "    hash = self.hash_value(key)\n",
        "    p = self.table[hash]\n",
        "  \n",
        "    while p is not None:\n",
        "      if p.key == key:\n",
        "        return p.value\n",
        "      p = p,next\n",
        "  \n",
        "    return None\n",
        "\n",
        "  def add(self, key:Any, value:Any) -> bool:\n",
        "    \"\"\"키가 key이고 값이 value인 원소를 추가\"\"\"\n",
        "    hash = self.hash_value(key)\n",
        "    p = self.table[hash]\n",
        "  \n",
        "    while p is not None:\n",
        "      if p.key == key:\n",
        "        return False\n",
        "      p = p.next\n",
        "  \n",
        "    temp = Node(key,value,self.table[hash])\n",
        "    self.table[hash] = temp\n",
        "    return True\n",
        "    # 실습 3-5[D]로 이어짐\n",
        "  def remove(self, key:Any) -> bool:\n",
        "    \"\"\"키가 key인 원소를 삭제\"\"\"\n",
        "    hash = self.hash_value(key)\n",
        "    p = self.table[hash]\n",
        "    pp = None\n",
        "  \n",
        "    while p is not None:\n",
        "      if p.key == key:\n",
        "        if pp is None:\n",
        "          self.table[hash] = p.next\n",
        "        else:\n",
        "          pp.next = p.next\n",
        "        return True\n",
        "      pp = p\n",
        "      p = p.next\n",
        "    return False\n",
        "  \n",
        "  def dump(self) -> None:\n",
        "    \"\"\"해시 테이블을 덤프\"\"\"\n",
        "    for i in range(self.capacity):\n",
        "      p = self.table[i]\n",
        "      print(i,end='')\n",
        "      while p is not None:\n",
        "        print(f'   ->{p.key} ({p.value})', end='')\n",
        "        p = p.next\n",
        "      print()"
      ],
      "metadata": {
        "id": "_gN8ZVMlyxqf"
      },
      "execution_count": null,
      "outputs": []
    },
    {
      "cell_type": "code",
      "source": [
        "# 실습 3-6\n",
        "# 체인법을 구현하는 해시 클래서 ChainedHash의 사용\n",
        "\n",
        "from enum import Enum\n",
        "#from chained_hash import ChainedHash\n",
        "Menu = Enum('Menu',['추가','삭제','검색','덤프','종료'])\n",
        "\n",
        "def select_menu() -> Menu:\n",
        "  \"\"\"메뉴 선택\"\"\"\n",
        "  s = [f'({m.value}){m.name}'for m in Menu]\n",
        "  while True:\n",
        "    print(*s, sep = '   ', end='')\n",
        "    n = int(input(': '))\n",
        "    if 1 <= n <= len(Menu):\n",
        "      return Menu(n)\n",
        "\n",
        "hash = ChainedHash(13)\n",
        "\n",
        "while True:\n",
        "  menu = select_menu()\n",
        "\n",
        "  if menu == Menu.추가:\n",
        "    key = int(input('추가할 키를 입력하세요.: '))\n",
        "    val = input('추가할 값을 입력하세요.: ')\n",
        "    if not hash.add(key,val):\n",
        "      print('추가를 실패했습니다!')\n",
        "\n",
        "  elif menu == Menu.삭제:\n",
        "    key = int(input('삭제할 키를 입력하세요.: '))\n",
        "    if not hash.remove(key):\n",
        "      print('삭제를 실패했습니다!')\n",
        "\n",
        "  elif menu == Menu.검색:\n",
        "    key = int(input('검색할 키를 입력하세요.: '))\n",
        "    t = hash.search(key)\n",
        "    if t is not None:\n",
        "      print(f'검색한 키를 갖는 값은 {t}입니다.')\n",
        "    else:\n",
        "      print('검색할 데이터가 없습니다.')\n",
        "  elif menu == Menu.덤프:\n",
        "    hash.dump()\n",
        "\n",
        "  else:\n",
        "    break"
      ],
      "metadata": {
        "colab": {
          "base_uri": "https://localhost:8080/"
        },
        "id": "JoPU5X0xzWiJ",
        "outputId": "71190835-a00b-4f26-d8db-1fddd3ed0387"
      },
      "execution_count": null,
      "outputs": [
        {
          "name": "stdout",
          "output_type": "stream",
          "text": [
            "(1)추가   (2)삭제   (3)검색   (4)덤프   (5)종료: 1\n",
            "추가할 키를 입력하세요.: 1\n",
            "추가할 값을 입력하세요.: 수연\n",
            "(1)추가   (2)삭제   (3)검색   (4)덤프   (5)종료: 1\n",
            "추가할 키를 입력하세요.: 5\n",
            "추가할 값을 입력하세요.: 동혁\n",
            "(1)추가   (2)삭제   (3)검색   (4)덤프   (5)종료: 1\n",
            "추가할 키를 입력하세요.: 10\n",
            "추가할 값을 입력하세요.: 예지\n",
            "(1)추가   (2)삭제   (3)검색   (4)덤프   (5)종료: 1\n",
            "추가할 키를 입력하세요.: 12\n",
            "추가할 값을 입력하세요.: 원준\n",
            "(1)추가   (2)삭제   (3)검색   (4)덤프   (5)종료: 1\n",
            "추가할 키를 입력하세요.: 14\n",
            "추가할 값을 입력하세요.: 민서\n",
            "(1)추가   (2)삭제   (3)검색   (4)덤프   (5)종료: 3\n",
            "검색할 키를 입력하세요.: 5\n",
            "검색한 키를 갖는 값은 동혁입니다.\n",
            "(1)추가   (2)삭제   (3)검색   (4)덤프   (5)종료: 4\n",
            "0\n",
            "1   ->14 (민서)   ->1 (수연)\n",
            "2\n",
            "3\n",
            "4\n",
            "5   ->5 (동혁)\n",
            "6\n",
            "7\n",
            "8\n",
            "9\n",
            "10   ->10 (예지)\n",
            "11\n",
            "12   ->12 (원준)\n",
            "(1)추가   (2)삭제   (3)검색   (4)덤프   (5)종료: 2\n",
            "삭제할 키를 입력하세요.: 14\n",
            "(1)추가   (2)삭제   (3)검색   (4)덤프   (5)종료: 4\n",
            "0\n",
            "1   ->1 (수연)\n",
            "2\n",
            "3\n",
            "4\n",
            "5   ->5 (동혁)\n",
            "6\n",
            "7\n",
            "8\n",
            "9\n",
            "10   ->10 (예지)\n",
            "11\n",
            "12   ->12 (원준)\n",
            "(1)추가   (2)삭제   (3)검색   (4)덤프   (5)종료: 5\n"
          ]
        }
      ]
    },
    {
      "cell_type": "markdown",
      "source": [
        "#### 오픈 주소법\n",
        "해시 충돌이 발생할 때 해결하는 또 다른 방법으로 오픈 주소법이 있습니다. 오픈 주소법은 충돌이 발생했을 때 재해시를 수행하여 빈 버킷을 찾는 방법을 말하며 '닫힌 해시법' 이라고도 합니다."
      ],
      "metadata": {
        "id": "WJY2fgIGd7I-"
      }
    },
    {
      "cell_type": "code",
      "source": [
        "# 실습 3-7\n",
        "# 오픈 주소법으로 해시 함수 구현하기\n",
        "\n",
        "from __future__ import annotations\n",
        "from typing import Any,Type\n",
        "from enum import Enum\n",
        "import hashlib\n",
        "\n",
        "# 버킷의 속성\n",
        "class Status(Enum):\n",
        "  OCCUPIED = 0 # 데이터를 저장\n",
        "  EMPTY = 1    # 비어 있음\n",
        "  DELETED = 2  # 삭제 완료\n",
        "\n",
        "class Bucket:\n",
        "  \"\"\"해시를 구성하는 버킷\"\"\"\n",
        "\n",
        "  def __init__(self, key:Any = None, value:Any = None,\n",
        "               stat:Status = Status.EMPTY) -> None:\n",
        "               \"\"\"초기화\"\"\"\n",
        "               self.key = key\n",
        "               self.value = value\n",
        "               self.stat = stat\n",
        "\n",
        "  def set(self, key:Any, value:Any, stat:Status) -> None:\n",
        "    \"\"\"모든 필드에 값을 설정\"\"\"\n",
        "    self.key = key\n",
        "    self.value = value\n",
        "    self.stat = stat\n",
        "\n",
        "  def set_status(self, stat:Status) -> None:\n",
        "    \"\"\"속성을 설정\"\"\"\n",
        "    self.stat = stat\n",
        "\n",
        "class OpenHash:\n",
        "  \"\"\"오픈 주소법으로 구현하는 해시 클래스\"\"\"\n",
        "\n",
        "  def __init__(self, capacity: int) -> None:\n",
        "    \"\"\"초기화\"\"\"\n",
        "    self.capacity = capacity\n",
        "    self.table = [Bucket()]*self.capacity\n",
        "  \n",
        "  def hash_value(self, key:Any) -> int:\n",
        "    \"\"\"해시값을 구함\"\"\"\n",
        "    if isinstance(key, int):\n",
        "      return key % self.capacity\n",
        "    return(int(hashlib.md5(str(key).encode()).hexdigest(),16) % self.capacity)\n",
        "\n",
        "  def rehash_value(self, key: Any) -> int:\n",
        "    \"\"\"재해시값을 구함\"\"\"\n",
        "    return(self.hash_value(key) + 1) % self.capacity\n",
        "\n",
        "  def search_node(self, key: Any) -> Any:\n",
        "    \"\"\"키가 key인 버킷을 검색\"\"\"\n",
        "    hash = self.hash_value(key)\n",
        "    p = self.table[hash]\n",
        "\n",
        "    for i in range(self.capacity):\n",
        "      if p.stat == Status.EMPTY:\n",
        "        break\n",
        "      elif p.stat == Status.OCCUPIED and p.key == key:\n",
        "        return p\n",
        "      hash = self.rehash_value(hash)\n",
        "      p = self.table[hash]\n",
        "    return None\n",
        "  \n",
        "  def search(self, key: Any) -> Any:\n",
        "    \"\"\"키가 key인 원소를 검색하여 값을 반환\"\"\"\n",
        "    p = self.search_node(key)\n",
        "    if p is not None:\n",
        "      return p.value\n",
        "    else:\n",
        "      return None\n",
        "\n",
        "    def add(self, key: Any, value: Any) -> bool:\n",
        "      \"\"\"키가 key이고 값이 value인 원소를 추가\"\"\"\n",
        "      print('text1')\n",
        "      if self.search(key) is not None:\n",
        "        return False\n",
        "\n",
        "      hash = self.hash_value(key)\n",
        "      p = self.table[hash]\n",
        "      for i in range(self.capacity):\n",
        "        if p.stat == Status.EMPTY or p.stat == Status.DELETED:\n",
        "          self.table[hash] = Bucket(key, value, Status.OCCUPIED)\n",
        "          return True\n",
        "        hash = self.rehash_value(hash)\n",
        "        p = self.table[hash]\n",
        "      return False\n",
        "\n",
        "    def remove(self, key: Any) -> int:\n",
        "      \"\"\"키가 key인 원소를 삭제\"\"\"\n",
        "      p = self.search_node(key)\n",
        "      if p is None:\n",
        "        return False\n",
        "      p.set_status(Status.DELETED)\n",
        "      return True\n",
        "    \n",
        "    def dump(self) -> None:\n",
        "      \"\"\"해시 테이블을 덤프\"\"\"\n",
        "      for i in range(self.capacity):\n",
        "        print(f'{i:2}', end='')\n",
        "        if self.table[i].stat == Status.OCCUPIED:\n",
        "          print(f'{self.table[i].key}({self.table[i].value})')\n",
        "        elif self.table[i].stat == Status.EMPTY:\n",
        "          print('__ 미등록 __')\n",
        "        elif self.table[i].stat == Status.DELETED:\n",
        "          print('__ 삭제 완료 __')"
      ],
      "metadata": {
        "id": "ViJOZJYXz8dR"
      },
      "execution_count": null,
      "outputs": []
    },
    {
      "cell_type": "markdown",
      "source": [
        "열거형 Bucket 클래스의 필드 stat는 Bucket형인 각 버킷의 속성인 저장(OCCUPIED),비어있음(EMPTY),삭제 완료(DELETED)를 나타냅니다. OpenHash클래스의 rehash_value()함수는 재해시값을 구합니다.해시값에 1을 더하여 재해시한 식으로 새로운 해시값을 얻습니다. 실습 3-8은 오픈 주소법으로 구현한 Openhash클래스를 실제 사용하는 프로그램 입니다."
      ],
      "metadata": {
        "id": "JA6-O50ClV-7"
      }
    },
    {
      "cell_type": "code",
      "source": [
        "# 실습 3-8\n",
        "# 오픈 주소법을 구현하는 해시 클래스 Openhash 사용\n",
        "\n",
        "from enum import Enum\n",
        "#from open_hash import OpenHash\n",
        "\n",
        "Menu = Enum('Menu',['추가','삭제','검색','덤프','종료'])\n",
        "\n",
        "def select_menu() -> Menu:\n",
        "  \"\"\"메뉴 선택\"\"\"\n",
        "  s = [f'({m.value}){m.name}'for m in Menu]\n",
        "  while True:\n",
        "    print(*s, sep = ' ', end='')\n",
        "    n = int(input(': '))\n",
        "    if 1 <= n <= len(Menu):\n",
        "      return Menu(n)\n",
        "\n",
        "hash = OpenHash(13)\n",
        "\n",
        "while True:\n",
        "  menu = select_menu()\n",
        "\n",
        "  if menu == Menu.추가:\n",
        "    key = int(input('추가할 키를 입력하세요.: '))\n",
        "    val = input('추가할 값을 입력하세요.: ')\n",
        "    if not hash.add(key, val):\n",
        "      print('추가를 실패했습니다.')\n",
        "\n",
        "  elif menu == Menu.삭제:\n",
        "    key = int(input('삭제할 키를 입력하세요.: '))\n",
        "    if not hash.remove(key):\n",
        "      print('삭제를 실패했습니다.')\n",
        "\n",
        "  elif menu == Menu.검색:\n",
        "    key = int(input(' 검색할 키를 입력하세요.: '))\n",
        "    t = hash.search(key)\n",
        "    if t is not Menu:\n",
        "      print(f'검색한 키를 갖는 값은 {t}입니다.')\n",
        "    else:\n",
        "      print('검색할 데이터가 없습니다.')\n",
        "\n",
        "  elif menu == Menu.덤프:\n",
        "    hash.dump()\n",
        "\n",
        "  else:\n",
        "    break"
      ],
      "metadata": {
        "colab": {
          "base_uri": "https://localhost:8080/",
          "height": 300
        },
        "id": "HworFBiYlVEE",
        "outputId": "f51345e5-d4e1-4a09-ed45-024eb56b3a97"
      },
      "execution_count": null,
      "outputs": [
        {
          "name": "stdout",
          "output_type": "stream",
          "text": [
            "(1)추가 (2)삭제 (3)검색 (4)덤프 (5)종료: 1\n",
            "추가할 키를 입력하세요.: 1\n",
            "추가할 값을 입력하세요.: tn\n"
          ]
        },
        {
          "output_type": "error",
          "ename": "AttributeError",
          "evalue": "ignored",
          "traceback": [
            "\u001b[0;31m---------------------------------------------------------------------------\u001b[0m",
            "\u001b[0;31mAttributeError\u001b[0m                            Traceback (most recent call last)",
            "\u001b[0;32m<ipython-input-6-8df7df6f64a3>\u001b[0m in \u001b[0;36m<module>\u001b[0;34m()\u001b[0m\n\u001b[1;32m     24\u001b[0m     \u001b[0mkey\u001b[0m \u001b[0;34m=\u001b[0m \u001b[0mint\u001b[0m\u001b[0;34m(\u001b[0m\u001b[0minput\u001b[0m\u001b[0;34m(\u001b[0m\u001b[0;34m'추가할 키를 입력하세요.: '\u001b[0m\u001b[0;34m)\u001b[0m\u001b[0;34m)\u001b[0m\u001b[0;34m\u001b[0m\u001b[0;34m\u001b[0m\u001b[0m\n\u001b[1;32m     25\u001b[0m     \u001b[0mval\u001b[0m \u001b[0;34m=\u001b[0m \u001b[0minput\u001b[0m\u001b[0;34m(\u001b[0m\u001b[0;34m'추가할 값을 입력하세요.: '\u001b[0m\u001b[0;34m)\u001b[0m\u001b[0;34m\u001b[0m\u001b[0;34m\u001b[0m\u001b[0m\n\u001b[0;32m---> 26\u001b[0;31m     \u001b[0;32mif\u001b[0m \u001b[0;32mnot\u001b[0m \u001b[0mhash\u001b[0m\u001b[0;34m.\u001b[0m\u001b[0madd\u001b[0m\u001b[0;34m(\u001b[0m\u001b[0mkey\u001b[0m\u001b[0;34m,\u001b[0m \u001b[0mval\u001b[0m\u001b[0;34m)\u001b[0m\u001b[0;34m:\u001b[0m\u001b[0;34m\u001b[0m\u001b[0;34m\u001b[0m\u001b[0m\n\u001b[0m\u001b[1;32m     27\u001b[0m       \u001b[0mprint\u001b[0m\u001b[0;34m(\u001b[0m\u001b[0;34m'추가를 실패했습니다.'\u001b[0m\u001b[0;34m)\u001b[0m\u001b[0;34m\u001b[0m\u001b[0;34m\u001b[0m\u001b[0m\n\u001b[1;32m     28\u001b[0m \u001b[0;34m\u001b[0m\u001b[0m\n",
            "\u001b[0;31mAttributeError\u001b[0m: 'OpenHash' object has no attribute 'add'"
          ]
        }
      ]
    },
    {
      "cell_type": "code",
      "source": [],
      "metadata": {
        "id": "2z12LZ2Onysy"
      },
      "execution_count": null,
      "outputs": []
    }
  ]
}